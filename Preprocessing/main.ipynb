{
 "cells": [
  {
   "cell_type": "code",
   "execution_count": 10,
   "source": [
    "import os\r\n",
    "import cv2\r\n",
    "\r\n",
    "from tqdm import tqdm"
   ],
   "outputs": [],
   "metadata": {}
  },
  {
   "cell_type": "code",
   "execution_count": 11,
   "source": [
    "def get_image_list(dir):\r\n",
    "    return os.listdir(dir)\r\n",
    "\r\n",
    "def read_save_image(i_dir, s_dir):\r\n",
    "    read_image = cv2.imread(i_dir)\r\n",
    "    cv2.imwrite(s_dir, read_image)"
   ],
   "outputs": [],
   "metadata": {}
  },
  {
   "cell_type": "code",
   "execution_count": null,
   "source": [
    "# 이미지 jpg로 변환\r\n",
    "data_folder_dir = 'Humans'\r\n",
    "save_data_folder_dir = 'jpg_Humans'\r\n",
    "\r\n",
    "image_list = get_image_list(data_folder_dir)\r\n",
    "\r\n",
    "for idx, image in tqdm(enumerate(image_list)):\r\n",
    "    i_dir = data_folder_dir + '/' + image\r\n",
    "    s_dir = save_data_folder_dir + '/' + str(idx) + '.jpg'\r\n",
    "\r\n",
    "    read_save_image(i_dir, s_dir)"
   ],
   "outputs": [
    {
     "output_type": "stream",
     "name": "stderr",
     "text": [
      "72it [00:03, 20.53it/s]\n"
     ]
    },
    {
     "output_type": "error",
     "ename": "KeyboardInterrupt",
     "evalue": "",
     "traceback": [
      "\u001b[1;31m---------------------------------------------------------------------------\u001b[0m",
      "\u001b[1;31mKeyboardInterrupt\u001b[0m                         Traceback (most recent call last)",
      "\u001b[1;32m<ipython-input-23-378a9c203ed1>\u001b[0m in \u001b[0;36m<module>\u001b[1;34m\u001b[0m\n\u001b[0;32m      9\u001b[0m     \u001b[0ms_dir\u001b[0m \u001b[1;33m=\u001b[0m \u001b[0msave_data_folder_dir\u001b[0m \u001b[1;33m+\u001b[0m \u001b[1;34m'/'\u001b[0m \u001b[1;33m+\u001b[0m \u001b[0mstr\u001b[0m\u001b[1;33m(\u001b[0m\u001b[0midx\u001b[0m\u001b[1;33m)\u001b[0m \u001b[1;33m+\u001b[0m \u001b[1;34m'.jpg'\u001b[0m\u001b[1;33m\u001b[0m\u001b[1;33m\u001b[0m\u001b[0m\n\u001b[0;32m     10\u001b[0m \u001b[1;33m\u001b[0m\u001b[0m\n\u001b[1;32m---> 11\u001b[1;33m     \u001b[0mread_save_image\u001b[0m\u001b[1;33m(\u001b[0m\u001b[0mi_dir\u001b[0m\u001b[1;33m,\u001b[0m \u001b[0ms_dir\u001b[0m\u001b[1;33m)\u001b[0m\u001b[1;33m\u001b[0m\u001b[1;33m\u001b[0m\u001b[0m\n\u001b[0m",
      "\u001b[1;32m<ipython-input-19-a844f6f82942>\u001b[0m in \u001b[0;36mread_save_image\u001b[1;34m(i_dir, s_dir)\u001b[0m\n\u001b[0;32m      4\u001b[0m \u001b[1;32mdef\u001b[0m \u001b[0mread_save_image\u001b[0m\u001b[1;33m(\u001b[0m\u001b[0mi_dir\u001b[0m\u001b[1;33m,\u001b[0m \u001b[0ms_dir\u001b[0m\u001b[1;33m)\u001b[0m\u001b[1;33m:\u001b[0m\u001b[1;33m\u001b[0m\u001b[1;33m\u001b[0m\u001b[0m\n\u001b[0;32m      5\u001b[0m     \u001b[0mread_image\u001b[0m \u001b[1;33m=\u001b[0m \u001b[0mcv2\u001b[0m\u001b[1;33m.\u001b[0m\u001b[0mimread\u001b[0m\u001b[1;33m(\u001b[0m\u001b[0mi_dir\u001b[0m\u001b[1;33m)\u001b[0m\u001b[1;33m\u001b[0m\u001b[1;33m\u001b[0m\u001b[0m\n\u001b[1;32m----> 6\u001b[1;33m     \u001b[0mcv2\u001b[0m\u001b[1;33m.\u001b[0m\u001b[0mimwrite\u001b[0m\u001b[1;33m(\u001b[0m\u001b[0ms_dir\u001b[0m\u001b[1;33m,\u001b[0m \u001b[0mread_image\u001b[0m\u001b[1;33m)\u001b[0m\u001b[1;33m\u001b[0m\u001b[1;33m\u001b[0m\u001b[0m\n\u001b[0m",
      "\u001b[1;31mKeyboardInterrupt\u001b[0m: "
     ]
    }
   ],
   "metadata": {}
  },
  {
   "cell_type": "code",
   "execution_count": 12,
   "source": [
    "detector = cv2.CascadeClassifier('haarcascade_frontalface_default.xml')\r\n",
    "\r\n",
    "def face_detection_crop_resize(image, dsize):\r\n",
    "    # 인식된 얼굴 좌표 [x, y, w, h]\r\n",
    "    face_location = detector.detectMultiScale(image)\r\n",
    "\r\n",
    "    if len(face_location) < 1:\r\n",
    "        return image, False\r\n",
    "    else:\r\n",
    "        x = face_location[0][0]\r\n",
    "        y = face_location[0][1]\r\n",
    "        w = face_location[0][2]\r\n",
    "        h = face_location[0][3]\r\n",
    "\r\n",
    "        cropped_image = image[y: y + h, x: x + w]\r\n",
    "        resized_image = cv2.resize(cropped_image, dsize=dsize)\r\n",
    "\r\n",
    "        return resized_image, True"
   ],
   "outputs": [],
   "metadata": {}
  },
  {
   "cell_type": "code",
   "execution_count": null,
   "source": [
    "data_folder_dir = 'Faces'\r\n",
    "save_data_folder_dir = 'Cropped_Images'\r\n",
    "dsize = (128, 128)\r\n",
    "\r\n",
    "image_list = get_image_list(data_folder_dir)\r\n",
    "\r\n",
    "for idx, image in tqdm(enumerate(image_list)):\r\n",
    "    i_dir = data_folder_dir + '/' + image\r\n",
    "    s_dir = save_data_folder_dir + '/' + image\r\n",
    "\r\n",
    "    image = cv2.imread(i_dir)\r\n",
    "    resized_image, result = face_detection_crop_resize(image, dsize)\r\n",
    "    if result:\r\n",
    "        cv2.imwrite(s_dir, resized_image)"
   ],
   "outputs": [
    {
     "output_type": "stream",
     "name": "stderr",
     "text": [
      "103390it [41:01, 42.00it/s]\n"
     ]
    }
   ],
   "metadata": {}
  },
  {
   "cell_type": "code",
   "execution_count": 20,
   "source": [
    "data_folder_dir = 'Cropped_Images'\r\n",
    "save_data_folder_dir = 'Cropped_Images'\r\n",
    "\r\n",
    "image_list = get_image_list(data_folder_dir)\r\n",
    "\r\n",
    "for idx, image in tqdm(enumerate(image_list)):\r\n",
    "    before_dir = data_folder_dir + \"/\" + image\r\n",
    "    after_dir = save_data_folder_dir + \"/{}.jpg\".format(idx + 1342)\r\n",
    "\r\n",
    "    os.replace(before_dir, after_dir)"
   ],
   "outputs": [
    {
     "output_type": "stream",
     "name": "stderr",
     "text": [
      "97673it [01:38, 992.29it/s] \n"
     ]
    }
   ],
   "metadata": {}
  },
  {
   "cell_type": "code",
   "execution_count": 19,
   "source": [
    "import mediapipe as mp\r\n",
    "\r\n",
    "mpFaceMesh = mp.solutions.face_mesh\r\n",
    "faceMesh = mpFaceMesh.FaceMesh(max_num_faces=2)\r\n",
    "\r\n",
    "data_folder_dir = 'Cropped_Images'\r\n",
    "image_list = get_image_list(data_folder_dir)\r\n",
    "\r\n",
    "for idx, img in tqdm(enumerate(image_list)):\r\n",
    "    img_dir = data_folder_dir + \"/\" + img\r\n",
    "    img = cv2.imread(img_dir)\r\n",
    "    imgRGB = cv2.cvtColor(img, cv2.COLOR_BGR2RGB)\r\n",
    "    results = faceMesh.process(imgRGB)\r\n",
    "    if results.multi_face_landmarks:\r\n",
    "        pass\r\n",
    "    else:\r\n",
    "        print(\"remove image {}\".format(img_dir))\r\n",
    "        os.remove(img_dir)"
   ],
   "outputs": [
    {
     "output_type": "stream",
     "name": "stderr",
     "text": [
      "1295it [00:13, 83.23it/s]"
     ]
    },
    {
     "output_type": "stream",
     "name": "stdout",
     "text": [
      "remove image Cropped_Images/101271.jpg\n"
     ]
    },
    {
     "output_type": "stream",
     "name": "stderr",
     "text": [
      "1492it [00:16, 61.63it/s]"
     ]
    },
    {
     "output_type": "stream",
     "name": "stdout",
     "text": [
      "remove image Cropped_Images/101455.jpg\n"
     ]
    },
    {
     "output_type": "stream",
     "name": "stderr",
     "text": [
      "1542it [00:17, 30.30it/s]"
     ]
    },
    {
     "output_type": "stream",
     "name": "stdout",
     "text": [
      "remove image Cropped_Images/101505.jpg\n",
      "remove image Cropped_Images/101510.jpg\n"
     ]
    },
    {
     "output_type": "stream",
     "name": "stderr",
     "text": [
      "1699it [00:21, 58.18it/s]"
     ]
    },
    {
     "output_type": "stream",
     "name": "stdout",
     "text": [
      "remove image Cropped_Images/101656.jpg\n"
     ]
    },
    {
     "output_type": "stream",
     "name": "stderr",
     "text": [
      "1907it [00:24, 59.80it/s]"
     ]
    },
    {
     "output_type": "stream",
     "name": "stdout",
     "text": [
      "remove image Cropped_Images/101851.jpg\n"
     ]
    },
    {
     "output_type": "stream",
     "name": "stderr",
     "text": [
      "1942it [00:25, 64.14it/s]"
     ]
    },
    {
     "output_type": "stream",
     "name": "stdout",
     "text": [
      "remove image Cropped_Images/101887.jpg\n"
     ]
    },
    {
     "output_type": "stream",
     "name": "stderr",
     "text": [
      "1985it [00:26, 66.03it/s]"
     ]
    },
    {
     "output_type": "stream",
     "name": "stdout",
     "text": [
      "remove image Cropped_Images/101927.jpg\n"
     ]
    },
    {
     "output_type": "stream",
     "name": "stderr",
     "text": [
      "2506it [00:33, 67.49it/s]"
     ]
    },
    {
     "output_type": "stream",
     "name": "stdout",
     "text": [
      "remove image Cropped_Images/10242.jpg\n"
     ]
    },
    {
     "output_type": "stream",
     "name": "stderr",
     "text": [
      "2947it [00:41, 69.89it/s]"
     ]
    },
    {
     "output_type": "stream",
     "name": "stdout",
     "text": [
      "remove image Cropped_Images/102849.jpg\n"
     ]
    },
    {
     "output_type": "stream",
     "name": "stderr",
     "text": [
      "3284it [00:48, 71.47it/s]"
     ]
    },
    {
     "output_type": "stream",
     "name": "stdout",
     "text": [
      "remove image Cropped_Images/103171.jpg\n"
     ]
    },
    {
     "output_type": "stream",
     "name": "stderr",
     "text": [
      "3661it [00:55, 61.11it/s]"
     ]
    },
    {
     "output_type": "stream",
     "name": "stdout",
     "text": [
      "remove image Cropped_Images/103535.jpg\n"
     ]
    },
    {
     "output_type": "stream",
     "name": "stderr",
     "text": [
      "4535it [01:07, 70.00it/s]"
     ]
    },
    {
     "output_type": "stream",
     "name": "stdout",
     "text": [
      "remove image Cropped_Images/104375.jpg\n"
     ]
    },
    {
     "output_type": "stream",
     "name": "stderr",
     "text": [
      "5443it [01:21, 72.32it/s]"
     ]
    },
    {
     "output_type": "stream",
     "name": "stdout",
     "text": [
      "remove image Cropped_Images/105256.jpg\n"
     ]
    },
    {
     "output_type": "stream",
     "name": "stderr",
     "text": [
      "5618it [01:24, 69.62it/s]"
     ]
    },
    {
     "output_type": "stream",
     "name": "stdout",
     "text": [
      "remove image Cropped_Images/105422.jpg\n"
     ]
    },
    {
     "output_type": "stream",
     "name": "stderr",
     "text": [
      "5708it [01:25, 68.88it/s]"
     ]
    },
    {
     "output_type": "stream",
     "name": "stdout",
     "text": [
      "remove image Cropped_Images/10551.jpg\n"
     ]
    },
    {
     "output_type": "stream",
     "name": "stderr",
     "text": [
      "5776it [01:26, 65.40it/s]"
     ]
    },
    {
     "output_type": "stream",
     "name": "stdout",
     "text": [
      "remove image Cropped_Images/105571.jpg\n"
     ]
    },
    {
     "output_type": "stream",
     "name": "stderr",
     "text": [
      "5997it [01:30, 17.94it/s]"
     ]
    },
    {
     "output_type": "stream",
     "name": "stdout",
     "text": [
      "remove image Cropped_Images/105794.jpg\n"
     ]
    },
    {
     "output_type": "stream",
     "name": "stderr",
     "text": [
      "6018it [01:31, 28.27it/s]"
     ]
    },
    {
     "output_type": "stream",
     "name": "stdout",
     "text": [
      "remove image Cropped_Images/105806.jpg\n"
     ]
    },
    {
     "output_type": "stream",
     "name": "stderr",
     "text": [
      "6089it [01:32, 61.22it/s]"
     ]
    },
    {
     "output_type": "stream",
     "name": "stdout",
     "text": [
      "remove image Cropped_Images/105876.jpg\n"
     ]
    },
    {
     "output_type": "stream",
     "name": "stderr",
     "text": [
      "6515it [01:39, 71.04it/s]"
     ]
    },
    {
     "output_type": "stream",
     "name": "stdout",
     "text": [
      "remove image Cropped_Images/106286.jpg\n"
     ]
    },
    {
     "output_type": "stream",
     "name": "stderr",
     "text": [
      "6571it [01:40, 71.15it/s]"
     ]
    },
    {
     "output_type": "stream",
     "name": "stdout",
     "text": [
      "remove image Cropped_Images/106340.jpg\n"
     ]
    },
    {
     "output_type": "stream",
     "name": "stderr",
     "text": [
      "6779it [01:43, 67.67it/s]"
     ]
    },
    {
     "output_type": "stream",
     "name": "stdout",
     "text": [
      "remove image Cropped_Images/106535.jpg\n"
     ]
    },
    {
     "output_type": "stream",
     "name": "stderr",
     "text": [
      "6973it [01:46, 72.01it/s]"
     ]
    },
    {
     "output_type": "stream",
     "name": "stdout",
     "text": [
      "remove image Cropped_Images/106722.jpg\n",
      "remove image Cropped_Images/106723.jpg\n",
      "remove image Cropped_Images/106725.jpg\n"
     ]
    },
    {
     "output_type": "stream",
     "name": "stderr",
     "text": [
      "7888it [01:59, 71.98it/s]"
     ]
    },
    {
     "output_type": "stream",
     "name": "stdout",
     "text": [
      "remove image Cropped_Images/107601.jpg\n"
     ]
    },
    {
     "output_type": "stream",
     "name": "stderr",
     "text": [
      "7920it [02:00, 66.95it/s]"
     ]
    },
    {
     "output_type": "stream",
     "name": "stdout",
     "text": [
      "remove image Cropped_Images/107628.jpg\n"
     ]
    },
    {
     "output_type": "stream",
     "name": "stderr",
     "text": [
      "8515it [02:08, 73.99it/s]"
     ]
    },
    {
     "output_type": "stream",
     "name": "stdout",
     "text": [
      "remove image Cropped_Images/108230.jpg\n"
     ]
    },
    {
     "output_type": "stream",
     "name": "stderr",
     "text": [
      "8695it [02:11, 69.98it/s]"
     ]
    },
    {
     "output_type": "stream",
     "name": "stdout",
     "text": [
      "remove image Cropped_Images/108427.jpg\n"
     ]
    },
    {
     "output_type": "stream",
     "name": "stderr",
     "text": [
      "9309it [02:19, 72.76it/s]"
     ]
    },
    {
     "output_type": "stream",
     "name": "stdout",
     "text": [
      "remove image Cropped_Images/109079.jpg\n"
     ]
    },
    {
     "output_type": "stream",
     "name": "stderr",
     "text": [
      "9997it [02:29, 73.81it/s]"
     ]
    },
    {
     "output_type": "stream",
     "name": "stdout",
     "text": [
      "remove image Cropped_Images/109803.jpg\n"
     ]
    },
    {
     "output_type": "stream",
     "name": "stderr",
     "text": [
      "10181it [02:32, 68.08it/s]"
     ]
    },
    {
     "output_type": "stream",
     "name": "stdout",
     "text": [
      "remove image Cropped_Images/110002.jpg\n"
     ]
    },
    {
     "output_type": "stream",
     "name": "stderr",
     "text": [
      "10202it [02:32, 62.82it/s]"
     ]
    },
    {
     "output_type": "stream",
     "name": "stdout",
     "text": [
      "remove image Cropped_Images/110028.jpg\n"
     ]
    },
    {
     "output_type": "stream",
     "name": "stderr",
     "text": [
      "10338it [02:34, 69.30it/s]"
     ]
    },
    {
     "output_type": "stream",
     "name": "stdout",
     "text": [
      "remove image Cropped_Images/110158.jpg\n"
     ]
    },
    {
     "output_type": "stream",
     "name": "stderr",
     "text": [
      "10402it [02:35, 63.21it/s]"
     ]
    },
    {
     "output_type": "stream",
     "name": "stdout",
     "text": [
      "remove image Cropped_Images/110224.jpg\n",
      "remove image Cropped_Images/110225.jpg\n"
     ]
    },
    {
     "output_type": "stream",
     "name": "stderr",
     "text": [
      "10493it [02:36, 70.95it/s]"
     ]
    },
    {
     "output_type": "stream",
     "name": "stdout",
     "text": [
      "remove image Cropped_Images/110318.jpg\n"
     ]
    },
    {
     "output_type": "stream",
     "name": "stderr",
     "text": [
      "10556it [02:37, 68.41it/s]"
     ]
    },
    {
     "output_type": "stream",
     "name": "stdout",
     "text": [
      "remove image Cropped_Images/110381.jpg\n"
     ]
    },
    {
     "output_type": "stream",
     "name": "stderr",
     "text": [
      "10616it [02:38, 68.33it/s]"
     ]
    },
    {
     "output_type": "stream",
     "name": "stdout",
     "text": [
      "remove image Cropped_Images/110448.jpg\n"
     ]
    },
    {
     "output_type": "stream",
     "name": "stderr",
     "text": [
      "10637it [02:38, 67.67it/s]"
     ]
    },
    {
     "output_type": "stream",
     "name": "stdout",
     "text": [
      "remove image Cropped_Images/110464.jpg\n",
      "remove image Cropped_Images/110468.jpg\n",
      "remove image Cropped_Images/110474.jpg\n"
     ]
    },
    {
     "output_type": "stream",
     "name": "stderr",
     "text": [
      "10709it [02:39, 65.62it/s]"
     ]
    },
    {
     "output_type": "stream",
     "name": "stdout",
     "text": [
      "remove image Cropped_Images/110539.jpg\n"
     ]
    },
    {
     "output_type": "stream",
     "name": "stderr",
     "text": [
      "10833it [02:41, 72.61it/s]"
     ]
    },
    {
     "output_type": "stream",
     "name": "stdout",
     "text": [
      "remove image Cropped_Images/110665.jpg\n"
     ]
    },
    {
     "output_type": "stream",
     "name": "stderr",
     "text": [
      "10848it [02:41, 68.43it/s]"
     ]
    },
    {
     "output_type": "stream",
     "name": "stdout",
     "text": [
      "remove image Cropped_Images/110681.jpg\n"
     ]
    },
    {
     "output_type": "stream",
     "name": "stderr",
     "text": [
      "10862it [02:42, 66.07it/s]"
     ]
    },
    {
     "output_type": "stream",
     "name": "stdout",
     "text": [
      "remove image Cropped_Images/110696.jpg\n",
      "remove image Cropped_Images/110700.jpg\n"
     ]
    },
    {
     "output_type": "stream",
     "name": "stderr",
     "text": [
      "11072it [02:45, 67.46it/s]"
     ]
    },
    {
     "output_type": "stream",
     "name": "stdout",
     "text": [
      "remove image Cropped_Images/110914.jpg\n"
     ]
    },
    {
     "output_type": "stream",
     "name": "stderr",
     "text": [
      "11187it [02:46, 68.26it/s]"
     ]
    },
    {
     "output_type": "stream",
     "name": "stdout",
     "text": [
      "remove image Cropped_Images/111030.jpg\n"
     ]
    },
    {
     "output_type": "stream",
     "name": "stderr",
     "text": [
      "11262it [02:47, 66.75it/s]"
     ]
    },
    {
     "output_type": "stream",
     "name": "stdout",
     "text": [
      "remove image Cropped_Images/111106.jpg\n",
      "remove image Cropped_Images/111116.jpg\n"
     ]
    },
    {
     "output_type": "stream",
     "name": "stderr",
     "text": [
      "11353it [02:49, 70.59it/s]"
     ]
    },
    {
     "output_type": "stream",
     "name": "stdout",
     "text": [
      "remove image Cropped_Images/111203.jpg\n"
     ]
    },
    {
     "output_type": "stream",
     "name": "stderr",
     "text": [
      "11424it [02:50, 70.45it/s]"
     ]
    },
    {
     "output_type": "stream",
     "name": "stdout",
     "text": [
      "remove image Cropped_Images/111272.jpg\n",
      "remove image Cropped_Images/111287.jpg\n"
     ]
    },
    {
     "output_type": "stream",
     "name": "stderr",
     "text": [
      "11566it [02:54, 43.34it/s]"
     ]
    },
    {
     "output_type": "stream",
     "name": "stdout",
     "text": [
      "remove image Cropped_Images/111419.jpg\n",
      "remove image Cropped_Images/111426.jpg\n"
     ]
    },
    {
     "output_type": "stream",
     "name": "stderr",
     "text": [
      "11658it [02:55, 69.56it/s]"
     ]
    },
    {
     "output_type": "stream",
     "name": "stdout",
     "text": [
      "remove image Cropped_Images/111517.jpg\n",
      "remove image Cropped_Images/111531.jpg\n"
     ]
    },
    {
     "output_type": "stream",
     "name": "stderr",
     "text": [
      "11681it [02:55, 68.63it/s]"
     ]
    },
    {
     "output_type": "stream",
     "name": "stdout",
     "text": [
      "remove image Cropped_Images/111538.jpg\n"
     ]
    },
    {
     "output_type": "stream",
     "name": "stderr",
     "text": [
      "11718it [02:56, 68.78it/s]"
     ]
    },
    {
     "output_type": "stream",
     "name": "stdout",
     "text": [
      "remove image Cropped_Images/111575.jpg\n"
     ]
    },
    {
     "output_type": "stream",
     "name": "stderr",
     "text": [
      "11795it [02:57, 68.82it/s]"
     ]
    },
    {
     "output_type": "stream",
     "name": "stdout",
     "text": [
      "remove image Cropped_Images/111652.jpg\n"
     ]
    },
    {
     "output_type": "stream",
     "name": "stderr",
     "text": [
      "11931it [02:59, 70.69it/s]"
     ]
    },
    {
     "output_type": "stream",
     "name": "stdout",
     "text": [
      "remove image Cropped_Images/111798.jpg\n"
     ]
    },
    {
     "output_type": "stream",
     "name": "stderr",
     "text": [
      "11962it [02:59, 67.81it/s]"
     ]
    },
    {
     "output_type": "stream",
     "name": "stdout",
     "text": [
      "remove image Cropped_Images/111826.jpg\n"
     ]
    },
    {
     "output_type": "stream",
     "name": "stderr",
     "text": [
      "12090it [03:01, 68.72it/s]"
     ]
    },
    {
     "output_type": "stream",
     "name": "stdout",
     "text": [
      "remove image Cropped_Images/111957.jpg\n"
     ]
    },
    {
     "output_type": "stream",
     "name": "stderr",
     "text": [
      "12292it [03:04, 70.46it/s]"
     ]
    },
    {
     "output_type": "stream",
     "name": "stdout",
     "text": [
      "remove image Cropped_Images/112165.jpg\n"
     ]
    },
    {
     "output_type": "stream",
     "name": "stderr",
     "text": [
      "12335it [03:05, 64.84it/s]"
     ]
    },
    {
     "output_type": "stream",
     "name": "stdout",
     "text": [
      "remove image Cropped_Images/112217.jpg\n",
      "remove image Cropped_Images/112229.jpg\n"
     ]
    },
    {
     "output_type": "stream",
     "name": "stderr",
     "text": [
      "12349it [03:05, 64.52it/s]"
     ]
    },
    {
     "output_type": "stream",
     "name": "stdout",
     "text": [
      "remove image Cropped_Images/112230.jpg\n"
     ]
    },
    {
     "output_type": "stream",
     "name": "stderr",
     "text": [
      "12370it [03:05, 62.99it/s]"
     ]
    },
    {
     "output_type": "stream",
     "name": "stdout",
     "text": [
      "remove image Cropped_Images/112252.jpg\n"
     ]
    },
    {
     "output_type": "stream",
     "name": "stderr",
     "text": [
      "12426it [03:06, 66.18it/s]"
     ]
    },
    {
     "output_type": "stream",
     "name": "stdout",
     "text": [
      "remove image Cropped_Images/112305.jpg\n",
      "remove image Cropped_Images/112313.jpg\n"
     ]
    },
    {
     "output_type": "stream",
     "name": "stderr",
     "text": [
      "12454it [03:07, 63.77it/s]"
     ]
    },
    {
     "output_type": "stream",
     "name": "stdout",
     "text": [
      "remove image Cropped_Images/112340.jpg\n"
     ]
    },
    {
     "output_type": "stream",
     "name": "stderr",
     "text": [
      "12468it [03:07, 64.57it/s]"
     ]
    },
    {
     "output_type": "stream",
     "name": "stdout",
     "text": [
      "remove image Cropped_Images/112352.jpg\n",
      "remove image Cropped_Images/112359.jpg\n"
     ]
    },
    {
     "output_type": "stream",
     "name": "stderr",
     "text": [
      "12524it [03:08, 64.46it/s]"
     ]
    },
    {
     "output_type": "stream",
     "name": "stdout",
     "text": [
      "remove image Cropped_Images/112409.jpg\n"
     ]
    },
    {
     "output_type": "stream",
     "name": "stderr",
     "text": [
      "12538it [03:08, 63.28it/s]"
     ]
    },
    {
     "output_type": "stream",
     "name": "stdout",
     "text": [
      "remove image Cropped_Images/112427.jpg\n"
     ]
    },
    {
     "output_type": "stream",
     "name": "stderr",
     "text": [
      "12735it [03:11, 71.74it/s]"
     ]
    },
    {
     "output_type": "stream",
     "name": "stdout",
     "text": [
      "remove image Cropped_Images/112627.jpg\n",
      "remove image Cropped_Images/112633.jpg\n"
     ]
    },
    {
     "output_type": "stream",
     "name": "stderr",
     "text": [
      "12886it [03:13, 70.79it/s]"
     ]
    },
    {
     "output_type": "stream",
     "name": "stdout",
     "text": [
      "remove image Cropped_Images/112777.jpg\n"
     ]
    },
    {
     "output_type": "stream",
     "name": "stderr",
     "text": [
      "12931it [03:14, 66.34it/s]"
     ]
    },
    {
     "output_type": "stream",
     "name": "stdout",
     "text": [
      "remove image Cropped_Images/112828.jpg\n"
     ]
    },
    {
     "output_type": "stream",
     "name": "stderr",
     "text": [
      "12952it [03:14, 65.53it/s]"
     ]
    },
    {
     "output_type": "stream",
     "name": "stdout",
     "text": [
      "remove image Cropped_Images/112847.jpg\n"
     ]
    },
    {
     "output_type": "stream",
     "name": "stderr",
     "text": [
      "12994it [03:15, 67.27it/s]"
     ]
    },
    {
     "output_type": "stream",
     "name": "stdout",
     "text": [
      "remove image Cropped_Images/112892.jpg\n"
     ]
    },
    {
     "output_type": "stream",
     "name": "stderr",
     "text": [
      "13022it [03:15, 65.20it/s]"
     ]
    },
    {
     "output_type": "stream",
     "name": "stdout",
     "text": [
      "remove image Cropped_Images/112917.jpg\n"
     ]
    },
    {
     "output_type": "stream",
     "name": "stderr",
     "text": [
      "13050it [03:16, 64.02it/s]"
     ]
    },
    {
     "output_type": "stream",
     "name": "stdout",
     "text": [
      "remove image Cropped_Images/112948.jpg\n"
     ]
    },
    {
     "output_type": "stream",
     "name": "stderr",
     "text": [
      "13078it [03:16, 63.42it/s]"
     ]
    },
    {
     "output_type": "stream",
     "name": "stdout",
     "text": [
      "remove image Cropped_Images/112980.jpg\n"
     ]
    },
    {
     "output_type": "stream",
     "name": "stderr",
     "text": [
      "13106it [03:17, 62.16it/s]"
     ]
    },
    {
     "output_type": "stream",
     "name": "stdout",
     "text": [
      "remove image Cropped_Images/113004.jpg\n"
     ]
    },
    {
     "output_type": "stream",
     "name": "stderr",
     "text": [
      "13141it [03:17, 62.47it/s]"
     ]
    },
    {
     "output_type": "stream",
     "name": "stdout",
     "text": [
      "remove image Cropped_Images/113041.jpg\n"
     ]
    },
    {
     "output_type": "stream",
     "name": "stderr",
     "text": [
      "13204it [03:18, 64.02it/s]"
     ]
    },
    {
     "output_type": "stream",
     "name": "stdout",
     "text": [
      "remove image Cropped_Images/113105.jpg\n"
     ]
    },
    {
     "output_type": "stream",
     "name": "stderr",
     "text": [
      "13260it [03:19, 65.50it/s]"
     ]
    },
    {
     "output_type": "stream",
     "name": "stdout",
     "text": [
      "remove image Cropped_Images/113165.jpg\n"
     ]
    },
    {
     "output_type": "stream",
     "name": "stderr",
     "text": [
      "13330it [03:20, 65.95it/s]"
     ]
    },
    {
     "output_type": "stream",
     "name": "stdout",
     "text": [
      "remove image Cropped_Images/113238.jpg\n"
     ]
    },
    {
     "output_type": "stream",
     "name": "stderr",
     "text": [
      "13400it [03:21, 64.41it/s]"
     ]
    },
    {
     "output_type": "stream",
     "name": "stdout",
     "text": [
      "remove image Cropped_Images/113310.jpg\n"
     ]
    },
    {
     "output_type": "stream",
     "name": "stderr",
     "text": [
      "13421it [03:22, 65.06it/s]"
     ]
    },
    {
     "output_type": "stream",
     "name": "stdout",
     "text": [
      "remove image Cropped_Images/113324.jpg\n"
     ]
    },
    {
     "output_type": "stream",
     "name": "stderr",
     "text": [
      "13484it [03:23, 64.70it/s]"
     ]
    },
    {
     "output_type": "stream",
     "name": "stdout",
     "text": [
      "remove image Cropped_Images/113397.jpg\n"
     ]
    },
    {
     "output_type": "stream",
     "name": "stderr",
     "text": [
      "13657it [03:25, 69.58it/s]"
     ]
    },
    {
     "output_type": "stream",
     "name": "stdout",
     "text": [
      "remove image Cropped_Images/113572.jpg\n"
     ]
    },
    {
     "output_type": "stream",
     "name": "stderr",
     "text": [
      "13700it [03:26, 67.15it/s]"
     ]
    },
    {
     "output_type": "stream",
     "name": "stdout",
     "text": [
      "remove image Cropped_Images/113621.jpg\n",
      "remove image Cropped_Images/113623.jpg\n"
     ]
    },
    {
     "output_type": "stream",
     "name": "stderr",
     "text": [
      "13799it [03:27, 68.42it/s]"
     ]
    },
    {
     "output_type": "stream",
     "name": "stdout",
     "text": [
      "remove image Cropped_Images/113723.jpg\n",
      "remove image Cropped_Images/113728.jpg\n"
     ]
    },
    {
     "output_type": "stream",
     "name": "stderr",
     "text": [
      "13814it [03:27, 70.15it/s]"
     ]
    },
    {
     "output_type": "stream",
     "name": "stdout",
     "text": [
      "remove image Cropped_Images/113740.jpg\n",
      "remove image Cropped_Images/113742.jpg\n"
     ]
    },
    {
     "output_type": "stream",
     "name": "stderr",
     "text": [
      "13880it [03:28, 66.15it/s]"
     ]
    },
    {
     "output_type": "stream",
     "name": "stdout",
     "text": [
      "remove image Cropped_Images/113802.jpg\n",
      "remove image Cropped_Images/113805.jpg\n"
     ]
    },
    {
     "output_type": "stream",
     "name": "stderr",
     "text": [
      "14010it [03:30, 70.44it/s]"
     ]
    },
    {
     "output_type": "stream",
     "name": "stdout",
     "text": [
      "remove image Cropped_Images/113941.jpg\n"
     ]
    },
    {
     "output_type": "stream",
     "name": "stderr",
     "text": [
      "14077it [03:31, 68.75it/s]"
     ]
    },
    {
     "output_type": "stream",
     "name": "stdout",
     "text": [
      "remove image Cropped_Images/114011.jpg\n"
     ]
    },
    {
     "output_type": "stream",
     "name": "stderr",
     "text": [
      "14140it [03:32, 64.72it/s]"
     ]
    },
    {
     "output_type": "stream",
     "name": "stdout",
     "text": [
      "remove image Cropped_Images/114075.jpg\n",
      "remove image Cropped_Images/114076.jpg\n"
     ]
    },
    {
     "output_type": "stream",
     "name": "stderr",
     "text": [
      "14175it [03:33, 64.17it/s]"
     ]
    },
    {
     "output_type": "stream",
     "name": "stdout",
     "text": [
      "remove image Cropped_Images/114113.jpg\n",
      "remove image Cropped_Images/114120.jpg\n"
     ]
    },
    {
     "output_type": "stream",
     "name": "stderr",
     "text": [
      "14217it [03:34, 61.55it/s]"
     ]
    },
    {
     "output_type": "stream",
     "name": "stdout",
     "text": [
      "remove image Cropped_Images/114155.jpg\n"
     ]
    },
    {
     "output_type": "stream",
     "name": "stderr",
     "text": [
      "14238it [03:34, 62.48it/s]"
     ]
    },
    {
     "output_type": "stream",
     "name": "stdout",
     "text": [
      "remove image Cropped_Images/114178.jpg\n"
     ]
    },
    {
     "output_type": "stream",
     "name": "stderr",
     "text": [
      "14315it [03:35, 64.61it/s]"
     ]
    },
    {
     "output_type": "stream",
     "name": "stdout",
     "text": [
      "remove image Cropped_Images/114257.jpg\n"
     ]
    },
    {
     "output_type": "stream",
     "name": "stderr",
     "text": [
      "14371it [03:36, 63.07it/s]"
     ]
    },
    {
     "output_type": "stream",
     "name": "stdout",
     "text": [
      "remove image Cropped_Images/114313.jpg\n"
     ]
    },
    {
     "output_type": "stream",
     "name": "stderr",
     "text": [
      "14527it [03:38, 68.27it/s]"
     ]
    },
    {
     "output_type": "stream",
     "name": "stdout",
     "text": [
      "remove image Cropped_Images/114476.jpg\n"
     ]
    },
    {
     "output_type": "stream",
     "name": "stderr",
     "text": [
      "14618it [03:40, 65.95it/s]"
     ]
    },
    {
     "output_type": "stream",
     "name": "stdout",
     "text": [
      "remove image Cropped_Images/114574.jpg\n"
     ]
    },
    {
     "output_type": "stream",
     "name": "stderr",
     "text": [
      "14660it [03:40, 65.23it/s]"
     ]
    },
    {
     "output_type": "stream",
     "name": "stdout",
     "text": [
      "remove image Cropped_Images/114616.jpg\n"
     ]
    },
    {
     "output_type": "stream",
     "name": "stderr",
     "text": [
      "14805it [03:43, 70.90it/s]"
     ]
    },
    {
     "output_type": "stream",
     "name": "stdout",
     "text": [
      "remove image Cropped_Images/114771.jpg\n"
     ]
    },
    {
     "output_type": "stream",
     "name": "stderr",
     "text": [
      "14858it [03:43, 66.82it/s]"
     ]
    },
    {
     "output_type": "stream",
     "name": "stdout",
     "text": [
      "remove image Cropped_Images/114828.jpg\n"
     ]
    },
    {
     "output_type": "stream",
     "name": "stderr",
     "text": [
      "14935it [03:45, 64.33it/s]"
     ]
    },
    {
     "output_type": "stream",
     "name": "stdout",
     "text": [
      "remove image Cropped_Images/114910.jpg\n",
      "remove image Cropped_Images/114916.jpg\n"
     ]
    },
    {
     "output_type": "stream",
     "name": "stderr",
     "text": [
      "14978it [03:45, 66.86it/s]"
     ]
    },
    {
     "output_type": "stream",
     "name": "stdout",
     "text": [
      "remove image Cropped_Images/114959.jpg\n"
     ]
    },
    {
     "output_type": "stream",
     "name": "stderr",
     "text": [
      "15124it [03:47, 69.85it/s]"
     ]
    },
    {
     "output_type": "stream",
     "name": "stdout",
     "text": [
      "remove image Cropped_Images/115108.jpg\n",
      "remove image Cropped_Images/115113.jpg\n",
      "remove image Cropped_Images/115119.jpg\n"
     ]
    },
    {
     "output_type": "stream",
     "name": "stderr",
     "text": [
      "15159it [03:48, 68.37it/s]"
     ]
    },
    {
     "output_type": "stream",
     "name": "stdout",
     "text": [
      "remove image Cropped_Images/115139.jpg\n",
      "remove image Cropped_Images/115154.jpg\n"
     ]
    },
    {
     "output_type": "stream",
     "name": "stderr",
     "text": [
      "15250it [03:49, 63.77it/s]"
     ]
    },
    {
     "output_type": "stream",
     "name": "stdout",
     "text": [
      "remove image Cropped_Images/115242.jpg\n",
      "remove image Cropped_Images/115248.jpg\n"
     ]
    },
    {
     "output_type": "stream",
     "name": "stderr",
     "text": [
      "15322it [03:51, 66.57it/s]"
     ]
    },
    {
     "output_type": "stream",
     "name": "stdout",
     "text": [
      "remove image Cropped_Images/115318.jpg\n"
     ]
    },
    {
     "output_type": "stream",
     "name": "stderr",
     "text": [
      "15350it [03:51, 65.90it/s]"
     ]
    },
    {
     "output_type": "stream",
     "name": "stdout",
     "text": [
      "remove image Cropped_Images/115340.jpg\n"
     ]
    },
    {
     "output_type": "stream",
     "name": "stderr",
     "text": [
      "15378it [03:51, 64.69it/s]"
     ]
    },
    {
     "output_type": "stream",
     "name": "stdout",
     "text": [
      "remove image Cropped_Images/115376.jpg\n"
     ]
    },
    {
     "output_type": "stream",
     "name": "stderr",
     "text": [
      "15420it [03:52, 62.55it/s]"
     ]
    },
    {
     "output_type": "stream",
     "name": "stdout",
     "text": [
      "remove image Cropped_Images/115417.jpg\n"
     ]
    },
    {
     "output_type": "stream",
     "name": "stderr",
     "text": [
      "15434it [03:52, 62.55it/s]"
     ]
    },
    {
     "output_type": "stream",
     "name": "stdout",
     "text": [
      "remove image Cropped_Images/115431.jpg\n"
     ]
    },
    {
     "output_type": "stream",
     "name": "stderr",
     "text": [
      "15511it [03:54, 62.67it/s]"
     ]
    },
    {
     "output_type": "stream",
     "name": "stdout",
     "text": [
      "remove image Cropped_Images/115511.jpg\n"
     ]
    },
    {
     "output_type": "stream",
     "name": "stderr",
     "text": [
      "15636it [03:55, 71.15it/s]"
     ]
    },
    {
     "output_type": "stream",
     "name": "stdout",
     "text": [
      "remove image Cropped_Images/115635.jpg\n"
     ]
    },
    {
     "output_type": "stream",
     "name": "stderr",
     "text": [
      "15710it [03:56, 65.26it/s]"
     ]
    },
    {
     "output_type": "stream",
     "name": "stdout",
     "text": [
      "remove image Cropped_Images/115719.jpg\n"
     ]
    },
    {
     "output_type": "stream",
     "name": "stderr",
     "text": [
      "15788it [03:58, 63.99it/s]"
     ]
    },
    {
     "output_type": "stream",
     "name": "stdout",
     "text": [
      "remove image Cropped_Images/115798.jpg\n"
     ]
    },
    {
     "output_type": "stream",
     "name": "stderr",
     "text": [
      "15831it [03:58, 66.31it/s]"
     ]
    },
    {
     "output_type": "stream",
     "name": "stdout",
     "text": [
      "remove image Cropped_Images/115842.jpg\n"
     ]
    },
    {
     "output_type": "stream",
     "name": "stderr",
     "text": [
      "15845it [03:59, 65.36it/s]"
     ]
    },
    {
     "output_type": "stream",
     "name": "stdout",
     "text": [
      "remove image Cropped_Images/115858.jpg\n",
      "remove image Cropped_Images/115868.jpg\n"
     ]
    },
    {
     "output_type": "stream",
     "name": "stderr",
     "text": [
      "15923it [04:00, 64.68it/s]"
     ]
    },
    {
     "output_type": "stream",
     "name": "stdout",
     "text": [
      "remove image Cropped_Images/115934.jpg\n"
     ]
    },
    {
     "output_type": "stream",
     "name": "stderr",
     "text": [
      "16084it [04:02, 71.60it/s]"
     ]
    },
    {
     "output_type": "stream",
     "name": "stdout",
     "text": [
      "remove image Cropped_Images/116102.jpg\n"
     ]
    },
    {
     "output_type": "stream",
     "name": "stderr",
     "text": [
      "16166it [04:03, 64.24it/s]"
     ]
    },
    {
     "output_type": "stream",
     "name": "stdout",
     "text": [
      "remove image Cropped_Images/116182.jpg\n"
     ]
    },
    {
     "output_type": "stream",
     "name": "stderr",
     "text": [
      "16215it [04:04, 64.57it/s]"
     ]
    },
    {
     "output_type": "stream",
     "name": "stdout",
     "text": [
      "remove image Cropped_Images/116233.jpg\n"
     ]
    },
    {
     "output_type": "stream",
     "name": "stderr",
     "text": [
      "16229it [04:04, 63.29it/s]"
     ]
    },
    {
     "output_type": "stream",
     "name": "stdout",
     "text": [
      "remove image Cropped_Images/116248.jpg\n",
      "remove image Cropped_Images/116252.jpg\n"
     ]
    },
    {
     "output_type": "stream",
     "name": "stderr",
     "text": [
      "16425it [04:07, 71.62it/s]"
     ]
    },
    {
     "output_type": "stream",
     "name": "stdout",
     "text": [
      "remove image Cropped_Images/116444.jpg\n",
      "remove image Cropped_Images/116454.jpg\n"
     ]
    },
    {
     "output_type": "stream",
     "name": "stderr",
     "text": [
      "16455it [04:08, 67.61it/s]"
     ]
    },
    {
     "output_type": "stream",
     "name": "stdout",
     "text": [
      "remove image Cropped_Images/116477.jpg\n"
     ]
    },
    {
     "output_type": "stream",
     "name": "stderr",
     "text": [
      "16490it [04:08, 63.74it/s]"
     ]
    },
    {
     "output_type": "stream",
     "name": "stdout",
     "text": [
      "remove image Cropped_Images/116515.jpg\n",
      "remove image Cropped_Images/116516.jpg\n"
     ]
    },
    {
     "output_type": "stream",
     "name": "stderr",
     "text": [
      "16679it [04:11, 71.31it/s]"
     ]
    },
    {
     "output_type": "stream",
     "name": "stdout",
     "text": [
      "remove image Cropped_Images/116721.jpg\n"
     ]
    },
    {
     "output_type": "stream",
     "name": "stderr",
     "text": [
      "16717it [04:11, 66.61it/s]"
     ]
    },
    {
     "output_type": "stream",
     "name": "stdout",
     "text": [
      "remove image Cropped_Images/116761.jpg\n"
     ]
    },
    {
     "output_type": "stream",
     "name": "stderr",
     "text": [
      "16752it [04:12, 63.45it/s]"
     ]
    },
    {
     "output_type": "stream",
     "name": "stdout",
     "text": [
      "remove image Cropped_Images/116797.jpg\n",
      "remove image Cropped_Images/116800.jpg\n"
     ]
    },
    {
     "output_type": "stream",
     "name": "stderr",
     "text": [
      "16830it [04:13, 66.54it/s]"
     ]
    },
    {
     "output_type": "stream",
     "name": "stdout",
     "text": [
      "remove image Cropped_Images/116875.jpg\n"
     ]
    },
    {
     "output_type": "stream",
     "name": "stderr",
     "text": [
      "16865it [04:14, 65.58it/s]"
     ]
    },
    {
     "output_type": "stream",
     "name": "stdout",
     "text": [
      "remove image Cropped_Images/116912.jpg\n"
     ]
    },
    {
     "output_type": "stream",
     "name": "stderr",
     "text": [
      "16886it [04:14, 65.81it/s]"
     ]
    },
    {
     "output_type": "stream",
     "name": "stdout",
     "text": [
      "remove image Cropped_Images/116933.jpg\n",
      "remove image Cropped_Images/116945.jpg\n"
     ]
    },
    {
     "output_type": "stream",
     "name": "stderr",
     "text": [
      "17069it [04:17, 71.70it/s]"
     ]
    },
    {
     "output_type": "stream",
     "name": "stdout",
     "text": [
      "remove image Cropped_Images/117128.jpg\n"
     ]
    },
    {
     "output_type": "stream",
     "name": "stderr",
     "text": [
      "17122it [04:18, 69.13it/s]"
     ]
    },
    {
     "output_type": "stream",
     "name": "stdout",
     "text": [
      "remove image Cropped_Images/117178.jpg\n"
     ]
    },
    {
     "output_type": "stream",
     "name": "stderr",
     "text": [
      "17213it [04:19, 66.89it/s]"
     ]
    },
    {
     "output_type": "stream",
     "name": "stdout",
     "text": [
      "remove image Cropped_Images/117271.jpg\n"
     ]
    },
    {
     "output_type": "stream",
     "name": "stderr",
     "text": [
      "17249it [04:19, 67.20it/s]"
     ]
    },
    {
     "output_type": "stream",
     "name": "stdout",
     "text": [
      "remove image Cropped_Images/117310.jpg\n",
      "remove image Cropped_Images/117312.jpg\n"
     ]
    },
    {
     "output_type": "stream",
     "name": "stderr",
     "text": [
      "17319it [04:21, 66.43it/s]"
     ]
    },
    {
     "output_type": "stream",
     "name": "stdout",
     "text": [
      "remove image Cropped_Images/117386.jpg\n"
     ]
    },
    {
     "output_type": "stream",
     "name": "stderr",
     "text": [
      "17419it [04:22, 69.89it/s]"
     ]
    },
    {
     "output_type": "stream",
     "name": "stdout",
     "text": [
      "remove image Cropped_Images/117490.jpg\n"
     ]
    },
    {
     "output_type": "stream",
     "name": "stderr",
     "text": [
      "17450it [04:22, 69.59it/s]"
     ]
    },
    {
     "output_type": "stream",
     "name": "stdout",
     "text": [
      "remove image Cropped_Images/117523.jpg\n"
     ]
    },
    {
     "output_type": "stream",
     "name": "stderr",
     "text": [
      "17603it [04:25, 71.77it/s]"
     ]
    },
    {
     "output_type": "stream",
     "name": "stdout",
     "text": [
      "remove image Cropped_Images/117672.jpg\n"
     ]
    },
    {
     "output_type": "stream",
     "name": "stderr",
     "text": [
      "17678it [04:26, 67.30it/s]"
     ]
    },
    {
     "output_type": "stream",
     "name": "stdout",
     "text": [
      "remove image Cropped_Images/117756.jpg\n"
     ]
    },
    {
     "output_type": "stream",
     "name": "stderr",
     "text": [
      "17714it [04:26, 66.69it/s]"
     ]
    },
    {
     "output_type": "stream",
     "name": "stdout",
     "text": [
      "remove image Cropped_Images/117793.jpg\n"
     ]
    },
    {
     "output_type": "stream",
     "name": "stderr",
     "text": [
      "17756it [04:27, 62.24it/s]"
     ]
    },
    {
     "output_type": "stream",
     "name": "stdout",
     "text": [
      "remove image Cropped_Images/117837.jpg\n"
     ]
    },
    {
     "output_type": "stream",
     "name": "stderr",
     "text": [
      "17784it [04:28, 63.24it/s]"
     ]
    },
    {
     "output_type": "stream",
     "name": "stdout",
     "text": [
      "remove image Cropped_Images/117870.jpg\n"
     ]
    },
    {
     "output_type": "stream",
     "name": "stderr",
     "text": [
      "17819it [04:28, 63.48it/s]"
     ]
    },
    {
     "output_type": "stream",
     "name": "stdout",
     "text": [
      "remove image Cropped_Images/117906.jpg\n"
     ]
    },
    {
     "output_type": "stream",
     "name": "stderr",
     "text": [
      "17882it [04:29, 66.16it/s]"
     ]
    },
    {
     "output_type": "stream",
     "name": "stdout",
     "text": [
      "remove image Cropped_Images/117974.jpg\n"
     ]
    },
    {
     "output_type": "stream",
     "name": "stderr",
     "text": [
      "17924it [04:30, 65.33it/s]"
     ]
    },
    {
     "output_type": "stream",
     "name": "stdout",
     "text": [
      "remove image Cropped_Images/118015.jpg\n"
     ]
    },
    {
     "output_type": "stream",
     "name": "stderr",
     "text": [
      "17994it [04:31, 65.47it/s]"
     ]
    },
    {
     "output_type": "stream",
     "name": "stdout",
     "text": [
      "remove image Cropped_Images/118091.jpg\n"
     ]
    },
    {
     "output_type": "stream",
     "name": "stderr",
     "text": [
      "18029it [04:31, 63.40it/s]"
     ]
    },
    {
     "output_type": "stream",
     "name": "stdout",
     "text": [
      "remove image Cropped_Images/118130.jpg\n"
     ]
    },
    {
     "output_type": "stream",
     "name": "stderr",
     "text": [
      "18186it [04:34, 72.67it/s]"
     ]
    },
    {
     "output_type": "stream",
     "name": "stdout",
     "text": [
      "remove image Cropped_Images/118280.jpg\n"
     ]
    },
    {
     "output_type": "stream",
     "name": "stderr",
     "text": [
      "18246it [04:35, 66.00it/s]"
     ]
    },
    {
     "output_type": "stream",
     "name": "stdout",
     "text": [
      "remove image Cropped_Images/118344.jpg\n",
      "remove image Cropped_Images/118354.jpg\n"
     ]
    },
    {
     "output_type": "stream",
     "name": "stderr",
     "text": [
      "18267it [04:35, 64.86it/s]"
     ]
    },
    {
     "output_type": "stream",
     "name": "stdout",
     "text": [
      "remove image Cropped_Images/118370.jpg\n"
     ]
    },
    {
     "output_type": "stream",
     "name": "stderr",
     "text": [
      "18311it [04:36, 67.98it/s]"
     ]
    },
    {
     "output_type": "stream",
     "name": "stdout",
     "text": [
      "remove image Cropped_Images/118415.jpg\n"
     ]
    },
    {
     "output_type": "stream",
     "name": "stderr",
     "text": [
      "18346it [04:36, 63.42it/s]"
     ]
    },
    {
     "output_type": "stream",
     "name": "stdout",
     "text": [
      "remove image Cropped_Images/118454.jpg\n",
      "remove image Cropped_Images/118461.jpg\n"
     ]
    },
    {
     "output_type": "stream",
     "name": "stderr",
     "text": [
      "18409it [04:37, 67.64it/s]"
     ]
    },
    {
     "output_type": "stream",
     "name": "stdout",
     "text": [
      "remove image Cropped_Images/118518.jpg\n"
     ]
    },
    {
     "output_type": "stream",
     "name": "stderr",
     "text": [
      "18423it [04:37, 65.89it/s]"
     ]
    },
    {
     "output_type": "stream",
     "name": "stdout",
     "text": [
      "remove image Cropped_Images/118538.jpg\n"
     ]
    },
    {
     "output_type": "stream",
     "name": "stderr",
     "text": [
      "18473it [04:38, 67.56it/s]"
     ]
    },
    {
     "output_type": "stream",
     "name": "stdout",
     "text": [
      "remove image Cropped_Images/118586.jpg\n"
     ]
    },
    {
     "output_type": "stream",
     "name": "stderr",
     "text": [
      "18508it [04:39, 63.95it/s]"
     ]
    },
    {
     "output_type": "stream",
     "name": "stdout",
     "text": [
      "remove image Cropped_Images/118622.jpg\n"
     ]
    },
    {
     "output_type": "stream",
     "name": "stderr",
     "text": [
      "18762it [04:42, 70.72it/s]"
     ]
    },
    {
     "output_type": "stream",
     "name": "stdout",
     "text": [
      "remove image Cropped_Images/118887.jpg\n"
     ]
    },
    {
     "output_type": "stream",
     "name": "stderr",
     "text": [
      "18793it [04:43, 67.89it/s]"
     ]
    },
    {
     "output_type": "stream",
     "name": "stdout",
     "text": [
      "remove image Cropped_Images/118922.jpg\n",
      "remove image Cropped_Images/118935.jpg\n",
      "remove image Cropped_Images/118936.jpg\n"
     ]
    },
    {
     "output_type": "stream",
     "name": "stderr",
     "text": [
      "18899it [04:44, 67.82it/s]"
     ]
    },
    {
     "output_type": "stream",
     "name": "stdout",
     "text": [
      "remove image Cropped_Images/119036.jpg\n"
     ]
    },
    {
     "output_type": "stream",
     "name": "stderr",
     "text": [
      "18973it [04:45, 68.49it/s]"
     ]
    },
    {
     "output_type": "stream",
     "name": "stdout",
     "text": [
      "remove image Cropped_Images/119106.jpg\n"
     ]
    },
    {
     "output_type": "stream",
     "name": "stderr",
     "text": [
      "19065it [04:47, 67.37it/s]"
     ]
    },
    {
     "output_type": "stream",
     "name": "stdout",
     "text": [
      "remove image Cropped_Images/119208.jpg\n"
     ]
    },
    {
     "output_type": "stream",
     "name": "stderr",
     "text": [
      "19135it [04:48, 65.30it/s]"
     ]
    },
    {
     "output_type": "stream",
     "name": "stdout",
     "text": [
      "remove image Cropped_Images/119280.jpg\n"
     ]
    },
    {
     "output_type": "stream",
     "name": "stderr",
     "text": [
      "19436it [04:52, 71.41it/s]"
     ]
    },
    {
     "output_type": "stream",
     "name": "stdout",
     "text": [
      "remove image Cropped_Images/119600.jpg\n",
      "remove image Cropped_Images/119615.jpg\n"
     ]
    },
    {
     "output_type": "stream",
     "name": "stderr",
     "text": [
      "19460it [04:53, 71.65it/s]"
     ]
    },
    {
     "output_type": "stream",
     "name": "stdout",
     "text": [
      "remove image Cropped_Images/119626.jpg\n"
     ]
    },
    {
     "output_type": "stream",
     "name": "stderr",
     "text": [
      "19548it [04:54, 64.92it/s]"
     ]
    },
    {
     "output_type": "stream",
     "name": "stdout",
     "text": [
      "remove image Cropped_Images/119720.jpg\n"
     ]
    },
    {
     "output_type": "stream",
     "name": "stderr",
     "text": [
      "19562it [04:54, 66.09it/s]"
     ]
    },
    {
     "output_type": "stream",
     "name": "stdout",
     "text": [
      "remove image Cropped_Images/119736.jpg\n"
     ]
    },
    {
     "output_type": "stream",
     "name": "stderr",
     "text": [
      "19584it [04:54, 67.96it/s]"
     ]
    },
    {
     "output_type": "stream",
     "name": "stdout",
     "text": [
      "remove image Cropped_Images/119756.jpg\n"
     ]
    },
    {
     "output_type": "stream",
     "name": "stderr",
     "text": [
      "19647it [04:55, 64.27it/s]"
     ]
    },
    {
     "output_type": "stream",
     "name": "stdout",
     "text": [
      "remove image Cropped_Images/119820.jpg\n"
     ]
    },
    {
     "output_type": "stream",
     "name": "stderr",
     "text": [
      "19796it [04:58, 71.04it/s]"
     ]
    },
    {
     "output_type": "stream",
     "name": "stdout",
     "text": [
      "remove image Cropped_Images/119972.jpg\n"
     ]
    },
    {
     "output_type": "stream",
     "name": "stderr",
     "text": [
      "19819it [04:58, 68.24it/s]"
     ]
    },
    {
     "output_type": "stream",
     "name": "stdout",
     "text": [
      "remove image Cropped_Images/119996.jpg\n"
     ]
    },
    {
     "output_type": "stream",
     "name": "stderr",
     "text": [
      "19951it [05:00, 70.98it/s]"
     ]
    },
    {
     "output_type": "stream",
     "name": "stdout",
     "text": [
      "remove image Cropped_Images/120133.jpg\n"
     ]
    },
    {
     "output_type": "stream",
     "name": "stderr",
     "text": [
      "20026it [05:01, 64.83it/s]"
     ]
    },
    {
     "output_type": "stream",
     "name": "stdout",
     "text": [
      "remove image Cropped_Images/120218.jpg\n"
     ]
    },
    {
     "output_type": "stream",
     "name": "stderr",
     "text": [
      "20103it [05:02, 63.62it/s]"
     ]
    },
    {
     "output_type": "stream",
     "name": "stdout",
     "text": [
      "remove image Cropped_Images/120294.jpg\n"
     ]
    },
    {
     "output_type": "stream",
     "name": "stderr",
     "text": [
      "20124it [05:03, 65.09it/s]"
     ]
    },
    {
     "output_type": "stream",
     "name": "stdout",
     "text": [
      "remove image Cropped_Images/120317.jpg\n"
     ]
    },
    {
     "output_type": "stream",
     "name": "stderr",
     "text": [
      "20273it [05:05, 71.82it/s]"
     ]
    },
    {
     "output_type": "stream",
     "name": "stdout",
     "text": [
      "remove image Cropped_Images/120469.jpg\n"
     ]
    },
    {
     "output_type": "stream",
     "name": "stderr",
     "text": [
      "20317it [05:05, 65.39it/s]"
     ]
    },
    {
     "output_type": "stream",
     "name": "stdout",
     "text": [
      "remove image Cropped_Images/120512.jpg\n"
     ]
    },
    {
     "output_type": "stream",
     "name": "stderr",
     "text": [
      "20394it [05:07, 65.04it/s]"
     ]
    },
    {
     "output_type": "stream",
     "name": "stdout",
     "text": [
      "remove image Cropped_Images/120599.jpg\n"
     ]
    },
    {
     "output_type": "stream",
     "name": "stderr",
     "text": [
      "20416it [05:07, 67.25it/s]"
     ]
    },
    {
     "output_type": "stream",
     "name": "stdout",
     "text": [
      "remove image Cropped_Images/120614.jpg\n"
     ]
    },
    {
     "output_type": "stream",
     "name": "stderr",
     "text": [
      "20439it [05:07, 68.21it/s]"
     ]
    },
    {
     "output_type": "stream",
     "name": "stdout",
     "text": [
      "remove image Cropped_Images/120645.jpg\n"
     ]
    },
    {
     "output_type": "stream",
     "name": "stderr",
     "text": [
      "20516it [05:08, 67.15it/s]"
     ]
    },
    {
     "output_type": "stream",
     "name": "stdout",
     "text": [
      "remove image Cropped_Images/120723.jpg\n"
     ]
    },
    {
     "output_type": "stream",
     "name": "stderr",
     "text": [
      "20551it [05:09, 66.83it/s]"
     ]
    },
    {
     "output_type": "stream",
     "name": "stdout",
     "text": [
      "remove image Cropped_Images/120758.jpg\n"
     ]
    },
    {
     "output_type": "stream",
     "name": "stderr",
     "text": [
      "20621it [05:10, 65.12it/s]"
     ]
    },
    {
     "output_type": "stream",
     "name": "stdout",
     "text": [
      "remove image Cropped_Images/120833.jpg\n"
     ]
    },
    {
     "output_type": "stream",
     "name": "stderr",
     "text": [
      "20705it [05:11, 65.69it/s]"
     ]
    },
    {
     "output_type": "stream",
     "name": "stdout",
     "text": [
      "remove image Cropped_Images/120920.jpg\n"
     ]
    },
    {
     "output_type": "stream",
     "name": "stderr",
     "text": [
      "20727it [05:12, 68.28it/s]"
     ]
    },
    {
     "output_type": "stream",
     "name": "stdout",
     "text": [
      "remove image Cropped_Images/120939.jpg\n"
     ]
    },
    {
     "output_type": "stream",
     "name": "stderr",
     "text": [
      "20956it [05:15, 72.23it/s]"
     ]
    },
    {
     "output_type": "stream",
     "name": "stdout",
     "text": [
      "remove image Cropped_Images/121181.jpg\n"
     ]
    },
    {
     "output_type": "stream",
     "name": "stderr",
     "text": [
      "21156it [05:18, 70.06it/s]"
     ]
    },
    {
     "output_type": "stream",
     "name": "stdout",
     "text": [
      "remove image Cropped_Images/121375.jpg\n"
     ]
    },
    {
     "output_type": "stream",
     "name": "stderr",
     "text": [
      "21164it [05:18, 70.84it/s]"
     ]
    },
    {
     "output_type": "stream",
     "name": "stdout",
     "text": [
      "remove image Cropped_Images/121391.jpg\n"
     ]
    },
    {
     "output_type": "stream",
     "name": "stderr",
     "text": [
      "21203it [05:18, 68.19it/s]"
     ]
    },
    {
     "output_type": "stream",
     "name": "stdout",
     "text": [
      "remove image Cropped_Images/121431.jpg\n",
      "remove image Cropped_Images/121440.jpg\n"
     ]
    },
    {
     "output_type": "stream",
     "name": "stderr",
     "text": [
      "21302it [05:20, 68.28it/s]"
     ]
    },
    {
     "output_type": "stream",
     "name": "stdout",
     "text": [
      "remove image Cropped_Images/121531.jpg\n",
      "remove image Cropped_Images/121536.jpg\n"
     ]
    },
    {
     "output_type": "stream",
     "name": "stderr",
     "text": [
      "21428it [05:22, 65.07it/s]"
     ]
    },
    {
     "output_type": "stream",
     "name": "stdout",
     "text": [
      "remove image Cropped_Images/121665.jpg\n"
     ]
    },
    {
     "output_type": "stream",
     "name": "stderr",
     "text": [
      "21493it [05:23, 38.19it/s]"
     ]
    },
    {
     "output_type": "stream",
     "name": "stdout",
     "text": [
      "remove image Cropped_Images/121743.jpg\n"
     ]
    },
    {
     "output_type": "stream",
     "name": "stderr",
     "text": [
      "21578it [05:25, 63.51it/s]"
     ]
    },
    {
     "output_type": "stream",
     "name": "stdout",
     "text": [
      "remove image Cropped_Images/121819.jpg\n"
     ]
    },
    {
     "output_type": "stream",
     "name": "stderr",
     "text": [
      "21676it [05:27, 66.72it/s]"
     ]
    },
    {
     "output_type": "stream",
     "name": "stdout",
     "text": [
      "remove image Cropped_Images/121918.jpg\n"
     ]
    },
    {
     "output_type": "stream",
     "name": "stderr",
     "text": [
      "21732it [05:27, 64.12it/s]"
     ]
    },
    {
     "output_type": "stream",
     "name": "stdout",
     "text": [
      "remove image Cropped_Images/121978.jpg\n",
      "remove image Cropped_Images/121983.jpg\n"
     ]
    },
    {
     "output_type": "stream",
     "name": "stderr",
     "text": [
      "21795it [05:28, 63.13it/s]"
     ]
    },
    {
     "output_type": "stream",
     "name": "stdout",
     "text": [
      "remove image Cropped_Images/122043.jpg\n",
      "remove image Cropped_Images/122051.jpg\n"
     ]
    },
    {
     "output_type": "stream",
     "name": "stderr",
     "text": [
      "21858it [05:29, 64.97it/s]"
     ]
    },
    {
     "output_type": "stream",
     "name": "stdout",
     "text": [
      "remove image Cropped_Images/122109.jpg\n"
     ]
    },
    {
     "output_type": "stream",
     "name": "stderr",
     "text": [
      "21886it [05:30, 64.37it/s]"
     ]
    },
    {
     "output_type": "stream",
     "name": "stdout",
     "text": [
      "remove image Cropped_Images/122141.jpg\n"
     ]
    },
    {
     "output_type": "stream",
     "name": "stderr",
     "text": [
      "21970it [05:31, 65.53it/s]"
     ]
    },
    {
     "output_type": "stream",
     "name": "stdout",
     "text": [
      "remove image Cropped_Images/122225.jpg\n"
     ]
    },
    {
     "output_type": "stream",
     "name": "stderr",
     "text": [
      "21998it [05:32, 65.83it/s]"
     ]
    },
    {
     "output_type": "stream",
     "name": "stdout",
     "text": [
      "remove image Cropped_Images/122259.jpg\n",
      "remove image Cropped_Images/122265.jpg\n"
     ]
    },
    {
     "output_type": "stream",
     "name": "stderr",
     "text": [
      "22054it [05:32, 63.81it/s]"
     ]
    },
    {
     "output_type": "stream",
     "name": "stdout",
     "text": [
      "remove image Cropped_Images/122316.jpg\n"
     ]
    },
    {
     "output_type": "stream",
     "name": "stderr",
     "text": [
      "22096it [05:33, 63.73it/s]"
     ]
    },
    {
     "output_type": "stream",
     "name": "stdout",
     "text": [
      "remove image Cropped_Images/122361.jpg\n"
     ]
    },
    {
     "output_type": "stream",
     "name": "stderr",
     "text": [
      "22131it [05:34, 63.07it/s]"
     ]
    },
    {
     "output_type": "stream",
     "name": "stdout",
     "text": [
      "remove image Cropped_Images/122394.jpg\n"
     ]
    },
    {
     "output_type": "stream",
     "name": "stderr",
     "text": [
      "22223it [05:35, 67.52it/s]"
     ]
    },
    {
     "output_type": "stream",
     "name": "stdout",
     "text": [
      "remove image Cropped_Images/122487.jpg\n"
     ]
    },
    {
     "output_type": "stream",
     "name": "stderr",
     "text": [
      "22301it [05:36, 66.87it/s]"
     ]
    },
    {
     "output_type": "stream",
     "name": "stdout",
     "text": [
      "remove image Cropped_Images/122570.jpg\n"
     ]
    },
    {
     "output_type": "stream",
     "name": "stderr",
     "text": [
      "22336it [05:37, 65.11it/s]"
     ]
    },
    {
     "output_type": "stream",
     "name": "stdout",
     "text": [
      "remove image Cropped_Images/122612.jpg\n"
     ]
    },
    {
     "output_type": "stream",
     "name": "stderr",
     "text": [
      "22357it [05:37, 64.73it/s]"
     ]
    },
    {
     "output_type": "stream",
     "name": "stdout",
     "text": [
      "remove image Cropped_Images/122629.jpg\n"
     ]
    },
    {
     "output_type": "stream",
     "name": "stderr",
     "text": [
      "22472it [05:39, 69.44it/s]"
     ]
    },
    {
     "output_type": "stream",
     "name": "stdout",
     "text": [
      "remove image Cropped_Images/122746.jpg\n"
     ]
    },
    {
     "output_type": "stream",
     "name": "stderr",
     "text": [
      "22504it [05:39, 69.94it/s]"
     ]
    },
    {
     "output_type": "stream",
     "name": "stdout",
     "text": [
      "remove image Cropped_Images/122780.jpg\n"
     ]
    },
    {
     "output_type": "stream",
     "name": "stderr",
     "text": [
      "22602it [05:41, 67.17it/s]"
     ]
    },
    {
     "output_type": "stream",
     "name": "stdout",
     "text": [
      "remove image Cropped_Images/122882.jpg\n"
     ]
    },
    {
     "output_type": "stream",
     "name": "stderr",
     "text": [
      "22645it [05:41, 64.97it/s]"
     ]
    },
    {
     "output_type": "stream",
     "name": "stdout",
     "text": [
      "remove image Cropped_Images/122929.jpg\n"
     ]
    },
    {
     "output_type": "stream",
     "name": "stderr",
     "text": [
      "22694it [05:42, 65.48it/s]"
     ]
    },
    {
     "output_type": "stream",
     "name": "stdout",
     "text": [
      "remove image Cropped_Images/122982.jpg\n"
     ]
    },
    {
     "output_type": "stream",
     "name": "stderr",
     "text": [
      "22729it [05:43, 63.79it/s]"
     ]
    },
    {
     "output_type": "stream",
     "name": "stdout",
     "text": [
      "remove image Cropped_Images/123018.jpg\n",
      "remove image Cropped_Images/123024.jpg\n"
     ]
    },
    {
     "output_type": "stream",
     "name": "stderr",
     "text": [
      "22873it [05:45, 70.79it/s]"
     ]
    },
    {
     "output_type": "stream",
     "name": "stdout",
     "text": [
      "remove image Cropped_Images/123169.jpg\n",
      "remove image Cropped_Images/123178.jpg\n"
     ]
    },
    {
     "output_type": "stream",
     "name": "stderr",
     "text": [
      "22905it [05:45, 69.49it/s]"
     ]
    },
    {
     "output_type": "stream",
     "name": "stdout",
     "text": [
      "remove image Cropped_Images/123194.jpg\n",
      "remove image Cropped_Images/123195.jpg\n"
     ]
    },
    {
     "output_type": "stream",
     "name": "stderr",
     "text": [
      "22968it [05:46, 65.35it/s]"
     ]
    },
    {
     "output_type": "stream",
     "name": "stdout",
     "text": [
      "remove image Cropped_Images/123266.jpg\n"
     ]
    },
    {
     "output_type": "stream",
     "name": "stderr",
     "text": [
      "23024it [05:47, 66.06it/s]"
     ]
    },
    {
     "output_type": "stream",
     "name": "stdout",
     "text": [
      "remove image Cropped_Images/123323.jpg\n"
     ]
    },
    {
     "output_type": "stream",
     "name": "stderr",
     "text": [
      "23094it [05:48, 64.13it/s]"
     ]
    },
    {
     "output_type": "stream",
     "name": "stdout",
     "text": [
      "remove image Cropped_Images/123395.jpg\n"
     ]
    },
    {
     "output_type": "stream",
     "name": "stderr",
     "text": [
      "23200it [05:50, 64.26it/s]"
     ]
    },
    {
     "output_type": "stream",
     "name": "stdout",
     "text": [
      "remove image Cropped_Images/123503.jpg\n",
      "remove image Cropped_Images/123504.jpg\n"
     ]
    },
    {
     "output_type": "stream",
     "name": "stderr",
     "text": [
      "23284it [05:51, 60.54it/s]"
     ]
    },
    {
     "output_type": "stream",
     "name": "stdout",
     "text": [
      "remove image Cropped_Images/123590.jpg\n"
     ]
    },
    {
     "output_type": "stream",
     "name": "stderr",
     "text": [
      "23360it [05:53, 58.46it/s]"
     ]
    },
    {
     "output_type": "stream",
     "name": "stdout",
     "text": [
      "remove image Cropped_Images/123676.jpg\n"
     ]
    },
    {
     "output_type": "stream",
     "name": "stderr",
     "text": [
      "23436it [05:54, 63.37it/s]"
     ]
    },
    {
     "output_type": "stream",
     "name": "stdout",
     "text": [
      "remove image Cropped_Images/123756.jpg\n"
     ]
    },
    {
     "output_type": "stream",
     "name": "stderr",
     "text": [
      "23520it [05:55, 66.04it/s]"
     ]
    },
    {
     "output_type": "stream",
     "name": "stdout",
     "text": [
      "remove image Cropped_Images/123844.jpg\n"
     ]
    },
    {
     "output_type": "stream",
     "name": "stderr",
     "text": [
      "23556it [05:56, 67.28it/s]"
     ]
    },
    {
     "output_type": "stream",
     "name": "stdout",
     "text": [
      "remove image Cropped_Images/123882.jpg\n"
     ]
    },
    {
     "output_type": "stream",
     "name": "stderr",
     "text": [
      "23686it [05:58, 69.92it/s]"
     ]
    },
    {
     "output_type": "stream",
     "name": "stdout",
     "text": [
      "remove image Cropped_Images/124012.jpg\n"
     ]
    },
    {
     "output_type": "stream",
     "name": "stderr",
     "text": [
      "23772it [05:59, 64.89it/s]"
     ]
    },
    {
     "output_type": "stream",
     "name": "stdout",
     "text": [
      "remove image Cropped_Images/124106.jpg\n",
      "remove image Cropped_Images/124111.jpg\n"
     ]
    },
    {
     "output_type": "stream",
     "name": "stderr",
     "text": [
      "23864it [06:00, 67.51it/s]"
     ]
    },
    {
     "output_type": "stream",
     "name": "stdout",
     "text": [
      "remove image Cropped_Images/124204.jpg\n",
      "remove image Cropped_Images/124216.jpg\n"
     ]
    },
    {
     "output_type": "stream",
     "name": "stderr",
     "text": [
      "23921it [06:01, 65.85it/s]"
     ]
    },
    {
     "output_type": "stream",
     "name": "stdout",
     "text": [
      "remove image Cropped_Images/124261.jpg\n"
     ]
    },
    {
     "output_type": "stream",
     "name": "stderr",
     "text": [
      "23942it [06:01, 65.20it/s]"
     ]
    },
    {
     "output_type": "stream",
     "name": "stdout",
     "text": [
      "remove image Cropped_Images/124283.jpg\n"
     ]
    },
    {
     "output_type": "stream",
     "name": "stderr",
     "text": [
      "24066it [06:03, 70.04it/s]"
     ]
    },
    {
     "output_type": "stream",
     "name": "stdout",
     "text": [
      "remove image Cropped_Images/124410.jpg\n"
     ]
    },
    {
     "output_type": "stream",
     "name": "stderr",
     "text": [
      "24082it [06:04, 70.24it/s]"
     ]
    },
    {
     "output_type": "stream",
     "name": "stdout",
     "text": [
      "remove image Cropped_Images/124433.jpg\n"
     ]
    },
    {
     "output_type": "stream",
     "name": "stderr",
     "text": [
      "24104it [06:04, 67.10it/s]"
     ]
    },
    {
     "output_type": "stream",
     "name": "stdout",
     "text": [
      "remove image Cropped_Images/124453.jpg\n",
      "remove image Cropped_Images/124464.jpg\n"
     ]
    },
    {
     "output_type": "stream",
     "name": "stderr",
     "text": [
      "24158it [06:05, 58.64it/s]"
     ]
    },
    {
     "output_type": "stream",
     "name": "stdout",
     "text": [
      "remove image Cropped_Images/124513.jpg\n"
     ]
    },
    {
     "output_type": "stream",
     "name": "stderr",
     "text": [
      "24194it [06:05, 54.31it/s]"
     ]
    },
    {
     "output_type": "stream",
     "name": "stdout",
     "text": [
      "remove image Cropped_Images/124551.jpg\n"
     ]
    },
    {
     "output_type": "stream",
     "name": "stderr",
     "text": [
      "24248it [06:06, 55.68it/s]"
     ]
    },
    {
     "output_type": "stream",
     "name": "stdout",
     "text": [
      "remove image Cropped_Images/124603.jpg\n"
     ]
    },
    {
     "output_type": "stream",
     "name": "stderr",
     "text": [
      "24272it [06:07, 57.41it/s]"
     ]
    },
    {
     "output_type": "stream",
     "name": "stdout",
     "text": [
      "remove image Cropped_Images/124632.jpg\n"
     ]
    },
    {
     "output_type": "stream",
     "name": "stderr",
     "text": [
      "24417it [06:09, 71.64it/s]"
     ]
    },
    {
     "output_type": "stream",
     "name": "stdout",
     "text": [
      "remove image Cropped_Images/124784.jpg\n"
     ]
    },
    {
     "output_type": "stream",
     "name": "stderr",
     "text": [
      "24503it [06:10, 62.88it/s]"
     ]
    },
    {
     "output_type": "stream",
     "name": "stdout",
     "text": [
      "remove image Cropped_Images/124870.jpg\n"
     ]
    },
    {
     "output_type": "stream",
     "name": "stderr",
     "text": [
      "24552it [06:11, 64.50it/s]"
     ]
    },
    {
     "output_type": "stream",
     "name": "stdout",
     "text": [
      "remove image Cropped_Images/124921.jpg\n"
     ]
    },
    {
     "output_type": "stream",
     "name": "stderr",
     "text": [
      "24629it [06:12, 63.02it/s]"
     ]
    },
    {
     "output_type": "stream",
     "name": "stdout",
     "text": [
      "remove image Cropped_Images/125001.jpg\n",
      "remove image Cropped_Images/125003.jpg\n"
     ]
    },
    {
     "output_type": "stream",
     "name": "stderr",
     "text": [
      "24759it [06:14, 70.23it/s]"
     ]
    },
    {
     "output_type": "stream",
     "name": "stdout",
     "text": [
      "remove image Cropped_Images/125130.jpg\n"
     ]
    },
    {
     "output_type": "stream",
     "name": "stderr",
     "text": [
      "24774it [06:15, 69.77it/s]"
     ]
    },
    {
     "output_type": "stream",
     "name": "stdout",
     "text": [
      "remove image Cropped_Images/125152.jpg\n",
      "remove image Cropped_Images/125154.jpg\n"
     ]
    },
    {
     "output_type": "stream",
     "name": "stderr",
     "text": [
      "24809it [06:15, 63.88it/s]"
     ]
    },
    {
     "output_type": "stream",
     "name": "stdout",
     "text": [
      "remove image Cropped_Images/125190.jpg\n"
     ]
    },
    {
     "output_type": "stream",
     "name": "stderr",
     "text": [
      "24844it [06:16, 62.65it/s]"
     ]
    },
    {
     "output_type": "stream",
     "name": "stdout",
     "text": [
      "remove image Cropped_Images/125225.jpg\n"
     ]
    },
    {
     "output_type": "stream",
     "name": "stderr",
     "text": [
      "24893it [06:16, 64.84it/s]"
     ]
    },
    {
     "output_type": "stream",
     "name": "stdout",
     "text": [
      "remove image Cropped_Images/125278.jpg\n"
     ]
    },
    {
     "output_type": "stream",
     "name": "stderr",
     "text": [
      "24949it [06:17, 65.98it/s]"
     ]
    },
    {
     "output_type": "stream",
     "name": "stdout",
     "text": [
      "remove image Cropped_Images/125337.jpg\n"
     ]
    },
    {
     "output_type": "stream",
     "name": "stderr",
     "text": [
      "25170it [06:21, 71.40it/s]"
     ]
    },
    {
     "output_type": "stream",
     "name": "stdout",
     "text": [
      "remove image Cropped_Images/125571.jpg\n"
     ]
    },
    {
     "output_type": "stream",
     "name": "stderr",
     "text": [
      "25229it [06:22, 64.64it/s]"
     ]
    },
    {
     "output_type": "stream",
     "name": "stdout",
     "text": [
      "remove image Cropped_Images/125633.jpg\n"
     ]
    },
    {
     "output_type": "stream",
     "name": "stderr",
     "text": [
      "25350it [06:23, 69.55it/s]"
     ]
    },
    {
     "output_type": "stream",
     "name": "stdout",
     "text": [
      "remove image Cropped_Images/125757.jpg\n"
     ]
    },
    {
     "output_type": "stream",
     "name": "stderr",
     "text": [
      "25399it [06:24, 65.29it/s]"
     ]
    },
    {
     "output_type": "stream",
     "name": "stdout",
     "text": [
      "remove image Cropped_Images/125803.jpg\n",
      "remove image Cropped_Images/125805.jpg\n"
     ]
    },
    {
     "output_type": "stream",
     "name": "stderr",
     "text": [
      "25441it [06:25, 65.13it/s]"
     ]
    },
    {
     "output_type": "stream",
     "name": "stdout",
     "text": [
      "remove image Cropped_Images/125849.jpg\n"
     ]
    },
    {
     "output_type": "stream",
     "name": "stderr",
     "text": [
      "25504it [06:26, 63.62it/s]"
     ]
    },
    {
     "output_type": "stream",
     "name": "stdout",
     "text": [
      "remove image Cropped_Images/125915.jpg\n"
     ]
    },
    {
     "output_type": "stream",
     "name": "stderr",
     "text": [
      "25532it [06:26, 62.83it/s]"
     ]
    },
    {
     "output_type": "stream",
     "name": "stdout",
     "text": [
      "remove image Cropped_Images/125948.jpg\n",
      "remove image Cropped_Images/125955.jpg\n"
     ]
    },
    {
     "output_type": "stream",
     "name": "stderr",
     "text": [
      "25546it [06:26, 63.01it/s]"
     ]
    },
    {
     "output_type": "stream",
     "name": "stdout",
     "text": [
      "remove image Cropped_Images/125964.jpg\n"
     ]
    },
    {
     "output_type": "stream",
     "name": "stderr",
     "text": [
      "25560it [06:27, 63.18it/s]"
     ]
    },
    {
     "output_type": "stream",
     "name": "stdout",
     "text": [
      "remove image Cropped_Images/125980.jpg\n",
      "remove image Cropped_Images/125982.jpg\n"
     ]
    },
    {
     "output_type": "stream",
     "name": "stderr",
     "text": [
      "25588it [06:27, 63.97it/s]"
     ]
    },
    {
     "output_type": "stream",
     "name": "stdout",
     "text": [
      "remove image Cropped_Images/126004.jpg\n",
      "remove image Cropped_Images/126011.jpg\n"
     ]
    },
    {
     "output_type": "stream",
     "name": "stderr",
     "text": [
      "25697it [06:29, 68.75it/s]"
     ]
    },
    {
     "output_type": "stream",
     "name": "stdout",
     "text": [
      "remove image Cropped_Images/126118.jpg\n"
     ]
    },
    {
     "output_type": "stream",
     "name": "stderr",
     "text": [
      "25768it [06:30, 65.43it/s]"
     ]
    },
    {
     "output_type": "stream",
     "name": "stdout",
     "text": [
      "remove image Cropped_Images/126187.jpg\n"
     ]
    },
    {
     "output_type": "stream",
     "name": "stderr",
     "text": [
      "25824it [06:31, 65.87it/s]"
     ]
    },
    {
     "output_type": "stream",
     "name": "stdout",
     "text": [
      "remove image Cropped_Images/126245.jpg\n",
      "remove image Cropped_Images/126251.jpg\n",
      "remove image Cropped_Images/126253.jpg\n",
      "remove image Cropped_Images/126256.jpg\n"
     ]
    },
    {
     "output_type": "stream",
     "name": "stderr",
     "text": [
      "25873it [06:31, 64.13it/s]"
     ]
    },
    {
     "output_type": "stream",
     "name": "stdout",
     "text": [
      "remove image Cropped_Images/126295.jpg\n"
     ]
    },
    {
     "output_type": "stream",
     "name": "stderr",
     "text": [
      "25929it [06:32, 60.75it/s]"
     ]
    },
    {
     "output_type": "stream",
     "name": "stdout",
     "text": [
      "remove image Cropped_Images/126353.jpg\n",
      "remove image Cropped_Images/126354.jpg\n"
     ]
    },
    {
     "output_type": "stream",
     "name": "stderr",
     "text": [
      "25950it [06:33, 60.47it/s]"
     ]
    },
    {
     "output_type": "stream",
     "name": "stdout",
     "text": [
      "remove image Cropped_Images/126375.jpg\n"
     ]
    },
    {
     "output_type": "stream",
     "name": "stderr",
     "text": [
      "26257it [06:38, 69.70it/s]"
     ]
    },
    {
     "output_type": "stream",
     "name": "stdout",
     "text": [
      "remove image Cropped_Images/126701.jpg\n"
     ]
    },
    {
     "output_type": "stream",
     "name": "stderr",
     "text": [
      "26321it [06:39, 65.15it/s]"
     ]
    },
    {
     "output_type": "stream",
     "name": "stdout",
     "text": [
      "remove image Cropped_Images/126766.jpg\n"
     ]
    },
    {
     "output_type": "stream",
     "name": "stderr",
     "text": [
      "26363it [06:39, 61.83it/s]"
     ]
    },
    {
     "output_type": "stream",
     "name": "stdout",
     "text": [
      "remove image Cropped_Images/126808.jpg\n"
     ]
    },
    {
     "output_type": "stream",
     "name": "stderr",
     "text": [
      "26384it [06:40, 62.98it/s]"
     ]
    },
    {
     "output_type": "stream",
     "name": "stdout",
     "text": [
      "remove image Cropped_Images/126836.jpg\n"
     ]
    },
    {
     "output_type": "stream",
     "name": "stderr",
     "text": [
      "26440it [06:40, 63.72it/s]"
     ]
    },
    {
     "output_type": "stream",
     "name": "stdout",
     "text": [
      "remove image Cropped_Images/126889.jpg\n",
      "remove image Cropped_Images/126894.jpg\n"
     ]
    },
    {
     "output_type": "stream",
     "name": "stderr",
     "text": [
      "26503it [06:41, 64.68it/s]"
     ]
    },
    {
     "output_type": "stream",
     "name": "stdout",
     "text": [
      "remove image Cropped_Images/126957.jpg\n"
     ]
    },
    {
     "output_type": "stream",
     "name": "stderr",
     "text": [
      "26545it [06:42, 64.87it/s]"
     ]
    },
    {
     "output_type": "stream",
     "name": "stdout",
     "text": [
      "remove image Cropped_Images/126997.jpg\n"
     ]
    },
    {
     "output_type": "stream",
     "name": "stderr",
     "text": [
      "26608it [06:43, 64.35it/s]"
     ]
    },
    {
     "output_type": "stream",
     "name": "stdout",
     "text": [
      "remove image Cropped_Images/127066.jpg\n"
     ]
    },
    {
     "output_type": "stream",
     "name": "stderr",
     "text": [
      "26643it [06:44, 66.18it/s]"
     ]
    },
    {
     "output_type": "stream",
     "name": "stdout",
     "text": [
      "remove image Cropped_Images/127097.jpg\n"
     ]
    },
    {
     "output_type": "stream",
     "name": "stderr",
     "text": [
      "26729it [06:45, 69.67it/s]"
     ]
    },
    {
     "output_type": "stream",
     "name": "stdout",
     "text": [
      "remove image Cropped_Images/127186.jpg\n"
     ]
    },
    {
     "output_type": "stream",
     "name": "stderr",
     "text": [
      "26767it [06:45, 64.48it/s]"
     ]
    },
    {
     "output_type": "stream",
     "name": "stdout",
     "text": [
      "remove image Cropped_Images/127234.jpg\n"
     ]
    },
    {
     "output_type": "stream",
     "name": "stderr",
     "text": [
      "26795it [06:46, 64.99it/s]"
     ]
    },
    {
     "output_type": "stream",
     "name": "stdout",
     "text": [
      "remove image Cropped_Images/127260.jpg\n"
     ]
    },
    {
     "output_type": "stream",
     "name": "stderr",
     "text": [
      "26830it [06:46, 63.90it/s]"
     ]
    },
    {
     "output_type": "stream",
     "name": "stdout",
     "text": [
      "remove image Cropped_Images/127297.jpg\n"
     ]
    },
    {
     "output_type": "stream",
     "name": "stderr",
     "text": [
      "26865it [06:47, 63.28it/s]"
     ]
    },
    {
     "output_type": "stream",
     "name": "stdout",
     "text": [
      "remove image Cropped_Images/127328.jpg\n"
     ]
    },
    {
     "output_type": "stream",
     "name": "stderr",
     "text": [
      "26879it [06:47, 63.13it/s]"
     ]
    },
    {
     "output_type": "stream",
     "name": "stdout",
     "text": [
      "remove image Cropped_Images/127349.jpg\n",
      "remove image Cropped_Images/127351.jpg\n",
      "remove image Cropped_Images/127361.jpg\n"
     ]
    },
    {
     "output_type": "stream",
     "name": "stderr",
     "text": [
      "26970it [06:49, 66.24it/s]"
     ]
    },
    {
     "output_type": "stream",
     "name": "stdout",
     "text": [
      "remove image Cropped_Images/127441.jpg\n"
     ]
    },
    {
     "output_type": "stream",
     "name": "stderr",
     "text": [
      "27139it [06:51, 67.90it/s]"
     ]
    },
    {
     "output_type": "stream",
     "name": "stdout",
     "text": [
      "remove image Cropped_Images/127609.jpg\n"
     ]
    },
    {
     "output_type": "stream",
     "name": "stderr",
     "text": [
      "27167it [06:52, 64.78it/s]"
     ]
    },
    {
     "output_type": "stream",
     "name": "stdout",
     "text": [
      "remove image Cropped_Images/127641.jpg\n"
     ]
    },
    {
     "output_type": "stream",
     "name": "stderr",
     "text": [
      "27195it [06:52, 61.68it/s]"
     ]
    },
    {
     "output_type": "stream",
     "name": "stdout",
     "text": [
      "remove image Cropped_Images/127667.jpg\n"
     ]
    },
    {
     "output_type": "stream",
     "name": "stderr",
     "text": [
      "27321it [06:54, 63.85it/s]"
     ]
    },
    {
     "output_type": "stream",
     "name": "stdout",
     "text": [
      "remove image Cropped_Images/127798.jpg\n",
      "remove image Cropped_Images/127800.jpg\n",
      "remove image Cropped_Images/127806.jpg\n"
     ]
    },
    {
     "output_type": "stream",
     "name": "stderr",
     "text": [
      "27377it [06:55, 66.84it/s]"
     ]
    },
    {
     "output_type": "stream",
     "name": "stdout",
     "text": [
      "remove image Cropped_Images/127854.jpg\n"
     ]
    },
    {
     "output_type": "stream",
     "name": "stderr",
     "text": [
      "27391it [06:55, 64.99it/s]"
     ]
    },
    {
     "output_type": "stream",
     "name": "stdout",
     "text": [
      "remove image Cropped_Images/127871.jpg\n"
     ]
    },
    {
     "output_type": "stream",
     "name": "stderr",
     "text": [
      "27433it [06:56, 61.62it/s]"
     ]
    },
    {
     "output_type": "stream",
     "name": "stdout",
     "text": [
      "remove image Cropped_Images/127920.jpg\n",
      "remove image Cropped_Images/127931.jpg\n"
     ]
    },
    {
     "output_type": "stream",
     "name": "stderr",
     "text": [
      "27454it [06:56, 64.57it/s]"
     ]
    },
    {
     "output_type": "stream",
     "name": "stdout",
     "text": [
      "remove image Cropped_Images/127938.jpg\n",
      "remove image Cropped_Images/127943.jpg\n"
     ]
    },
    {
     "output_type": "stream",
     "name": "stderr",
     "text": [
      "27489it [06:57, 62.95it/s]"
     ]
    },
    {
     "output_type": "stream",
     "name": "stdout",
     "text": [
      "remove image Cropped_Images/127971.jpg\n",
      "remove image Cropped_Images/127982.jpg\n",
      "remove image Cropped_Images/127983.jpg\n"
     ]
    },
    {
     "output_type": "stream",
     "name": "stderr",
     "text": [
      "27648it [06:59, 71.72it/s]"
     ]
    },
    {
     "output_type": "stream",
     "name": "stdout",
     "text": [
      "remove image Cropped_Images/128139.jpg\n"
     ]
    },
    {
     "output_type": "stream",
     "name": "stderr",
     "text": [
      "27687it [07:00, 69.09it/s]"
     ]
    },
    {
     "output_type": "stream",
     "name": "stdout",
     "text": [
      "remove image Cropped_Images/128173.jpg\n"
     ]
    },
    {
     "output_type": "stream",
     "name": "stderr",
     "text": [
      "27701it [07:00, 66.23it/s]"
     ]
    },
    {
     "output_type": "stream",
     "name": "stdout",
     "text": [
      "remove image Cropped_Images/128187.jpg\n"
     ]
    },
    {
     "output_type": "stream",
     "name": "stderr",
     "text": [
      "27779it [07:01, 68.78it/s]"
     ]
    },
    {
     "output_type": "stream",
     "name": "stdout",
     "text": [
      "remove image Cropped_Images/128268.jpg\n"
     ]
    },
    {
     "output_type": "stream",
     "name": "stderr",
     "text": [
      "27831it [07:02, 64.26it/s]"
     ]
    },
    {
     "output_type": "stream",
     "name": "stdout",
     "text": [
      "remove image Cropped_Images/128319.jpg\n",
      "remove image Cropped_Images/128326.jpg\n",
      "remove image Cropped_Images/128327.jpg\n"
     ]
    },
    {
     "output_type": "stream",
     "name": "stderr",
     "text": [
      "27852it [07:02, 61.88it/s]"
     ]
    },
    {
     "output_type": "stream",
     "name": "stdout",
     "text": [
      "remove image Cropped_Images/128341.jpg\n"
     ]
    },
    {
     "output_type": "stream",
     "name": "stderr",
     "text": [
      "28022it [07:05, 64.53it/s]"
     ]
    },
    {
     "output_type": "stream",
     "name": "stdout",
     "text": [
      "remove image Cropped_Images/128521.jpg\n",
      "remove image Cropped_Images/128528.jpg\n"
     ]
    },
    {
     "output_type": "stream",
     "name": "stderr",
     "text": [
      "28098it [07:06, 59.24it/s]"
     ]
    },
    {
     "output_type": "stream",
     "name": "stdout",
     "text": [
      "remove image Cropped_Images/128602.jpg\n",
      "remove image Cropped_Images/128606.jpg\n"
     ]
    },
    {
     "output_type": "stream",
     "name": "stderr",
     "text": [
      "28118it [07:06, 60.32it/s]"
     ]
    },
    {
     "output_type": "stream",
     "name": "stdout",
     "text": [
      "remove image Cropped_Images/128623.jpg\n"
     ]
    },
    {
     "output_type": "stream",
     "name": "stderr",
     "text": [
      "28209it [07:08, 61.83it/s]"
     ]
    },
    {
     "output_type": "stream",
     "name": "stdout",
     "text": [
      "remove image Cropped_Images/128720.jpg\n",
      "remove image Cropped_Images/128732.jpg\n"
     ]
    },
    {
     "output_type": "stream",
     "name": "stderr",
     "text": [
      "28315it [07:10, 66.04it/s]"
     ]
    },
    {
     "output_type": "stream",
     "name": "stdout",
     "text": [
      "remove image Cropped_Images/128828.jpg\n"
     ]
    },
    {
     "output_type": "stream",
     "name": "stderr",
     "text": [
      "28429it [07:11, 67.53it/s]"
     ]
    },
    {
     "output_type": "stream",
     "name": "stdout",
     "text": [
      "remove image Cropped_Images/128939.jpg\n"
     ]
    },
    {
     "output_type": "stream",
     "name": "stderr",
     "text": [
      "28464it [07:12, 66.55it/s]"
     ]
    },
    {
     "output_type": "stream",
     "name": "stdout",
     "text": [
      "remove image Cropped_Images/128977.jpg\n"
     ]
    },
    {
     "output_type": "stream",
     "name": "stderr",
     "text": [
      "28506it [07:13, 63.45it/s]"
     ]
    },
    {
     "output_type": "stream",
     "name": "stdout",
     "text": [
      "remove image Cropped_Images/129024.jpg\n"
     ]
    },
    {
     "output_type": "stream",
     "name": "stderr",
     "text": [
      "28583it [07:14, 65.12it/s]"
     ]
    },
    {
     "output_type": "stream",
     "name": "stdout",
     "text": [
      "remove image Cropped_Images/129100.jpg\n",
      "remove image Cropped_Images/129102.jpg\n"
     ]
    },
    {
     "output_type": "stream",
     "name": "stderr",
     "text": [
      "28611it [07:14, 66.17it/s]"
     ]
    },
    {
     "output_type": "stream",
     "name": "stdout",
     "text": [
      "remove image Cropped_Images/129124.jpg\n",
      "remove image Cropped_Images/129130.jpg\n"
     ]
    },
    {
     "output_type": "stream",
     "name": "stderr",
     "text": [
      "28618it [07:14, 64.91it/s]"
     ]
    },
    {
     "output_type": "stream",
     "name": "stdout",
     "text": [
      "remove image Cropped_Images/129139.jpg\n"
     ]
    },
    {
     "output_type": "stream",
     "name": "stderr",
     "text": [
      "28695it [07:15, 64.18it/s]"
     ]
    },
    {
     "output_type": "stream",
     "name": "stdout",
     "text": [
      "remove image Cropped_Images/129215.jpg\n",
      "remove image Cropped_Images/129218.jpg\n"
     ]
    },
    {
     "output_type": "stream",
     "name": "stderr",
     "text": [
      "28759it [07:16, 66.95it/s]"
     ]
    },
    {
     "output_type": "stream",
     "name": "stdout",
     "text": [
      "remove image Cropped_Images/129283.jpg\n"
     ]
    },
    {
     "output_type": "stream",
     "name": "stderr",
     "text": [
      "28997it [07:20, 71.98it/s]"
     ]
    },
    {
     "output_type": "stream",
     "name": "stdout",
     "text": [
      "remove image Cropped_Images/129523.jpg\n"
     ]
    },
    {
     "output_type": "stream",
     "name": "stderr",
     "text": [
      "29013it [07:20, 71.77it/s]"
     ]
    },
    {
     "output_type": "stream",
     "name": "stdout",
     "text": [
      "remove image Cropped_Images/129539.jpg\n"
     ]
    },
    {
     "output_type": "stream",
     "name": "stderr",
     "text": [
      "29029it [07:20, 72.96it/s]"
     ]
    },
    {
     "output_type": "stream",
     "name": "stdout",
     "text": [
      "remove image Cropped_Images/129556.jpg\n"
     ]
    },
    {
     "output_type": "stream",
     "name": "stderr",
     "text": [
      "29074it [07:21, 66.73it/s]"
     ]
    },
    {
     "output_type": "stream",
     "name": "stdout",
     "text": [
      "remove image Cropped_Images/129609.jpg\n"
     ]
    },
    {
     "output_type": "stream",
     "name": "stderr",
     "text": [
      "29123it [07:22, 65.15it/s]"
     ]
    },
    {
     "output_type": "stream",
     "name": "stdout",
     "text": [
      "remove image Cropped_Images/129663.jpg\n"
     ]
    },
    {
     "output_type": "stream",
     "name": "stderr",
     "text": [
      "29186it [07:23, 62.09it/s]"
     ]
    },
    {
     "output_type": "stream",
     "name": "stdout",
     "text": [
      "remove image Cropped_Images/129731.jpg\n"
     ]
    },
    {
     "output_type": "stream",
     "name": "stderr",
     "text": [
      "29228it [07:23, 57.87it/s]"
     ]
    },
    {
     "output_type": "stream",
     "name": "stdout",
     "text": [
      "remove image Cropped_Images/129773.jpg\n"
     ]
    },
    {
     "output_type": "stream",
     "name": "stderr",
     "text": [
      "29333it [07:25, 66.57it/s]"
     ]
    },
    {
     "output_type": "stream",
     "name": "stdout",
     "text": [
      "remove image Cropped_Images/129884.jpg\n",
      "remove image Cropped_Images/129887.jpg\n"
     ]
    },
    {
     "output_type": "stream",
     "name": "stderr",
     "text": [
      "29516it [07:28, 50.68it/s]"
     ]
    },
    {
     "output_type": "stream",
     "name": "stdout",
     "text": [
      "remove image Cropped_Images/130066.jpg\n"
     ]
    },
    {
     "output_type": "stream",
     "name": "stderr",
     "text": [
      "29538it [07:28, 59.30it/s]"
     ]
    },
    {
     "output_type": "stream",
     "name": "stdout",
     "text": [
      "remove image Cropped_Images/130089.jpg\n",
      "remove image Cropped_Images/130098.jpg\n"
     ]
    },
    {
     "output_type": "stream",
     "name": "stderr",
     "text": [
      "29615it [07:30, 62.44it/s]"
     ]
    },
    {
     "output_type": "stream",
     "name": "stdout",
     "text": [
      "remove image Cropped_Images/130174.jpg\n"
     ]
    },
    {
     "output_type": "stream",
     "name": "stderr",
     "text": [
      "29664it [07:30, 60.90it/s]"
     ]
    },
    {
     "output_type": "stream",
     "name": "stdout",
     "text": [
      "remove image Cropped_Images/130222.jpg\n"
     ]
    },
    {
     "output_type": "stream",
     "name": "stderr",
     "text": [
      "29699it [07:31, 62.71it/s]"
     ]
    },
    {
     "output_type": "stream",
     "name": "stdout",
     "text": [
      "remove image Cropped_Images/130262.jpg\n"
     ]
    },
    {
     "output_type": "stream",
     "name": "stderr",
     "text": [
      "29942it [07:34, 70.75it/s]"
     ]
    },
    {
     "output_type": "stream",
     "name": "stdout",
     "text": [
      "remove image Cropped_Images/130512.jpg\n"
     ]
    },
    {
     "output_type": "stream",
     "name": "stderr",
     "text": [
      "29966it [07:35, 70.55it/s]"
     ]
    },
    {
     "output_type": "stream",
     "name": "stdout",
     "text": [
      "remove image Cropped_Images/130538.jpg\n"
     ]
    },
    {
     "output_type": "stream",
     "name": "stderr",
     "text": [
      "30090it [07:37, 72.20it/s]"
     ]
    },
    {
     "output_type": "stream",
     "name": "stdout",
     "text": [
      "remove image Cropped_Images/130661.jpg\n"
     ]
    },
    {
     "output_type": "stream",
     "name": "stderr",
     "text": [
      "30172it [07:38, 65.56it/s]"
     ]
    },
    {
     "output_type": "stream",
     "name": "stdout",
     "text": [
      "remove image Cropped_Images/130753.jpg\n"
     ]
    },
    {
     "output_type": "stream",
     "name": "stderr",
     "text": [
      "30216it [07:38, 67.82it/s]"
     ]
    },
    {
     "output_type": "stream",
     "name": "stdout",
     "text": [
      "remove image Cropped_Images/130794.jpg\n"
     ]
    },
    {
     "output_type": "stream",
     "name": "stderr",
     "text": [
      "30272it [07:39, 64.56it/s]"
     ]
    },
    {
     "output_type": "stream",
     "name": "stdout",
     "text": [
      "remove image Cropped_Images/130853.jpg\n",
      "remove image Cropped_Images/130859.jpg\n"
     ]
    },
    {
     "output_type": "stream",
     "name": "stderr",
     "text": [
      "30321it [07:40, 66.90it/s]"
     ]
    },
    {
     "output_type": "stream",
     "name": "stdout",
     "text": [
      "remove image Cropped_Images/130903.jpg\n"
     ]
    },
    {
     "output_type": "stream",
     "name": "stderr",
     "text": [
      "30343it [07:40, 67.12it/s]"
     ]
    },
    {
     "output_type": "stream",
     "name": "stdout",
     "text": [
      "remove image Cropped_Images/130928.jpg\n"
     ]
    },
    {
     "output_type": "stream",
     "name": "stderr",
     "text": [
      "30385it [07:41, 66.70it/s]"
     ]
    },
    {
     "output_type": "stream",
     "name": "stdout",
     "text": [
      "remove image Cropped_Images/130962.jpg\n"
     ]
    },
    {
     "output_type": "stream",
     "name": "stderr",
     "text": [
      "30399it [07:41, 66.18it/s]"
     ]
    },
    {
     "output_type": "stream",
     "name": "stdout",
     "text": [
      "remove image Cropped_Images/130979.jpg\n"
     ]
    },
    {
     "output_type": "stream",
     "name": "stderr",
     "text": [
      "30427it [07:42, 64.59it/s]"
     ]
    },
    {
     "output_type": "stream",
     "name": "stdout",
     "text": [
      "remove image Cropped_Images/131010.jpg\n"
     ]
    },
    {
     "output_type": "stream",
     "name": "stderr",
     "text": [
      "30455it [07:42, 65.03it/s]"
     ]
    },
    {
     "output_type": "stream",
     "name": "stdout",
     "text": [
      "remove image Cropped_Images/131038.jpg\n"
     ]
    },
    {
     "output_type": "stream",
     "name": "stderr",
     "text": [
      "30476it [07:42, 64.36it/s]"
     ]
    },
    {
     "output_type": "stream",
     "name": "stdout",
     "text": [
      "remove image Cropped_Images/131066.jpg\n",
      "remove image Cropped_Images/131076.jpg\n"
     ]
    },
    {
     "output_type": "stream",
     "name": "stderr",
     "text": [
      "30525it [07:43, 63.37it/s]"
     ]
    },
    {
     "output_type": "stream",
     "name": "stdout",
     "text": [
      "remove image Cropped_Images/131117.jpg\n",
      "remove image Cropped_Images/131125.jpg\n"
     ]
    },
    {
     "output_type": "stream",
     "name": "stderr",
     "text": [
      "30574it [07:44, 62.50it/s]"
     ]
    },
    {
     "output_type": "stream",
     "name": "stdout",
     "text": [
      "remove image Cropped_Images/131168.jpg\n",
      "remove image Cropped_Images/131171.jpg\n"
     ]
    },
    {
     "output_type": "stream",
     "name": "stderr",
     "text": [
      "30588it [07:44, 62.07it/s]"
     ]
    },
    {
     "output_type": "stream",
     "name": "stdout",
     "text": [
      "remove image Cropped_Images/131181.jpg\n"
     ]
    },
    {
     "output_type": "stream",
     "name": "stderr",
     "text": [
      "30616it [07:45, 64.42it/s]"
     ]
    },
    {
     "output_type": "stream",
     "name": "stdout",
     "text": [
      "remove image Cropped_Images/131204.jpg\n"
     ]
    },
    {
     "output_type": "stream",
     "name": "stderr",
     "text": [
      "30658it [07:45, 63.02it/s]"
     ]
    },
    {
     "output_type": "stream",
     "name": "stdout",
     "text": [
      "remove image Cropped_Images/131252.jpg\n"
     ]
    },
    {
     "output_type": "stream",
     "name": "stderr",
     "text": [
      "30763it [07:47, 64.00it/s]"
     ]
    },
    {
     "output_type": "stream",
     "name": "stdout",
     "text": [
      "remove image Cropped_Images/131362.jpg\n",
      "remove image Cropped_Images/131364.jpg\n"
     ]
    },
    {
     "output_type": "stream",
     "name": "stderr",
     "text": [
      "30812it [07:48, 64.46it/s]"
     ]
    },
    {
     "output_type": "stream",
     "name": "stdout",
     "text": [
      "remove image Cropped_Images/131413.jpg\n"
     ]
    },
    {
     "output_type": "stream",
     "name": "stderr",
     "text": [
      "30912it [07:49, 69.20it/s]"
     ]
    },
    {
     "output_type": "stream",
     "name": "stdout",
     "text": [
      "remove image Cropped_Images/131521.jpg\n",
      "remove image Cropped_Images/131537.jpg\n"
     ]
    },
    {
     "output_type": "stream",
     "name": "stderr",
     "text": [
      "30936it [07:50, 70.53it/s]"
     ]
    },
    {
     "output_type": "stream",
     "name": "stdout",
     "text": [
      "remove image Cropped_Images/131547.jpg\n"
     ]
    },
    {
     "output_type": "stream",
     "name": "stderr",
     "text": [
      "30960it [07:50, 69.49it/s]"
     ]
    },
    {
     "output_type": "stream",
     "name": "stdout",
     "text": [
      "remove image Cropped_Images/131571.jpg\n"
     ]
    },
    {
     "output_type": "stream",
     "name": "stderr",
     "text": [
      "31128it [07:52, 71.50it/s]"
     ]
    },
    {
     "output_type": "stream",
     "name": "stdout",
     "text": [
      "remove image Cropped_Images/131739.jpg\n"
     ]
    },
    {
     "output_type": "stream",
     "name": "stderr",
     "text": [
      "31203it [07:54, 65.27it/s]"
     ]
    },
    {
     "output_type": "stream",
     "name": "stdout",
     "text": [
      "remove image Cropped_Images/131821.jpg\n"
     ]
    },
    {
     "output_type": "stream",
     "name": "stderr",
     "text": [
      "31274it [07:55, 66.50it/s]"
     ]
    },
    {
     "output_type": "stream",
     "name": "stdout",
     "text": [
      "remove image Cropped_Images/131892.jpg\n"
     ]
    },
    {
     "output_type": "stream",
     "name": "stderr",
     "text": [
      "31289it [07:55, 68.71it/s]"
     ]
    },
    {
     "output_type": "stream",
     "name": "stdout",
     "text": [
      "remove image Cropped_Images/131907.jpg\n",
      "remove image Cropped_Images/131912.jpg\n"
     ]
    },
    {
     "output_type": "stream",
     "name": "stderr",
     "text": [
      "31317it [07:55, 67.34it/s]"
     ]
    },
    {
     "output_type": "stream",
     "name": "stdout",
     "text": [
      "remove image Cropped_Images/131940.jpg\n",
      "remove image Cropped_Images/131946.jpg\n"
     ]
    },
    {
     "output_type": "stream",
     "name": "stderr",
     "text": [
      "31706it [08:01, 77.25it/s]"
     ]
    },
    {
     "output_type": "stream",
     "name": "stdout",
     "text": [
      "remove image Cropped_Images/132344.jpg\n",
      "remove image Cropped_Images/132350.jpg\n",
      "remove image Cropped_Images/132356.jpg\n",
      "remove image Cropped_Images/132357.jpg\n"
     ]
    },
    {
     "output_type": "stream",
     "name": "stderr",
     "text": [
      "31738it [08:01, 77.29it/s]"
     ]
    },
    {
     "output_type": "stream",
     "name": "stdout",
     "text": [
      "remove image Cropped_Images/132378.jpg\n"
     ]
    },
    {
     "output_type": "stream",
     "name": "stderr",
     "text": [
      "31807it [08:02, 67.08it/s]"
     ]
    },
    {
     "output_type": "stream",
     "name": "stdout",
     "text": [
      "remove image Cropped_Images/132450.jpg\n"
     ]
    },
    {
     "output_type": "stream",
     "name": "stderr",
     "text": [
      "31884it [08:03, 64.12it/s]"
     ]
    },
    {
     "output_type": "stream",
     "name": "stdout",
     "text": [
      "remove image Cropped_Images/132532.jpg\n"
     ]
    },
    {
     "output_type": "stream",
     "name": "stderr",
     "text": [
      "32160it [08:07, 71.42it/s]"
     ]
    },
    {
     "output_type": "stream",
     "name": "stdout",
     "text": [
      "remove image Cropped_Images/132821.jpg\n"
     ]
    },
    {
     "output_type": "stream",
     "name": "stderr",
     "text": [
      "32233it [08:08, 64.73it/s]"
     ]
    },
    {
     "output_type": "stream",
     "name": "stdout",
     "text": [
      "remove image Cropped_Images/132895.jpg\n"
     ]
    },
    {
     "output_type": "stream",
     "name": "stderr",
     "text": [
      "32275it [08:09, 66.37it/s]"
     ]
    },
    {
     "output_type": "stream",
     "name": "stdout",
     "text": [
      "remove image Cropped_Images/132941.jpg\n"
     ]
    },
    {
     "output_type": "stream",
     "name": "stderr",
     "text": [
      "32325it [08:10, 66.39it/s]"
     ]
    },
    {
     "output_type": "stream",
     "name": "stdout",
     "text": [
      "remove image Cropped_Images/132990.jpg\n",
      "remove image Cropped_Images/132996.jpg\n",
      "remove image Cropped_Images/132999.jpg\n"
     ]
    },
    {
     "output_type": "stream",
     "name": "stderr",
     "text": [
      "32346it [08:10, 66.80it/s]"
     ]
    },
    {
     "output_type": "stream",
     "name": "stdout",
     "text": [
      "remove image Cropped_Images/133013.jpg\n"
     ]
    },
    {
     "output_type": "stream",
     "name": "stderr",
     "text": [
      "32483it [08:12, 70.76it/s]"
     ]
    },
    {
     "output_type": "stream",
     "name": "stdout",
     "text": [
      "remove image Cropped_Images/133156.jpg\n"
     ]
    },
    {
     "output_type": "stream",
     "name": "stderr",
     "text": [
      "32542it [08:13, 67.17it/s]"
     ]
    },
    {
     "output_type": "stream",
     "name": "stdout",
     "text": [
      "remove image Cropped_Images/133217.jpg\n"
     ]
    },
    {
     "output_type": "stream",
     "name": "stderr",
     "text": [
      "32759it [08:16, 72.85it/s]"
     ]
    },
    {
     "output_type": "stream",
     "name": "stdout",
     "text": [
      "remove image Cropped_Images/133440.jpg\n"
     ]
    },
    {
     "output_type": "stream",
     "name": "stderr",
     "text": [
      "32799it [08:17, 69.94it/s]"
     ]
    },
    {
     "output_type": "stream",
     "name": "stdout",
     "text": [
      "remove image Cropped_Images/133482.jpg\n",
      "remove image Cropped_Images/133483.jpg\n"
     ]
    },
    {
     "output_type": "stream",
     "name": "stderr",
     "text": [
      "32829it [08:17, 68.75it/s]"
     ]
    },
    {
     "output_type": "stream",
     "name": "stdout",
     "text": [
      "remove image Cropped_Images/133512.jpg\n",
      "remove image Cropped_Images/133513.jpg\n"
     ]
    },
    {
     "output_type": "stream",
     "name": "stderr",
     "text": [
      "32913it [08:19, 64.49it/s]"
     ]
    },
    {
     "output_type": "stream",
     "name": "stdout",
     "text": [
      "remove image Cropped_Images/133601.jpg\n"
     ]
    },
    {
     "output_type": "stream",
     "name": "stderr",
     "text": [
      "33100it [08:21, 72.88it/s]"
     ]
    },
    {
     "output_type": "stream",
     "name": "stdout",
     "text": [
      "remove image Cropped_Images/133787.jpg\n"
     ]
    },
    {
     "output_type": "stream",
     "name": "stderr",
     "text": [
      "33300it [08:24, 72.36it/s]"
     ]
    },
    {
     "output_type": "stream",
     "name": "stdout",
     "text": [
      "remove image Cropped_Images/134000.jpg\n"
     ]
    },
    {
     "output_type": "stream",
     "name": "stderr",
     "text": [
      "33370it [08:25, 67.57it/s]"
     ]
    },
    {
     "output_type": "stream",
     "name": "stdout",
     "text": [
      "remove image Cropped_Images/134072.jpg\n"
     ]
    },
    {
     "output_type": "stream",
     "name": "stderr",
     "text": [
      "33419it [08:26, 65.45it/s]"
     ]
    },
    {
     "output_type": "stream",
     "name": "stdout",
     "text": [
      "remove image Cropped_Images/134121.jpg\n"
     ]
    },
    {
     "output_type": "stream",
     "name": "stderr",
     "text": [
      "33482it [08:27, 63.77it/s]"
     ]
    },
    {
     "output_type": "stream",
     "name": "stdout",
     "text": [
      "remove image Cropped_Images/134183.jpg\n",
      "remove image Cropped_Images/134186.jpg\n"
     ]
    },
    {
     "output_type": "stream",
     "name": "stderr",
     "text": [
      "33614it [08:29, 71.59it/s]"
     ]
    },
    {
     "output_type": "stream",
     "name": "stdout",
     "text": [
      "remove image Cropped_Images/134321.jpg\n"
     ]
    },
    {
     "output_type": "stream",
     "name": "stderr",
     "text": [
      "33732it [08:31, 70.50it/s]"
     ]
    },
    {
     "output_type": "stream",
     "name": "stdout",
     "text": [
      "remove image Cropped_Images/134438.jpg\n",
      "remove image Cropped_Images/134445.jpg\n"
     ]
    },
    {
     "output_type": "stream",
     "name": "stderr",
     "text": [
      "33788it [08:31, 70.10it/s]"
     ]
    },
    {
     "output_type": "stream",
     "name": "stdout",
     "text": [
      "remove image Cropped_Images/134500.jpg\n"
     ]
    },
    {
     "output_type": "stream",
     "name": "stderr",
     "text": [
      "33831it [08:32, 65.50it/s]"
     ]
    },
    {
     "output_type": "stream",
     "name": "stdout",
     "text": [
      "remove image Cropped_Images/134540.jpg\n"
     ]
    },
    {
     "output_type": "stream",
     "name": "stderr",
     "text": [
      "33945it [08:34, 67.99it/s]"
     ]
    },
    {
     "output_type": "stream",
     "name": "stdout",
     "text": [
      "remove image Cropped_Images/134661.jpg\n"
     ]
    },
    {
     "output_type": "stream",
     "name": "stderr",
     "text": [
      "33982it [08:34, 67.63it/s]"
     ]
    },
    {
     "output_type": "stream",
     "name": "stdout",
     "text": [
      "remove image Cropped_Images/134697.jpg\n"
     ]
    },
    {
     "output_type": "stream",
     "name": "stderr",
     "text": [
      "34066it [08:36, 64.29it/s]"
     ]
    },
    {
     "output_type": "stream",
     "name": "stdout",
     "text": [
      "remove image Cropped_Images/134790.jpg\n"
     ]
    },
    {
     "output_type": "stream",
     "name": "stderr",
     "text": [
      "34182it [08:37, 68.78it/s]"
     ]
    },
    {
     "output_type": "stream",
     "name": "stdout",
     "text": [
      "remove image Cropped_Images/134906.jpg\n"
     ]
    },
    {
     "output_type": "stream",
     "name": "stderr",
     "text": [
      "34345it [08:40, 69.39it/s]"
     ]
    },
    {
     "output_type": "stream",
     "name": "stdout",
     "text": [
      "remove image Cropped_Images/135076.jpg\n"
     ]
    },
    {
     "output_type": "stream",
     "name": "stderr",
     "text": [
      "34385it [08:40, 68.46it/s]"
     ]
    },
    {
     "output_type": "stream",
     "name": "stdout",
     "text": [
      "remove image Cropped_Images/135121.jpg\n",
      "remove image Cropped_Images/135131.jpg\n"
     ]
    },
    {
     "output_type": "stream",
     "name": "stderr",
     "text": [
      "34455it [08:41, 66.64it/s]"
     ]
    },
    {
     "output_type": "stream",
     "name": "stdout",
     "text": [
      "remove image Cropped_Images/135193.jpg\n"
     ]
    },
    {
     "output_type": "stream",
     "name": "stderr",
     "text": [
      "34547it [08:43, 67.22it/s]"
     ]
    },
    {
     "output_type": "stream",
     "name": "stdout",
     "text": [
      "remove image Cropped_Images/135284.jpg\n"
     ]
    },
    {
     "output_type": "stream",
     "name": "stderr",
     "text": [
      "34598it [08:44, 68.45it/s]"
     ]
    },
    {
     "output_type": "stream",
     "name": "stdout",
     "text": [
      "remove image Cropped_Images/135337.jpg\n"
     ]
    },
    {
     "output_type": "stream",
     "name": "stderr",
     "text": [
      "34626it [08:44, 66.41it/s]"
     ]
    },
    {
     "output_type": "stream",
     "name": "stdout",
     "text": [
      "remove image Cropped_Images/135366.jpg\n"
     ]
    },
    {
     "output_type": "stream",
     "name": "stderr",
     "text": [
      "34682it [08:45, 61.98it/s]"
     ]
    },
    {
     "output_type": "stream",
     "name": "stdout",
     "text": [
      "remove image Cropped_Images/135427.jpg\n",
      "remove image Cropped_Images/135430.jpg\n"
     ]
    },
    {
     "output_type": "stream",
     "name": "stderr",
     "text": [
      "34752it [08:46, 63.91it/s]"
     ]
    },
    {
     "output_type": "stream",
     "name": "stdout",
     "text": [
      "remove image Cropped_Images/135501.jpg\n",
      "remove image Cropped_Images/135509.jpg\n"
     ]
    },
    {
     "output_type": "stream",
     "name": "stderr",
     "text": [
      "34808it [08:47, 64.77it/s]"
     ]
    },
    {
     "output_type": "stream",
     "name": "stdout",
     "text": [
      "remove image Cropped_Images/135558.jpg\n"
     ]
    },
    {
     "output_type": "stream",
     "name": "stderr",
     "text": [
      "34830it [08:47, 64.99it/s]"
     ]
    },
    {
     "output_type": "stream",
     "name": "stdout",
     "text": [
      "remove image Cropped_Images/135584.jpg\n",
      "remove image Cropped_Images/135587.jpg\n"
     ]
    },
    {
     "output_type": "stream",
     "name": "stderr",
     "text": [
      "34879it [08:48, 62.67it/s]"
     ]
    },
    {
     "output_type": "stream",
     "name": "stdout",
     "text": [
      "remove image Cropped_Images/135629.jpg\n"
     ]
    },
    {
     "output_type": "stream",
     "name": "stderr",
     "text": [
      "34956it [08:49, 62.24it/s]"
     ]
    },
    {
     "output_type": "stream",
     "name": "stdout",
     "text": [
      "remove image Cropped_Images/135715.jpg\n"
     ]
    },
    {
     "output_type": "stream",
     "name": "stderr",
     "text": [
      "35086it [08:51, 71.61it/s]"
     ]
    },
    {
     "output_type": "stream",
     "name": "stdout",
     "text": [
      "remove image Cropped_Images/135849.jpg\n",
      "remove image Cropped_Images/135863.jpg\n"
     ]
    },
    {
     "output_type": "stream",
     "name": "stderr",
     "text": [
      "35153it [08:52, 61.83it/s]"
     ]
    },
    {
     "output_type": "stream",
     "name": "stdout",
     "text": [
      "remove image Cropped_Images/135918.jpg\n"
     ]
    },
    {
     "output_type": "stream",
     "name": "stderr",
     "text": [
      "35167it [08:52, 62.41it/s]"
     ]
    },
    {
     "output_type": "stream",
     "name": "stdout",
     "text": [
      "remove image Cropped_Images/135933.jpg\n"
     ]
    },
    {
     "output_type": "stream",
     "name": "stderr",
     "text": [
      "35181it [08:53, 59.80it/s]"
     ]
    },
    {
     "output_type": "stream",
     "name": "stdout",
     "text": [
      "remove image Cropped_Images/135949.jpg\n",
      "remove image Cropped_Images/135954.jpg\n"
     ]
    },
    {
     "output_type": "stream",
     "name": "stderr",
     "text": [
      "35377it [08:56, 71.34it/s]"
     ]
    },
    {
     "output_type": "stream",
     "name": "stdout",
     "text": [
      "remove image Cropped_Images/136147.jpg\n"
     ]
    },
    {
     "output_type": "stream",
     "name": "stderr",
     "text": [
      "35393it [08:56, 72.65it/s]"
     ]
    },
    {
     "output_type": "stream",
     "name": "stdout",
     "text": [
      "remove image Cropped_Images/136163.jpg\n"
     ]
    },
    {
     "output_type": "stream",
     "name": "stderr",
     "text": [
      "35587it [08:59, 67.87it/s]"
     ]
    },
    {
     "output_type": "stream",
     "name": "stdout",
     "text": [
      "remove image Cropped_Images/136358.jpg\n",
      "remove image Cropped_Images/136362.jpg\n"
     ]
    },
    {
     "output_type": "stream",
     "name": "stderr",
     "text": [
      "35744it [09:01, 66.19it/s]"
     ]
    },
    {
     "output_type": "stream",
     "name": "stdout",
     "text": [
      "remove image Cropped_Images/136523.jpg\n",
      "remove image Cropped_Images/136528.jpg\n"
     ]
    },
    {
     "output_type": "stream",
     "name": "stderr",
     "text": [
      "35787it [09:02, 61.09it/s]"
     ]
    },
    {
     "output_type": "stream",
     "name": "stdout",
     "text": [
      "remove image Cropped_Images/136569.jpg\n"
     ]
    },
    {
     "output_type": "stream",
     "name": "stderr",
     "text": [
      "35894it [09:04, 61.85it/s]"
     ]
    },
    {
     "output_type": "stream",
     "name": "stdout",
     "text": [
      "remove image Cropped_Images/136678.jpg\n",
      "remove image Cropped_Images/136686.jpg\n"
     ]
    },
    {
     "output_type": "stream",
     "name": "stderr",
     "text": [
      "35917it [09:04, 67.26it/s]"
     ]
    },
    {
     "output_type": "stream",
     "name": "stdout",
     "text": [
      "remove image Cropped_Images/136704.jpg\n"
     ]
    },
    {
     "output_type": "stream",
     "name": "stderr",
     "text": [
      "35959it [09:05, 64.48it/s]"
     ]
    },
    {
     "output_type": "stream",
     "name": "stdout",
     "text": [
      "remove image Cropped_Images/136745.jpg\n"
     ]
    },
    {
     "output_type": "stream",
     "name": "stderr",
     "text": [
      "35973it [09:05, 65.65it/s]"
     ]
    },
    {
     "output_type": "stream",
     "name": "stdout",
     "text": [
      "remove image Cropped_Images/136764.jpg\n"
     ]
    },
    {
     "output_type": "stream",
     "name": "stderr",
     "text": [
      "36050it [09:06, 63.25it/s]"
     ]
    },
    {
     "output_type": "stream",
     "name": "stdout",
     "text": [
      "remove image Cropped_Images/136842.jpg\n"
     ]
    },
    {
     "output_type": "stream",
     "name": "stderr",
     "text": [
      "36086it [09:07, 67.69it/s]"
     ]
    },
    {
     "output_type": "stream",
     "name": "stdout",
     "text": [
      "remove image Cropped_Images/136876.jpg\n",
      "remove image Cropped_Images/136890.jpg\n"
     ]
    },
    {
     "output_type": "stream",
     "name": "stderr",
     "text": [
      "36107it [09:07, 64.93it/s]"
     ]
    },
    {
     "output_type": "stream",
     "name": "stdout",
     "text": [
      "remove image Cropped_Images/136904.jpg\n"
     ]
    },
    {
     "output_type": "stream",
     "name": "stderr",
     "text": [
      "36142it [09:08, 65.45it/s]"
     ]
    },
    {
     "output_type": "stream",
     "name": "stdout",
     "text": [
      "remove image Cropped_Images/136938.jpg\n"
     ]
    },
    {
     "output_type": "stream",
     "name": "stderr",
     "text": [
      "36297it [09:10, 72.67it/s]"
     ]
    },
    {
     "output_type": "stream",
     "name": "stdout",
     "text": [
      "remove image Cropped_Images/137096.jpg\n",
      "remove image Cropped_Images/137106.jpg\n",
      "remove image Cropped_Images/137107.jpg\n"
     ]
    },
    {
     "output_type": "stream",
     "name": "stderr",
     "text": [
      "36329it [09:10, 71.84it/s]"
     ]
    },
    {
     "output_type": "stream",
     "name": "stdout",
     "text": [
      "remove image Cropped_Images/137127.jpg\n"
     ]
    },
    {
     "output_type": "stream",
     "name": "stderr",
     "text": [
      "36361it [09:11, 70.05it/s]"
     ]
    },
    {
     "output_type": "stream",
     "name": "stdout",
     "text": [
      "remove image Cropped_Images/137165.jpg\n"
     ]
    },
    {
     "output_type": "stream",
     "name": "stderr",
     "text": [
      "36432it [09:12, 66.90it/s]"
     ]
    },
    {
     "output_type": "stream",
     "name": "stdout",
     "text": [
      "remove image Cropped_Images/137242.jpg\n",
      "remove image Cropped_Images/137244.jpg\n"
     ]
    },
    {
     "output_type": "stream",
     "name": "stderr",
     "text": [
      "36475it [09:13, 67.55it/s]"
     ]
    },
    {
     "output_type": "stream",
     "name": "stdout",
     "text": [
      "remove image Cropped_Images/137283.jpg\n"
     ]
    },
    {
     "output_type": "stream",
     "name": "stderr",
     "text": [
      "36511it [09:13, 64.53it/s]"
     ]
    },
    {
     "output_type": "stream",
     "name": "stdout",
     "text": [
      "remove image Cropped_Images/137316.jpg\n"
     ]
    },
    {
     "output_type": "stream",
     "name": "stderr",
     "text": [
      "36603it [09:15, 68.40it/s]"
     ]
    },
    {
     "output_type": "stream",
     "name": "stdout",
     "text": [
      "remove image Cropped_Images/137411.jpg\n",
      "remove image Cropped_Images/137412.jpg\n"
     ]
    },
    {
     "output_type": "stream",
     "name": "stderr",
     "text": [
      "36700it [09:16, 69.95it/s]"
     ]
    },
    {
     "output_type": "stream",
     "name": "stdout",
     "text": [
      "remove image Cropped_Images/137509.jpg\n",
      "remove image Cropped_Images/137516.jpg\n"
     ]
    },
    {
     "output_type": "stream",
     "name": "stderr",
     "text": [
      "36724it [09:16, 71.86it/s]"
     ]
    },
    {
     "output_type": "stream",
     "name": "stdout",
     "text": [
      "remove image Cropped_Images/137539.jpg\n"
     ]
    },
    {
     "output_type": "stream",
     "name": "stderr",
     "text": [
      "36792it [09:17, 67.34it/s]"
     ]
    },
    {
     "output_type": "stream",
     "name": "stdout",
     "text": [
      "remove image Cropped_Images/137613.jpg\n"
     ]
    },
    {
     "output_type": "stream",
     "name": "stderr",
     "text": [
      "36834it [09:18, 65.57it/s]"
     ]
    },
    {
     "output_type": "stream",
     "name": "stdout",
     "text": [
      "remove image Cropped_Images/137653.jpg\n"
     ]
    },
    {
     "output_type": "stream",
     "name": "stderr",
     "text": [
      "36927it [09:19, 67.68it/s]"
     ]
    },
    {
     "output_type": "stream",
     "name": "stdout",
     "text": [
      "remove image Cropped_Images/137748.jpg\n"
     ]
    },
    {
     "output_type": "stream",
     "name": "stderr",
     "text": [
      "36959it [09:20, 71.62it/s]"
     ]
    },
    {
     "output_type": "stream",
     "name": "stdout",
     "text": [
      "remove image Cropped_Images/137776.jpg\n",
      "remove image Cropped_Images/137788.jpg\n",
      "remove image Cropped_Images/137789.jpg\n"
     ]
    },
    {
     "output_type": "stream",
     "name": "stderr",
     "text": [
      "36983it [09:20, 72.90it/s]"
     ]
    },
    {
     "output_type": "stream",
     "name": "stdout",
     "text": [
      "remove image Cropped_Images/137804.jpg\n"
     ]
    },
    {
     "output_type": "stream",
     "name": "stderr",
     "text": [
      "37030it [09:21, 68.08it/s]"
     ]
    },
    {
     "output_type": "stream",
     "name": "stdout",
     "text": [
      "remove image Cropped_Images/137856.jpg\n"
     ]
    },
    {
     "output_type": "stream",
     "name": "stderr",
     "text": [
      "37058it [09:21, 65.04it/s]"
     ]
    },
    {
     "output_type": "stream",
     "name": "stdout",
     "text": [
      "remove image Cropped_Images/137889.jpg\n",
      "remove image Cropped_Images/137898.jpg\n"
     ]
    },
    {
     "output_type": "stream",
     "name": "stderr",
     "text": [
      "37107it [09:22, 65.17it/s]"
     ]
    },
    {
     "output_type": "stream",
     "name": "stdout",
     "text": [
      "remove image Cropped_Images/137936.jpg\n"
     ]
    },
    {
     "output_type": "stream",
     "name": "stderr",
     "text": [
      "37215it [09:24, 69.94it/s]"
     ]
    },
    {
     "output_type": "stream",
     "name": "stdout",
     "text": [
      "remove image Cropped_Images/138049.jpg\n",
      "remove image Cropped_Images/138055.jpg\n"
     ]
    },
    {
     "output_type": "stream",
     "name": "stderr",
     "text": [
      "37327it [09:25, 68.30it/s]"
     ]
    },
    {
     "output_type": "stream",
     "name": "stdout",
     "text": [
      "remove image Cropped_Images/138171.jpg\n"
     ]
    },
    {
     "output_type": "stream",
     "name": "stderr",
     "text": [
      "37363it [09:26, 65.69it/s]"
     ]
    },
    {
     "output_type": "stream",
     "name": "stdout",
     "text": [
      "remove image Cropped_Images/138214.jpg\n"
     ]
    },
    {
     "output_type": "stream",
     "name": "stderr",
     "text": [
      "37398it [09:26, 63.98it/s]"
     ]
    },
    {
     "output_type": "stream",
     "name": "stdout",
     "text": [
      "remove image Cropped_Images/138244.jpg\n"
     ]
    },
    {
     "output_type": "stream",
     "name": "stderr",
     "text": [
      "37447it [09:27, 66.01it/s]"
     ]
    },
    {
     "output_type": "stream",
     "name": "stdout",
     "text": [
      "remove image Cropped_Images/138301.jpg\n"
     ]
    },
    {
     "output_type": "stream",
     "name": "stderr",
     "text": [
      "37565it [09:29, 70.14it/s]"
     ]
    },
    {
     "output_type": "stream",
     "name": "stdout",
     "text": [
      "remove image Cropped_Images/138421.jpg\n"
     ]
    },
    {
     "output_type": "stream",
     "name": "stderr",
     "text": [
      "37617it [09:30, 67.90it/s]"
     ]
    },
    {
     "output_type": "stream",
     "name": "stdout",
     "text": [
      "remove image Cropped_Images/138478.jpg\n"
     ]
    },
    {
     "output_type": "stream",
     "name": "stderr",
     "text": [
      "37631it [09:30, 65.45it/s]"
     ]
    },
    {
     "output_type": "stream",
     "name": "stdout",
     "text": [
      "remove image Cropped_Images/138495.jpg\n"
     ]
    },
    {
     "output_type": "stream",
     "name": "stderr",
     "text": [
      "37652it [09:30, 64.35it/s]"
     ]
    },
    {
     "output_type": "stream",
     "name": "stdout",
     "text": [
      "remove image Cropped_Images/138519.jpg\n"
     ]
    },
    {
     "output_type": "stream",
     "name": "stderr",
     "text": [
      "37708it [09:31, 66.10it/s]"
     ]
    },
    {
     "output_type": "stream",
     "name": "stdout",
     "text": [
      "remove image Cropped_Images/138575.jpg\n"
     ]
    },
    {
     "output_type": "stream",
     "name": "stderr",
     "text": [
      "37737it [09:31, 66.54it/s]"
     ]
    },
    {
     "output_type": "stream",
     "name": "stdout",
     "text": [
      "remove image Cropped_Images/138601.jpg\n"
     ]
    },
    {
     "output_type": "stream",
     "name": "stderr",
     "text": [
      "37758it [09:32, 66.35it/s]"
     ]
    },
    {
     "output_type": "stream",
     "name": "stdout",
     "text": [
      "remove image Cropped_Images/138624.jpg\n"
     ]
    },
    {
     "output_type": "stream",
     "name": "stderr",
     "text": [
      "37772it [09:32, 65.77it/s]"
     ]
    },
    {
     "output_type": "stream",
     "name": "stdout",
     "text": [
      "remove image Cropped_Images/138639.jpg\n"
     ]
    },
    {
     "output_type": "stream",
     "name": "stderr",
     "text": [
      "37814it [09:33, 64.31it/s]"
     ]
    },
    {
     "output_type": "stream",
     "name": "stdout",
     "text": [
      "remove image Cropped_Images/138686.jpg\n"
     ]
    },
    {
     "output_type": "stream",
     "name": "stderr",
     "text": [
      "37836it [09:33, 66.30it/s]"
     ]
    },
    {
     "output_type": "stream",
     "name": "stdout",
     "text": [
      "remove image Cropped_Images/138707.jpg\n"
     ]
    },
    {
     "output_type": "stream",
     "name": "stderr",
     "text": [
      "37871it [09:33, 63.59it/s]"
     ]
    },
    {
     "output_type": "stream",
     "name": "stdout",
     "text": [
      "remove image Cropped_Images/138743.jpg\n"
     ]
    },
    {
     "output_type": "stream",
     "name": "stderr",
     "text": [
      "37941it [09:35, 64.21it/s]"
     ]
    },
    {
     "output_type": "stream",
     "name": "stdout",
     "text": [
      "remove image Cropped_Images/138817.jpg\n",
      "remove image Cropped_Images/138829.jpg\n"
     ]
    },
    {
     "output_type": "stream",
     "name": "stderr",
     "text": [
      "37971it [09:35, 69.40it/s]"
     ]
    },
    {
     "output_type": "stream",
     "name": "stdout",
     "text": [
      "remove image Cropped_Images/138846.jpg\n",
      "remove image Cropped_Images/138858.jpg\n"
     ]
    },
    {
     "output_type": "stream",
     "name": "stderr",
     "text": [
      "38006it [09:35, 65.73it/s]"
     ]
    },
    {
     "output_type": "stream",
     "name": "stdout",
     "text": [
      "remove image Cropped_Images/138888.jpg\n"
     ]
    },
    {
     "output_type": "stream",
     "name": "stderr",
     "text": [
      "38020it [09:36, 64.45it/s]"
     ]
    },
    {
     "output_type": "stream",
     "name": "stdout",
     "text": [
      "remove image Cropped_Images/138901.jpg\n"
     ]
    },
    {
     "output_type": "stream",
     "name": "stderr",
     "text": [
      "38062it [09:36, 63.90it/s]"
     ]
    },
    {
     "output_type": "stream",
     "name": "stdout",
     "text": [
      "remove image Cropped_Images/138936.jpg\n",
      "remove image Cropped_Images/138944.jpg\n"
     ]
    },
    {
     "output_type": "stream",
     "name": "stderr",
     "text": [
      "38076it [09:37, 61.29it/s]"
     ]
    },
    {
     "output_type": "stream",
     "name": "stdout",
     "text": [
      "remove image Cropped_Images/138958.jpg\n",
      "remove image Cropped_Images/138960.jpg\n"
     ]
    },
    {
     "output_type": "stream",
     "name": "stderr",
     "text": [
      "38090it [09:37, 60.51it/s]"
     ]
    },
    {
     "output_type": "stream",
     "name": "stdout",
     "text": [
      "remove image Cropped_Images/138972.jpg\n"
     ]
    },
    {
     "output_type": "stream",
     "name": "stderr",
     "text": [
      "38104it [09:37, 60.43it/s]"
     ]
    },
    {
     "output_type": "stream",
     "name": "stdout",
     "text": [
      "remove image Cropped_Images/138991.jpg\n"
     ]
    },
    {
     "output_type": "stream",
     "name": "stderr",
     "text": [
      "38188it [09:38, 61.54it/s]"
     ]
    },
    {
     "output_type": "stream",
     "name": "stdout",
     "text": [
      "remove image Cropped_Images/139076.jpg\n"
     ]
    },
    {
     "output_type": "stream",
     "name": "stderr",
     "text": [
      "38231it [09:39, 66.87it/s]"
     ]
    },
    {
     "output_type": "stream",
     "name": "stdout",
     "text": [
      "remove image Cropped_Images/139116.jpg\n"
     ]
    },
    {
     "output_type": "stream",
     "name": "stderr",
     "text": [
      "38252it [09:39, 66.02it/s]"
     ]
    },
    {
     "output_type": "stream",
     "name": "stdout",
     "text": [
      "remove image Cropped_Images/139141.jpg\n",
      "remove image Cropped_Images/139150.jpg\n"
     ]
    },
    {
     "output_type": "stream",
     "name": "stderr",
     "text": [
      "38428it [09:42, 68.86it/s]"
     ]
    },
    {
     "output_type": "stream",
     "name": "stdout",
     "text": [
      "remove image Cropped_Images/139330.jpg\n"
     ]
    },
    {
     "output_type": "stream",
     "name": "stderr",
     "text": [
      "38478it [09:43, 66.81it/s]"
     ]
    },
    {
     "output_type": "stream",
     "name": "stdout",
     "text": [
      "remove image Cropped_Images/139380.jpg\n"
     ]
    },
    {
     "output_type": "stream",
     "name": "stderr",
     "text": [
      "38499it [09:43, 66.48it/s]"
     ]
    },
    {
     "output_type": "stream",
     "name": "stdout",
     "text": [
      "remove image Cropped_Images/139401.jpg\n",
      "remove image Cropped_Images/139408.jpg\n"
     ]
    },
    {
     "output_type": "stream",
     "name": "stderr",
     "text": [
      "38527it [09:44, 64.60it/s]"
     ]
    },
    {
     "output_type": "stream",
     "name": "stdout",
     "text": [
      "remove image Cropped_Images/139429.jpg\n",
      "remove image Cropped_Images/139437.jpg\n",
      "remove image Cropped_Images/139439.jpg\n"
     ]
    },
    {
     "output_type": "stream",
     "name": "stderr",
     "text": [
      "38625it [09:45, 63.57it/s]"
     ]
    },
    {
     "output_type": "stream",
     "name": "stdout",
     "text": [
      "remove image Cropped_Images/139532.jpg\n"
     ]
    },
    {
     "output_type": "stream",
     "name": "stderr",
     "text": [
      "38703it [09:46, 65.19it/s]"
     ]
    },
    {
     "output_type": "stream",
     "name": "stdout",
     "text": [
      "remove image Cropped_Images/139614.jpg\n"
     ]
    },
    {
     "output_type": "stream",
     "name": "stderr",
     "text": [
      "38767it [09:47, 67.38it/s]"
     ]
    },
    {
     "output_type": "stream",
     "name": "stdout",
     "text": [
      "remove image Cropped_Images/139682.jpg\n",
      "remove image Cropped_Images/139687.jpg\n"
     ]
    },
    {
     "output_type": "stream",
     "name": "stderr",
     "text": [
      "38796it [09:48, 69.21it/s]"
     ]
    },
    {
     "output_type": "stream",
     "name": "stdout",
     "text": [
      "remove image Cropped_Images/139706.jpg\n",
      "remove image Cropped_Images/139709.jpg\n"
     ]
    },
    {
     "output_type": "stream",
     "name": "stderr",
     "text": [
      "38810it [09:48, 68.32it/s]"
     ]
    },
    {
     "output_type": "stream",
     "name": "stdout",
     "text": [
      "remove image Cropped_Images/139725.jpg\n"
     ]
    },
    {
     "output_type": "stream",
     "name": "stderr",
     "text": [
      "38873it [09:49, 63.78it/s]"
     ]
    },
    {
     "output_type": "stream",
     "name": "stdout",
     "text": [
      "remove image Cropped_Images/139794.jpg\n",
      "remove image Cropped_Images/139801.jpg\n"
     ]
    },
    {
     "output_type": "stream",
     "name": "stderr",
     "text": [
      "38909it [09:49, 68.29it/s]"
     ]
    },
    {
     "output_type": "stream",
     "name": "stdout",
     "text": [
      "remove image Cropped_Images/139828.jpg\n"
     ]
    },
    {
     "output_type": "stream",
     "name": "stderr",
     "text": [
      "38944it [09:50, 66.58it/s]"
     ]
    },
    {
     "output_type": "stream",
     "name": "stdout",
     "text": [
      "remove image Cropped_Images/139865.jpg\n"
     ]
    },
    {
     "output_type": "stream",
     "name": "stderr",
     "text": [
      "38986it [09:51, 63.55it/s]"
     ]
    },
    {
     "output_type": "stream",
     "name": "stdout",
     "text": [
      "remove image Cropped_Images/139909.jpg\n"
     ]
    },
    {
     "output_type": "stream",
     "name": "stderr",
     "text": [
      "39001it [09:51, 65.89it/s]"
     ]
    },
    {
     "output_type": "stream",
     "name": "stdout",
     "text": [
      "remove image Cropped_Images/139931.jpg\n"
     ]
    },
    {
     "output_type": "stream",
     "name": "stderr",
     "text": [
      "39208it [09:54, 68.67it/s]"
     ]
    },
    {
     "output_type": "stream",
     "name": "stdout",
     "text": [
      "remove image Cropped_Images/140142.jpg\n"
     ]
    },
    {
     "output_type": "stream",
     "name": "stderr",
     "text": [
      "39223it [09:54, 68.91it/s]"
     ]
    },
    {
     "output_type": "stream",
     "name": "stdout",
     "text": [
      "remove image Cropped_Images/140161.jpg\n",
      "remove image Cropped_Images/140170.jpg\n"
     ]
    },
    {
     "output_type": "stream",
     "name": "stderr",
     "text": [
      "39251it [09:54, 65.99it/s]"
     ]
    },
    {
     "output_type": "stream",
     "name": "stdout",
     "text": [
      "remove image Cropped_Images/140187.jpg\n"
     ]
    },
    {
     "output_type": "stream",
     "name": "stderr",
     "text": [
      "39307it [09:55, 66.93it/s]"
     ]
    },
    {
     "output_type": "stream",
     "name": "stdout",
     "text": [
      "remove image Cropped_Images/140245.jpg\n"
     ]
    },
    {
     "output_type": "stream",
     "name": "stderr",
     "text": [
      "39703it [10:01, 71.16it/s]"
     ]
    },
    {
     "output_type": "stream",
     "name": "stdout",
     "text": [
      "remove image Cropped_Images/140663.jpg\n",
      "remove image Cropped_Images/140665.jpg\n"
     ]
    },
    {
     "output_type": "stream",
     "name": "stderr",
     "text": [
      "39784it [10:02, 60.97it/s]"
     ]
    },
    {
     "output_type": "stream",
     "name": "stdout",
     "text": [
      "remove image Cropped_Images/140745.jpg\n",
      "remove image Cropped_Images/140753.jpg\n"
     ]
    },
    {
     "output_type": "stream",
     "name": "stderr",
     "text": [
      "39798it [10:03, 63.06it/s]"
     ]
    },
    {
     "output_type": "stream",
     "name": "stdout",
     "text": [
      "remove image Cropped_Images/140761.jpg\n"
     ]
    },
    {
     "output_type": "stream",
     "name": "stderr",
     "text": [
      "39930it [10:04, 69.78it/s]"
     ]
    },
    {
     "output_type": "stream",
     "name": "stdout",
     "text": [
      "remove image Cropped_Images/140896.jpg\n"
     ]
    },
    {
     "output_type": "stream",
     "name": "stderr",
     "text": [
      "39959it [10:05, 66.89it/s]"
     ]
    },
    {
     "output_type": "stream",
     "name": "stdout",
     "text": [
      "remove image Cropped_Images/140927.jpg\n"
     ]
    },
    {
     "output_type": "stream",
     "name": "stderr",
     "text": [
      "40022it [10:06, 64.27it/s]"
     ]
    },
    {
     "output_type": "stream",
     "name": "stdout",
     "text": [
      "remove image Cropped_Images/140998.jpg\n"
     ]
    },
    {
     "output_type": "stream",
     "name": "stderr",
     "text": [
      "40073it [10:07, 66.36it/s]"
     ]
    },
    {
     "output_type": "stream",
     "name": "stdout",
     "text": [
      "remove image Cropped_Images/141048.jpg\n"
     ]
    },
    {
     "output_type": "stream",
     "name": "stderr",
     "text": [
      "40144it [10:08, 65.27it/s]"
     ]
    },
    {
     "output_type": "stream",
     "name": "stdout",
     "text": [
      "remove image Cropped_Images/141118.jpg\n"
     ]
    },
    {
     "output_type": "stream",
     "name": "stderr",
     "text": [
      "40165it [10:08, 64.58it/s]"
     ]
    },
    {
     "output_type": "stream",
     "name": "stdout",
     "text": [
      "remove image Cropped_Images/141139.jpg\n"
     ]
    },
    {
     "output_type": "stream",
     "name": "stderr",
     "text": [
      "40214it [10:09, 63.20it/s]"
     ]
    },
    {
     "output_type": "stream",
     "name": "stdout",
     "text": [
      "remove image Cropped_Images/141194.jpg\n",
      "remove image Cropped_Images/141197.jpg\n",
      "remove image Cropped_Images/141198.jpg\n"
     ]
    },
    {
     "output_type": "stream",
     "name": "stderr",
     "text": [
      "40228it [10:09, 64.01it/s]"
     ]
    },
    {
     "output_type": "stream",
     "name": "stdout",
     "text": [
      "remove image Cropped_Images/141209.jpg\n"
     ]
    },
    {
     "output_type": "stream",
     "name": "stderr",
     "text": [
      "40256it [10:09, 63.68it/s]"
     ]
    },
    {
     "output_type": "stream",
     "name": "stdout",
     "text": [
      "remove image Cropped_Images/141239.jpg\n"
     ]
    },
    {
     "output_type": "stream",
     "name": "stderr",
     "text": [
      "40340it [10:11, 61.49it/s]"
     ]
    },
    {
     "output_type": "stream",
     "name": "stdout",
     "text": [
      "remove image Cropped_Images/141329.jpg\n"
     ]
    },
    {
     "output_type": "stream",
     "name": "stderr",
     "text": [
      "40445it [10:12, 62.02it/s]"
     ]
    },
    {
     "output_type": "stream",
     "name": "stdout",
     "text": [
      "remove image Cropped_Images/141441.jpg\n"
     ]
    },
    {
     "output_type": "stream",
     "name": "stderr",
     "text": [
      "40586it [10:15, 72.22it/s]"
     ]
    },
    {
     "output_type": "stream",
     "name": "stdout",
     "text": [
      "remove image Cropped_Images/141589.jpg\n"
     ]
    },
    {
     "output_type": "stream",
     "name": "stderr",
     "text": [
      "40634it [10:15, 69.66it/s]"
     ]
    },
    {
     "output_type": "stream",
     "name": "stdout",
     "text": [
      "remove image Cropped_Images/141640.jpg\n"
     ]
    },
    {
     "output_type": "stream",
     "name": "stderr",
     "text": [
      "40670it [10:16, 65.77it/s]"
     ]
    },
    {
     "output_type": "stream",
     "name": "stdout",
     "text": [
      "remove image Cropped_Images/141672.jpg\n",
      "remove image Cropped_Images/141685.jpg\n"
     ]
    },
    {
     "output_type": "stream",
     "name": "stderr",
     "text": [
      "40691it [10:16, 64.51it/s]"
     ]
    },
    {
     "output_type": "stream",
     "name": "stdout",
     "text": [
      "remove image Cropped_Images/141699.jpg\n"
     ]
    },
    {
     "output_type": "stream",
     "name": "stderr",
     "text": [
      "40733it [10:17, 62.12it/s]"
     ]
    },
    {
     "output_type": "stream",
     "name": "stdout",
     "text": [
      "remove image Cropped_Images/141740.jpg\n"
     ]
    },
    {
     "output_type": "stream",
     "name": "stderr",
     "text": [
      "40855it [10:19, 70.12it/s]"
     ]
    },
    {
     "output_type": "stream",
     "name": "stdout",
     "text": [
      "remove image Cropped_Images/141862.jpg\n"
     ]
    },
    {
     "output_type": "stream",
     "name": "stderr",
     "text": [
      "40909it [10:19, 69.24it/s]"
     ]
    },
    {
     "output_type": "stream",
     "name": "stdout",
     "text": [
      "remove image Cropped_Images/141929.jpg\n"
     ]
    },
    {
     "output_type": "stream",
     "name": "stderr",
     "text": [
      "40937it [10:20, 66.29it/s]"
     ]
    },
    {
     "output_type": "stream",
     "name": "stdout",
     "text": [
      "remove image Cropped_Images/141953.jpg\n"
     ]
    },
    {
     "output_type": "stream",
     "name": "stderr",
     "text": [
      "40993it [10:21, 65.71it/s]"
     ]
    },
    {
     "output_type": "stream",
     "name": "stdout",
     "text": [
      "remove image Cropped_Images/142009.jpg\n",
      "remove image Cropped_Images/142012.jpg\n"
     ]
    },
    {
     "output_type": "stream",
     "name": "stderr",
     "text": [
      "41101it [10:22, 69.25it/s]"
     ]
    },
    {
     "output_type": "stream",
     "name": "stdout",
     "text": [
      "remove image Cropped_Images/142126.jpg\n"
     ]
    },
    {
     "output_type": "stream",
     "name": "stderr",
     "text": [
      "41169it [10:23, 67.80it/s]"
     ]
    },
    {
     "output_type": "stream",
     "name": "stdout",
     "text": [
      "remove image Cropped_Images/142195.jpg\n"
     ]
    },
    {
     "output_type": "stream",
     "name": "stderr",
     "text": [
      "41204it [10:24, 65.26it/s]"
     ]
    },
    {
     "output_type": "stream",
     "name": "stdout",
     "text": [
      "remove image Cropped_Images/142236.jpg\n"
     ]
    },
    {
     "output_type": "stream",
     "name": "stderr",
     "text": [
      "41225it [10:24, 65.23it/s]"
     ]
    },
    {
     "output_type": "stream",
     "name": "stdout",
     "text": [
      "remove image Cropped_Images/142252.jpg\n"
     ]
    },
    {
     "output_type": "stream",
     "name": "stderr",
     "text": [
      "41239it [10:24, 63.86it/s]"
     ]
    },
    {
     "output_type": "stream",
     "name": "stdout",
     "text": [
      "remove image Cropped_Images/142270.jpg\n"
     ]
    },
    {
     "output_type": "stream",
     "name": "stderr",
     "text": [
      "41323it [10:26, 65.19it/s]"
     ]
    },
    {
     "output_type": "stream",
     "name": "stdout",
     "text": [
      "remove image Cropped_Images/142354.jpg\n"
     ]
    },
    {
     "output_type": "stream",
     "name": "stderr",
     "text": [
      "41338it [10:26, 68.04it/s]"
     ]
    },
    {
     "output_type": "stream",
     "name": "stdout",
     "text": [
      "remove image Cropped_Images/142371.jpg\n"
     ]
    },
    {
     "output_type": "stream",
     "name": "stderr",
     "text": [
      "41394it [10:27, 69.37it/s]"
     ]
    },
    {
     "output_type": "stream",
     "name": "stdout",
     "text": [
      "remove image Cropped_Images/142438.jpg\n",
      "remove image Cropped_Images/142446.jpg\n",
      "remove image Cropped_Images/142450.jpg\n"
     ]
    },
    {
     "output_type": "stream",
     "name": "stderr",
     "text": [
      "41451it [10:28, 65.49it/s]"
     ]
    },
    {
     "output_type": "stream",
     "name": "stdout",
     "text": [
      "remove image Cropped_Images/142497.jpg\n"
     ]
    },
    {
     "output_type": "stream",
     "name": "stderr",
     "text": [
      "41591it [10:30, 65.00it/s]"
     ]
    },
    {
     "output_type": "stream",
     "name": "stdout",
     "text": [
      "remove image Cropped_Images/142643.jpg\n"
     ]
    },
    {
     "output_type": "stream",
     "name": "stderr",
     "text": [
      "41633it [10:30, 62.64it/s]"
     ]
    },
    {
     "output_type": "stream",
     "name": "stdout",
     "text": [
      "remove image Cropped_Images/142685.jpg\n"
     ]
    },
    {
     "output_type": "stream",
     "name": "stderr",
     "text": [
      "41668it [10:31, 60.07it/s]"
     ]
    },
    {
     "output_type": "stream",
     "name": "stdout",
     "text": [
      "remove image Cropped_Images/142728.jpg\n",
      "remove image Cropped_Images/142739.jpg\n"
     ]
    },
    {
     "output_type": "stream",
     "name": "stderr",
     "text": [
      "41727it [10:32, 59.07it/s]"
     ]
    },
    {
     "output_type": "stream",
     "name": "stdout",
     "text": [
      "remove image Cropped_Images/142783.jpg\n"
     ]
    },
    {
     "output_type": "stream",
     "name": "stderr",
     "text": [
      "41740it [10:32, 58.71it/s]"
     ]
    },
    {
     "output_type": "stream",
     "name": "stdout",
     "text": [
      "remove image Cropped_Images/142798.jpg\n"
     ]
    },
    {
     "output_type": "stream",
     "name": "stderr",
     "text": [
      "41770it [10:33, 55.76it/s]"
     ]
    },
    {
     "output_type": "stream",
     "name": "stdout",
     "text": [
      "remove image Cropped_Images/142828.jpg\n"
     ]
    },
    {
     "output_type": "stream",
     "name": "stderr",
     "text": [
      "41818it [10:34, 57.29it/s]"
     ]
    },
    {
     "output_type": "stream",
     "name": "stdout",
     "text": [
      "remove image Cropped_Images/142883.jpg\n"
     ]
    },
    {
     "output_type": "stream",
     "name": "stderr",
     "text": [
      "41932it [10:35, 62.77it/s]"
     ]
    },
    {
     "output_type": "stream",
     "name": "stdout",
     "text": [
      "remove image Cropped_Images/142995.jpg\n"
     ]
    },
    {
     "output_type": "stream",
     "name": "stderr",
     "text": [
      "42026it [10:37, 62.30it/s]"
     ]
    },
    {
     "output_type": "stream",
     "name": "stdout",
     "text": [
      "remove image Cropped_Images/143098.jpg\n",
      "remove image Cropped_Images/143099.jpg\n"
     ]
    },
    {
     "output_type": "stream",
     "name": "stderr",
     "text": [
      "42089it [10:38, 62.46it/s]"
     ]
    },
    {
     "output_type": "stream",
     "name": "stdout",
     "text": [
      "remove image Cropped_Images/143157.jpg\n"
     ]
    },
    {
     "output_type": "stream",
     "name": "stderr",
     "text": [
      "42103it [10:38, 62.63it/s]"
     ]
    },
    {
     "output_type": "stream",
     "name": "stdout",
     "text": [
      "remove image Cropped_Images/143179.jpg\n",
      "remove image Cropped_Images/143180.jpg\n"
     ]
    },
    {
     "output_type": "stream",
     "name": "stderr",
     "text": [
      "42138it [10:39, 65.84it/s]"
     ]
    },
    {
     "output_type": "stream",
     "name": "stdout",
     "text": [
      "remove image Cropped_Images/143208.jpg\n"
     ]
    },
    {
     "output_type": "stream",
     "name": "stderr",
     "text": [
      "42243it [10:40, 65.67it/s]"
     ]
    },
    {
     "output_type": "stream",
     "name": "stdout",
     "text": [
      "remove image Cropped_Images/143316.jpg\n"
     ]
    },
    {
     "output_type": "stream",
     "name": "stderr",
     "text": [
      "42271it [10:41, 63.04it/s]"
     ]
    },
    {
     "output_type": "stream",
     "name": "stdout",
     "text": [
      "remove image Cropped_Images/143348.jpg\n"
     ]
    },
    {
     "output_type": "stream",
     "name": "stderr",
     "text": [
      "42327it [10:42, 62.07it/s]"
     ]
    },
    {
     "output_type": "stream",
     "name": "stdout",
     "text": [
      "remove image Cropped_Images/143402.jpg\n"
     ]
    },
    {
     "output_type": "stream",
     "name": "stderr",
     "text": [
      "42412it [10:43, 66.85it/s]"
     ]
    },
    {
     "output_type": "stream",
     "name": "stdout",
     "text": [
      "remove image Cropped_Images/143487.jpg\n",
      "remove image Cropped_Images/143491.jpg\n",
      "remove image Cropped_Images/143498.jpg\n"
     ]
    },
    {
     "output_type": "stream",
     "name": "stderr",
     "text": [
      "42537it [10:45, 69.77it/s]"
     ]
    },
    {
     "output_type": "stream",
     "name": "stdout",
     "text": [
      "remove image Cropped_Images/143618.jpg\n"
     ]
    },
    {
     "output_type": "stream",
     "name": "stderr",
     "text": [
      "42582it [10:46, 65.09it/s]"
     ]
    },
    {
     "output_type": "stream",
     "name": "stdout",
     "text": [
      "remove image Cropped_Images/143664.jpg\n"
     ]
    },
    {
     "output_type": "stream",
     "name": "stderr",
     "text": [
      "42610it [10:46, 64.15it/s]"
     ]
    },
    {
     "output_type": "stream",
     "name": "stdout",
     "text": [
      "remove image Cropped_Images/143695.jpg\n"
     ]
    },
    {
     "output_type": "stream",
     "name": "stderr",
     "text": [
      "42687it [10:47, 64.41it/s]"
     ]
    },
    {
     "output_type": "stream",
     "name": "stdout",
     "text": [
      "remove image Cropped_Images/143778.jpg\n",
      "remove image Cropped_Images/143784.jpg\n"
     ]
    },
    {
     "output_type": "stream",
     "name": "stderr",
     "text": [
      "42729it [10:48, 66.46it/s]"
     ]
    },
    {
     "output_type": "stream",
     "name": "stdout",
     "text": [
      "remove image Cropped_Images/143815.jpg\n"
     ]
    },
    {
     "output_type": "stream",
     "name": "stderr",
     "text": [
      "42881it [10:50, 68.32it/s]"
     ]
    },
    {
     "output_type": "stream",
     "name": "stdout",
     "text": [
      "remove image Cropped_Images/143980.jpg\n",
      "remove image Cropped_Images/143983.jpg\n"
     ]
    },
    {
     "output_type": "stream",
     "name": "stderr",
     "text": [
      "42938it [10:51, 66.21it/s]"
     ]
    },
    {
     "output_type": "stream",
     "name": "stdout",
     "text": [
      "remove image Cropped_Images/144037.jpg\n"
     ]
    },
    {
     "output_type": "stream",
     "name": "stderr",
     "text": [
      "42966it [10:51, 66.76it/s]"
     ]
    },
    {
     "output_type": "stream",
     "name": "stdout",
     "text": [
      "remove image Cropped_Images/144067.jpg\n"
     ]
    },
    {
     "output_type": "stream",
     "name": "stderr",
     "text": [
      "43022it [10:52, 63.82it/s]"
     ]
    },
    {
     "output_type": "stream",
     "name": "stdout",
     "text": [
      "remove image Cropped_Images/144125.jpg\n"
     ]
    },
    {
     "output_type": "stream",
     "name": "stderr",
     "text": [
      "43050it [10:53, 63.69it/s]"
     ]
    },
    {
     "output_type": "stream",
     "name": "stdout",
     "text": [
      "remove image Cropped_Images/144152.jpg\n"
     ]
    },
    {
     "output_type": "stream",
     "name": "stderr",
     "text": [
      "43064it [10:53, 63.86it/s]"
     ]
    },
    {
     "output_type": "stream",
     "name": "stdout",
     "text": [
      "remove image Cropped_Images/144171.jpg\n"
     ]
    },
    {
     "output_type": "stream",
     "name": "stderr",
     "text": [
      "43099it [10:53, 62.97it/s]"
     ]
    },
    {
     "output_type": "stream",
     "name": "stdout",
     "text": [
      "remove image Cropped_Images/144207.jpg\n"
     ]
    },
    {
     "output_type": "stream",
     "name": "stderr",
     "text": [
      "43120it [10:54, 61.90it/s]"
     ]
    },
    {
     "output_type": "stream",
     "name": "stdout",
     "text": [
      "remove image Cropped_Images/144225.jpg\n"
     ]
    },
    {
     "output_type": "stream",
     "name": "stderr",
     "text": [
      "43183it [10:55, 62.98it/s]"
     ]
    },
    {
     "output_type": "stream",
     "name": "stdout",
     "text": [
      "remove image Cropped_Images/144294.jpg\n"
     ]
    },
    {
     "output_type": "stream",
     "name": "stderr",
     "text": [
      "43197it [10:55, 62.00it/s]"
     ]
    },
    {
     "output_type": "stream",
     "name": "stdout",
     "text": [
      "remove image Cropped_Images/144307.jpg\n"
     ]
    },
    {
     "output_type": "stream",
     "name": "stderr",
     "text": [
      "43305it [10:57, 68.38it/s]"
     ]
    },
    {
     "output_type": "stream",
     "name": "stdout",
     "text": [
      "remove image Cropped_Images/144418.jpg\n",
      "remove image Cropped_Images/144424.jpg\n"
     ]
    },
    {
     "output_type": "stream",
     "name": "stderr",
     "text": [
      "43377it [10:58, 64.81it/s]"
     ]
    },
    {
     "output_type": "stream",
     "name": "stdout",
     "text": [
      "remove image Cropped_Images/144495.jpg\n",
      "remove image Cropped_Images/144506.jpg\n",
      "remove image Cropped_Images/144507.jpg\n"
     ]
    },
    {
     "output_type": "stream",
     "name": "stderr",
     "text": [
      "43420it [10:58, 68.05it/s]"
     ]
    },
    {
     "output_type": "stream",
     "name": "stdout",
     "text": [
      "remove image Cropped_Images/144536.jpg\n"
     ]
    },
    {
     "output_type": "stream",
     "name": "stderr",
     "text": [
      "43522it [11:00, 69.24it/s]"
     ]
    },
    {
     "output_type": "stream",
     "name": "stdout",
     "text": [
      "remove image Cropped_Images/144639.jpg\n"
     ]
    },
    {
     "output_type": "stream",
     "name": "stderr",
     "text": [
      "43537it [11:00, 69.52it/s]"
     ]
    },
    {
     "output_type": "stream",
     "name": "stdout",
     "text": [
      "remove image Cropped_Images/144660.jpg\n"
     ]
    },
    {
     "output_type": "stream",
     "name": "stderr",
     "text": [
      "43621it [11:01, 63.64it/s]"
     ]
    },
    {
     "output_type": "stream",
     "name": "stdout",
     "text": [
      "remove image Cropped_Images/144746.jpg\n"
     ]
    },
    {
     "output_type": "stream",
     "name": "stderr",
     "text": [
      "43816it [11:04, 70.49it/s]"
     ]
    },
    {
     "output_type": "stream",
     "name": "stdout",
     "text": [
      "remove image Cropped_Images/144957.jpg\n",
      "remove image Cropped_Images/144964.jpg\n"
     ]
    },
    {
     "output_type": "stream",
     "name": "stderr",
     "text": [
      "43860it [11:05, 67.37it/s]"
     ]
    },
    {
     "output_type": "stream",
     "name": "stdout",
     "text": [
      "remove image Cropped_Images/144999.jpg\n"
     ]
    },
    {
     "output_type": "stream",
     "name": "stderr",
     "text": [
      "43881it [11:05, 64.47it/s]"
     ]
    },
    {
     "output_type": "stream",
     "name": "stdout",
     "text": [
      "remove image Cropped_Images/145026.jpg\n"
     ]
    },
    {
     "output_type": "stream",
     "name": "stderr",
     "text": [
      "44003it [11:07, 70.13it/s]"
     ]
    },
    {
     "output_type": "stream",
     "name": "stdout",
     "text": [
      "remove image Cropped_Images/145149.jpg\n"
     ]
    },
    {
     "output_type": "stream",
     "name": "stderr",
     "text": [
      "44019it [11:07, 69.83it/s]"
     ]
    },
    {
     "output_type": "stream",
     "name": "stdout",
     "text": [
      "remove image Cropped_Images/145169.jpg\n"
     ]
    },
    {
     "output_type": "stream",
     "name": "stderr",
     "text": [
      "44082it [11:08, 63.62it/s]"
     ]
    },
    {
     "output_type": "stream",
     "name": "stdout",
     "text": [
      "remove image Cropped_Images/145232.jpg\n"
     ]
    },
    {
     "output_type": "stream",
     "name": "stderr",
     "text": [
      "44286it [11:11, 71.49it/s]"
     ]
    },
    {
     "output_type": "stream",
     "name": "stdout",
     "text": [
      "remove image Cropped_Images/145443.jpg\n"
     ]
    },
    {
     "output_type": "stream",
     "name": "stderr",
     "text": [
      "44345it [11:12, 65.61it/s]"
     ]
    },
    {
     "output_type": "stream",
     "name": "stdout",
     "text": [
      "remove image Cropped_Images/145506.jpg\n"
     ]
    },
    {
     "output_type": "stream",
     "name": "stderr",
     "text": [
      "44401it [11:13, 63.09it/s]"
     ]
    },
    {
     "output_type": "stream",
     "name": "stdout",
     "text": [
      "remove image Cropped_Images/145567.jpg\n"
     ]
    },
    {
     "output_type": "stream",
     "name": "stderr",
     "text": [
      "44429it [11:14, 63.40it/s]"
     ]
    },
    {
     "output_type": "stream",
     "name": "stdout",
     "text": [
      "remove image Cropped_Images/145597.jpg\n",
      "remove image Cropped_Images/145605.jpg\n"
     ]
    },
    {
     "output_type": "stream",
     "name": "stderr",
     "text": [
      "44485it [11:14, 61.55it/s]"
     ]
    },
    {
     "output_type": "stream",
     "name": "stdout",
     "text": [
      "remove image Cropped_Images/145656.jpg\n"
     ]
    },
    {
     "output_type": "stream",
     "name": "stderr",
     "text": [
      "44541it [11:15, 65.96it/s]"
     ]
    },
    {
     "output_type": "stream",
     "name": "stdout",
     "text": [
      "remove image Cropped_Images/145714.jpg\n"
     ]
    },
    {
     "output_type": "stream",
     "name": "stderr",
     "text": [
      "44583it [11:16, 64.78it/s]"
     ]
    },
    {
     "output_type": "stream",
     "name": "stdout",
     "text": [
      "remove image Cropped_Images/145757.jpg\n"
     ]
    },
    {
     "output_type": "stream",
     "name": "stderr",
     "text": [
      "44690it [11:18, 68.30it/s]"
     ]
    },
    {
     "output_type": "stream",
     "name": "stdout",
     "text": [
      "remove image Cropped_Images/145866.jpg\n"
     ]
    },
    {
     "output_type": "stream",
     "name": "stderr",
     "text": [
      "44726it [11:18, 68.21it/s]"
     ]
    },
    {
     "output_type": "stream",
     "name": "stdout",
     "text": [
      "remove image Cropped_Images/145910.jpg\n",
      "remove image Cropped_Images/145911.jpg\n"
     ]
    },
    {
     "output_type": "stream",
     "name": "stderr",
     "text": [
      "44740it [11:18, 66.25it/s]"
     ]
    },
    {
     "output_type": "stream",
     "name": "stdout",
     "text": [
      "remove image Cropped_Images/145924.jpg\n"
     ]
    },
    {
     "output_type": "stream",
     "name": "stderr",
     "text": [
      "44775it [11:19, 64.98it/s]"
     ]
    },
    {
     "output_type": "stream",
     "name": "stdout",
     "text": [
      "remove image Cropped_Images/145958.jpg\n"
     ]
    },
    {
     "output_type": "stream",
     "name": "stderr",
     "text": [
      "44852it [11:20, 65.41it/s]"
     ]
    },
    {
     "output_type": "stream",
     "name": "stdout",
     "text": [
      "remove image Cropped_Images/146036.jpg\n"
     ]
    },
    {
     "output_type": "stream",
     "name": "stderr",
     "text": [
      "44950it [11:22, 66.42it/s]"
     ]
    },
    {
     "output_type": "stream",
     "name": "stdout",
     "text": [
      "remove image Cropped_Images/146139.jpg\n"
     ]
    },
    {
     "output_type": "stream",
     "name": "stderr",
     "text": [
      "44986it [11:22, 66.79it/s]"
     ]
    },
    {
     "output_type": "stream",
     "name": "stdout",
     "text": [
      "remove image Cropped_Images/146180.jpg\n"
     ]
    },
    {
     "output_type": "stream",
     "name": "stderr",
     "text": [
      "45078it [11:23, 67.36it/s]"
     ]
    },
    {
     "output_type": "stream",
     "name": "stdout",
     "text": [
      "remove image Cropped_Images/146271.jpg\n",
      "remove image Cropped_Images/146283.jpg\n"
     ]
    },
    {
     "output_type": "stream",
     "name": "stderr",
     "text": [
      "45368it [11:28, 70.67it/s]"
     ]
    },
    {
     "output_type": "stream",
     "name": "stdout",
     "text": [
      "remove image Cropped_Images/146570.jpg\n"
     ]
    },
    {
     "output_type": "stream",
     "name": "stderr",
     "text": [
      "45421it [11:28, 67.01it/s]"
     ]
    },
    {
     "output_type": "stream",
     "name": "stdout",
     "text": [
      "remove image Cropped_Images/146624.jpg\n"
     ]
    },
    {
     "output_type": "stream",
     "name": "stderr",
     "text": [
      "45498it [11:30, 64.51it/s]"
     ]
    },
    {
     "output_type": "stream",
     "name": "stdout",
     "text": [
      "remove image Cropped_Images/146710.jpg\n"
     ]
    },
    {
     "output_type": "stream",
     "name": "stderr",
     "text": [
      "45599it [11:31, 63.46it/s]"
     ]
    },
    {
     "output_type": "stream",
     "name": "stdout",
     "text": [
      "remove image Cropped_Images/146819.jpg\n"
     ]
    },
    {
     "output_type": "stream",
     "name": "stderr",
     "text": [
      "45621it [11:31, 66.45it/s]"
     ]
    },
    {
     "output_type": "stream",
     "name": "stdout",
     "text": [
      "remove image Cropped_Images/146837.jpg\n"
     ]
    },
    {
     "output_type": "stream",
     "name": "stderr",
     "text": [
      "45670it [11:32, 62.79it/s]"
     ]
    },
    {
     "output_type": "stream",
     "name": "stdout",
     "text": [
      "remove image Cropped_Images/146884.jpg\n"
     ]
    },
    {
     "output_type": "stream",
     "name": "stderr",
     "text": [
      "45691it [11:33, 63.51it/s]"
     ]
    },
    {
     "output_type": "stream",
     "name": "stdout",
     "text": [
      "remove image Cropped_Images/146906.jpg\n",
      "remove image Cropped_Images/146907.jpg\n"
     ]
    },
    {
     "output_type": "stream",
     "name": "stderr",
     "text": [
      "45906it [11:36, 70.18it/s]"
     ]
    },
    {
     "output_type": "stream",
     "name": "stdout",
     "text": [
      "remove image Cropped_Images/147135.jpg\n"
     ]
    },
    {
     "output_type": "stream",
     "name": "stderr",
     "text": [
      "45957it [11:37, 66.50it/s]"
     ]
    },
    {
     "output_type": "stream",
     "name": "stdout",
     "text": [
      "remove image Cropped_Images/147190.jpg\n"
     ]
    },
    {
     "output_type": "stream",
     "name": "stderr",
     "text": [
      "45992it [11:37, 64.70it/s]"
     ]
    },
    {
     "output_type": "stream",
     "name": "stdout",
     "text": [
      "remove image Cropped_Images/147227.jpg\n",
      "remove image Cropped_Images/147231.jpg\n"
     ]
    },
    {
     "output_type": "stream",
     "name": "stderr",
     "text": [
      "46098it [11:39, 66.88it/s]"
     ]
    },
    {
     "output_type": "stream",
     "name": "stdout",
     "text": [
      "remove image Cropped_Images/147337.jpg\n",
      "remove image Cropped_Images/147341.jpg\n",
      "remove image Cropped_Images/147344.jpg\n"
     ]
    },
    {
     "output_type": "stream",
     "name": "stderr",
     "text": [
      "46127it [11:39, 68.31it/s]"
     ]
    },
    {
     "output_type": "stream",
     "name": "stdout",
     "text": [
      "remove image Cropped_Images/147362.jpg\n",
      "remove image Cropped_Images/147370.jpg\n"
     ]
    },
    {
     "output_type": "stream",
     "name": "stderr",
     "text": [
      "46170it [11:40, 66.49it/s]"
     ]
    },
    {
     "output_type": "stream",
     "name": "stdout",
     "text": [
      "remove image Cropped_Images/147415.jpg\n"
     ]
    },
    {
     "output_type": "stream",
     "name": "stderr",
     "text": [
      "46191it [11:40, 64.94it/s]"
     ]
    },
    {
     "output_type": "stream",
     "name": "stdout",
     "text": [
      "remove image Cropped_Images/147430.jpg\n"
     ]
    },
    {
     "output_type": "stream",
     "name": "stderr",
     "text": [
      "46212it [11:40, 62.97it/s]"
     ]
    },
    {
     "output_type": "stream",
     "name": "stdout",
     "text": [
      "remove image Cropped_Images/147454.jpg\n",
      "remove image Cropped_Images/147460.jpg\n"
     ]
    },
    {
     "output_type": "stream",
     "name": "stderr",
     "text": [
      "46226it [11:41, 63.52it/s]"
     ]
    },
    {
     "output_type": "stream",
     "name": "stdout",
     "text": [
      "remove image Cropped_Images/147469.jpg\n"
     ]
    },
    {
     "output_type": "stream",
     "name": "stderr",
     "text": [
      "46261it [11:41, 64.22it/s]"
     ]
    },
    {
     "output_type": "stream",
     "name": "stdout",
     "text": [
      "remove image Cropped_Images/147508.jpg\n"
     ]
    },
    {
     "output_type": "stream",
     "name": "stderr",
     "text": [
      "46282it [11:42, 63.05it/s]"
     ]
    },
    {
     "output_type": "stream",
     "name": "stdout",
     "text": [
      "remove image Cropped_Images/147528.jpg\n"
     ]
    },
    {
     "output_type": "stream",
     "name": "stderr",
     "text": [
      "46317it [11:42, 63.89it/s]"
     ]
    },
    {
     "output_type": "stream",
     "name": "stdout",
     "text": [
      "remove image Cropped_Images/147566.jpg\n"
     ]
    },
    {
     "output_type": "stream",
     "name": "stderr",
     "text": [
      "46352it [11:43, 63.59it/s]"
     ]
    },
    {
     "output_type": "stream",
     "name": "stdout",
     "text": [
      "remove image Cropped_Images/147599.jpg\n",
      "remove image Cropped_Images/147610.jpg\n"
     ]
    },
    {
     "output_type": "stream",
     "name": "stderr",
     "text": [
      "46552it [11:46, 70.03it/s]"
     ]
    },
    {
     "output_type": "stream",
     "name": "stdout",
     "text": [
      "remove image Cropped_Images/147810.jpg\n"
     ]
    },
    {
     "output_type": "stream",
     "name": "stderr",
     "text": [
      "46682it [11:48, 68.64it/s]"
     ]
    },
    {
     "output_type": "stream",
     "name": "stdout",
     "text": [
      "remove image Cropped_Images/147947.jpg\n"
     ]
    },
    {
     "output_type": "stream",
     "name": "stderr",
     "text": [
      "46746it [11:49, 64.78it/s]"
     ]
    },
    {
     "output_type": "stream",
     "name": "stdout",
     "text": [
      "remove image Cropped_Images/148014.jpg\n"
     ]
    },
    {
     "output_type": "stream",
     "name": "stderr",
     "text": [
      "46830it [11:50, 64.80it/s]"
     ]
    },
    {
     "output_type": "stream",
     "name": "stdout",
     "text": [
      "remove image Cropped_Images/148101.jpg\n"
     ]
    },
    {
     "output_type": "stream",
     "name": "stderr",
     "text": [
      "46895it [11:51, 64.43it/s]"
     ]
    },
    {
     "output_type": "stream",
     "name": "stdout",
     "text": [
      "remove image Cropped_Images/148169.jpg\n"
     ]
    },
    {
     "output_type": "stream",
     "name": "stderr",
     "text": [
      "46951it [11:52, 65.17it/s]"
     ]
    },
    {
     "output_type": "stream",
     "name": "stdout",
     "text": [
      "remove image Cropped_Images/148226.jpg\n"
     ]
    },
    {
     "output_type": "stream",
     "name": "stderr",
     "text": [
      "47000it [11:53, 65.13it/s]"
     ]
    },
    {
     "output_type": "stream",
     "name": "stdout",
     "text": [
      "remove image Cropped_Images/148275.jpg\n",
      "remove image Cropped_Images/148288.jpg\n"
     ]
    },
    {
     "output_type": "stream",
     "name": "stderr",
     "text": [
      "47014it [11:53, 64.91it/s]"
     ]
    },
    {
     "output_type": "stream",
     "name": "stdout",
     "text": [
      "remove image Cropped_Images/148296.jpg\n"
     ]
    },
    {
     "output_type": "stream",
     "name": "stderr",
     "text": [
      "47205it [11:56, 68.15it/s]"
     ]
    },
    {
     "output_type": "stream",
     "name": "stdout",
     "text": [
      "remove image Cropped_Images/148489.jpg\n"
     ]
    },
    {
     "output_type": "stream",
     "name": "stderr",
     "text": [
      "47268it [11:57, 65.04it/s]"
     ]
    },
    {
     "output_type": "stream",
     "name": "stdout",
     "text": [
      "remove image Cropped_Images/148560.jpg\n"
     ]
    },
    {
     "output_type": "stream",
     "name": "stderr",
     "text": [
      "47436it [11:59, 68.20it/s]"
     ]
    },
    {
     "output_type": "stream",
     "name": "stdout",
     "text": [
      "remove image Cropped_Images/148730.jpg\n",
      "remove image Cropped_Images/148732.jpg\n"
     ]
    },
    {
     "output_type": "stream",
     "name": "stderr",
     "text": [
      "47464it [12:00, 64.66it/s]"
     ]
    },
    {
     "output_type": "stream",
     "name": "stdout",
     "text": [
      "remove image Cropped_Images/148759.jpg\n"
     ]
    },
    {
     "output_type": "stream",
     "name": "stderr",
     "text": [
      "47527it [12:01, 59.85it/s]"
     ]
    },
    {
     "output_type": "stream",
     "name": "stdout",
     "text": [
      "remove image Cropped_Images/148821.jpg\n"
     ]
    },
    {
     "output_type": "stream",
     "name": "stderr",
     "text": [
      "47539it [12:01, 59.40it/s]"
     ]
    },
    {
     "output_type": "stream",
     "name": "stdout",
     "text": [
      "remove image Cropped_Images/148833.jpg\n"
     ]
    },
    {
     "output_type": "stream",
     "name": "stderr",
     "text": [
      "47595it [12:02, 63.81it/s]"
     ]
    },
    {
     "output_type": "stream",
     "name": "stdout",
     "text": [
      "remove image Cropped_Images/148894.jpg\n"
     ]
    },
    {
     "output_type": "stream",
     "name": "stderr",
     "text": [
      "47740it [12:04, 69.79it/s]"
     ]
    },
    {
     "output_type": "stream",
     "name": "stdout",
     "text": [
      "remove image Cropped_Images/149044.jpg\n"
     ]
    },
    {
     "output_type": "stream",
     "name": "stderr",
     "text": [
      "47851it [12:06, 69.03it/s]"
     ]
    },
    {
     "output_type": "stream",
     "name": "stdout",
     "text": [
      "remove image Cropped_Images/149159.jpg\n"
     ]
    },
    {
     "output_type": "stream",
     "name": "stderr",
     "text": [
      "47873it [12:06, 69.76it/s]"
     ]
    },
    {
     "output_type": "stream",
     "name": "stdout",
     "text": [
      "remove image Cropped_Images/149180.jpg\n"
     ]
    },
    {
     "output_type": "stream",
     "name": "stderr",
     "text": [
      "47896it [12:06, 69.77it/s]"
     ]
    },
    {
     "output_type": "stream",
     "name": "stdout",
     "text": [
      "remove image Cropped_Images/149208.jpg\n",
      "remove image Cropped_Images/149210.jpg\n"
     ]
    },
    {
     "output_type": "stream",
     "name": "stderr",
     "text": [
      "47945it [12:07, 61.80it/s]"
     ]
    },
    {
     "output_type": "stream",
     "name": "stdout",
     "text": [
      "remove image Cropped_Images/149259.jpg\n"
     ]
    },
    {
     "output_type": "stream",
     "name": "stderr",
     "text": [
      "48105it [12:09, 71.42it/s]"
     ]
    },
    {
     "output_type": "stream",
     "name": "stdout",
     "text": [
      "remove image Cropped_Images/149411.jpg\n"
     ]
    },
    {
     "output_type": "stream",
     "name": "stderr",
     "text": [
      "48129it [12:10, 69.37it/s]"
     ]
    },
    {
     "output_type": "stream",
     "name": "stdout",
     "text": [
      "remove image Cropped_Images/149438.jpg\n"
     ]
    },
    {
     "output_type": "stream",
     "name": "stderr",
     "text": [
      "48157it [12:10, 67.65it/s]"
     ]
    },
    {
     "output_type": "stream",
     "name": "stdout",
     "text": [
      "remove image Cropped_Images/149470.jpg\n"
     ]
    },
    {
     "output_type": "stream",
     "name": "stderr",
     "text": [
      "48199it [12:11, 61.93it/s]"
     ]
    },
    {
     "output_type": "stream",
     "name": "stdout",
     "text": [
      "remove image Cropped_Images/149516.jpg\n"
     ]
    },
    {
     "output_type": "stream",
     "name": "stderr",
     "text": [
      "48227it [12:11, 62.35it/s]"
     ]
    },
    {
     "output_type": "stream",
     "name": "stdout",
     "text": [
      "remove image Cropped_Images/149539.jpg\n"
     ]
    },
    {
     "output_type": "stream",
     "name": "stderr",
     "text": [
      "48241it [12:12, 62.56it/s]"
     ]
    },
    {
     "output_type": "stream",
     "name": "stdout",
     "text": [
      "remove image Cropped_Images/149557.jpg\n"
     ]
    },
    {
     "output_type": "stream",
     "name": "stderr",
     "text": [
      "48364it [12:13, 69.70it/s]"
     ]
    },
    {
     "output_type": "stream",
     "name": "stdout",
     "text": [
      "remove image Cropped_Images/149677.jpg\n"
     ]
    },
    {
     "output_type": "stream",
     "name": "stderr",
     "text": [
      "48385it [12:14, 69.09it/s]"
     ]
    },
    {
     "output_type": "stream",
     "name": "stdout",
     "text": [
      "remove image Cropped_Images/149699.jpg\n",
      "remove image Cropped_Images/149707.jpg\n"
     ]
    },
    {
     "output_type": "stream",
     "name": "stderr",
     "text": [
      "48421it [12:14, 68.31it/s]"
     ]
    },
    {
     "output_type": "stream",
     "name": "stdout",
     "text": [
      "remove image Cropped_Images/149741.jpg\n"
     ]
    },
    {
     "output_type": "stream",
     "name": "stderr",
     "text": [
      "48463it [12:15, 62.20it/s]"
     ]
    },
    {
     "output_type": "stream",
     "name": "stdout",
     "text": [
      "remove image Cropped_Images/149778.jpg\n"
     ]
    },
    {
     "output_type": "stream",
     "name": "stderr",
     "text": [
      "48533it [12:16, 64.63it/s]"
     ]
    },
    {
     "output_type": "stream",
     "name": "stdout",
     "text": [
      "remove image Cropped_Images/149852.jpg\n"
     ]
    },
    {
     "output_type": "stream",
     "name": "stderr",
     "text": [
      "48568it [12:17, 64.17it/s]"
     ]
    },
    {
     "output_type": "stream",
     "name": "stdout",
     "text": [
      "remove image Cropped_Images/149887.jpg\n"
     ]
    },
    {
     "output_type": "stream",
     "name": "stderr",
     "text": [
      "48638it [12:18, 65.05it/s]"
     ]
    },
    {
     "output_type": "stream",
     "name": "stdout",
     "text": [
      "remove image Cropped_Images/149961.jpg\n"
     ]
    },
    {
     "output_type": "stream",
     "name": "stderr",
     "text": [
      "48701it [12:19, 65.78it/s]"
     ]
    },
    {
     "output_type": "stream",
     "name": "stdout",
     "text": [
      "remove image Cropped_Images/150026.jpg\n"
     ]
    },
    {
     "output_type": "stream",
     "name": "stderr",
     "text": [
      "48743it [12:19, 63.78it/s]"
     ]
    },
    {
     "output_type": "stream",
     "name": "stdout",
     "text": [
      "remove image Cropped_Images/150073.jpg\n"
     ]
    },
    {
     "output_type": "stream",
     "name": "stderr",
     "text": [
      "48771it [12:20, 63.13it/s]"
     ]
    },
    {
     "output_type": "stream",
     "name": "stdout",
     "text": [
      "remove image Cropped_Images/150098.jpg\n"
     ]
    },
    {
     "output_type": "stream",
     "name": "stderr",
     "text": [
      "48834it [12:21, 64.12it/s]"
     ]
    },
    {
     "output_type": "stream",
     "name": "stdout",
     "text": [
      "remove image Cropped_Images/150172.jpg\n"
     ]
    },
    {
     "output_type": "stream",
     "name": "stderr",
     "text": [
      "48862it [12:21, 62.97it/s]"
     ]
    },
    {
     "output_type": "stream",
     "name": "stdout",
     "text": [
      "remove image Cropped_Images/150198.jpg\n",
      "remove image Cropped_Images/150200.jpg\n"
     ]
    },
    {
     "output_type": "stream",
     "name": "stderr",
     "text": [
      "48918it [12:22, 65.23it/s]"
     ]
    },
    {
     "output_type": "stream",
     "name": "stdout",
     "text": [
      "remove image Cropped_Images/150256.jpg\n"
     ]
    },
    {
     "output_type": "stream",
     "name": "stderr",
     "text": [
      "48960it [12:23, 65.40it/s]"
     ]
    },
    {
     "output_type": "stream",
     "name": "stdout",
     "text": [
      "remove image Cropped_Images/150302.jpg\n"
     ]
    },
    {
     "output_type": "stream",
     "name": "stderr",
     "text": [
      "48974it [12:23, 63.80it/s]"
     ]
    },
    {
     "output_type": "stream",
     "name": "stdout",
     "text": [
      "remove image Cropped_Images/150316.jpg\n"
     ]
    },
    {
     "output_type": "stream",
     "name": "stderr",
     "text": [
      "49058it [12:24, 62.67it/s]"
     ]
    },
    {
     "output_type": "stream",
     "name": "stdout",
     "text": [
      "remove image Cropped_Images/150403.jpg\n"
     ]
    },
    {
     "output_type": "stream",
     "name": "stderr",
     "text": [
      "49163it [12:26, 66.64it/s]"
     ]
    },
    {
     "output_type": "stream",
     "name": "stdout",
     "text": [
      "remove image Cropped_Images/150510.jpg\n"
     ]
    },
    {
     "output_type": "stream",
     "name": "stderr",
     "text": [
      "49191it [12:26, 63.11it/s]"
     ]
    },
    {
     "output_type": "stream",
     "name": "stdout",
     "text": [
      "remove image Cropped_Images/150541.jpg\n"
     ]
    },
    {
     "output_type": "stream",
     "name": "stderr",
     "text": [
      "49212it [12:27, 60.81it/s]"
     ]
    },
    {
     "output_type": "stream",
     "name": "stdout",
     "text": [
      "remove image Cropped_Images/150565.jpg\n"
     ]
    },
    {
     "output_type": "stream",
     "name": "stderr",
     "text": [
      "49296it [12:28, 65.62it/s]"
     ]
    },
    {
     "output_type": "stream",
     "name": "stdout",
     "text": [
      "remove image Cropped_Images/150653.jpg\n",
      "remove image Cropped_Images/150663.jpg\n"
     ]
    },
    {
     "output_type": "stream",
     "name": "stderr",
     "text": [
      "49342it [12:29, 68.59it/s]"
     ]
    },
    {
     "output_type": "stream",
     "name": "stdout",
     "text": [
      "remove image Cropped_Images/150697.jpg\n",
      "remove image Cropped_Images/150698.jpg\n",
      "remove image Cropped_Images/150699.jpg\n"
     ]
    },
    {
     "output_type": "stream",
     "name": "stderr",
     "text": [
      "49370it [12:29, 65.02it/s]"
     ]
    },
    {
     "output_type": "stream",
     "name": "stdout",
     "text": [
      "remove image Cropped_Images/150726.jpg\n"
     ]
    },
    {
     "output_type": "stream",
     "name": "stderr",
     "text": [
      "49594it [12:33, 65.02it/s]"
     ]
    },
    {
     "output_type": "stream",
     "name": "stdout",
     "text": [
      "remove image Cropped_Images/150957.jpg\n"
     ]
    },
    {
     "output_type": "stream",
     "name": "stderr",
     "text": [
      "49650it [12:33, 64.47it/s]"
     ]
    },
    {
     "output_type": "stream",
     "name": "stdout",
     "text": [
      "remove image Cropped_Images/151018.jpg\n"
     ]
    },
    {
     "output_type": "stream",
     "name": "stderr",
     "text": [
      "49692it [12:34, 64.19it/s]"
     ]
    },
    {
     "output_type": "stream",
     "name": "stdout",
     "text": [
      "remove image Cropped_Images/151060.jpg\n"
     ]
    },
    {
     "output_type": "stream",
     "name": "stderr",
     "text": [
      "49734it [12:35, 63.80it/s]"
     ]
    },
    {
     "output_type": "stream",
     "name": "stdout",
     "text": [
      "remove image Cropped_Images/151106.jpg\n"
     ]
    },
    {
     "output_type": "stream",
     "name": "stderr",
     "text": [
      "49848it [12:36, 67.64it/s]"
     ]
    },
    {
     "output_type": "stream",
     "name": "stdout",
     "text": [
      "remove image Cropped_Images/151220.jpg\n"
     ]
    },
    {
     "output_type": "stream",
     "name": "stderr",
     "text": [
      "49980it [12:38, 72.56it/s]"
     ]
    },
    {
     "output_type": "stream",
     "name": "stdout",
     "text": [
      "remove image Cropped_Images/151354.jpg\n"
     ]
    },
    {
     "output_type": "stream",
     "name": "stderr",
     "text": [
      "50075it [12:40, 66.24it/s]"
     ]
    },
    {
     "output_type": "stream",
     "name": "stdout",
     "text": [
      "remove image Cropped_Images/151448.jpg\n"
     ]
    },
    {
     "output_type": "stream",
     "name": "stderr",
     "text": [
      "50103it [12:40, 67.63it/s]"
     ]
    },
    {
     "output_type": "stream",
     "name": "stdout",
     "text": [
      "remove image Cropped_Images/151484.jpg\n"
     ]
    },
    {
     "output_type": "stream",
     "name": "stderr",
     "text": [
      "50219it [12:42, 70.33it/s]"
     ]
    },
    {
     "output_type": "stream",
     "name": "stdout",
     "text": [
      "remove image Cropped_Images/151602.jpg\n",
      "remove image Cropped_Images/151614.jpg\n"
     ]
    },
    {
     "output_type": "stream",
     "name": "stderr",
     "text": [
      "50367it [12:44, 69.66it/s]"
     ]
    },
    {
     "output_type": "stream",
     "name": "stdout",
     "text": [
      "remove image Cropped_Images/151756.jpg\n"
     ]
    },
    {
     "output_type": "stream",
     "name": "stderr",
     "text": [
      "50419it [12:45, 67.14it/s]"
     ]
    },
    {
     "output_type": "stream",
     "name": "stdout",
     "text": [
      "remove image Cropped_Images/151812.jpg\n"
     ]
    },
    {
     "output_type": "stream",
     "name": "stderr",
     "text": [
      "50469it [12:46, 67.38it/s]"
     ]
    },
    {
     "output_type": "stream",
     "name": "stdout",
     "text": [
      "remove image Cropped_Images/151865.jpg\n"
     ]
    },
    {
     "output_type": "stream",
     "name": "stderr",
     "text": [
      "50518it [12:46, 66.08it/s]"
     ]
    },
    {
     "output_type": "stream",
     "name": "stdout",
     "text": [
      "remove image Cropped_Images/151915.jpg\n",
      "remove image Cropped_Images/151923.jpg\n"
     ]
    },
    {
     "output_type": "stream",
     "name": "stderr",
     "text": [
      "50532it [12:47, 64.94it/s]"
     ]
    },
    {
     "output_type": "stream",
     "name": "stdout",
     "text": [
      "remove image Cropped_Images/151930.jpg\n"
     ]
    },
    {
     "output_type": "stream",
     "name": "stderr",
     "text": [
      "50595it [12:48, 62.80it/s]"
     ]
    },
    {
     "output_type": "stream",
     "name": "stdout",
     "text": [
      "remove image Cropped_Images/152000.jpg\n"
     ]
    },
    {
     "output_type": "stream",
     "name": "stderr",
     "text": [
      "50711it [12:49, 70.69it/s]"
     ]
    },
    {
     "output_type": "stream",
     "name": "stdout",
     "text": [
      "remove image Cropped_Images/152123.jpg\n"
     ]
    },
    {
     "output_type": "stream",
     "name": "stderr",
     "text": [
      "50743it [12:50, 70.66it/s]"
     ]
    },
    {
     "output_type": "stream",
     "name": "stdout",
     "text": [
      "remove image Cropped_Images/152153.jpg\n",
      "remove image Cropped_Images/152154.jpg\n"
     ]
    },
    {
     "output_type": "stream",
     "name": "stderr",
     "text": [
      "50807it [12:51, 64.53it/s]"
     ]
    },
    {
     "output_type": "stream",
     "name": "stdout",
     "text": [
      "remove image Cropped_Images/152218.jpg\n"
     ]
    },
    {
     "output_type": "stream",
     "name": "stderr",
     "text": [
      "50936it [12:53, 70.81it/s]"
     ]
    },
    {
     "output_type": "stream",
     "name": "stdout",
     "text": [
      "remove image Cropped_Images/152349.jpg\n",
      "remove image Cropped_Images/152354.jpg\n"
     ]
    },
    {
     "output_type": "stream",
     "name": "stderr",
     "text": [
      "50990it [12:54, 67.79it/s]"
     ]
    },
    {
     "output_type": "stream",
     "name": "stdout",
     "text": [
      "remove image Cropped_Images/152405.jpg\n"
     ]
    },
    {
     "output_type": "stream",
     "name": "stderr",
     "text": [
      "51074it [12:55, 64.81it/s]"
     ]
    },
    {
     "output_type": "stream",
     "name": "stdout",
     "text": [
      "remove image Cropped_Images/152494.jpg\n",
      "remove image Cropped_Images/152501.jpg\n"
     ]
    },
    {
     "output_type": "stream",
     "name": "stderr",
     "text": [
      "51130it [12:56, 64.85it/s]"
     ]
    },
    {
     "output_type": "stream",
     "name": "stdout",
     "text": [
      "remove image Cropped_Images/152552.jpg\n"
     ]
    },
    {
     "output_type": "stream",
     "name": "stderr",
     "text": [
      "51214it [12:57, 65.20it/s]"
     ]
    },
    {
     "output_type": "stream",
     "name": "stdout",
     "text": [
      "remove image Cropped_Images/152638.jpg\n"
     ]
    },
    {
     "output_type": "stream",
     "name": "stderr",
     "text": [
      "51244it [12:57, 67.18it/s]"
     ]
    },
    {
     "output_type": "stream",
     "name": "stdout",
     "text": [
      "remove image Cropped_Images/152664.jpg\n",
      "remove image Cropped_Images/152665.jpg\n"
     ]
    },
    {
     "output_type": "stream",
     "name": "stderr",
     "text": [
      "51286it [12:58, 62.28it/s]"
     ]
    },
    {
     "output_type": "stream",
     "name": "stdout",
     "text": [
      "remove image Cropped_Images/152712.jpg\n"
     ]
    },
    {
     "output_type": "stream",
     "name": "stderr",
     "text": [
      "51314it [12:59, 61.43it/s]"
     ]
    },
    {
     "output_type": "stream",
     "name": "stdout",
     "text": [
      "remove image Cropped_Images/152742.jpg\n",
      "remove image Cropped_Images/152743.jpg\n"
     ]
    },
    {
     "output_type": "stream",
     "name": "stderr",
     "text": [
      "51348it [12:59, 59.75it/s]"
     ]
    },
    {
     "output_type": "stream",
     "name": "stdout",
     "text": [
      "remove image Cropped_Images/152776.jpg\n"
     ]
    },
    {
     "output_type": "stream",
     "name": "stderr",
     "text": [
      "51394it [13:00, 59.53it/s]"
     ]
    },
    {
     "output_type": "stream",
     "name": "stdout",
     "text": [
      "remove image Cropped_Images/152826.jpg\n"
     ]
    },
    {
     "output_type": "stream",
     "name": "stderr",
     "text": [
      "51428it [13:00, 62.27it/s]"
     ]
    },
    {
     "output_type": "stream",
     "name": "stdout",
     "text": [
      "remove image Cropped_Images/152862.jpg\n",
      "remove image Cropped_Images/152864.jpg\n"
     ]
    },
    {
     "output_type": "stream",
     "name": "stderr",
     "text": [
      "51463it [13:01, 62.10it/s]"
     ]
    },
    {
     "output_type": "stream",
     "name": "stdout",
     "text": [
      "remove image Cropped_Images/152893.jpg\n",
      "remove image Cropped_Images/152898.jpg\n",
      "remove image Cropped_Images/152903.jpg\n"
     ]
    },
    {
     "output_type": "stream",
     "name": "stderr",
     "text": [
      "51626it [13:03, 67.63it/s]"
     ]
    },
    {
     "output_type": "stream",
     "name": "stdout",
     "text": [
      "remove image Cropped_Images/153064.jpg\n"
     ]
    },
    {
     "output_type": "stream",
     "name": "stderr",
     "text": [
      "51682it [13:04, 66.42it/s]"
     ]
    },
    {
     "output_type": "stream",
     "name": "stdout",
     "text": [
      "remove image Cropped_Images/153121.jpg\n"
     ]
    },
    {
     "output_type": "stream",
     "name": "stderr",
     "text": [
      "51773it [13:06, 63.71it/s]"
     ]
    },
    {
     "output_type": "stream",
     "name": "stdout",
     "text": [
      "remove image Cropped_Images/153217.jpg\n"
     ]
    },
    {
     "output_type": "stream",
     "name": "stderr",
     "text": [
      "51795it [13:06, 67.34it/s]"
     ]
    },
    {
     "output_type": "stream",
     "name": "stdout",
     "text": [
      "remove image Cropped_Images/153240.jpg\n"
     ]
    },
    {
     "output_type": "stream",
     "name": "stderr",
     "text": [
      "51865it [13:07, 63.79it/s]"
     ]
    },
    {
     "output_type": "stream",
     "name": "stdout",
     "text": [
      "remove image Cropped_Images/153313.jpg\n"
     ]
    },
    {
     "output_type": "stream",
     "name": "stderr",
     "text": [
      "51886it [13:07, 62.98it/s]"
     ]
    },
    {
     "output_type": "stream",
     "name": "stdout",
     "text": [
      "remove image Cropped_Images/153336.jpg\n",
      "remove image Cropped_Images/153342.jpg\n"
     ]
    },
    {
     "output_type": "stream",
     "name": "stderr",
     "text": [
      "51921it [13:08, 66.68it/s]"
     ]
    },
    {
     "output_type": "stream",
     "name": "stdout",
     "text": [
      "remove image Cropped_Images/153371.jpg\n"
     ]
    },
    {
     "output_type": "stream",
     "name": "stderr",
     "text": [
      "51999it [13:09, 66.04it/s]"
     ]
    },
    {
     "output_type": "stream",
     "name": "stdout",
     "text": [
      "remove image Cropped_Images/153454.jpg\n"
     ]
    },
    {
     "output_type": "stream",
     "name": "stderr",
     "text": [
      "52050it [13:10, 66.73it/s]"
     ]
    },
    {
     "output_type": "stream",
     "name": "stdout",
     "text": [
      "remove image Cropped_Images/153512.jpg\n",
      "remove image Cropped_Images/153516.jpg\n"
     ]
    },
    {
     "output_type": "stream",
     "name": "stderr",
     "text": [
      "52092it [13:11, 65.46it/s]"
     ]
    },
    {
     "output_type": "stream",
     "name": "stdout",
     "text": [
      "remove image Cropped_Images/153556.jpg\n"
     ]
    },
    {
     "output_type": "stream",
     "name": "stderr",
     "text": [
      "52134it [13:11, 61.98it/s]"
     ]
    },
    {
     "output_type": "stream",
     "name": "stdout",
     "text": [
      "remove image Cropped_Images/153597.jpg\n"
     ]
    },
    {
     "output_type": "stream",
     "name": "stderr",
     "text": [
      "52155it [13:12, 61.70it/s]"
     ]
    },
    {
     "output_type": "stream",
     "name": "stdout",
     "text": [
      "remove image Cropped_Images/153621.jpg\n"
     ]
    },
    {
     "output_type": "stream",
     "name": "stderr",
     "text": [
      "52278it [13:13, 70.29it/s]"
     ]
    },
    {
     "output_type": "stream",
     "name": "stdout",
     "text": [
      "remove image Cropped_Images/153749.jpg\n"
     ]
    },
    {
     "output_type": "stream",
     "name": "stderr",
     "text": [
      "52338it [13:14, 67.94it/s]"
     ]
    },
    {
     "output_type": "stream",
     "name": "stdout",
     "text": [
      "remove image Cropped_Images/153805.jpg\n"
     ]
    },
    {
     "output_type": "stream",
     "name": "stderr",
     "text": [
      "52394it [13:15, 63.03it/s]"
     ]
    },
    {
     "output_type": "stream",
     "name": "stdout",
     "text": [
      "remove image Cropped_Images/153866.jpg\n",
      "remove image Cropped_Images/153868.jpg\n"
     ]
    },
    {
     "output_type": "stream",
     "name": "stderr",
     "text": [
      "52450it [13:16, 64.02it/s]"
     ]
    },
    {
     "output_type": "stream",
     "name": "stdout",
     "text": [
      "remove image Cropped_Images/153932.jpg\n"
     ]
    },
    {
     "output_type": "stream",
     "name": "stderr",
     "text": [
      "52629it [13:19, 70.39it/s]"
     ]
    },
    {
     "output_type": "stream",
     "name": "stdout",
     "text": [
      "remove image Cropped_Images/154110.jpg\n"
     ]
    },
    {
     "output_type": "stream",
     "name": "stderr",
     "text": [
      "52653it [13:19, 68.58it/s]"
     ]
    },
    {
     "output_type": "stream",
     "name": "stdout",
     "text": [
      "remove image Cropped_Images/154142.jpg\n"
     ]
    },
    {
     "output_type": "stream",
     "name": "stderr",
     "text": [
      "52759it [13:21, 68.66it/s]"
     ]
    },
    {
     "output_type": "stream",
     "name": "stdout",
     "text": [
      "remove image Cropped_Images/154250.jpg\n"
     ]
    },
    {
     "output_type": "stream",
     "name": "stderr",
     "text": [
      "52783it [13:21, 70.45it/s]"
     ]
    },
    {
     "output_type": "stream",
     "name": "stdout",
     "text": [
      "remove image Cropped_Images/154274.jpg\n"
     ]
    },
    {
     "output_type": "stream",
     "name": "stderr",
     "text": [
      "52798it [13:21, 68.96it/s]"
     ]
    },
    {
     "output_type": "stream",
     "name": "stdout",
     "text": [
      "remove image Cropped_Images/154290.jpg\n"
     ]
    },
    {
     "output_type": "stream",
     "name": "stderr",
     "text": [
      "52912it [13:23, 68.88it/s]"
     ]
    },
    {
     "output_type": "stream",
     "name": "stdout",
     "text": [
      "remove image Cropped_Images/154402.jpg\n",
      "remove image Cropped_Images/154405.jpg\n"
     ]
    },
    {
     "output_type": "stream",
     "name": "stderr",
     "text": [
      "52934it [13:23, 69.13it/s]"
     ]
    },
    {
     "output_type": "stream",
     "name": "stdout",
     "text": [
      "remove image Cropped_Images/154422.jpg\n",
      "remove image Cropped_Images/154434.jpg\n"
     ]
    },
    {
     "output_type": "stream",
     "name": "stderr",
     "text": [
      "52963it [13:24, 67.44it/s]"
     ]
    },
    {
     "output_type": "stream",
     "name": "stdout",
     "text": [
      "remove image Cropped_Images/154456.jpg\n"
     ]
    },
    {
     "output_type": "stream",
     "name": "stderr",
     "text": [
      "52984it [13:24, 64.40it/s]"
     ]
    },
    {
     "output_type": "stream",
     "name": "stdout",
     "text": [
      "remove image Cropped_Images/154474.jpg\n"
     ]
    },
    {
     "output_type": "stream",
     "name": "stderr",
     "text": [
      "53012it [13:25, 63.22it/s]"
     ]
    },
    {
     "output_type": "stream",
     "name": "stdout",
     "text": [
      "remove image Cropped_Images/154506.jpg\n"
     ]
    },
    {
     "output_type": "stream",
     "name": "stderr",
     "text": [
      "53040it [13:25, 63.56it/s]"
     ]
    },
    {
     "output_type": "stream",
     "name": "stdout",
     "text": [
      "remove image Cropped_Images/154534.jpg\n"
     ]
    },
    {
     "output_type": "stream",
     "name": "stderr",
     "text": [
      "53089it [13:26, 65.17it/s]"
     ]
    },
    {
     "output_type": "stream",
     "name": "stdout",
     "text": [
      "remove image Cropped_Images/154582.jpg\n"
     ]
    },
    {
     "output_type": "stream",
     "name": "stderr",
     "text": [
      "53188it [13:27, 67.55it/s]"
     ]
    },
    {
     "output_type": "stream",
     "name": "stdout",
     "text": [
      "remove image Cropped_Images/154691.jpg\n"
     ]
    },
    {
     "output_type": "stream",
     "name": "stderr",
     "text": [
      "53253it [13:28, 65.55it/s]"
     ]
    },
    {
     "output_type": "stream",
     "name": "stdout",
     "text": [
      "remove image Cropped_Images/154752.jpg\n",
      "remove image Cropped_Images/154765.jpg\n"
     ]
    },
    {
     "output_type": "stream",
     "name": "stderr",
     "text": [
      "53337it [13:29, 65.87it/s]"
     ]
    },
    {
     "output_type": "stream",
     "name": "stdout",
     "text": [
      "remove image Cropped_Images/154842.jpg\n"
     ]
    },
    {
     "output_type": "stream",
     "name": "stderr",
     "text": [
      "53373it [13:30, 66.98it/s]"
     ]
    },
    {
     "output_type": "stream",
     "name": "stdout",
     "text": [
      "remove image Cropped_Images/154882.jpg\n"
     ]
    },
    {
     "output_type": "stream",
     "name": "stderr",
     "text": [
      "53640it [13:34, 73.05it/s]"
     ]
    },
    {
     "output_type": "stream",
     "name": "stdout",
     "text": [
      "remove image Cropped_Images/155156.jpg\n"
     ]
    },
    {
     "output_type": "stream",
     "name": "stderr",
     "text": [
      "53777it [13:36, 67.97it/s]"
     ]
    },
    {
     "output_type": "stream",
     "name": "stdout",
     "text": [
      "remove image Cropped_Images/155303.jpg\n"
     ]
    },
    {
     "output_type": "stream",
     "name": "stderr",
     "text": [
      "53851it [13:37, 67.74it/s]"
     ]
    },
    {
     "output_type": "stream",
     "name": "stdout",
     "text": [
      "remove image Cropped_Images/155376.jpg\n"
     ]
    },
    {
     "output_type": "stream",
     "name": "stderr",
     "text": [
      "53886it [13:38, 67.71it/s]"
     ]
    },
    {
     "output_type": "stream",
     "name": "stdout",
     "text": [
      "remove image Cropped_Images/155420.jpg\n"
     ]
    },
    {
     "output_type": "stream",
     "name": "stderr",
     "text": [
      "53970it [13:39, 65.19it/s]"
     ]
    },
    {
     "output_type": "stream",
     "name": "stdout",
     "text": [
      "remove image Cropped_Images/155504.jpg\n"
     ]
    },
    {
     "output_type": "stream",
     "name": "stderr",
     "text": [
      "54019it [13:40, 64.43it/s]"
     ]
    },
    {
     "output_type": "stream",
     "name": "stdout",
     "text": [
      "remove image Cropped_Images/155558.jpg\n"
     ]
    },
    {
     "output_type": "stream",
     "name": "stderr",
     "text": [
      "54054it [13:40, 66.23it/s]"
     ]
    },
    {
     "output_type": "stream",
     "name": "stdout",
     "text": [
      "remove image Cropped_Images/155591.jpg\n",
      "remove image Cropped_Images/155606.jpg\n"
     ]
    },
    {
     "output_type": "stream",
     "name": "stderr",
     "text": [
      "54096it [13:41, 65.25it/s]"
     ]
    },
    {
     "output_type": "stream",
     "name": "stdout",
     "text": [
      "remove image Cropped_Images/155637.jpg\n",
      "remove image Cropped_Images/155641.jpg\n"
     ]
    },
    {
     "output_type": "stream",
     "name": "stderr",
     "text": [
      "54124it [13:41, 63.93it/s]"
     ]
    },
    {
     "output_type": "stream",
     "name": "stdout",
     "text": [
      "remove image Cropped_Images/155661.jpg\n",
      "remove image Cropped_Images/155673.jpg\n"
     ]
    },
    {
     "output_type": "stream",
     "name": "stderr",
     "text": [
      "54159it [13:42, 63.44it/s]"
     ]
    },
    {
     "output_type": "stream",
     "name": "stdout",
     "text": [
      "remove image Cropped_Images/155701.jpg\n"
     ]
    },
    {
     "output_type": "stream",
     "name": "stderr",
     "text": [
      "54215it [13:43, 61.60it/s]"
     ]
    },
    {
     "output_type": "stream",
     "name": "stdout",
     "text": [
      "remove image Cropped_Images/155759.jpg\n"
     ]
    },
    {
     "output_type": "stream",
     "name": "stderr",
     "text": [
      "54321it [13:44, 68.67it/s]"
     ]
    },
    {
     "output_type": "stream",
     "name": "stdout",
     "text": [
      "remove image Cropped_Images/155867.jpg\n"
     ]
    },
    {
     "output_type": "stream",
     "name": "stderr",
     "text": [
      "54353it [13:45, 71.64it/s]"
     ]
    },
    {
     "output_type": "stream",
     "name": "stdout",
     "text": [
      "remove image Cropped_Images/155893.jpg\n",
      "remove image Cropped_Images/155898.jpg\n"
     ]
    },
    {
     "output_type": "stream",
     "name": "stderr",
     "text": [
      "54383it [13:45, 68.42it/s]"
     ]
    },
    {
     "output_type": "stream",
     "name": "stdout",
     "text": [
      "remove image Cropped_Images/155931.jpg\n"
     ]
    },
    {
     "output_type": "stream",
     "name": "stderr",
     "text": [
      "54411it [13:46, 62.94it/s]"
     ]
    },
    {
     "output_type": "stream",
     "name": "stdout",
     "text": [
      "remove image Cropped_Images/155957.jpg\n"
     ]
    },
    {
     "output_type": "stream",
     "name": "stderr",
     "text": [
      "54530it [13:48, 65.71it/s]"
     ]
    },
    {
     "output_type": "stream",
     "name": "stdout",
     "text": [
      "remove image Cropped_Images/156082.jpg\n"
     ]
    },
    {
     "output_type": "stream",
     "name": "stderr",
     "text": [
      "54654it [13:49, 72.06it/s]"
     ]
    },
    {
     "output_type": "stream",
     "name": "stdout",
     "text": [
      "remove image Cropped_Images/156202.jpg\n"
     ]
    },
    {
     "output_type": "stream",
     "name": "stderr",
     "text": [
      "54720it [13:50, 60.71it/s]"
     ]
    },
    {
     "output_type": "stream",
     "name": "stdout",
     "text": [
      "remove image Cropped_Images/156275.jpg\n"
     ]
    },
    {
     "output_type": "stream",
     "name": "stderr",
     "text": [
      "54790it [13:51, 62.33it/s]"
     ]
    },
    {
     "output_type": "stream",
     "name": "stdout",
     "text": [
      "remove image Cropped_Images/156352.jpg\n"
     ]
    },
    {
     "output_type": "stream",
     "name": "stderr",
     "text": [
      "54846it [13:52, 66.72it/s]"
     ]
    },
    {
     "output_type": "stream",
     "name": "stdout",
     "text": [
      "remove image Cropped_Images/156407.jpg\n"
     ]
    },
    {
     "output_type": "stream",
     "name": "stderr",
     "text": [
      "54980it [13:54, 68.69it/s]"
     ]
    },
    {
     "output_type": "stream",
     "name": "stdout",
     "text": [
      "remove image Cropped_Images/156541.jpg\n"
     ]
    },
    {
     "output_type": "stream",
     "name": "stderr",
     "text": [
      "55079it [13:56, 66.70it/s]"
     ]
    },
    {
     "output_type": "stream",
     "name": "stdout",
     "text": [
      "remove image Cropped_Images/156644.jpg\n"
     ]
    },
    {
     "output_type": "stream",
     "name": "stderr",
     "text": [
      "55093it [13:56, 66.97it/s]"
     ]
    },
    {
     "output_type": "stream",
     "name": "stdout",
     "text": [
      "remove image Cropped_Images/156659.jpg\n"
     ]
    },
    {
     "output_type": "stream",
     "name": "stderr",
     "text": [
      "55115it [13:56, 66.77it/s]"
     ]
    },
    {
     "output_type": "stream",
     "name": "stdout",
     "text": [
      "remove image Cropped_Images/156684.jpg\n",
      "remove image Cropped_Images/156685.jpg\n",
      "remove image Cropped_Images/156687.jpg\n",
      "remove image Cropped_Images/156690.jpg\n"
     ]
    },
    {
     "output_type": "stream",
     "name": "stderr",
     "text": [
      "55227it [13:58, 60.59it/s]"
     ]
    },
    {
     "output_type": "stream",
     "name": "stdout",
     "text": [
      "remove image Cropped_Images/156801.jpg\n",
      "remove image Cropped_Images/156812.jpg\n"
     ]
    },
    {
     "output_type": "stream",
     "name": "stderr",
     "text": [
      "55269it [13:59, 63.20it/s]"
     ]
    },
    {
     "output_type": "stream",
     "name": "stdout",
     "text": [
      "remove image Cropped_Images/156839.jpg\n"
     ]
    },
    {
     "output_type": "stream",
     "name": "stderr",
     "text": [
      "55297it [13:59, 59.79it/s]"
     ]
    },
    {
     "output_type": "stream",
     "name": "stdout",
     "text": [
      "remove image Cropped_Images/156870.jpg\n"
     ]
    },
    {
     "output_type": "stream",
     "name": "stderr",
     "text": [
      "55316it [14:00, 59.18it/s]"
     ]
    },
    {
     "output_type": "stream",
     "name": "stdout",
     "text": [
      "remove image Cropped_Images/156887.jpg\n",
      "remove image Cropped_Images/156895.jpg\n"
     ]
    },
    {
     "output_type": "stream",
     "name": "stderr",
     "text": [
      "55382it [14:01, 61.92it/s]"
     ]
    },
    {
     "output_type": "stream",
     "name": "stdout",
     "text": [
      "remove image Cropped_Images/156957.jpg\n",
      "remove image Cropped_Images/156962.jpg\n"
     ]
    },
    {
     "output_type": "stream",
     "name": "stderr",
     "text": [
      "55417it [14:01, 64.11it/s]"
     ]
    },
    {
     "output_type": "stream",
     "name": "stdout",
     "text": [
      "remove image Cropped_Images/156994.jpg\n",
      "remove image Cropped_Images/157002.jpg\n"
     ]
    },
    {
     "output_type": "stream",
     "name": "stderr",
     "text": [
      "55459it [14:02, 63.79it/s]"
     ]
    },
    {
     "output_type": "stream",
     "name": "stdout",
     "text": [
      "remove image Cropped_Images/157039.jpg\n"
     ]
    },
    {
     "output_type": "stream",
     "name": "stderr",
     "text": [
      "55508it [14:03, 62.17it/s]"
     ]
    },
    {
     "output_type": "stream",
     "name": "stdout",
     "text": [
      "remove image Cropped_Images/157088.jpg\n"
     ]
    },
    {
     "output_type": "stream",
     "name": "stderr",
     "text": [
      "55536it [14:03, 63.41it/s]"
     ]
    },
    {
     "output_type": "stream",
     "name": "stdout",
     "text": [
      "remove image Cropped_Images/157117.jpg\n"
     ]
    },
    {
     "output_type": "stream",
     "name": "stderr",
     "text": [
      "55564it [14:04, 61.14it/s]"
     ]
    },
    {
     "output_type": "stream",
     "name": "stdout",
     "text": [
      "remove image Cropped_Images/157146.jpg\n"
     ]
    },
    {
     "output_type": "stream",
     "name": "stderr",
     "text": [
      "55571it [14:04, 61.13it/s]"
     ]
    },
    {
     "output_type": "stream",
     "name": "stdout",
     "text": [
      "remove image Cropped_Images/157161.jpg\n"
     ]
    },
    {
     "output_type": "stream",
     "name": "stderr",
     "text": [
      "55620it [14:05, 63.62it/s]"
     ]
    },
    {
     "output_type": "stream",
     "name": "stdout",
     "text": [
      "remove image Cropped_Images/157211.jpg\n"
     ]
    },
    {
     "output_type": "stream",
     "name": "stderr",
     "text": [
      "55718it [14:06, 65.68it/s]"
     ]
    },
    {
     "output_type": "stream",
     "name": "stdout",
     "text": [
      "remove image Cropped_Images/157309.jpg\n"
     ]
    },
    {
     "output_type": "stream",
     "name": "stderr",
     "text": [
      "55753it [14:07, 65.17it/s]"
     ]
    },
    {
     "output_type": "stream",
     "name": "stdout",
     "text": [
      "remove image Cropped_Images/157350.jpg\n"
     ]
    },
    {
     "output_type": "stream",
     "name": "stderr",
     "text": [
      "55767it [14:07, 64.37it/s]"
     ]
    },
    {
     "output_type": "stream",
     "name": "stdout",
     "text": [
      "remove image Cropped_Images/157365.jpg\n"
     ]
    },
    {
     "output_type": "stream",
     "name": "stderr",
     "text": [
      "55795it [14:07, 61.22it/s]"
     ]
    },
    {
     "output_type": "stream",
     "name": "stdout",
     "text": [
      "remove image Cropped_Images/157394.jpg\n"
     ]
    },
    {
     "output_type": "stream",
     "name": "stderr",
     "text": [
      "55809it [14:07, 61.02it/s]"
     ]
    },
    {
     "output_type": "stream",
     "name": "stdout",
     "text": [
      "remove image Cropped_Images/157409.jpg\n",
      "remove image Cropped_Images/157410.jpg\n",
      "remove image Cropped_Images/157416.jpg\n"
     ]
    },
    {
     "output_type": "stream",
     "name": "stderr",
     "text": [
      "55893it [14:09, 63.70it/s]"
     ]
    },
    {
     "output_type": "stream",
     "name": "stdout",
     "text": [
      "remove image Cropped_Images/157498.jpg\n"
     ]
    },
    {
     "output_type": "stream",
     "name": "stderr",
     "text": [
      "55907it [14:09, 64.53it/s]"
     ]
    },
    {
     "output_type": "stream",
     "name": "stdout",
     "text": [
      "remove image Cropped_Images/157512.jpg\n"
     ]
    },
    {
     "output_type": "stream",
     "name": "stderr",
     "text": [
      "56026it [14:11, 65.60it/s]"
     ]
    },
    {
     "output_type": "stream",
     "name": "stdout",
     "text": [
      "remove image Cropped_Images/157628.jpg\n"
     ]
    },
    {
     "output_type": "stream",
     "name": "stderr",
     "text": [
      "56198it [14:13, 70.38it/s]"
     ]
    },
    {
     "output_type": "stream",
     "name": "stdout",
     "text": [
      "remove image Cropped_Images/157806.jpg\n"
     ]
    },
    {
     "output_type": "stream",
     "name": "stderr",
     "text": [
      "56401it [14:17, 71.29it/s]"
     ]
    },
    {
     "output_type": "stream",
     "name": "stdout",
     "text": [
      "remove image Cropped_Images/158010.jpg\n"
     ]
    },
    {
     "output_type": "stream",
     "name": "stderr",
     "text": [
      "56440it [14:17, 68.88it/s]"
     ]
    },
    {
     "output_type": "stream",
     "name": "stdout",
     "text": [
      "remove image Cropped_Images/158054.jpg\n"
     ]
    },
    {
     "output_type": "stream",
     "name": "stderr",
     "text": [
      "56475it [14:18, 63.93it/s]"
     ]
    },
    {
     "output_type": "stream",
     "name": "stdout",
     "text": [
      "remove image Cropped_Images/158092.jpg\n"
     ]
    },
    {
     "output_type": "stream",
     "name": "stderr",
     "text": [
      "56510it [14:18, 62.29it/s]"
     ]
    },
    {
     "output_type": "stream",
     "name": "stdout",
     "text": [
      "remove image Cropped_Images/158127.jpg\n"
     ]
    },
    {
     "output_type": "stream",
     "name": "stderr",
     "text": [
      "56606it [14:20, 62.19it/s]"
     ]
    },
    {
     "output_type": "stream",
     "name": "stdout",
     "text": [
      "remove image Cropped_Images/158229.jpg\n"
     ]
    },
    {
     "output_type": "stream",
     "name": "stderr",
     "text": [
      "56677it [14:21, 66.94it/s]"
     ]
    },
    {
     "output_type": "stream",
     "name": "stdout",
     "text": [
      "remove image Cropped_Images/158301.jpg\n"
     ]
    },
    {
     "output_type": "stream",
     "name": "stderr",
     "text": [
      "56733it [14:22, 66.25it/s]"
     ]
    },
    {
     "output_type": "stream",
     "name": "stdout",
     "text": [
      "remove image Cropped_Images/158358.jpg\n"
     ]
    },
    {
     "output_type": "stream",
     "name": "stderr",
     "text": [
      "56954it [14:25, 69.57it/s]"
     ]
    },
    {
     "output_type": "stream",
     "name": "stdout",
     "text": [
      "remove image Cropped_Images/158589.jpg\n"
     ]
    },
    {
     "output_type": "stream",
     "name": "stderr",
     "text": [
      "57076it [14:27, 67.80it/s]"
     ]
    },
    {
     "output_type": "stream",
     "name": "stdout",
     "text": [
      "remove image Cropped_Images/158723.jpg\n"
     ]
    },
    {
     "output_type": "stream",
     "name": "stderr",
     "text": [
      "57223it [14:29, 70.42it/s]"
     ]
    },
    {
     "output_type": "stream",
     "name": "stdout",
     "text": [
      "remove image Cropped_Images/158872.jpg\n"
     ]
    },
    {
     "output_type": "stream",
     "name": "stderr",
     "text": [
      "57316it [14:31, 61.82it/s]"
     ]
    },
    {
     "output_type": "stream",
     "name": "stdout",
     "text": [
      "remove image Cropped_Images/158962.jpg\n",
      "remove image Cropped_Images/158968.jpg\n"
     ]
    },
    {
     "output_type": "stream",
     "name": "stderr",
     "text": [
      "57358it [14:31, 64.07it/s]"
     ]
    },
    {
     "output_type": "stream",
     "name": "stdout",
     "text": [
      "remove image Cropped_Images/159004.jpg\n"
     ]
    },
    {
     "output_type": "stream",
     "name": "stderr",
     "text": [
      "57379it [14:32, 62.06it/s]"
     ]
    },
    {
     "output_type": "stream",
     "name": "stdout",
     "text": [
      "remove image Cropped_Images/159030.jpg\n"
     ]
    },
    {
     "output_type": "stream",
     "name": "stderr",
     "text": [
      "57442it [14:33, 65.22it/s]"
     ]
    },
    {
     "output_type": "stream",
     "name": "stdout",
     "text": [
      "remove image Cropped_Images/159093.jpg\n",
      "remove image Cropped_Images/159099.jpg\n"
     ]
    },
    {
     "output_type": "stream",
     "name": "stderr",
     "text": [
      "57456it [14:33, 65.44it/s]"
     ]
    },
    {
     "output_type": "stream",
     "name": "stdout",
     "text": [
      "remove image Cropped_Images/159112.jpg\n"
     ]
    },
    {
     "output_type": "stream",
     "name": "stderr",
     "text": [
      "57498it [14:33, 63.83it/s]"
     ]
    },
    {
     "output_type": "stream",
     "name": "stdout",
     "text": [
      "remove image Cropped_Images/159159.jpg\n"
     ]
    },
    {
     "output_type": "stream",
     "name": "stderr",
     "text": [
      "57582it [14:35, 63.20it/s]"
     ]
    },
    {
     "output_type": "stream",
     "name": "stdout",
     "text": [
      "remove image Cropped_Images/159246.jpg\n",
      "remove image Cropped_Images/159247.jpg\n"
     ]
    },
    {
     "output_type": "stream",
     "name": "stderr",
     "text": [
      "57624it [14:35, 63.75it/s]"
     ]
    },
    {
     "output_type": "stream",
     "name": "stdout",
     "text": [
      "remove image Cropped_Images/159289.jpg\n"
     ]
    },
    {
     "output_type": "stream",
     "name": "stderr",
     "text": [
      "57666it [14:36, 64.45it/s]"
     ]
    },
    {
     "output_type": "stream",
     "name": "stdout",
     "text": [
      "remove image Cropped_Images/159335.jpg\n"
     ]
    },
    {
     "output_type": "stream",
     "name": "stderr",
     "text": [
      "57729it [14:37, 66.90it/s]"
     ]
    },
    {
     "output_type": "stream",
     "name": "stdout",
     "text": [
      "remove image Cropped_Images/159398.jpg\n",
      "remove image Cropped_Images/159401.jpg\n"
     ]
    },
    {
     "output_type": "stream",
     "name": "stderr",
     "text": [
      "57855it [14:39, 66.11it/s]"
     ]
    },
    {
     "output_type": "stream",
     "name": "stdout",
     "text": [
      "remove image Cropped_Images/159530.jpg\n"
     ]
    },
    {
     "output_type": "stream",
     "name": "stderr",
     "text": [
      "57876it [14:39, 67.78it/s]"
     ]
    },
    {
     "output_type": "stream",
     "name": "stdout",
     "text": [
      "remove image Cropped_Images/159546.jpg\n"
     ]
    },
    {
     "output_type": "stream",
     "name": "stderr",
     "text": [
      "57905it [14:40, 66.31it/s]"
     ]
    },
    {
     "output_type": "stream",
     "name": "stdout",
     "text": [
      "remove image Cropped_Images/159586.jpg\n",
      "remove image Cropped_Images/159594.jpg\n"
     ]
    },
    {
     "output_type": "stream",
     "name": "stderr",
     "text": [
      "58019it [14:41, 67.98it/s]"
     ]
    },
    {
     "output_type": "stream",
     "name": "stdout",
     "text": [
      "remove image Cropped_Images/159698.jpg\n"
     ]
    },
    {
     "output_type": "stream",
     "name": "stderr",
     "text": [
      "58033it [14:42, 67.34it/s]"
     ]
    },
    {
     "output_type": "stream",
     "name": "stdout",
     "text": [
      "remove image Cropped_Images/159714.jpg\n"
     ]
    },
    {
     "output_type": "stream",
     "name": "stderr",
     "text": [
      "58047it [14:42, 66.92it/s]"
     ]
    },
    {
     "output_type": "stream",
     "name": "stdout",
     "text": [
      "remove image Cropped_Images/159728.jpg\n",
      "remove image Cropped_Images/159734.jpg\n"
     ]
    },
    {
     "output_type": "stream",
     "name": "stderr",
     "text": [
      "58089it [14:43, 61.43it/s]"
     ]
    },
    {
     "output_type": "stream",
     "name": "stdout",
     "text": [
      "remove image Cropped_Images/159772.jpg\n",
      "remove image Cropped_Images/159776.jpg\n"
     ]
    },
    {
     "output_type": "stream",
     "name": "stderr",
     "text": [
      "58138it [14:43, 63.48it/s]"
     ]
    },
    {
     "output_type": "stream",
     "name": "stdout",
     "text": [
      "remove image Cropped_Images/159819.jpg\n",
      "remove image Cropped_Images/159821.jpg\n",
      "remove image Cropped_Images/159823.jpg\n"
     ]
    },
    {
     "output_type": "stream",
     "name": "stderr",
     "text": [
      "58166it [14:44, 64.37it/s]"
     ]
    },
    {
     "output_type": "stream",
     "name": "stdout",
     "text": [
      "remove image Cropped_Images/159850.jpg\n",
      "remove image Cropped_Images/159861.jpg\n"
     ]
    },
    {
     "output_type": "stream",
     "name": "stderr",
     "text": [
      "58201it [14:44, 65.06it/s]"
     ]
    },
    {
     "output_type": "stream",
     "name": "stdout",
     "text": [
      "remove image Cropped_Images/159886.jpg\n"
     ]
    },
    {
     "output_type": "stream",
     "name": "stderr",
     "text": [
      "58338it [14:46, 69.66it/s]"
     ]
    },
    {
     "output_type": "stream",
     "name": "stdout",
     "text": [
      "remove image Cropped_Images/160026.jpg\n"
     ]
    },
    {
     "output_type": "stream",
     "name": "stderr",
     "text": [
      "58492it [14:49, 71.51it/s]"
     ]
    },
    {
     "output_type": "stream",
     "name": "stdout",
     "text": [
      "remove image Cropped_Images/160184.jpg\n",
      "remove image Cropped_Images/160198.jpg\n"
     ]
    },
    {
     "output_type": "stream",
     "name": "stderr",
     "text": [
      "58531it [14:49, 68.95it/s]"
     ]
    },
    {
     "output_type": "stream",
     "name": "stdout",
     "text": [
      "remove image Cropped_Images/160224.jpg\n"
     ]
    },
    {
     "output_type": "stream",
     "name": "stderr",
     "text": [
      "58538it [14:49, 67.37it/s]"
     ]
    },
    {
     "output_type": "stream",
     "name": "stdout",
     "text": [
      "remove image Cropped_Images/160239.jpg\n",
      "remove image Cropped_Images/160241.jpg\n",
      "remove image Cropped_Images/160245.jpg\n"
     ]
    },
    {
     "output_type": "stream",
     "name": "stderr",
     "text": [
      "58615it [14:51, 62.94it/s]"
     ]
    },
    {
     "output_type": "stream",
     "name": "stdout",
     "text": [
      "remove image Cropped_Images/160313.jpg\n"
     ]
    },
    {
     "output_type": "stream",
     "name": "stderr",
     "text": [
      "58671it [14:51, 64.88it/s]"
     ]
    },
    {
     "output_type": "stream",
     "name": "stdout",
     "text": [
      "remove image Cropped_Images/160372.jpg\n"
     ]
    },
    {
     "output_type": "stream",
     "name": "stderr",
     "text": [
      "58769it [14:53, 66.46it/s]"
     ]
    },
    {
     "output_type": "stream",
     "name": "stdout",
     "text": [
      "remove image Cropped_Images/160473.jpg\n"
     ]
    },
    {
     "output_type": "stream",
     "name": "stderr",
     "text": [
      "58797it [14:53, 66.98it/s]"
     ]
    },
    {
     "output_type": "stream",
     "name": "stdout",
     "text": [
      "remove image Cropped_Images/160504.jpg\n"
     ]
    },
    {
     "output_type": "stream",
     "name": "stderr",
     "text": [
      "58846it [14:54, 63.75it/s]"
     ]
    },
    {
     "output_type": "stream",
     "name": "stdout",
     "text": [
      "remove image Cropped_Images/160558.jpg\n"
     ]
    },
    {
     "output_type": "stream",
     "name": "stderr",
     "text": [
      "58916it [14:55, 64.43it/s]"
     ]
    },
    {
     "output_type": "stream",
     "name": "stdout",
     "text": [
      "remove image Cropped_Images/160633.jpg\n"
     ]
    },
    {
     "output_type": "stream",
     "name": "stderr",
     "text": [
      "58972it [14:56, 66.03it/s]"
     ]
    },
    {
     "output_type": "stream",
     "name": "stdout",
     "text": [
      "remove image Cropped_Images/160686.jpg\n"
     ]
    },
    {
     "output_type": "stream",
     "name": "stderr",
     "text": [
      "59021it [14:57, 65.20it/s]"
     ]
    },
    {
     "output_type": "stream",
     "name": "stdout",
     "text": [
      "remove image Cropped_Images/160742.jpg\n"
     ]
    },
    {
     "output_type": "stream",
     "name": "stderr",
     "text": [
      "59144it [14:59, 70.96it/s]"
     ]
    },
    {
     "output_type": "stream",
     "name": "stdout",
     "text": [
      "remove image Cropped_Images/160868.jpg\n",
      "remove image Cropped_Images/160874.jpg\n",
      "remove image Cropped_Images/160876.jpg\n",
      "remove image Cropped_Images/160877.jpg\n",
      "remove image Cropped_Images/160883.jpg\n"
     ]
    },
    {
     "output_type": "stream",
     "name": "stderr",
     "text": [
      "59221it [15:00, 68.22it/s]"
     ]
    },
    {
     "output_type": "stream",
     "name": "stdout",
     "text": [
      "remove image Cropped_Images/160951.jpg\n",
      "remove image Cropped_Images/160955.jpg\n"
     ]
    },
    {
     "output_type": "stream",
     "name": "stderr",
     "text": [
      "59327it [15:01, 68.39it/s]"
     ]
    },
    {
     "output_type": "stream",
     "name": "stdout",
     "text": [
      "remove image Cropped_Images/161059.jpg\n",
      "remove image Cropped_Images/161072.jpg\n"
     ]
    },
    {
     "output_type": "stream",
     "name": "stderr",
     "text": [
      "59376it [15:02, 66.87it/s]"
     ]
    },
    {
     "output_type": "stream",
     "name": "stdout",
     "text": [
      "remove image Cropped_Images/161112.jpg\n"
     ]
    },
    {
     "output_type": "stream",
     "name": "stderr",
     "text": [
      "59404it [15:03, 63.81it/s]"
     ]
    },
    {
     "output_type": "stream",
     "name": "stdout",
     "text": [
      "remove image Cropped_Images/161140.jpg\n"
     ]
    },
    {
     "output_type": "stream",
     "name": "stderr",
     "text": [
      "59432it [15:03, 64.00it/s]"
     ]
    },
    {
     "output_type": "stream",
     "name": "stdout",
     "text": [
      "remove image Cropped_Images/161173.jpg\n"
     ]
    },
    {
     "output_type": "stream",
     "name": "stderr",
     "text": [
      "59453it [15:03, 65.02it/s]"
     ]
    },
    {
     "output_type": "stream",
     "name": "stdout",
     "text": [
      "remove image Cropped_Images/161195.jpg\n"
     ]
    },
    {
     "output_type": "stream",
     "name": "stderr",
     "text": [
      "59537it [15:05, 64.22it/s]"
     ]
    },
    {
     "output_type": "stream",
     "name": "stdout",
     "text": [
      "remove image Cropped_Images/161278.jpg\n"
     ]
    },
    {
     "output_type": "stream",
     "name": "stderr",
     "text": [
      "59621it [15:06, 65.59it/s]"
     ]
    },
    {
     "output_type": "stream",
     "name": "stdout",
     "text": [
      "remove image Cropped_Images/161364.jpg\n"
     ]
    },
    {
     "output_type": "stream",
     "name": "stderr",
     "text": [
      "59709it [15:07, 66.78it/s]"
     ]
    },
    {
     "output_type": "stream",
     "name": "stdout",
     "text": [
      "remove image Cropped_Images/161460.jpg\n"
     ]
    },
    {
     "output_type": "stream",
     "name": "stderr",
     "text": [
      "59780it [15:08, 63.88it/s]"
     ]
    },
    {
     "output_type": "stream",
     "name": "stdout",
     "text": [
      "remove image Cropped_Images/161528.jpg\n"
     ]
    },
    {
     "output_type": "stream",
     "name": "stderr",
     "text": [
      "59864it [15:10, 66.00it/s]"
     ]
    },
    {
     "output_type": "stream",
     "name": "stdout",
     "text": [
      "remove image Cropped_Images/161615.jpg\n"
     ]
    },
    {
     "output_type": "stream",
     "name": "stderr",
     "text": [
      "59963it [15:11, 69.58it/s]"
     ]
    },
    {
     "output_type": "stream",
     "name": "stdout",
     "text": [
      "remove image Cropped_Images/161712.jpg\n"
     ]
    },
    {
     "output_type": "stream",
     "name": "stderr",
     "text": [
      "59995it [15:11, 68.81it/s]"
     ]
    },
    {
     "output_type": "stream",
     "name": "stdout",
     "text": [
      "remove image Cropped_Images/161747.jpg\n"
     ]
    },
    {
     "output_type": "stream",
     "name": "stderr",
     "text": [
      "60023it [15:12, 64.15it/s]"
     ]
    },
    {
     "output_type": "stream",
     "name": "stdout",
     "text": [
      "remove image Cropped_Images/161782.jpg\n"
     ]
    },
    {
     "output_type": "stream",
     "name": "stderr",
     "text": [
      "60065it [15:13, 63.08it/s]"
     ]
    },
    {
     "output_type": "stream",
     "name": "stdout",
     "text": [
      "remove image Cropped_Images/161824.jpg\n"
     ]
    },
    {
     "output_type": "stream",
     "name": "stderr",
     "text": [
      "60114it [15:13, 63.81it/s]"
     ]
    },
    {
     "output_type": "stream",
     "name": "stdout",
     "text": [
      "remove image Cropped_Images/161867.jpg\n"
     ]
    },
    {
     "output_type": "stream",
     "name": "stderr",
     "text": [
      "60170it [15:14, 65.53it/s]"
     ]
    },
    {
     "output_type": "stream",
     "name": "stdout",
     "text": [
      "remove image Cropped_Images/161928.jpg\n"
     ]
    },
    {
     "output_type": "stream",
     "name": "stderr",
     "text": [
      "60212it [15:15, 65.71it/s]"
     ]
    },
    {
     "output_type": "stream",
     "name": "stdout",
     "text": [
      "remove image Cropped_Images/161969.jpg\n"
     ]
    },
    {
     "output_type": "stream",
     "name": "stderr",
     "text": [
      "60268it [15:16, 65.56it/s]"
     ]
    },
    {
     "output_type": "stream",
     "name": "stdout",
     "text": [
      "remove image Cropped_Images/162029.jpg\n"
     ]
    },
    {
     "output_type": "stream",
     "name": "stderr",
     "text": [
      "60296it [15:16, 63.79it/s]"
     ]
    },
    {
     "output_type": "stream",
     "name": "stdout",
     "text": [
      "remove image Cropped_Images/162056.jpg\n"
     ]
    },
    {
     "output_type": "stream",
     "name": "stderr",
     "text": [
      "60310it [15:16, 63.44it/s]"
     ]
    },
    {
     "output_type": "stream",
     "name": "stdout",
     "text": [
      "remove image Cropped_Images/162075.jpg\n"
     ]
    },
    {
     "output_type": "stream",
     "name": "stderr",
     "text": [
      "60366it [15:17, 63.19it/s]"
     ]
    },
    {
     "output_type": "stream",
     "name": "stdout",
     "text": [
      "remove image Cropped_Images/162132.jpg\n"
     ]
    },
    {
     "output_type": "stream",
     "name": "stderr",
     "text": [
      "60505it [15:19, 72.19it/s]"
     ]
    },
    {
     "output_type": "stream",
     "name": "stdout",
     "text": [
      "remove image Cropped_Images/162274.jpg\n"
     ]
    },
    {
     "output_type": "stream",
     "name": "stderr",
     "text": [
      "60647it [15:21, 71.37it/s]"
     ]
    },
    {
     "output_type": "stream",
     "name": "stdout",
     "text": [
      "remove image Cropped_Images/162419.jpg\n"
     ]
    },
    {
     "output_type": "stream",
     "name": "stderr",
     "text": [
      "60671it [15:22, 69.09it/s]"
     ]
    },
    {
     "output_type": "stream",
     "name": "stdout",
     "text": [
      "remove image Cropped_Images/162444.jpg\n",
      "remove image Cropped_Images/162455.jpg\n"
     ]
    },
    {
     "output_type": "stream",
     "name": "stderr",
     "text": [
      "60804it [15:24, 66.41it/s]"
     ]
    },
    {
     "output_type": "stream",
     "name": "stdout",
     "text": [
      "remove image Cropped_Images/162584.jpg\n"
     ]
    },
    {
     "output_type": "stream",
     "name": "stderr",
     "text": [
      "60936it [15:26, 72.00it/s]"
     ]
    },
    {
     "output_type": "stream",
     "name": "stdout",
     "text": [
      "remove image Cropped_Images/162720.jpg\n"
     ]
    },
    {
     "output_type": "stream",
     "name": "stderr",
     "text": [
      "61034it [15:27, 66.66it/s]"
     ]
    },
    {
     "output_type": "stream",
     "name": "stdout",
     "text": [
      "remove image Cropped_Images/162824.jpg\n"
     ]
    },
    {
     "output_type": "stream",
     "name": "stderr",
     "text": [
      "61155it [15:29, 68.68it/s]"
     ]
    },
    {
     "output_type": "stream",
     "name": "stdout",
     "text": [
      "remove image Cropped_Images/162952.jpg\n",
      "remove image Cropped_Images/162954.jpg\n"
     ]
    },
    {
     "output_type": "stream",
     "name": "stderr",
     "text": [
      "61244it [15:30, 67.77it/s]"
     ]
    },
    {
     "output_type": "stream",
     "name": "stdout",
     "text": [
      "remove image Cropped_Images/163045.jpg\n"
     ]
    },
    {
     "output_type": "stream",
     "name": "stderr",
     "text": [
      "61286it [15:31, 66.23it/s]"
     ]
    },
    {
     "output_type": "stream",
     "name": "stdout",
     "text": [
      "remove image Cropped_Images/163093.jpg\n"
     ]
    },
    {
     "output_type": "stream",
     "name": "stderr",
     "text": [
      "61480it [15:34, 71.64it/s]"
     ]
    },
    {
     "output_type": "stream",
     "name": "stdout",
     "text": [
      "remove image Cropped_Images/163291.jpg\n"
     ]
    },
    {
     "output_type": "stream",
     "name": "stderr",
     "text": [
      "61496it [15:34, 69.43it/s]"
     ]
    },
    {
     "output_type": "stream",
     "name": "stdout",
     "text": [
      "remove image Cropped_Images/163310.jpg\n"
     ]
    },
    {
     "output_type": "stream",
     "name": "stderr",
     "text": [
      "61518it [15:34, 68.19it/s]"
     ]
    },
    {
     "output_type": "stream",
     "name": "stdout",
     "text": [
      "remove image Cropped_Images/163338.jpg\n",
      "remove image Cropped_Images/163346.jpg\n"
     ]
    },
    {
     "output_type": "stream",
     "name": "stderr",
     "text": [
      "61602it [15:36, 61.73it/s]"
     ]
    },
    {
     "output_type": "stream",
     "name": "stdout",
     "text": [
      "remove image Cropped_Images/163421.jpg\n",
      "remove image Cropped_Images/163429.jpg\n"
     ]
    },
    {
     "output_type": "stream",
     "name": "stderr",
     "text": [
      "61630it [15:36, 65.53it/s]"
     ]
    },
    {
     "output_type": "stream",
     "name": "stdout",
     "text": [
      "remove image Cropped_Images/163446.jpg\n"
     ]
    },
    {
     "output_type": "stream",
     "name": "stderr",
     "text": [
      "61679it [15:37, 63.25it/s]"
     ]
    },
    {
     "output_type": "stream",
     "name": "stdout",
     "text": [
      "remove image Cropped_Images/163502.jpg\n",
      "remove image Cropped_Images/163513.jpg\n"
     ]
    },
    {
     "output_type": "stream",
     "name": "stderr",
     "text": [
      "61756it [15:38, 63.49it/s]"
     ]
    },
    {
     "output_type": "stream",
     "name": "stdout",
     "text": [
      "remove image Cropped_Images/163588.jpg\n",
      "remove image Cropped_Images/163592.jpg\n"
     ]
    },
    {
     "output_type": "stream",
     "name": "stderr",
     "text": [
      "61906it [15:40, 70.25it/s]"
     ]
    },
    {
     "output_type": "stream",
     "name": "stdout",
     "text": [
      "remove image Cropped_Images/163748.jpg\n"
     ]
    },
    {
     "output_type": "stream",
     "name": "stderr",
     "text": [
      "62024it [15:42, 69.64it/s]"
     ]
    },
    {
     "output_type": "stream",
     "name": "stdout",
     "text": [
      "remove image Cropped_Images/163870.jpg\n"
     ]
    },
    {
     "output_type": "stream",
     "name": "stderr",
     "text": [
      "62045it [15:43, 68.95it/s]"
     ]
    },
    {
     "output_type": "stream",
     "name": "stdout",
     "text": [
      "remove image Cropped_Images/163887.jpg\n"
     ]
    },
    {
     "output_type": "stream",
     "name": "stderr",
     "text": [
      "62101it [15:43, 62.04it/s]"
     ]
    },
    {
     "output_type": "stream",
     "name": "stdout",
     "text": [
      "remove image Cropped_Images/163946.jpg\n"
     ]
    },
    {
     "output_type": "stream",
     "name": "stderr",
     "text": [
      "62136it [15:44, 62.51it/s]"
     ]
    },
    {
     "output_type": "stream",
     "name": "stdout",
     "text": [
      "remove image Cropped_Images/163987.jpg\n"
     ]
    },
    {
     "output_type": "stream",
     "name": "stderr",
     "text": [
      "62150it [15:44, 64.13it/s]"
     ]
    },
    {
     "output_type": "stream",
     "name": "stdout",
     "text": [
      "remove image Cropped_Images/164005.jpg\n"
     ]
    },
    {
     "output_type": "stream",
     "name": "stderr",
     "text": [
      "62185it [15:45, 64.45it/s]"
     ]
    },
    {
     "output_type": "stream",
     "name": "stdout",
     "text": [
      "remove image Cropped_Images/164039.jpg\n"
     ]
    },
    {
     "output_type": "stream",
     "name": "stderr",
     "text": [
      "62255it [15:46, 66.66it/s]"
     ]
    },
    {
     "output_type": "stream",
     "name": "stdout",
     "text": [
      "remove image Cropped_Images/164115.jpg\n"
     ]
    },
    {
     "output_type": "stream",
     "name": "stderr",
     "text": [
      "62269it [15:46, 65.35it/s]"
     ]
    },
    {
     "output_type": "stream",
     "name": "stdout",
     "text": [
      "remove image Cropped_Images/164131.jpg\n"
     ]
    },
    {
     "output_type": "stream",
     "name": "stderr",
     "text": [
      "62311it [15:47, 64.94it/s]"
     ]
    },
    {
     "output_type": "stream",
     "name": "stdout",
     "text": [
      "remove image Cropped_Images/164177.jpg\n"
     ]
    },
    {
     "output_type": "stream",
     "name": "stderr",
     "text": [
      "62325it [15:47, 65.05it/s]"
     ]
    },
    {
     "output_type": "stream",
     "name": "stdout",
     "text": [
      "remove image Cropped_Images/164192.jpg\n"
     ]
    },
    {
     "output_type": "stream",
     "name": "stderr",
     "text": [
      "62360it [15:47, 62.79it/s]"
     ]
    },
    {
     "output_type": "stream",
     "name": "stdout",
     "text": [
      "remove image Cropped_Images/164224.jpg\n"
     ]
    },
    {
     "output_type": "stream",
     "name": "stderr",
     "text": [
      "62381it [15:48, 61.85it/s]"
     ]
    },
    {
     "output_type": "stream",
     "name": "stdout",
     "text": [
      "remove image Cropped_Images/164252.jpg\n"
     ]
    },
    {
     "output_type": "stream",
     "name": "stderr",
     "text": [
      "62402it [15:48, 62.46it/s]"
     ]
    },
    {
     "output_type": "stream",
     "name": "stdout",
     "text": [
      "remove image Cropped_Images/164275.jpg\n"
     ]
    },
    {
     "output_type": "stream",
     "name": "stderr",
     "text": [
      "62480it [15:49, 67.46it/s]"
     ]
    },
    {
     "output_type": "stream",
     "name": "stdout",
     "text": [
      "remove image Cropped_Images/164353.jpg\n",
      "remove image Cropped_Images/164367.jpg\n"
     ]
    },
    {
     "output_type": "stream",
     "name": "stderr",
     "text": [
      "62494it [15:50, 65.84it/s]"
     ]
    },
    {
     "output_type": "stream",
     "name": "stdout",
     "text": [
      "remove image Cropped_Images/164370.jpg\n"
     ]
    },
    {
     "output_type": "stream",
     "name": "stderr",
     "text": [
      "62515it [15:50, 65.85it/s]"
     ]
    },
    {
     "output_type": "stream",
     "name": "stdout",
     "text": [
      "remove image Cropped_Images/164391.jpg\n"
     ]
    },
    {
     "output_type": "stream",
     "name": "stderr",
     "text": [
      "62613it [15:51, 66.81it/s]"
     ]
    },
    {
     "output_type": "stream",
     "name": "stdout",
     "text": [
      "remove image Cropped_Images/164493.jpg\n"
     ]
    },
    {
     "output_type": "stream",
     "name": "stderr",
     "text": [
      "62641it [15:52, 65.67it/s]"
     ]
    },
    {
     "output_type": "stream",
     "name": "stdout",
     "text": [
      "remove image Cropped_Images/164522.jpg\n",
      "remove image Cropped_Images/164530.jpg\n"
     ]
    },
    {
     "output_type": "stream",
     "name": "stderr",
     "text": [
      "62770it [15:54, 68.29it/s]"
     ]
    },
    {
     "output_type": "stream",
     "name": "stdout",
     "text": [
      "remove image Cropped_Images/164658.jpg\n"
     ]
    },
    {
     "output_type": "stream",
     "name": "stderr",
     "text": [
      "62833it [15:55, 62.76it/s]"
     ]
    },
    {
     "output_type": "stream",
     "name": "stdout",
     "text": [
      "remove image Cropped_Images/164720.jpg\n"
     ]
    },
    {
     "output_type": "stream",
     "name": "stderr",
     "text": [
      "62868it [15:55, 58.26it/s]"
     ]
    },
    {
     "output_type": "stream",
     "name": "stdout",
     "text": [
      "remove image Cropped_Images/164761.jpg\n"
     ]
    },
    {
     "output_type": "stream",
     "name": "stderr",
     "text": [
      "62932it [15:56, 61.88it/s]"
     ]
    },
    {
     "output_type": "stream",
     "name": "stdout",
     "text": [
      "remove image Cropped_Images/164822.jpg\n"
     ]
    },
    {
     "output_type": "stream",
     "name": "stderr",
     "text": [
      "63116it [16:00, 68.31it/s]"
     ]
    },
    {
     "output_type": "stream",
     "name": "stdout",
     "text": [
      "remove image Cropped_Images/165017.jpg\n",
      "remove image Cropped_Images/165022.jpg\n",
      "remove image Cropped_Images/165023.jpg\n",
      "remove image Cropped_Images/165024.jpg\n"
     ]
    },
    {
     "output_type": "stream",
     "name": "stderr",
     "text": [
      "63166it [16:00, 67.13it/s]"
     ]
    },
    {
     "output_type": "stream",
     "name": "stdout",
     "text": [
      "remove image Cropped_Images/165068.jpg\n",
      "remove image Cropped_Images/165069.jpg\n"
     ]
    },
    {
     "output_type": "stream",
     "name": "stderr",
     "text": [
      "63265it [16:02, 66.92it/s]"
     ]
    },
    {
     "output_type": "stream",
     "name": "stdout",
     "text": [
      "remove image Cropped_Images/165167.jpg\n"
     ]
    },
    {
     "output_type": "stream",
     "name": "stderr",
     "text": [
      "63301it [16:02, 65.40it/s]"
     ]
    },
    {
     "output_type": "stream",
     "name": "stdout",
     "text": [
      "remove image Cropped_Images/165207.jpg\n"
     ]
    },
    {
     "output_type": "stream",
     "name": "stderr",
     "text": [
      "63370it [16:03, 58.66it/s]"
     ]
    },
    {
     "output_type": "stream",
     "name": "stdout",
     "text": [
      "remove image Cropped_Images/165284.jpg\n"
     ]
    },
    {
     "output_type": "stream",
     "name": "stderr",
     "text": [
      "63404it [16:04, 63.58it/s]"
     ]
    },
    {
     "output_type": "stream",
     "name": "stdout",
     "text": [
      "remove image Cropped_Images/165318.jpg\n"
     ]
    },
    {
     "output_type": "stream",
     "name": "stderr",
     "text": [
      "63425it [16:04, 64.98it/s]"
     ]
    },
    {
     "output_type": "stream",
     "name": "stdout",
     "text": [
      "remove image Cropped_Images/165339.jpg\n"
     ]
    },
    {
     "output_type": "stream",
     "name": "stderr",
     "text": [
      "63439it [16:05, 62.41it/s]"
     ]
    },
    {
     "output_type": "stream",
     "name": "stdout",
     "text": [
      "remove image Cropped_Images/165355.jpg\n"
     ]
    },
    {
     "output_type": "stream",
     "name": "stderr",
     "text": [
      "63453it [16:05, 62.76it/s]"
     ]
    },
    {
     "output_type": "stream",
     "name": "stdout",
     "text": [
      "remove image Cropped_Images/165368.jpg\n"
     ]
    },
    {
     "output_type": "stream",
     "name": "stderr",
     "text": [
      "63495it [16:05, 64.61it/s]"
     ]
    },
    {
     "output_type": "stream",
     "name": "stdout",
     "text": [
      "remove image Cropped_Images/165412.jpg\n"
     ]
    },
    {
     "output_type": "stream",
     "name": "stderr",
     "text": [
      "63558it [16:06, 63.76it/s]"
     ]
    },
    {
     "output_type": "stream",
     "name": "stdout",
     "text": [
      "remove image Cropped_Images/165474.jpg\n"
     ]
    },
    {
     "output_type": "stream",
     "name": "stderr",
     "text": [
      "63642it [16:08, 62.76it/s]"
     ]
    },
    {
     "output_type": "stream",
     "name": "stdout",
     "text": [
      "remove image Cropped_Images/165561.jpg\n"
     ]
    },
    {
     "output_type": "stream",
     "name": "stderr",
     "text": [
      "63656it [16:08, 65.94it/s]"
     ]
    },
    {
     "output_type": "stream",
     "name": "stdout",
     "text": [
      "remove image Cropped_Images/165577.jpg\n"
     ]
    },
    {
     "output_type": "stream",
     "name": "stderr",
     "text": [
      "63679it [16:08, 69.30it/s]"
     ]
    },
    {
     "output_type": "stream",
     "name": "stdout",
     "text": [
      "remove image Cropped_Images/165601.jpg\n"
     ]
    },
    {
     "output_type": "stream",
     "name": "stderr",
     "text": [
      "63693it [16:09, 66.52it/s]"
     ]
    },
    {
     "output_type": "stream",
     "name": "stdout",
     "text": [
      "remove image Cropped_Images/165615.jpg\n"
     ]
    },
    {
     "output_type": "stream",
     "name": "stderr",
     "text": [
      "63721it [16:09, 64.31it/s]"
     ]
    },
    {
     "output_type": "stream",
     "name": "stdout",
     "text": [
      "remove image Cropped_Images/165644.jpg\n"
     ]
    },
    {
     "output_type": "stream",
     "name": "stderr",
     "text": [
      "63770it [16:10, 64.65it/s]"
     ]
    },
    {
     "output_type": "stream",
     "name": "stdout",
     "text": [
      "remove image Cropped_Images/165699.jpg\n",
      "remove image Cropped_Images/165708.jpg\n"
     ]
    },
    {
     "output_type": "stream",
     "name": "stderr",
     "text": [
      "63854it [16:11, 62.15it/s]"
     ]
    },
    {
     "output_type": "stream",
     "name": "stdout",
     "text": [
      "remove image Cropped_Images/165789.jpg\n"
     ]
    },
    {
     "output_type": "stream",
     "name": "stderr",
     "text": [
      "63875it [16:11, 64.82it/s]"
     ]
    },
    {
     "output_type": "stream",
     "name": "stdout",
     "text": [
      "remove image Cropped_Images/165809.jpg\n",
      "remove image Cropped_Images/165813.jpg\n"
     ]
    },
    {
     "output_type": "stream",
     "name": "stderr",
     "text": [
      "63945it [16:12, 64.28it/s]"
     ]
    },
    {
     "output_type": "stream",
     "name": "stdout",
     "text": [
      "remove image Cropped_Images/165880.jpg\n",
      "remove image Cropped_Images/165884.jpg\n"
     ]
    },
    {
     "output_type": "stream",
     "name": "stderr",
     "text": [
      "63966it [16:13, 63.15it/s]"
     ]
    },
    {
     "output_type": "stream",
     "name": "stdout",
     "text": [
      "remove image Cropped_Images/165904.jpg\n",
      "remove image Cropped_Images/165906.jpg\n"
     ]
    },
    {
     "output_type": "stream",
     "name": "stderr",
     "text": [
      "64001it [16:13, 63.29it/s]"
     ]
    },
    {
     "output_type": "stream",
     "name": "stdout",
     "text": [
      "remove image Cropped_Images/165940.jpg\n",
      "remove image Cropped_Images/165952.jpg\n"
     ]
    },
    {
     "output_type": "stream",
     "name": "stderr",
     "text": [
      "64029it [16:14, 64.00it/s]"
     ]
    },
    {
     "output_type": "stream",
     "name": "stdout",
     "text": [
      "remove image Cropped_Images/165968.jpg\n",
      "remove image Cropped_Images/165976.jpg\n"
     ]
    },
    {
     "output_type": "stream",
     "name": "stderr",
     "text": [
      "64274it [16:17, 72.55it/s]"
     ]
    },
    {
     "output_type": "stream",
     "name": "stdout",
     "text": [
      "remove image Cropped_Images/166228.jpg\n"
     ]
    },
    {
     "output_type": "stream",
     "name": "stderr",
     "text": [
      "64342it [16:18, 64.43it/s]"
     ]
    },
    {
     "output_type": "stream",
     "name": "stdout",
     "text": [
      "remove image Cropped_Images/166301.jpg\n"
     ]
    },
    {
     "output_type": "stream",
     "name": "stderr",
     "text": [
      "64363it [16:19, 63.48it/s]"
     ]
    },
    {
     "output_type": "stream",
     "name": "stdout",
     "text": [
      "remove image Cropped_Images/166318.jpg\n",
      "remove image Cropped_Images/166323.jpg\n",
      "remove image Cropped_Images/166326.jpg\n"
     ]
    },
    {
     "output_type": "stream",
     "name": "stderr",
     "text": [
      "64492it [16:21, 70.52it/s]"
     ]
    },
    {
     "output_type": "stream",
     "name": "stdout",
     "text": [
      "remove image Cropped_Images/166455.jpg\n"
     ]
    },
    {
     "output_type": "stream",
     "name": "stderr",
     "text": [
      "64516it [16:21, 71.42it/s]"
     ]
    },
    {
     "output_type": "stream",
     "name": "stdout",
     "text": [
      "remove image Cropped_Images/166479.jpg\n"
     ]
    },
    {
     "output_type": "stream",
     "name": "stderr",
     "text": [
      "64553it [16:22, 66.62it/s]"
     ]
    },
    {
     "output_type": "stream",
     "name": "stdout",
     "text": [
      "remove image Cropped_Images/166510.jpg\n"
     ]
    },
    {
     "output_type": "stream",
     "name": "stderr",
     "text": [
      "64567it [16:22, 63.65it/s]"
     ]
    },
    {
     "output_type": "stream",
     "name": "stdout",
     "text": [
      "remove image Cropped_Images/166527.jpg\n"
     ]
    },
    {
     "output_type": "stream",
     "name": "stderr",
     "text": [
      "64695it [16:24, 68.97it/s]"
     ]
    },
    {
     "output_type": "stream",
     "name": "stdout",
     "text": [
      "remove image Cropped_Images/166654.jpg\n"
     ]
    },
    {
     "output_type": "stream",
     "name": "stderr",
     "text": [
      "64773it [16:25, 65.57it/s]"
     ]
    },
    {
     "output_type": "stream",
     "name": "stdout",
     "text": [
      "remove image Cropped_Images/166740.jpg\n"
     ]
    },
    {
     "output_type": "stream",
     "name": "stderr",
     "text": [
      "64838it [16:26, 66.24it/s]"
     ]
    },
    {
     "output_type": "stream",
     "name": "stdout",
     "text": [
      "remove image Cropped_Images/166805.jpg\n"
     ]
    },
    {
     "output_type": "stream",
     "name": "stderr",
     "text": [
      "64859it [16:26, 63.19it/s]"
     ]
    },
    {
     "output_type": "stream",
     "name": "stdout",
     "text": [
      "remove image Cropped_Images/166832.jpg\n"
     ]
    },
    {
     "output_type": "stream",
     "name": "stderr",
     "text": [
      "64922it [16:27, 63.47it/s]"
     ]
    },
    {
     "output_type": "stream",
     "name": "stdout",
     "text": [
      "remove image Cropped_Images/166892.jpg\n",
      "remove image Cropped_Images/166894.jpg\n"
     ]
    },
    {
     "output_type": "stream",
     "name": "stderr",
     "text": [
      "64999it [16:28, 65.82it/s]"
     ]
    },
    {
     "output_type": "stream",
     "name": "stdout",
     "text": [
      "remove image Cropped_Images/166974.jpg\n"
     ]
    },
    {
     "output_type": "stream",
     "name": "stderr",
     "text": [
      "65213it [16:32, 69.38it/s]"
     ]
    },
    {
     "output_type": "stream",
     "name": "stdout",
     "text": [
      "remove image Cropped_Images/167195.jpg\n"
     ]
    },
    {
     "output_type": "stream",
     "name": "stderr",
     "text": [
      "65278it [16:33, 66.90it/s]"
     ]
    },
    {
     "output_type": "stream",
     "name": "stdout",
     "text": [
      "remove image Cropped_Images/167265.jpg\n"
     ]
    },
    {
     "output_type": "stream",
     "name": "stderr",
     "text": [
      "65356it [16:34, 65.05it/s]"
     ]
    },
    {
     "output_type": "stream",
     "name": "stdout",
     "text": [
      "remove image Cropped_Images/167351.jpg\n"
     ]
    },
    {
     "output_type": "stream",
     "name": "stderr",
     "text": [
      "65398it [16:34, 64.04it/s]"
     ]
    },
    {
     "output_type": "stream",
     "name": "stdout",
     "text": [
      "remove image Cropped_Images/167390.jpg\n"
     ]
    },
    {
     "output_type": "stream",
     "name": "stderr",
     "text": [
      "65482it [16:36, 66.15it/s]"
     ]
    },
    {
     "output_type": "stream",
     "name": "stdout",
     "text": [
      "remove image Cropped_Images/167477.jpg\n",
      "remove image Cropped_Images/167487.jpg\n"
     ]
    },
    {
     "output_type": "stream",
     "name": "stderr",
     "text": [
      "65528it [16:36, 70.10it/s]"
     ]
    },
    {
     "output_type": "stream",
     "name": "stdout",
     "text": [
      "remove image Cropped_Images/167526.jpg\n"
     ]
    },
    {
     "output_type": "stream",
     "name": "stderr",
     "text": [
      "65628it [16:38, 68.24it/s]"
     ]
    },
    {
     "output_type": "stream",
     "name": "stdout",
     "text": [
      "remove image Cropped_Images/167636.jpg\n",
      "remove image Cropped_Images/167637.jpg\n"
     ]
    },
    {
     "output_type": "stream",
     "name": "stderr",
     "text": [
      "65650it [16:38, 69.31it/s]"
     ]
    },
    {
     "output_type": "stream",
     "name": "stdout",
     "text": [
      "remove image Cropped_Images/167654.jpg\n"
     ]
    },
    {
     "output_type": "stream",
     "name": "stderr",
     "text": [
      "65706it [16:39, 64.43it/s]"
     ]
    },
    {
     "output_type": "stream",
     "name": "stdout",
     "text": [
      "remove image Cropped_Images/167717.jpg\n"
     ]
    },
    {
     "output_type": "stream",
     "name": "stderr",
     "text": [
      "65807it [16:41, 70.14it/s]"
     ]
    },
    {
     "output_type": "stream",
     "name": "stdout",
     "text": [
      "remove image Cropped_Images/167817.jpg\n",
      "remove image Cropped_Images/167831.jpg\n"
     ]
    },
    {
     "output_type": "stream",
     "name": "stderr",
     "text": [
      "66092it [16:45, 72.93it/s]"
     ]
    },
    {
     "output_type": "stream",
     "name": "stdout",
     "text": [
      "remove image Cropped_Images/168125.jpg\n"
     ]
    },
    {
     "output_type": "stream",
     "name": "stderr",
     "text": [
      "66187it [16:46, 65.79it/s]"
     ]
    },
    {
     "output_type": "stream",
     "name": "stdout",
     "text": [
      "remove image Cropped_Images/168223.jpg\n"
     ]
    },
    {
     "output_type": "stream",
     "name": "stderr",
     "text": [
      "66496it [16:51, 64.86it/s]"
     ]
    },
    {
     "output_type": "stream",
     "name": "stdout",
     "text": [
      "remove image Cropped_Images/168549.jpg\n"
     ]
    },
    {
     "output_type": "stream",
     "name": "stderr",
     "text": [
      "66717it [16:54, 68.96it/s]"
     ]
    },
    {
     "output_type": "stream",
     "name": "stdout",
     "text": [
      "remove image Cropped_Images/168778.jpg\n"
     ]
    },
    {
     "output_type": "stream",
     "name": "stderr",
     "text": [
      "66787it [16:55, 64.96it/s]"
     ]
    },
    {
     "output_type": "stream",
     "name": "stdout",
     "text": [
      "remove image Cropped_Images/168852.jpg\n",
      "remove image Cropped_Images/168862.jpg\n"
     ]
    },
    {
     "output_type": "stream",
     "name": "stderr",
     "text": [
      "66857it [16:56, 66.16it/s]"
     ]
    },
    {
     "output_type": "stream",
     "name": "stdout",
     "text": [
      "remove image Cropped_Images/168929.jpg\n",
      "remove image Cropped_Images/168930.jpg\n"
     ]
    },
    {
     "output_type": "stream",
     "name": "stderr",
     "text": [
      "66878it [16:56, 67.00it/s]"
     ]
    },
    {
     "output_type": "stream",
     "name": "stdout",
     "text": [
      "remove image Cropped_Images/168947.jpg\n",
      "remove image Cropped_Images/168951.jpg\n"
     ]
    },
    {
     "output_type": "stream",
     "name": "stderr",
     "text": [
      "66941it [16:57, 59.82it/s]"
     ]
    },
    {
     "output_type": "stream",
     "name": "stdout",
     "text": [
      "remove image Cropped_Images/169018.jpg\n"
     ]
    },
    {
     "output_type": "stream",
     "name": "stderr",
     "text": [
      "66969it [16:58, 60.95it/s]"
     ]
    },
    {
     "output_type": "stream",
     "name": "stdout",
     "text": [
      "remove image Cropped_Images/169042.jpg\n"
     ]
    },
    {
     "output_type": "stream",
     "name": "stderr",
     "text": [
      "67100it [17:00, 69.98it/s]"
     ]
    },
    {
     "output_type": "stream",
     "name": "stdout",
     "text": [
      "remove image Cropped_Images/169179.jpg\n"
     ]
    },
    {
     "output_type": "stream",
     "name": "stderr",
     "text": [
      "67116it [17:00, 70.39it/s]"
     ]
    },
    {
     "output_type": "stream",
     "name": "stdout",
     "text": [
      "remove image Cropped_Images/169199.jpg\n",
      "remove image Cropped_Images/169203.jpg\n"
     ]
    },
    {
     "output_type": "stream",
     "name": "stderr",
     "text": [
      "67166it [17:01, 64.71it/s]"
     ]
    },
    {
     "output_type": "stream",
     "name": "stdout",
     "text": [
      "remove image Cropped_Images/169250.jpg\n"
     ]
    },
    {
     "output_type": "stream",
     "name": "stderr",
     "text": [
      "67236it [17:02, 64.02it/s]"
     ]
    },
    {
     "output_type": "stream",
     "name": "stdout",
     "text": [
      "remove image Cropped_Images/169327.jpg\n"
     ]
    },
    {
     "output_type": "stream",
     "name": "stderr",
     "text": [
      "67285it [17:03, 62.66it/s]"
     ]
    },
    {
     "output_type": "stream",
     "name": "stdout",
     "text": [
      "remove image Cropped_Images/169376.jpg\n"
     ]
    },
    {
     "output_type": "stream",
     "name": "stderr",
     "text": [
      "67320it [17:03, 61.75it/s]"
     ]
    },
    {
     "output_type": "stream",
     "name": "stdout",
     "text": [
      "remove image Cropped_Images/169405.jpg\n"
     ]
    },
    {
     "output_type": "stream",
     "name": "stderr",
     "text": [
      "67420it [17:05, 68.83it/s]"
     ]
    },
    {
     "output_type": "stream",
     "name": "stdout",
     "text": [
      "remove image Cropped_Images/169512.jpg\n"
     ]
    },
    {
     "output_type": "stream",
     "name": "stderr",
     "text": [
      "67484it [17:06, 64.22it/s]"
     ]
    },
    {
     "output_type": "stream",
     "name": "stdout",
     "text": [
      "remove image Cropped_Images/169574.jpg\n",
      "remove image Cropped_Images/169577.jpg\n",
      "remove image Cropped_Images/169579.jpg\n"
     ]
    },
    {
     "output_type": "stream",
     "name": "stderr",
     "text": [
      "67526it [17:06, 64.70it/s]"
     ]
    },
    {
     "output_type": "stream",
     "name": "stdout",
     "text": [
      "remove image Cropped_Images/169621.jpg\n"
     ]
    },
    {
     "output_type": "stream",
     "name": "stderr",
     "text": [
      "67540it [17:07, 64.24it/s]"
     ]
    },
    {
     "output_type": "stream",
     "name": "stdout",
     "text": [
      "remove image Cropped_Images/169637.jpg\n"
     ]
    },
    {
     "output_type": "stream",
     "name": "stderr",
     "text": [
      "67710it [17:09, 70.27it/s]"
     ]
    },
    {
     "output_type": "stream",
     "name": "stdout",
     "text": [
      "remove image Cropped_Images/169812.jpg\n"
     ]
    },
    {
     "output_type": "stream",
     "name": "stderr",
     "text": [
      "67739it [17:09, 67.88it/s]"
     ]
    },
    {
     "output_type": "stream",
     "name": "stdout",
     "text": [
      "remove image Cropped_Images/169842.jpg\n"
     ]
    },
    {
     "output_type": "stream",
     "name": "stderr",
     "text": [
      "67774it [17:10, 62.53it/s]"
     ]
    },
    {
     "output_type": "stream",
     "name": "stdout",
     "text": [
      "remove image Cropped_Images/169882.jpg\n"
     ]
    },
    {
     "output_type": "stream",
     "name": "stderr",
     "text": [
      "67795it [17:10, 63.21it/s]"
     ]
    },
    {
     "output_type": "stream",
     "name": "stdout",
     "text": [
      "remove image Cropped_Images/169907.jpg\n"
     ]
    },
    {
     "output_type": "stream",
     "name": "stderr",
     "text": [
      "67844it [17:11, 62.72it/s]"
     ]
    },
    {
     "output_type": "stream",
     "name": "stdout",
     "text": [
      "remove image Cropped_Images/169954.jpg\n",
      "remove image Cropped_Images/169956.jpg\n"
     ]
    },
    {
     "output_type": "stream",
     "name": "stderr",
     "text": [
      "67865it [17:11, 65.13it/s]"
     ]
    },
    {
     "output_type": "stream",
     "name": "stdout",
     "text": [
      "remove image Cropped_Images/169975.jpg\n",
      "remove image Cropped_Images/169981.jpg\n",
      "remove image Cropped_Images/169989.jpg\n"
     ]
    },
    {
     "output_type": "stream",
     "name": "stderr",
     "text": [
      "67879it [17:12, 63.81it/s]"
     ]
    },
    {
     "output_type": "stream",
     "name": "stdout",
     "text": [
      "remove image Cropped_Images/169995.jpg\n"
     ]
    },
    {
     "output_type": "stream",
     "name": "stderr",
     "text": [
      "68026it [17:14, 69.83it/s]"
     ]
    },
    {
     "output_type": "stream",
     "name": "stdout",
     "text": [
      "remove image Cropped_Images/170142.jpg\n",
      "remove image Cropped_Images/170143.jpg\n",
      "remove image Cropped_Images/170144.jpg\n"
     ]
    },
    {
     "output_type": "stream",
     "name": "stderr",
     "text": [
      "68221it [17:17, 72.35it/s]"
     ]
    },
    {
     "output_type": "stream",
     "name": "stdout",
     "text": [
      "remove image Cropped_Images/170351.jpg\n"
     ]
    },
    {
     "output_type": "stream",
     "name": "stderr",
     "text": [
      "68260it [17:17, 68.03it/s]"
     ]
    },
    {
     "output_type": "stream",
     "name": "stdout",
     "text": [
      "remove image Cropped_Images/170386.jpg\n"
     ]
    },
    {
     "output_type": "stream",
     "name": "stderr",
     "text": [
      "68281it [17:18, 66.55it/s]"
     ]
    },
    {
     "output_type": "stream",
     "name": "stdout",
     "text": [
      "remove image Cropped_Images/170411.jpg\n"
     ]
    },
    {
     "output_type": "stream",
     "name": "stderr",
     "text": [
      "68428it [17:20, 70.77it/s]"
     ]
    },
    {
     "output_type": "stream",
     "name": "stdout",
     "text": [
      "remove image Cropped_Images/170558.jpg\n"
     ]
    },
    {
     "output_type": "stream",
     "name": "stderr",
     "text": [
      "68466it [17:20, 67.32it/s]"
     ]
    },
    {
     "output_type": "stream",
     "name": "stdout",
     "text": [
      "remove image Cropped_Images/170595.jpg\n"
     ]
    },
    {
     "output_type": "stream",
     "name": "stderr",
     "text": [
      "68596it [17:22, 70.55it/s]"
     ]
    },
    {
     "output_type": "stream",
     "name": "stdout",
     "text": [
      "remove image Cropped_Images/170731.jpg\n",
      "remove image Cropped_Images/170743.jpg\n"
     ]
    },
    {
     "output_type": "stream",
     "name": "stderr",
     "text": [
      "68628it [17:23, 72.41it/s]"
     ]
    },
    {
     "output_type": "stream",
     "name": "stdout",
     "text": [
      "remove image Cropped_Images/170759.jpg\n",
      "remove image Cropped_Images/170766.jpg\n",
      "remove image Cropped_Images/170767.jpg\n",
      "remove image Cropped_Images/170772.jpg\n"
     ]
    },
    {
     "output_type": "stream",
     "name": "stderr",
     "text": [
      "68751it [17:25, 68.43it/s]"
     ]
    },
    {
     "output_type": "stream",
     "name": "stdout",
     "text": [
      "remove image Cropped_Images/170889.jpg\n"
     ]
    },
    {
     "output_type": "stream",
     "name": "stderr",
     "text": [
      "68781it [17:25, 67.55it/s]"
     ]
    },
    {
     "output_type": "stream",
     "name": "stdout",
     "text": [
      "remove image Cropped_Images/170926.jpg\n"
     ]
    },
    {
     "output_type": "stream",
     "name": "stderr",
     "text": [
      "68844it [17:26, 63.00it/s]"
     ]
    },
    {
     "output_type": "stream",
     "name": "stdout",
     "text": [
      "remove image Cropped_Images/170990.jpg\n"
     ]
    },
    {
     "output_type": "stream",
     "name": "stderr",
     "text": [
      "68872it [17:27, 63.92it/s]"
     ]
    },
    {
     "output_type": "stream",
     "name": "stdout",
     "text": [
      "remove image Cropped_Images/171017.jpg\n"
     ]
    },
    {
     "output_type": "stream",
     "name": "stderr",
     "text": [
      "68900it [17:27, 62.77it/s]"
     ]
    },
    {
     "output_type": "stream",
     "name": "stdout",
     "text": [
      "remove image Cropped_Images/171051.jpg\n"
     ]
    },
    {
     "output_type": "stream",
     "name": "stderr",
     "text": [
      "68942it [17:28, 64.37it/s]"
     ]
    },
    {
     "output_type": "stream",
     "name": "stdout",
     "text": [
      "remove image Cropped_Images/171088.jpg\n"
     ]
    },
    {
     "output_type": "stream",
     "name": "stderr",
     "text": [
      "68970it [17:28, 63.60it/s]"
     ]
    },
    {
     "output_type": "stream",
     "name": "stdout",
     "text": [
      "remove image Cropped_Images/171121.jpg\n"
     ]
    },
    {
     "output_type": "stream",
     "name": "stderr",
     "text": [
      "69005it [17:29, 64.11it/s]"
     ]
    },
    {
     "output_type": "stream",
     "name": "stdout",
     "text": [
      "remove image Cropped_Images/171158.jpg\n"
     ]
    },
    {
     "output_type": "stream",
     "name": "stderr",
     "text": [
      "69054it [17:29, 63.29it/s]"
     ]
    },
    {
     "output_type": "stream",
     "name": "stdout",
     "text": [
      "remove image Cropped_Images/171205.jpg\n",
      "remove image Cropped_Images/171211.jpg\n",
      "remove image Cropped_Images/171217.jpg\n"
     ]
    },
    {
     "output_type": "stream",
     "name": "stderr",
     "text": [
      "69131it [17:31, 64.17it/s]"
     ]
    },
    {
     "output_type": "stream",
     "name": "stdout",
     "text": [
      "remove image Cropped_Images/171287.jpg\n"
     ]
    },
    {
     "output_type": "stream",
     "name": "stderr",
     "text": [
      "69230it [17:32, 68.58it/s]"
     ]
    },
    {
     "output_type": "stream",
     "name": "stdout",
     "text": [
      "remove image Cropped_Images/171385.jpg\n",
      "remove image Cropped_Images/171388.jpg\n"
     ]
    },
    {
     "output_type": "stream",
     "name": "stderr",
     "text": [
      "69245it [17:32, 69.20it/s]"
     ]
    },
    {
     "output_type": "stream",
     "name": "stdout",
     "text": [
      "remove image Cropped_Images/171402.jpg\n"
     ]
    },
    {
     "output_type": "stream",
     "name": "stderr",
     "text": [
      "69281it [17:33, 67.15it/s]"
     ]
    },
    {
     "output_type": "stream",
     "name": "stdout",
     "text": [
      "remove image Cropped_Images/171434.jpg\n"
     ]
    },
    {
     "output_type": "stream",
     "name": "stderr",
     "text": [
      "69373it [17:34, 65.58it/s]"
     ]
    },
    {
     "output_type": "stream",
     "name": "stdout",
     "text": [
      "remove image Cropped_Images/171527.jpg\n",
      "remove image Cropped_Images/171532.jpg\n"
     ]
    },
    {
     "output_type": "stream",
     "name": "stderr",
     "text": [
      "69388it [17:35, 67.30it/s]"
     ]
    },
    {
     "output_type": "stream",
     "name": "stdout",
     "text": [
      "remove image Cropped_Images/171542.jpg\n"
     ]
    },
    {
     "output_type": "stream",
     "name": "stderr",
     "text": [
      "69425it [17:35, 67.06it/s]"
     ]
    },
    {
     "output_type": "stream",
     "name": "stdout",
     "text": [
      "remove image Cropped_Images/171582.jpg\n",
      "remove image Cropped_Images/171586.jpg\n"
     ]
    },
    {
     "output_type": "stream",
     "name": "stderr",
     "text": [
      "69481it [17:36, 64.80it/s]"
     ]
    },
    {
     "output_type": "stream",
     "name": "stdout",
     "text": [
      "remove image Cropped_Images/171646.jpg\n"
     ]
    },
    {
     "output_type": "stream",
     "name": "stderr",
     "text": [
      "69523it [17:37, 64.25it/s]"
     ]
    },
    {
     "output_type": "stream",
     "name": "stdout",
     "text": [
      "remove image Cropped_Images/171692.jpg\n"
     ]
    },
    {
     "output_type": "stream",
     "name": "stderr",
     "text": [
      "69668it [17:39, 70.65it/s]"
     ]
    },
    {
     "output_type": "stream",
     "name": "stdout",
     "text": [
      "remove image Cropped_Images/171838.jpg\n"
     ]
    },
    {
     "output_type": "stream",
     "name": "stderr",
     "text": [
      "69708it [17:39, 70.11it/s]"
     ]
    },
    {
     "output_type": "stream",
     "name": "stdout",
     "text": [
      "remove image Cropped_Images/171880.jpg\n"
     ]
    },
    {
     "output_type": "stream",
     "name": "stderr",
     "text": [
      "69888it [17:42, 70.90it/s]"
     ]
    },
    {
     "output_type": "stream",
     "name": "stdout",
     "text": [
      "remove image Cropped_Images/172072.jpg\n"
     ]
    },
    {
     "output_type": "stream",
     "name": "stderr",
     "text": [
      "69920it [17:42, 69.95it/s]"
     ]
    },
    {
     "output_type": "stream",
     "name": "stdout",
     "text": [
      "remove image Cropped_Images/172102.jpg\n"
     ]
    },
    {
     "output_type": "stream",
     "name": "stderr",
     "text": [
      "70058it [17:45, 69.86it/s]"
     ]
    },
    {
     "output_type": "stream",
     "name": "stdout",
     "text": [
      "remove image Cropped_Images/172241.jpg\n"
     ]
    },
    {
     "output_type": "stream",
     "name": "stderr",
     "text": [
      "70144it [17:46, 66.66it/s]"
     ]
    },
    {
     "output_type": "stream",
     "name": "stdout",
     "text": [
      "remove image Cropped_Images/172333.jpg\n"
     ]
    },
    {
     "output_type": "stream",
     "name": "stderr",
     "text": [
      "70254it [17:47, 68.79it/s]"
     ]
    },
    {
     "output_type": "stream",
     "name": "stdout",
     "text": [
      "remove image Cropped_Images/172448.jpg\n"
     ]
    },
    {
     "output_type": "stream",
     "name": "stderr",
     "text": [
      "70339it [17:49, 65.86it/s]"
     ]
    },
    {
     "output_type": "stream",
     "name": "stdout",
     "text": [
      "remove image Cropped_Images/172536.jpg\n",
      "remove image Cropped_Images/172541.jpg\n"
     ]
    },
    {
     "output_type": "stream",
     "name": "stderr",
     "text": [
      "70370it [17:49, 69.50it/s]"
     ]
    },
    {
     "output_type": "stream",
     "name": "stdout",
     "text": [
      "remove image Cropped_Images/172565.jpg\n"
     ]
    },
    {
     "output_type": "stream",
     "name": "stderr",
     "text": [
      "70405it [17:50, 66.73it/s]"
     ]
    },
    {
     "output_type": "stream",
     "name": "stdout",
     "text": [
      "remove image Cropped_Images/172602.jpg\n",
      "remove image Cropped_Images/172605.jpg\n",
      "remove image Cropped_Images/172610.jpg\n"
     ]
    },
    {
     "output_type": "stream",
     "name": "stderr",
     "text": [
      "70447it [17:50, 62.99it/s]"
     ]
    },
    {
     "output_type": "stream",
     "name": "stdout",
     "text": [
      "remove image Cropped_Images/172647.jpg\n"
     ]
    },
    {
     "output_type": "stream",
     "name": "stderr",
     "text": [
      "70461it [17:51, 63.46it/s]"
     ]
    },
    {
     "output_type": "stream",
     "name": "stdout",
     "text": [
      "remove image Cropped_Images/172661.jpg\n"
     ]
    },
    {
     "output_type": "stream",
     "name": "stderr",
     "text": [
      "70545it [17:52, 65.94it/s]"
     ]
    },
    {
     "output_type": "stream",
     "name": "stdout",
     "text": [
      "remove image Cropped_Images/172750.jpg\n",
      "remove image Cropped_Images/172754.jpg\n"
     ]
    },
    {
     "output_type": "stream",
     "name": "stderr",
     "text": [
      "70574it [17:52, 67.66it/s]"
     ]
    },
    {
     "output_type": "stream",
     "name": "stdout",
     "text": [
      "remove image Cropped_Images/172779.jpg\n"
     ]
    },
    {
     "output_type": "stream",
     "name": "stderr",
     "text": [
      "70609it [17:53, 63.34it/s]"
     ]
    },
    {
     "output_type": "stream",
     "name": "stdout",
     "text": [
      "remove image Cropped_Images/172812.jpg\n"
     ]
    },
    {
     "output_type": "stream",
     "name": "stderr",
     "text": [
      "70693it [17:54, 65.16it/s]"
     ]
    },
    {
     "output_type": "stream",
     "name": "stdout",
     "text": [
      "remove image Cropped_Images/172901.jpg\n"
     ]
    },
    {
     "output_type": "stream",
     "name": "stderr",
     "text": [
      "70757it [17:55, 67.72it/s]"
     ]
    },
    {
     "output_type": "stream",
     "name": "stdout",
     "text": [
      "remove image Cropped_Images/172966.jpg\n",
      "remove image Cropped_Images/172968.jpg\n"
     ]
    },
    {
     "output_type": "stream",
     "name": "stderr",
     "text": [
      "70792it [17:56, 64.92it/s]"
     ]
    },
    {
     "output_type": "stream",
     "name": "stdout",
     "text": [
      "remove image Cropped_Images/173003.jpg\n",
      "remove image Cropped_Images/173012.jpg\n"
     ]
    },
    {
     "output_type": "stream",
     "name": "stderr",
     "text": [
      "70820it [17:56, 64.76it/s]"
     ]
    },
    {
     "output_type": "stream",
     "name": "stdout",
     "text": [
      "remove image Cropped_Images/173032.jpg\n",
      "remove image Cropped_Images/173040.jpg\n"
     ]
    },
    {
     "output_type": "stream",
     "name": "stderr",
     "text": [
      "70862it [17:57, 63.13it/s]"
     ]
    },
    {
     "output_type": "stream",
     "name": "stdout",
     "text": [
      "remove image Cropped_Images/173079.jpg\n"
     ]
    },
    {
     "output_type": "stream",
     "name": "stderr",
     "text": [
      "70984it [17:59, 69.82it/s]"
     ]
    },
    {
     "output_type": "stream",
     "name": "stdout",
     "text": [
      "remove image Cropped_Images/173205.jpg\n"
     ]
    },
    {
     "output_type": "stream",
     "name": "stderr",
     "text": [
      "71023it [17:59, 68.99it/s]"
     ]
    },
    {
     "output_type": "stream",
     "name": "stdout",
     "text": [
      "remove image Cropped_Images/173245.jpg\n"
     ]
    },
    {
     "output_type": "stream",
     "name": "stderr",
     "text": [
      "71100it [18:00, 63.81it/s]"
     ]
    },
    {
     "output_type": "stream",
     "name": "stdout",
     "text": [
      "remove image Cropped_Images/173325.jpg\n"
     ]
    },
    {
     "output_type": "stream",
     "name": "stderr",
     "text": [
      "71143it [18:01, 65.30it/s]"
     ]
    },
    {
     "output_type": "stream",
     "name": "stdout",
     "text": [
      "remove image Cropped_Images/173375.jpg\n"
     ]
    },
    {
     "output_type": "stream",
     "name": "stderr",
     "text": [
      "71206it [18:02, 66.46it/s]"
     ]
    },
    {
     "output_type": "stream",
     "name": "stdout",
     "text": [
      "remove image Cropped_Images/173435.jpg\n"
     ]
    },
    {
     "output_type": "stream",
     "name": "stderr",
     "text": [
      "71306it [18:03, 69.10it/s]"
     ]
    },
    {
     "output_type": "stream",
     "name": "stdout",
     "text": [
      "remove image Cropped_Images/173543.jpg\n"
     ]
    },
    {
     "output_type": "stream",
     "name": "stderr",
     "text": [
      "71377it [18:05, 60.16it/s]"
     ]
    },
    {
     "output_type": "stream",
     "name": "stdout",
     "text": [
      "remove image Cropped_Images/173615.jpg\n",
      "remove image Cropped_Images/173624.jpg\n"
     ]
    },
    {
     "output_type": "stream",
     "name": "stderr",
     "text": [
      "71411it [18:05, 60.18it/s]"
     ]
    },
    {
     "output_type": "stream",
     "name": "stdout",
     "text": [
      "remove image Cropped_Images/173649.jpg\n"
     ]
    },
    {
     "output_type": "stream",
     "name": "stderr",
     "text": [
      "71564it [18:08, 62.08it/s]"
     ]
    },
    {
     "output_type": "stream",
     "name": "stdout",
     "text": [
      "remove image Cropped_Images/173808.jpg\n"
     ]
    },
    {
     "output_type": "stream",
     "name": "stderr",
     "text": [
      "71620it [18:08, 64.99it/s]"
     ]
    },
    {
     "output_type": "stream",
     "name": "stdout",
     "text": [
      "remove image Cropped_Images/173862.jpg\n"
     ]
    },
    {
     "output_type": "stream",
     "name": "stderr",
     "text": [
      "71814it [18:11, 72.57it/s]"
     ]
    },
    {
     "output_type": "stream",
     "name": "stdout",
     "text": [
      "remove image Cropped_Images/174068.jpg\n"
     ]
    },
    {
     "output_type": "stream",
     "name": "stderr",
     "text": [
      "71830it [18:12, 68.45it/s]"
     ]
    },
    {
     "output_type": "stream",
     "name": "stdout",
     "text": [
      "remove image Cropped_Images/174083.jpg\n"
     ]
    },
    {
     "output_type": "stream",
     "name": "stderr",
     "text": [
      "71844it [18:12, 67.90it/s]"
     ]
    },
    {
     "output_type": "stream",
     "name": "stdout",
     "text": [
      "remove image Cropped_Images/174100.jpg\n",
      "remove image Cropped_Images/174113.jpg\n"
     ]
    },
    {
     "output_type": "stream",
     "name": "stderr",
     "text": [
      "72039it [18:15, 71.03it/s]"
     ]
    },
    {
     "output_type": "stream",
     "name": "stdout",
     "text": [
      "remove image Cropped_Images/174305.jpg\n"
     ]
    },
    {
     "output_type": "stream",
     "name": "stderr",
     "text": [
      "72092it [18:15, 63.13it/s]"
     ]
    },
    {
     "output_type": "stream",
     "name": "stdout",
     "text": [
      "remove image Cropped_Images/174361.jpg\n",
      "remove image Cropped_Images/174366.jpg\n"
     ]
    },
    {
     "output_type": "stream",
     "name": "stderr",
     "text": [
      "72125it [18:16, 60.36it/s]"
     ]
    },
    {
     "output_type": "stream",
     "name": "stdout",
     "text": [
      "remove image Cropped_Images/174397.jpg\n"
     ]
    },
    {
     "output_type": "stream",
     "name": "stderr",
     "text": [
      "72202it [18:17, 63.85it/s]"
     ]
    },
    {
     "output_type": "stream",
     "name": "stdout",
     "text": [
      "remove image Cropped_Images/174476.jpg\n"
     ]
    },
    {
     "output_type": "stream",
     "name": "stderr",
     "text": [
      "72245it [18:18, 65.10it/s]"
     ]
    },
    {
     "output_type": "stream",
     "name": "stdout",
     "text": [
      "remove image Cropped_Images/174517.jpg\n",
      "remove image Cropped_Images/174526.jpg\n"
     ]
    },
    {
     "output_type": "stream",
     "name": "stderr",
     "text": [
      "72301it [18:19, 65.11it/s]"
     ]
    },
    {
     "output_type": "stream",
     "name": "stdout",
     "text": [
      "remove image Cropped_Images/174579.jpg\n"
     ]
    },
    {
     "output_type": "stream",
     "name": "stderr",
     "text": [
      "72350it [18:20, 63.46it/s]"
     ]
    },
    {
     "output_type": "stream",
     "name": "stdout",
     "text": [
      "remove image Cropped_Images/174629.jpg\n"
     ]
    },
    {
     "output_type": "stream",
     "name": "stderr",
     "text": [
      "72385it [18:20, 63.33it/s]"
     ]
    },
    {
     "output_type": "stream",
     "name": "stdout",
     "text": [
      "remove image Cropped_Images/174659.jpg\n"
     ]
    },
    {
     "output_type": "stream",
     "name": "stderr",
     "text": [
      "72462it [18:21, 64.33it/s]"
     ]
    },
    {
     "output_type": "stream",
     "name": "stdout",
     "text": [
      "remove image Cropped_Images/174746.jpg\n"
     ]
    },
    {
     "output_type": "stream",
     "name": "stderr",
     "text": [
      "72497it [18:22, 66.04it/s]"
     ]
    },
    {
     "output_type": "stream",
     "name": "stdout",
     "text": [
      "remove image Cropped_Images/174774.jpg\n",
      "remove image Cropped_Images/174786.jpg\n"
     ]
    },
    {
     "output_type": "stream",
     "name": "stderr",
     "text": [
      "72539it [18:22, 63.69it/s]"
     ]
    },
    {
     "output_type": "stream",
     "name": "stdout",
     "text": [
      "remove image Cropped_Images/174823.jpg\n"
     ]
    },
    {
     "output_type": "stream",
     "name": "stderr",
     "text": [
      "72581it [18:23, 63.19it/s]"
     ]
    },
    {
     "output_type": "stream",
     "name": "stdout",
     "text": [
      "remove image Cropped_Images/174865.jpg\n"
     ]
    },
    {
     "output_type": "stream",
     "name": "stderr",
     "text": [
      "72858it [18:27, 70.90it/s]"
     ]
    },
    {
     "output_type": "stream",
     "name": "stdout",
     "text": [
      "remove image Cropped_Images/175152.jpg\n"
     ]
    },
    {
     "output_type": "stream",
     "name": "stderr",
     "text": [
      "72922it [18:28, 64.58it/s]"
     ]
    },
    {
     "output_type": "stream",
     "name": "stdout",
     "text": [
      "remove image Cropped_Images/175229.jpg\n",
      "remove image Cropped_Images/175233.jpg\n"
     ]
    },
    {
     "output_type": "stream",
     "name": "stderr",
     "text": [
      "72965it [18:29, 66.91it/s]"
     ]
    },
    {
     "output_type": "stream",
     "name": "stdout",
     "text": [
      "remove image Cropped_Images/175268.jpg\n",
      "remove image Cropped_Images/175273.jpg\n",
      "remove image Cropped_Images/175281.jpg\n"
     ]
    },
    {
     "output_type": "stream",
     "name": "stderr",
     "text": [
      "73084it [18:31, 64.26it/s]"
     ]
    },
    {
     "output_type": "stream",
     "name": "stdout",
     "text": [
      "remove image Cropped_Images/175396.jpg\n"
     ]
    },
    {
     "output_type": "stream",
     "name": "stderr",
     "text": [
      "73147it [18:32, 61.39it/s]"
     ]
    },
    {
     "output_type": "stream",
     "name": "stdout",
     "text": [
      "remove image Cropped_Images/175457.jpg\n"
     ]
    },
    {
     "output_type": "stream",
     "name": "stderr",
     "text": [
      "73154it [18:32, 60.44it/s]"
     ]
    },
    {
     "output_type": "stream",
     "name": "stdout",
     "text": [
      "remove image Cropped_Images/175470.jpg\n"
     ]
    },
    {
     "output_type": "stream",
     "name": "stderr",
     "text": [
      "73202it [18:33, 63.06it/s]"
     ]
    },
    {
     "output_type": "stream",
     "name": "stdout",
     "text": [
      "remove image Cropped_Images/175517.jpg\n"
     ]
    },
    {
     "output_type": "stream",
     "name": "stderr",
     "text": [
      "73274it [18:34, 58.92it/s]"
     ]
    },
    {
     "output_type": "stream",
     "name": "stdout",
     "text": [
      "remove image Cropped_Images/175592.jpg\n"
     ]
    },
    {
     "output_type": "stream",
     "name": "stderr",
     "text": [
      "73399it [18:36, 65.37it/s]"
     ]
    },
    {
     "output_type": "stream",
     "name": "stdout",
     "text": [
      "remove image Cropped_Images/175721.jpg\n"
     ]
    },
    {
     "output_type": "stream",
     "name": "stderr",
     "text": [
      "73420it [18:36, 65.55it/s]"
     ]
    },
    {
     "output_type": "stream",
     "name": "stdout",
     "text": [
      "remove image Cropped_Images/175745.jpg\n"
     ]
    },
    {
     "output_type": "stream",
     "name": "stderr",
     "text": [
      "73583it [18:39, 65.19it/s]"
     ]
    },
    {
     "output_type": "stream",
     "name": "stdout",
     "text": [
      "remove image Cropped_Images/175913.jpg\n"
     ]
    },
    {
     "output_type": "stream",
     "name": "stderr",
     "text": [
      "73661it [18:40, 63.65it/s]"
     ]
    },
    {
     "output_type": "stream",
     "name": "stdout",
     "text": [
      "remove image Cropped_Images/175992.jpg\n"
     ]
    },
    {
     "output_type": "stream",
     "name": "stderr",
     "text": [
      "73689it [18:40, 64.64it/s]"
     ]
    },
    {
     "output_type": "stream",
     "name": "stdout",
     "text": [
      "remove image Cropped_Images/176024.jpg\n"
     ]
    },
    {
     "output_type": "stream",
     "name": "stderr",
     "text": [
      "73717it [18:41, 64.13it/s]"
     ]
    },
    {
     "output_type": "stream",
     "name": "stdout",
     "text": [
      "remove image Cropped_Images/176050.jpg\n",
      "remove image Cropped_Images/176060.jpg\n"
     ]
    },
    {
     "output_type": "stream",
     "name": "stderr",
     "text": [
      "73800it [18:42, 57.94it/s]"
     ]
    },
    {
     "output_type": "stream",
     "name": "stdout",
     "text": [
      "remove image Cropped_Images/176136.jpg\n"
     ]
    },
    {
     "output_type": "stream",
     "name": "stderr",
     "text": [
      "73901it [18:44, 62.07it/s]"
     ]
    },
    {
     "output_type": "stream",
     "name": "stdout",
     "text": [
      "remove image Cropped_Images/176237.jpg\n"
     ]
    },
    {
     "output_type": "stream",
     "name": "stderr",
     "text": [
      "73922it [18:44, 64.48it/s]"
     ]
    },
    {
     "output_type": "stream",
     "name": "stdout",
     "text": [
      "remove image Cropped_Images/176256.jpg\n"
     ]
    },
    {
     "output_type": "stream",
     "name": "stderr",
     "text": [
      "73943it [18:45, 64.34it/s]"
     ]
    },
    {
     "output_type": "stream",
     "name": "stdout",
     "text": [
      "remove image Cropped_Images/176276.jpg\n"
     ]
    },
    {
     "output_type": "stream",
     "name": "stderr",
     "text": [
      "74006it [18:46, 63.66it/s]"
     ]
    },
    {
     "output_type": "stream",
     "name": "stdout",
     "text": [
      "remove image Cropped_Images/176341.jpg\n"
     ]
    },
    {
     "output_type": "stream",
     "name": "stderr",
     "text": [
      "74048it [18:46, 65.98it/s]"
     ]
    },
    {
     "output_type": "stream",
     "name": "stdout",
     "text": [
      "remove image Cropped_Images/176388.jpg\n"
     ]
    },
    {
     "output_type": "stream",
     "name": "stderr",
     "text": [
      "74076it [18:47, 64.99it/s]"
     ]
    },
    {
     "output_type": "stream",
     "name": "stdout",
     "text": [
      "remove image Cropped_Images/176416.jpg\n",
      "remove image Cropped_Images/176420.jpg\n"
     ]
    },
    {
     "output_type": "stream",
     "name": "stderr",
     "text": [
      "74104it [18:47, 66.06it/s]"
     ]
    },
    {
     "output_type": "stream",
     "name": "stdout",
     "text": [
      "remove image Cropped_Images/176443.jpg\n"
     ]
    },
    {
     "output_type": "stream",
     "name": "stderr",
     "text": [
      "74125it [18:47, 62.97it/s]"
     ]
    },
    {
     "output_type": "stream",
     "name": "stdout",
     "text": [
      "remove image Cropped_Images/176465.jpg\n"
     ]
    },
    {
     "output_type": "stream",
     "name": "stderr",
     "text": [
      "74153it [18:48, 63.71it/s]"
     ]
    },
    {
     "output_type": "stream",
     "name": "stdout",
     "text": [
      "remove image Cropped_Images/176496.jpg\n",
      "remove image Cropped_Images/176497.jpg\n"
     ]
    },
    {
     "output_type": "stream",
     "name": "stderr",
     "text": [
      "74237it [18:49, 65.37it/s]"
     ]
    },
    {
     "output_type": "stream",
     "name": "stdout",
     "text": [
      "remove image Cropped_Images/176582.jpg\n",
      "remove image Cropped_Images/176594.jpg\n"
     ]
    },
    {
     "output_type": "stream",
     "name": "stderr",
     "text": [
      "74280it [18:50, 65.50it/s]"
     ]
    },
    {
     "output_type": "stream",
     "name": "stdout",
     "text": [
      "remove image Cropped_Images/176624.jpg\n"
     ]
    },
    {
     "output_type": "stream",
     "name": "stderr",
     "text": [
      "74369it [18:51, 63.86it/s]"
     ]
    },
    {
     "output_type": "stream",
     "name": "stdout",
     "text": [
      "remove image Cropped_Images/176716.jpg\n",
      "remove image Cropped_Images/176717.jpg\n"
     ]
    },
    {
     "output_type": "stream",
     "name": "stderr",
     "text": [
      "74391it [18:52, 67.36it/s]"
     ]
    },
    {
     "output_type": "stream",
     "name": "stdout",
     "text": [
      "remove image Cropped_Images/176743.jpg\n"
     ]
    },
    {
     "output_type": "stream",
     "name": "stderr",
     "text": [
      "74508it [18:54, 63.46it/s]"
     ]
    },
    {
     "output_type": "stream",
     "name": "stdout",
     "text": [
      "remove image Cropped_Images/176864.jpg\n"
     ]
    },
    {
     "output_type": "stream",
     "name": "stderr",
     "text": [
      "74529it [18:54, 66.20it/s]"
     ]
    },
    {
     "output_type": "stream",
     "name": "stdout",
     "text": [
      "remove image Cropped_Images/176880.jpg\n"
     ]
    },
    {
     "output_type": "stream",
     "name": "stderr",
     "text": [
      "74557it [18:54, 67.10it/s]"
     ]
    },
    {
     "output_type": "stream",
     "name": "stdout",
     "text": [
      "remove image Cropped_Images/176909.jpg\n"
     ]
    },
    {
     "output_type": "stream",
     "name": "stderr",
     "text": [
      "74627it [18:55, 65.55it/s]"
     ]
    },
    {
     "output_type": "stream",
     "name": "stdout",
     "text": [
      "remove image Cropped_Images/176983.jpg\n"
     ]
    },
    {
     "output_type": "stream",
     "name": "stderr",
     "text": [
      "74706it [18:57, 65.57it/s]"
     ]
    },
    {
     "output_type": "stream",
     "name": "stdout",
     "text": [
      "remove image Cropped_Images/177062.jpg\n",
      "remove image Cropped_Images/177063.jpg\n"
     ]
    },
    {
     "output_type": "stream",
     "name": "stderr",
     "text": [
      "74734it [18:57, 65.71it/s]"
     ]
    },
    {
     "output_type": "stream",
     "name": "stdout",
     "text": [
      "remove image Cropped_Images/177092.jpg\n",
      "remove image Cropped_Images/177105.jpg\n"
     ]
    },
    {
     "output_type": "stream",
     "name": "stderr",
     "text": [
      "74825it [18:58, 66.19it/s]"
     ]
    },
    {
     "output_type": "stream",
     "name": "stdout",
     "text": [
      "remove image Cropped_Images/177192.jpg\n"
     ]
    },
    {
     "output_type": "stream",
     "name": "stderr",
     "text": [
      "74862it [18:59, 68.40it/s]"
     ]
    },
    {
     "output_type": "stream",
     "name": "stdout",
     "text": [
      "remove image Cropped_Images/177226.jpg\n",
      "remove image Cropped_Images/177234.jpg\n",
      "remove image Cropped_Images/177236.jpg\n"
     ]
    },
    {
     "output_type": "stream",
     "name": "stderr",
     "text": [
      "74981it [19:01, 66.16it/s]"
     ]
    },
    {
     "output_type": "stream",
     "name": "stdout",
     "text": [
      "remove image Cropped_Images/177351.jpg\n",
      "remove image Cropped_Images/177355.jpg\n"
     ]
    },
    {
     "output_type": "stream",
     "name": "stderr",
     "text": [
      "75045it [19:02, 66.32it/s]"
     ]
    },
    {
     "output_type": "stream",
     "name": "stdout",
     "text": [
      "remove image Cropped_Images/177418.jpg\n"
     ]
    },
    {
     "output_type": "stream",
     "name": "stderr",
     "text": [
      "75073it [19:02, 63.41it/s]"
     ]
    },
    {
     "output_type": "stream",
     "name": "stdout",
     "text": [
      "remove image Cropped_Images/177446.jpg\n"
     ]
    },
    {
     "output_type": "stream",
     "name": "stderr",
     "text": [
      "75101it [19:03, 63.86it/s]"
     ]
    },
    {
     "output_type": "stream",
     "name": "stdout",
     "text": [
      "remove image Cropped_Images/177476.jpg\n"
     ]
    },
    {
     "output_type": "stream",
     "name": "stderr",
     "text": [
      "75164it [19:04, 65.32it/s]"
     ]
    },
    {
     "output_type": "stream",
     "name": "stdout",
     "text": [
      "remove image Cropped_Images/177540.jpg\n",
      "remove image Cropped_Images/177553.jpg\n"
     ]
    },
    {
     "output_type": "stream",
     "name": "stderr",
     "text": [
      "75227it [19:05, 63.21it/s]"
     ]
    },
    {
     "output_type": "stream",
     "name": "stdout",
     "text": [
      "remove image Cropped_Images/177605.jpg\n"
     ]
    },
    {
     "output_type": "stream",
     "name": "stderr",
     "text": [
      "75241it [19:05, 63.31it/s]"
     ]
    },
    {
     "output_type": "stream",
     "name": "stdout",
     "text": [
      "remove image Cropped_Images/177620.jpg\n"
     ]
    },
    {
     "output_type": "stream",
     "name": "stderr",
     "text": [
      "75290it [19:06, 63.18it/s]"
     ]
    },
    {
     "output_type": "stream",
     "name": "stdout",
     "text": [
      "remove image Cropped_Images/177669.jpg\n",
      "remove image Cropped_Images/177671.jpg\n"
     ]
    },
    {
     "output_type": "stream",
     "name": "stderr",
     "text": [
      "75346it [19:06, 65.82it/s]"
     ]
    },
    {
     "output_type": "stream",
     "name": "stdout",
     "text": [
      "remove image Cropped_Images/177721.jpg\n"
     ]
    },
    {
     "output_type": "stream",
     "name": "stderr",
     "text": [
      "75425it [19:08, 65.99it/s]"
     ]
    },
    {
     "output_type": "stream",
     "name": "stdout",
     "text": [
      "remove image Cropped_Images/177807.jpg\n"
     ]
    },
    {
     "output_type": "stream",
     "name": "stderr",
     "text": [
      "75481it [19:09, 65.34it/s]"
     ]
    },
    {
     "output_type": "stream",
     "name": "stdout",
     "text": [
      "remove image Cropped_Images/177866.jpg\n"
     ]
    },
    {
     "output_type": "stream",
     "name": "stderr",
     "text": [
      "75537it [19:09, 64.62it/s]"
     ]
    },
    {
     "output_type": "stream",
     "name": "stdout",
     "text": [
      "remove image Cropped_Images/177925.jpg\n"
     ]
    },
    {
     "output_type": "stream",
     "name": "stderr",
     "text": [
      "75629it [19:11, 67.72it/s]"
     ]
    },
    {
     "output_type": "stream",
     "name": "stdout",
     "text": [
      "remove image Cropped_Images/178017.jpg\n"
     ]
    },
    {
     "output_type": "stream",
     "name": "stderr",
     "text": [
      "75700it [19:12, 65.82it/s]"
     ]
    },
    {
     "output_type": "stream",
     "name": "stdout",
     "text": [
      "remove image Cropped_Images/178098.jpg\n"
     ]
    },
    {
     "output_type": "stream",
     "name": "stderr",
     "text": [
      "75721it [19:12, 65.40it/s]"
     ]
    },
    {
     "output_type": "stream",
     "name": "stdout",
     "text": [
      "remove image Cropped_Images/178122.jpg\n"
     ]
    },
    {
     "output_type": "stream",
     "name": "stderr",
     "text": [
      "75777it [19:13, 62.48it/s]"
     ]
    },
    {
     "output_type": "stream",
     "name": "stdout",
     "text": [
      "remove image Cropped_Images/178177.jpg\n"
     ]
    },
    {
     "output_type": "stream",
     "name": "stderr",
     "text": [
      "75798it [19:13, 64.43it/s]"
     ]
    },
    {
     "output_type": "stream",
     "name": "stdout",
     "text": [
      "remove image Cropped_Images/178198.jpg\n"
     ]
    },
    {
     "output_type": "stream",
     "name": "stderr",
     "text": [
      "75826it [19:14, 63.67it/s]"
     ]
    },
    {
     "output_type": "stream",
     "name": "stdout",
     "text": [
      "remove image Cropped_Images/178230.jpg\n"
     ]
    },
    {
     "output_type": "stream",
     "name": "stderr",
     "text": [
      "75847it [19:14, 62.74it/s]"
     ]
    },
    {
     "output_type": "stream",
     "name": "stdout",
     "text": [
      "remove image Cropped_Images/178247.jpg\n"
     ]
    },
    {
     "output_type": "stream",
     "name": "stderr",
     "text": [
      "75868it [19:15, 59.37it/s]"
     ]
    },
    {
     "output_type": "stream",
     "name": "stdout",
     "text": [
      "remove image Cropped_Images/178267.jpg\n"
     ]
    },
    {
     "output_type": "stream",
     "name": "stderr",
     "text": [
      "75896it [19:15, 61.71it/s]"
     ]
    },
    {
     "output_type": "stream",
     "name": "stdout",
     "text": [
      "remove image Cropped_Images/178299.jpg\n"
     ]
    },
    {
     "output_type": "stream",
     "name": "stderr",
     "text": [
      "75938it [19:16, 63.57it/s]"
     ]
    },
    {
     "output_type": "stream",
     "name": "stdout",
     "text": [
      "remove image Cropped_Images/178342.jpg\n"
     ]
    },
    {
     "output_type": "stream",
     "name": "stderr",
     "text": [
      "75952it [19:16, 64.31it/s]"
     ]
    },
    {
     "output_type": "stream",
     "name": "stdout",
     "text": [
      "remove image Cropped_Images/178356.jpg\n"
     ]
    },
    {
     "output_type": "stream",
     "name": "stderr",
     "text": [
      "76001it [19:17, 63.69it/s]"
     ]
    },
    {
     "output_type": "stream",
     "name": "stdout",
     "text": [
      "remove image Cropped_Images/178408.jpg\n",
      "remove image Cropped_Images/178422.jpg\n"
     ]
    },
    {
     "output_type": "stream",
     "name": "stderr",
     "text": [
      "76171it [19:19, 71.68it/s]"
     ]
    },
    {
     "output_type": "stream",
     "name": "stdout",
     "text": [
      "remove image Cropped_Images/178577.jpg\n"
     ]
    },
    {
     "output_type": "stream",
     "name": "stderr",
     "text": [
      "76251it [19:20, 64.06it/s]"
     ]
    },
    {
     "output_type": "stream",
     "name": "stdout",
     "text": [
      "remove image Cropped_Images/178664.jpg\n"
     ]
    },
    {
     "output_type": "stream",
     "name": "stderr",
     "text": [
      "76315it [19:21, 64.71it/s]"
     ]
    },
    {
     "output_type": "stream",
     "name": "stdout",
     "text": [
      "remove image Cropped_Images/178729.jpg\n",
      "remove image Cropped_Images/178730.jpg\n"
     ]
    },
    {
     "output_type": "stream",
     "name": "stderr",
     "text": [
      "76364it [19:22, 64.41it/s]"
     ]
    },
    {
     "output_type": "stream",
     "name": "stdout",
     "text": [
      "remove image Cropped_Images/178779.jpg\n"
     ]
    },
    {
     "output_type": "stream",
     "name": "stderr",
     "text": [
      "76385it [19:22, 64.68it/s]"
     ]
    },
    {
     "output_type": "stream",
     "name": "stdout",
     "text": [
      "remove image Cropped_Images/178800.jpg\n"
     ]
    },
    {
     "output_type": "stream",
     "name": "stderr",
     "text": [
      "76399it [19:23, 64.53it/s]"
     ]
    },
    {
     "output_type": "stream",
     "name": "stdout",
     "text": [
      "remove image Cropped_Images/178818.jpg\n"
     ]
    },
    {
     "output_type": "stream",
     "name": "stderr",
     "text": [
      "76455it [19:24, 63.42it/s]"
     ]
    },
    {
     "output_type": "stream",
     "name": "stdout",
     "text": [
      "remove image Cropped_Images/178871.jpg\n"
     ]
    },
    {
     "output_type": "stream",
     "name": "stderr",
     "text": [
      "76568it [19:25, 68.14it/s]"
     ]
    },
    {
     "output_type": "stream",
     "name": "stdout",
     "text": [
      "remove image Cropped_Images/178989.jpg\n"
     ]
    },
    {
     "output_type": "stream",
     "name": "stderr",
     "text": [
      "76692it [19:27, 69.97it/s]"
     ]
    },
    {
     "output_type": "stream",
     "name": "stdout",
     "text": [
      "remove image Cropped_Images/179122.jpg\n"
     ]
    },
    {
     "output_type": "stream",
     "name": "stderr",
     "text": [
      "76723it [19:27, 69.01it/s]"
     ]
    },
    {
     "output_type": "stream",
     "name": "stdout",
     "text": [
      "remove image Cropped_Images/179153.jpg\n"
     ]
    },
    {
     "output_type": "stream",
     "name": "stderr",
     "text": [
      "76779it [19:28, 64.80it/s]"
     ]
    },
    {
     "output_type": "stream",
     "name": "stdout",
     "text": [
      "remove image Cropped_Images/179217.jpg\n"
     ]
    },
    {
     "output_type": "stream",
     "name": "stderr",
     "text": [
      "76886it [19:30, 68.06it/s]"
     ]
    },
    {
     "output_type": "stream",
     "name": "stdout",
     "text": [
      "remove image Cropped_Images/179323.jpg\n"
     ]
    },
    {
     "output_type": "stream",
     "name": "stderr",
     "text": [
      "76921it [19:31, 67.43it/s]"
     ]
    },
    {
     "output_type": "stream",
     "name": "stdout",
     "text": [
      "remove image Cropped_Images/179363.jpg\n"
     ]
    },
    {
     "output_type": "stream",
     "name": "stderr",
     "text": [
      "76935it [19:31, 66.40it/s]"
     ]
    },
    {
     "output_type": "stream",
     "name": "stdout",
     "text": [
      "remove image Cropped_Images/179376.jpg\n"
     ]
    },
    {
     "output_type": "stream",
     "name": "stderr",
     "text": [
      "76956it [19:31, 65.98it/s]"
     ]
    },
    {
     "output_type": "stream",
     "name": "stdout",
     "text": [
      "remove image Cropped_Images/179397.jpg\n"
     ]
    },
    {
     "output_type": "stream",
     "name": "stderr",
     "text": [
      "76978it [19:31, 66.93it/s]"
     ]
    },
    {
     "output_type": "stream",
     "name": "stdout",
     "text": [
      "remove image Cropped_Images/179419.jpg\n"
     ]
    },
    {
     "output_type": "stream",
     "name": "stderr",
     "text": [
      "77055it [19:33, 62.23it/s]"
     ]
    },
    {
     "output_type": "stream",
     "name": "stdout",
     "text": [
      "remove image Cropped_Images/179495.jpg\n"
     ]
    },
    {
     "output_type": "stream",
     "name": "stderr",
     "text": [
      "77147it [19:34, 66.91it/s]"
     ]
    },
    {
     "output_type": "stream",
     "name": "stdout",
     "text": [
      "remove image Cropped_Images/179590.jpg\n",
      "remove image Cropped_Images/179591.jpg\n",
      "remove image Cropped_Images/179601.jpg\n"
     ]
    },
    {
     "output_type": "stream",
     "name": "stderr",
     "text": [
      "77220it [19:35, 66.82it/s]"
     ]
    },
    {
     "output_type": "stream",
     "name": "stdout",
     "text": [
      "remove image Cropped_Images/179663.jpg\n"
     ]
    },
    {
     "output_type": "stream",
     "name": "stderr",
     "text": [
      "77284it [19:36, 63.18it/s]"
     ]
    },
    {
     "output_type": "stream",
     "name": "stdout",
     "text": [
      "remove image Cropped_Images/179730.jpg\n"
     ]
    },
    {
     "output_type": "stream",
     "name": "stderr",
     "text": [
      "77319it [19:37, 63.34it/s]"
     ]
    },
    {
     "output_type": "stream",
     "name": "stdout",
     "text": [
      "remove image Cropped_Images/179763.jpg\n"
     ]
    },
    {
     "output_type": "stream",
     "name": "stderr",
     "text": [
      "77333it [19:37, 63.27it/s]"
     ]
    },
    {
     "output_type": "stream",
     "name": "stdout",
     "text": [
      "remove image Cropped_Images/179777.jpg\n",
      "remove image Cropped_Images/179784.jpg\n"
     ]
    },
    {
     "output_type": "stream",
     "name": "stderr",
     "text": [
      "77354it [19:37, 63.97it/s]"
     ]
    },
    {
     "output_type": "stream",
     "name": "stdout",
     "text": [
      "remove image Cropped_Images/179796.jpg\n"
     ]
    },
    {
     "output_type": "stream",
     "name": "stderr",
     "text": [
      "77447it [19:39, 67.49it/s]"
     ]
    },
    {
     "output_type": "stream",
     "name": "stdout",
     "text": [
      "remove image Cropped_Images/179887.jpg\n"
     ]
    },
    {
     "output_type": "stream",
     "name": "stderr",
     "text": [
      "77554it [19:40, 66.74it/s]"
     ]
    },
    {
     "output_type": "stream",
     "name": "stdout",
     "text": [
      "remove image Cropped_Images/180006.jpg\n"
     ]
    },
    {
     "output_type": "stream",
     "name": "stderr",
     "text": [
      "77575it [19:40, 67.92it/s]"
     ]
    },
    {
     "output_type": "stream",
     "name": "stdout",
     "text": [
      "remove image Cropped_Images/180030.jpg\n"
     ]
    },
    {
     "output_type": "stream",
     "name": "stderr",
     "text": [
      "77645it [19:42, 64.40it/s]"
     ]
    },
    {
     "output_type": "stream",
     "name": "stdout",
     "text": [
      "remove image Cropped_Images/180098.jpg\n"
     ]
    },
    {
     "output_type": "stream",
     "name": "stderr",
     "text": [
      "77680it [19:42, 64.72it/s]"
     ]
    },
    {
     "output_type": "stream",
     "name": "stdout",
     "text": [
      "remove image Cropped_Images/180136.jpg\n",
      "remove image Cropped_Images/180142.jpg\n"
     ]
    },
    {
     "output_type": "stream",
     "name": "stderr",
     "text": [
      "77865it [19:45, 69.29it/s]"
     ]
    },
    {
     "output_type": "stream",
     "name": "stdout",
     "text": [
      "remove image Cropped_Images/180325.jpg\n"
     ]
    },
    {
     "output_type": "stream",
     "name": "stderr",
     "text": [
      "77909it [19:46, 67.05it/s]"
     ]
    },
    {
     "output_type": "stream",
     "name": "stdout",
     "text": [
      "remove image Cropped_Images/180371.jpg\n"
     ]
    },
    {
     "output_type": "stream",
     "name": "stderr",
     "text": [
      "77930it [19:46, 65.10it/s]"
     ]
    },
    {
     "output_type": "stream",
     "name": "stdout",
     "text": [
      "remove image Cropped_Images/180391.jpg\n",
      "remove image Cropped_Images/180392.jpg\n"
     ]
    },
    {
     "output_type": "stream",
     "name": "stderr",
     "text": [
      "77965it [19:46, 66.93it/s]"
     ]
    },
    {
     "output_type": "stream",
     "name": "stdout",
     "text": [
      "remove image Cropped_Images/180424.jpg\n"
     ]
    },
    {
     "output_type": "stream",
     "name": "stderr",
     "text": [
      "78014it [19:47, 65.12it/s]"
     ]
    },
    {
     "output_type": "stream",
     "name": "stdout",
     "text": [
      "remove image Cropped_Images/180477.jpg\n"
     ]
    },
    {
     "output_type": "stream",
     "name": "stderr",
     "text": [
      "78091it [19:48, 64.74it/s]"
     ]
    },
    {
     "output_type": "stream",
     "name": "stdout",
     "text": [
      "remove image Cropped_Images/180561.jpg\n"
     ]
    },
    {
     "output_type": "stream",
     "name": "stderr",
     "text": [
      "78127it [19:49, 68.80it/s]"
     ]
    },
    {
     "output_type": "stream",
     "name": "stdout",
     "text": [
      "remove image Cropped_Images/180598.jpg\n"
     ]
    },
    {
     "output_type": "stream",
     "name": "stderr",
     "text": [
      "78162it [19:49, 66.51it/s]"
     ]
    },
    {
     "output_type": "stream",
     "name": "stdout",
     "text": [
      "remove image Cropped_Images/180634.jpg\n"
     ]
    },
    {
     "output_type": "stream",
     "name": "stderr",
     "text": [
      "78225it [19:50, 65.61it/s]"
     ]
    },
    {
     "output_type": "stream",
     "name": "stdout",
     "text": [
      "remove image Cropped_Images/180694.jpg\n"
     ]
    },
    {
     "output_type": "stream",
     "name": "stderr",
     "text": [
      "78281it [19:51, 65.19it/s]"
     ]
    },
    {
     "output_type": "stream",
     "name": "stdout",
     "text": [
      "remove image Cropped_Images/180759.jpg\n"
     ]
    },
    {
     "output_type": "stream",
     "name": "stderr",
     "text": [
      "78344it [19:52, 63.14it/s]"
     ]
    },
    {
     "output_type": "stream",
     "name": "stdout",
     "text": [
      "remove image Cropped_Images/180818.jpg\n"
     ]
    },
    {
     "output_type": "stream",
     "name": "stderr",
     "text": [
      "78422it [19:53, 65.77it/s]"
     ]
    },
    {
     "output_type": "stream",
     "name": "stdout",
     "text": [
      "remove image Cropped_Images/180898.jpg\n"
     ]
    },
    {
     "output_type": "stream",
     "name": "stderr",
     "text": [
      "78516it [19:55, 67.37it/s]"
     ]
    },
    {
     "output_type": "stream",
     "name": "stdout",
     "text": [
      "remove image Cropped_Images/180995.jpg\n"
     ]
    },
    {
     "output_type": "stream",
     "name": "stderr",
     "text": [
      "78587it [19:56, 65.21it/s]"
     ]
    },
    {
     "output_type": "stream",
     "name": "stdout",
     "text": [
      "remove image Cropped_Images/181073.jpg\n"
     ]
    },
    {
     "output_type": "stream",
     "name": "stderr",
     "text": [
      "78657it [19:57, 65.53it/s]"
     ]
    },
    {
     "output_type": "stream",
     "name": "stdout",
     "text": [
      "remove image Cropped_Images/181146.jpg\n"
     ]
    },
    {
     "output_type": "stream",
     "name": "stderr",
     "text": [
      "78714it [19:58, 68.46it/s]"
     ]
    },
    {
     "output_type": "stream",
     "name": "stdout",
     "text": [
      "remove image Cropped_Images/181203.jpg\n",
      "remove image Cropped_Images/181204.jpg\n"
     ]
    },
    {
     "output_type": "stream",
     "name": "stderr",
     "text": [
      "78806it [19:59, 64.25it/s]"
     ]
    },
    {
     "output_type": "stream",
     "name": "stdout",
     "text": [
      "remove image Cropped_Images/181299.jpg\n"
     ]
    },
    {
     "output_type": "stream",
     "name": "stderr",
     "text": [
      "78820it [19:59, 66.03it/s]"
     ]
    },
    {
     "output_type": "stream",
     "name": "stdout",
     "text": [
      "remove image Cropped_Images/181317.jpg\n"
     ]
    },
    {
     "output_type": "stream",
     "name": "stderr",
     "text": [
      "78841it [20:00, 64.62it/s]"
     ]
    },
    {
     "output_type": "stream",
     "name": "stdout",
     "text": [
      "remove image Cropped_Images/181336.jpg\n"
     ]
    },
    {
     "output_type": "stream",
     "name": "stderr",
     "text": [
      "78869it [20:00, 63.27it/s]"
     ]
    },
    {
     "output_type": "stream",
     "name": "stdout",
     "text": [
      "remove image Cropped_Images/181363.jpg\n"
     ]
    },
    {
     "output_type": "stream",
     "name": "stderr",
     "text": [
      "79038it [20:03, 68.87it/s]"
     ]
    },
    {
     "output_type": "stream",
     "name": "stdout",
     "text": [
      "remove image Cropped_Images/181541.jpg\n"
     ]
    },
    {
     "output_type": "stream",
     "name": "stderr",
     "text": [
      "79094it [20:04, 65.46it/s]"
     ]
    },
    {
     "output_type": "stream",
     "name": "stdout",
     "text": [
      "remove image Cropped_Images/181597.jpg\n"
     ]
    },
    {
     "output_type": "stream",
     "name": "stderr",
     "text": [
      "79276it [20:06, 70.57it/s]"
     ]
    },
    {
     "output_type": "stream",
     "name": "stdout",
     "text": [
      "remove image Cropped_Images/181788.jpg\n"
     ]
    },
    {
     "output_type": "stream",
     "name": "stderr",
     "text": [
      "79335it [20:07, 66.80it/s]"
     ]
    },
    {
     "output_type": "stream",
     "name": "stdout",
     "text": [
      "remove image Cropped_Images/181849.jpg\n",
      "remove image Cropped_Images/181850.jpg\n"
     ]
    },
    {
     "output_type": "stream",
     "name": "stderr",
     "text": [
      "79398it [20:08, 64.55it/s]"
     ]
    },
    {
     "output_type": "stream",
     "name": "stdout",
     "text": [
      "remove image Cropped_Images/181912.jpg\n"
     ]
    },
    {
     "output_type": "stream",
     "name": "stderr",
     "text": [
      "79427it [20:08, 67.86it/s]"
     ]
    },
    {
     "output_type": "stream",
     "name": "stdout",
     "text": [
      "remove image Cropped_Images/181941.jpg\n",
      "remove image Cropped_Images/181946.jpg\n"
     ]
    },
    {
     "output_type": "stream",
     "name": "stderr",
     "text": [
      "79483it [20:09, 64.16it/s]"
     ]
    },
    {
     "output_type": "stream",
     "name": "stdout",
     "text": [
      "remove image Cropped_Images/182004.jpg\n"
     ]
    },
    {
     "output_type": "stream",
     "name": "stderr",
     "text": [
      "79497it [20:10, 65.18it/s]"
     ]
    },
    {
     "output_type": "stream",
     "name": "stdout",
     "text": [
      "remove image Cropped_Images/182019.jpg\n"
     ]
    },
    {
     "output_type": "stream",
     "name": "stderr",
     "text": [
      "79525it [20:10, 64.89it/s]"
     ]
    },
    {
     "output_type": "stream",
     "name": "stdout",
     "text": [
      "remove image Cropped_Images/182047.jpg\n"
     ]
    },
    {
     "output_type": "stream",
     "name": "stderr",
     "text": [
      "79588it [20:11, 62.90it/s]"
     ]
    },
    {
     "output_type": "stream",
     "name": "stdout",
     "text": [
      "remove image Cropped_Images/182108.jpg\n"
     ]
    },
    {
     "output_type": "stream",
     "name": "stderr",
     "text": [
      "79712it [20:13, 70.92it/s]"
     ]
    },
    {
     "output_type": "stream",
     "name": "stdout",
     "text": [
      "remove image Cropped_Images/182238.jpg\n"
     ]
    },
    {
     "output_type": "stream",
     "name": "stderr",
     "text": [
      "79786it [20:14, 64.80it/s]"
     ]
    },
    {
     "output_type": "stream",
     "name": "stdout",
     "text": [
      "remove image Cropped_Images/182311.jpg\n"
     ]
    },
    {
     "output_type": "stream",
     "name": "stderr",
     "text": [
      "79849it [20:15, 64.22it/s]"
     ]
    },
    {
     "output_type": "stream",
     "name": "stdout",
     "text": [
      "remove image Cropped_Images/182376.jpg\n"
     ]
    },
    {
     "output_type": "stream",
     "name": "stderr",
     "text": [
      "79974it [20:17, 71.68it/s]"
     ]
    },
    {
     "output_type": "stream",
     "name": "stdout",
     "text": [
      "remove image Cropped_Images/182497.jpg\n"
     ]
    },
    {
     "output_type": "stream",
     "name": "stderr",
     "text": [
      "80027it [20:18, 68.37it/s]"
     ]
    },
    {
     "output_type": "stream",
     "name": "stdout",
     "text": [
      "remove image Cropped_Images/182556.jpg\n",
      "remove image Cropped_Images/182557.jpg\n"
     ]
    },
    {
     "output_type": "stream",
     "name": "stderr",
     "text": [
      "80069it [20:18, 65.42it/s]"
     ]
    },
    {
     "output_type": "stream",
     "name": "stdout",
     "text": [
      "remove image Cropped_Images/182598.jpg\n"
     ]
    },
    {
     "output_type": "stream",
     "name": "stderr",
     "text": [
      "80233it [20:21, 72.33it/s]"
     ]
    },
    {
     "output_type": "stream",
     "name": "stdout",
     "text": [
      "remove image Cropped_Images/182767.jpg\n"
     ]
    },
    {
     "output_type": "stream",
     "name": "stderr",
     "text": [
      "80257it [20:21, 70.42it/s]"
     ]
    },
    {
     "output_type": "stream",
     "name": "stdout",
     "text": [
      "remove image Cropped_Images/182789.jpg\n"
     ]
    },
    {
     "output_type": "stream",
     "name": "stderr",
     "text": [
      "80307it [20:22, 62.28it/s]"
     ]
    },
    {
     "output_type": "stream",
     "name": "stdout",
     "text": [
      "remove image Cropped_Images/182839.jpg\n",
      "remove image Cropped_Images/182850.jpg\n"
     ]
    },
    {
     "output_type": "stream",
     "name": "stderr",
     "text": [
      "80349it [20:22, 64.92it/s]"
     ]
    },
    {
     "output_type": "stream",
     "name": "stdout",
     "text": [
      "remove image Cropped_Images/182888.jpg\n"
     ]
    },
    {
     "output_type": "stream",
     "name": "stderr",
     "text": [
      "80370it [20:23, 64.13it/s]"
     ]
    },
    {
     "output_type": "stream",
     "name": "stdout",
     "text": [
      "remove image Cropped_Images/182907.jpg\n"
     ]
    },
    {
     "output_type": "stream",
     "name": "stderr",
     "text": [
      "80426it [20:24, 63.92it/s]"
     ]
    },
    {
     "output_type": "stream",
     "name": "stdout",
     "text": [
      "remove image Cropped_Images/182966.jpg\n"
     ]
    },
    {
     "output_type": "stream",
     "name": "stderr",
     "text": [
      "80659it [20:27, 71.72it/s]"
     ]
    },
    {
     "output_type": "stream",
     "name": "stdout",
     "text": [
      "remove image Cropped_Images/183207.jpg\n"
     ]
    },
    {
     "output_type": "stream",
     "name": "stderr",
     "text": [
      "80707it [20:28, 69.21it/s]"
     ]
    },
    {
     "output_type": "stream",
     "name": "stdout",
     "text": [
      "remove image Cropped_Images/183257.jpg\n",
      "remove image Cropped_Images/183261.jpg\n",
      "remove image Cropped_Images/183265.jpg\n"
     ]
    },
    {
     "output_type": "stream",
     "name": "stderr",
     "text": [
      "80812it [20:29, 66.08it/s]"
     ]
    },
    {
     "output_type": "stream",
     "name": "stdout",
     "text": [
      "remove image Cropped_Images/183358.jpg\n"
     ]
    },
    {
     "output_type": "stream",
     "name": "stderr",
     "text": [
      "80854it [20:30, 64.95it/s]"
     ]
    },
    {
     "output_type": "stream",
     "name": "stdout",
     "text": [
      "remove image Cropped_Images/183404.jpg\n"
     ]
    },
    {
     "output_type": "stream",
     "name": "stderr",
     "text": [
      "80960it [20:32, 68.93it/s]"
     ]
    },
    {
     "output_type": "stream",
     "name": "stdout",
     "text": [
      "remove image Cropped_Images/183509.jpg\n"
     ]
    },
    {
     "output_type": "stream",
     "name": "stderr",
     "text": [
      "81054it [20:33, 66.75it/s]"
     ]
    },
    {
     "output_type": "stream",
     "name": "stdout",
     "text": [
      "remove image Cropped_Images/183602.jpg\n"
     ]
    },
    {
     "output_type": "stream",
     "name": "stderr",
     "text": [
      "81156it [20:34, 70.11it/s]"
     ]
    },
    {
     "output_type": "stream",
     "name": "stdout",
     "text": [
      "remove image Cropped_Images/183710.jpg\n"
     ]
    },
    {
     "output_type": "stream",
     "name": "stderr",
     "text": [
      "81171it [20:35, 66.26it/s]"
     ]
    },
    {
     "output_type": "stream",
     "name": "stdout",
     "text": [
      "remove image Cropped_Images/183730.jpg\n"
     ]
    },
    {
     "output_type": "stream",
     "name": "stderr",
     "text": [
      "81235it [20:36, 65.49it/s]"
     ]
    },
    {
     "output_type": "stream",
     "name": "stdout",
     "text": [
      "remove image Cropped_Images/183792.jpg\n"
     ]
    },
    {
     "output_type": "stream",
     "name": "stderr",
     "text": [
      "81319it [20:37, 65.82it/s]"
     ]
    },
    {
     "output_type": "stream",
     "name": "stdout",
     "text": [
      "remove image Cropped_Images/183879.jpg\n"
     ]
    },
    {
     "output_type": "stream",
     "name": "stderr",
     "text": [
      "81354it [20:37, 66.04it/s]"
     ]
    },
    {
     "output_type": "stream",
     "name": "stdout",
     "text": [
      "remove image Cropped_Images/183923.jpg\n",
      "remove image Cropped_Images/183924.jpg\n"
     ]
    },
    {
     "output_type": "stream",
     "name": "stderr",
     "text": [
      "81389it [20:38, 62.58it/s]"
     ]
    },
    {
     "output_type": "stream",
     "name": "stdout",
     "text": [
      "remove image Cropped_Images/183962.jpg\n",
      "remove image Cropped_Images/183971.jpg\n"
     ]
    },
    {
     "output_type": "stream",
     "name": "stderr",
     "text": [
      "81563it [20:41, 70.34it/s]"
     ]
    },
    {
     "output_type": "stream",
     "name": "stdout",
     "text": [
      "remove image Cropped_Images/184135.jpg\n"
     ]
    },
    {
     "output_type": "stream",
     "name": "stderr",
     "text": [
      "81719it [20:43, 72.52it/s]"
     ]
    },
    {
     "output_type": "stream",
     "name": "stdout",
     "text": [
      "remove image Cropped_Images/184304.jpg\n",
      "remove image Cropped_Images/184319.jpg\n"
     ]
    },
    {
     "output_type": "stream",
     "name": "stderr",
     "text": [
      "81779it [20:44, 65.25it/s]"
     ]
    },
    {
     "output_type": "stream",
     "name": "stdout",
     "text": [
      "remove image Cropped_Images/184366.jpg\n"
     ]
    },
    {
     "output_type": "stream",
     "name": "stderr",
     "text": [
      "81821it [20:44, 65.19it/s]"
     ]
    },
    {
     "output_type": "stream",
     "name": "stdout",
     "text": [
      "remove image Cropped_Images/184409.jpg\n",
      "remove image Cropped_Images/184413.jpg\n"
     ]
    },
    {
     "output_type": "stream",
     "name": "stderr",
     "text": [
      "81884it [20:45, 65.85it/s]"
     ]
    },
    {
     "output_type": "stream",
     "name": "stdout",
     "text": [
      "remove image Cropped_Images/184474.jpg\n"
     ]
    },
    {
     "output_type": "stream",
     "name": "stderr",
     "text": [
      "82000it [20:47, 70.00it/s]"
     ]
    },
    {
     "output_type": "stream",
     "name": "stdout",
     "text": [
      "remove image Cropped_Images/184591.jpg\n",
      "remove image Cropped_Images/184605.jpg\n"
     ]
    },
    {
     "output_type": "stream",
     "name": "stderr",
     "text": [
      "82203it [20:50, 71.81it/s]"
     ]
    },
    {
     "output_type": "stream",
     "name": "stdout",
     "text": [
      "remove image Cropped_Images/184803.jpg\n"
     ]
    },
    {
     "output_type": "stream",
     "name": "stderr",
     "text": [
      "82235it [20:51, 69.07it/s]"
     ]
    },
    {
     "output_type": "stream",
     "name": "stdout",
     "text": [
      "remove image Cropped_Images/184832.jpg\n"
     ]
    },
    {
     "output_type": "stream",
     "name": "stderr",
     "text": [
      "82284it [20:51, 62.66it/s]"
     ]
    },
    {
     "output_type": "stream",
     "name": "stdout",
     "text": [
      "remove image Cropped_Images/184882.jpg\n"
     ]
    },
    {
     "output_type": "stream",
     "name": "stderr",
     "text": [
      "82470it [20:54, 72.06it/s]"
     ]
    },
    {
     "output_type": "stream",
     "name": "stdout",
     "text": [
      "remove image Cropped_Images/185077.jpg\n"
     ]
    },
    {
     "output_type": "stream",
     "name": "stderr",
     "text": [
      "82502it [20:55, 67.55it/s]"
     ]
    },
    {
     "output_type": "stream",
     "name": "stdout",
     "text": [
      "remove image Cropped_Images/185108.jpg\n"
     ]
    },
    {
     "output_type": "stream",
     "name": "stderr",
     "text": [
      "82614it [20:56, 66.99it/s]"
     ]
    },
    {
     "output_type": "stream",
     "name": "stdout",
     "text": [
      "remove image Cropped_Images/185223.jpg\n"
     ]
    },
    {
     "output_type": "stream",
     "name": "stderr",
     "text": [
      "82663it [20:57, 60.60it/s]"
     ]
    },
    {
     "output_type": "stream",
     "name": "stdout",
     "text": [
      "remove image Cropped_Images/185276.jpg\n"
     ]
    },
    {
     "output_type": "stream",
     "name": "stderr",
     "text": [
      "82814it [20:59, 69.28it/s]"
     ]
    },
    {
     "output_type": "stream",
     "name": "stdout",
     "text": [
      "remove image Cropped_Images/185427.jpg\n"
     ]
    },
    {
     "output_type": "stream",
     "name": "stderr",
     "text": [
      "82953it [21:01, 72.31it/s]"
     ]
    },
    {
     "output_type": "stream",
     "name": "stdout",
     "text": [
      "remove image Cropped_Images/185568.jpg\n"
     ]
    },
    {
     "output_type": "stream",
     "name": "stderr",
     "text": [
      "83012it [21:02, 66.29it/s]"
     ]
    },
    {
     "output_type": "stream",
     "name": "stdout",
     "text": [
      "remove image Cropped_Images/185634.jpg\n",
      "remove image Cropped_Images/185635.jpg\n"
     ]
    },
    {
     "output_type": "stream",
     "name": "stderr",
     "text": [
      "83033it [21:03, 65.38it/s]"
     ]
    },
    {
     "output_type": "stream",
     "name": "stdout",
     "text": [
      "remove image Cropped_Images/185655.jpg\n"
     ]
    },
    {
     "output_type": "stream",
     "name": "stderr",
     "text": [
      "83054it [21:03, 66.50it/s]"
     ]
    },
    {
     "output_type": "stream",
     "name": "stdout",
     "text": [
      "remove image Cropped_Images/185680.jpg\n"
     ]
    },
    {
     "output_type": "stream",
     "name": "stderr",
     "text": [
      "83068it [21:03, 64.61it/s]"
     ]
    },
    {
     "output_type": "stream",
     "name": "stdout",
     "text": [
      "remove image Cropped_Images/185695.jpg\n",
      "remove image Cropped_Images/185698.jpg\n"
     ]
    },
    {
     "output_type": "stream",
     "name": "stderr",
     "text": [
      "83110it [21:04, 63.60it/s]"
     ]
    },
    {
     "output_type": "stream",
     "name": "stdout",
     "text": [
      "remove image Cropped_Images/185734.jpg\n"
     ]
    },
    {
     "output_type": "stream",
     "name": "stderr",
     "text": [
      "83131it [21:04, 63.96it/s]"
     ]
    },
    {
     "output_type": "stream",
     "name": "stdout",
     "text": [
      "remove image Cropped_Images/185755.jpg\n",
      "remove image Cropped_Images/185759.jpg\n"
     ]
    },
    {
     "output_type": "stream",
     "name": "stderr",
     "text": [
      "83152it [21:04, 64.02it/s]"
     ]
    },
    {
     "output_type": "stream",
     "name": "stdout",
     "text": [
      "remove image Cropped_Images/185777.jpg\n"
     ]
    },
    {
     "output_type": "stream",
     "name": "stderr",
     "text": [
      "83187it [21:05, 65.23it/s]"
     ]
    },
    {
     "output_type": "stream",
     "name": "stdout",
     "text": [
      "remove image Cropped_Images/185815.jpg\n",
      "remove image Cropped_Images/185825.jpg\n"
     ]
    },
    {
     "output_type": "stream",
     "name": "stderr",
     "text": [
      "83222it [21:05, 65.65it/s]"
     ]
    },
    {
     "output_type": "stream",
     "name": "stdout",
     "text": [
      "remove image Cropped_Images/185846.jpg\n"
     ]
    },
    {
     "output_type": "stream",
     "name": "stderr",
     "text": [
      "83434it [21:09, 71.67it/s]"
     ]
    },
    {
     "output_type": "stream",
     "name": "stdout",
     "text": [
      "remove image Cropped_Images/186065.jpg\n",
      "remove image Cropped_Images/186070.jpg\n"
     ]
    },
    {
     "output_type": "stream",
     "name": "stderr",
     "text": [
      "83482it [21:09, 69.72it/s]"
     ]
    },
    {
     "output_type": "stream",
     "name": "stdout",
     "text": [
      "remove image Cropped_Images/186117.jpg\n"
     ]
    },
    {
     "output_type": "stream",
     "name": "stderr",
     "text": [
      "83524it [21:10, 64.46it/s]"
     ]
    },
    {
     "output_type": "stream",
     "name": "stdout",
     "text": [
      "remove image Cropped_Images/186159.jpg\n"
     ]
    },
    {
     "output_type": "stream",
     "name": "stderr",
     "text": [
      "83580it [21:11, 64.59it/s]"
     ]
    },
    {
     "output_type": "stream",
     "name": "stdout",
     "text": [
      "remove image Cropped_Images/186217.jpg\n"
     ]
    },
    {
     "output_type": "stream",
     "name": "stderr",
     "text": [
      "83688it [21:12, 69.14it/s]"
     ]
    },
    {
     "output_type": "stream",
     "name": "stdout",
     "text": [
      "remove image Cropped_Images/186323.jpg\n"
     ]
    },
    {
     "output_type": "stream",
     "name": "stderr",
     "text": [
      "83704it [21:13, 69.99it/s]"
     ]
    },
    {
     "output_type": "stream",
     "name": "stdout",
     "text": [
      "remove image Cropped_Images/186341.jpg\n"
     ]
    },
    {
     "output_type": "stream",
     "name": "stderr",
     "text": [
      "83777it [21:14, 64.94it/s]"
     ]
    },
    {
     "output_type": "stream",
     "name": "stdout",
     "text": [
      "remove image Cropped_Images/186414.jpg\n"
     ]
    },
    {
     "output_type": "stream",
     "name": "stderr",
     "text": [
      "83921it [21:16, 70.24it/s]"
     ]
    },
    {
     "output_type": "stream",
     "name": "stdout",
     "text": [
      "remove image Cropped_Images/186563.jpg\n"
     ]
    },
    {
     "output_type": "stream",
     "name": "stderr",
     "text": [
      "83945it [21:16, 69.87it/s]"
     ]
    },
    {
     "output_type": "stream",
     "name": "stdout",
     "text": [
      "remove image Cropped_Images/186584.jpg\n"
     ]
    },
    {
     "output_type": "stream",
     "name": "stderr",
     "text": [
      "84175it [21:20, 70.09it/s]"
     ]
    },
    {
     "output_type": "stream",
     "name": "stdout",
     "text": [
      "remove image Cropped_Images/186821.jpg\n"
     ]
    },
    {
     "output_type": "stream",
     "name": "stderr",
     "text": [
      "84191it [21:20, 70.44it/s]"
     ]
    },
    {
     "output_type": "stream",
     "name": "stdout",
     "text": [
      "remove image Cropped_Images/186836.jpg\n",
      "remove image Cropped_Images/186837.jpg\n"
     ]
    },
    {
     "output_type": "stream",
     "name": "stderr",
     "text": [
      "84207it [21:20, 68.73it/s]"
     ]
    },
    {
     "output_type": "stream",
     "name": "stdout",
     "text": [
      "remove image Cropped_Images/186854.jpg\n"
     ]
    },
    {
     "output_type": "stream",
     "name": "stderr",
     "text": [
      "84249it [21:21, 64.78it/s]"
     ]
    },
    {
     "output_type": "stream",
     "name": "stdout",
     "text": [
      "remove image Cropped_Images/186897.jpg\n"
     ]
    },
    {
     "output_type": "stream",
     "name": "stderr",
     "text": [
      "84347it [21:22, 64.53it/s]"
     ]
    },
    {
     "output_type": "stream",
     "name": "stdout",
     "text": [
      "remove image Cropped_Images/186993.jpg\n"
     ]
    },
    {
     "output_type": "stream",
     "name": "stderr",
     "text": [
      "84448it [21:24, 70.25it/s]"
     ]
    },
    {
     "output_type": "stream",
     "name": "stdout",
     "text": [
      "remove image Cropped_Images/187099.jpg\n",
      "remove image Cropped_Images/187103.jpg\n"
     ]
    },
    {
     "output_type": "stream",
     "name": "stderr",
     "text": [
      "84480it [21:24, 69.14it/s]"
     ]
    },
    {
     "output_type": "stream",
     "name": "stdout",
     "text": [
      "remove image Cropped_Images/187131.jpg\n"
     ]
    },
    {
     "output_type": "stream",
     "name": "stderr",
     "text": [
      "84529it [21:25, 61.54it/s]"
     ]
    },
    {
     "output_type": "stream",
     "name": "stdout",
     "text": [
      "remove image Cropped_Images/187187.jpg\n"
     ]
    },
    {
     "output_type": "stream",
     "name": "stderr",
     "text": [
      "84599it [21:26, 66.00it/s]"
     ]
    },
    {
     "output_type": "stream",
     "name": "stdout",
     "text": [
      "remove image Cropped_Images/187254.jpg\n"
     ]
    },
    {
     "output_type": "stream",
     "name": "stderr",
     "text": [
      "84648it [21:27, 65.22it/s]"
     ]
    },
    {
     "output_type": "stream",
     "name": "stdout",
     "text": [
      "remove image Cropped_Images/187310.jpg\n"
     ]
    },
    {
     "output_type": "stream",
     "name": "stderr",
     "text": [
      "84676it [21:27, 67.09it/s]"
     ]
    },
    {
     "output_type": "stream",
     "name": "stdout",
     "text": [
      "remove image Cropped_Images/187329.jpg\n",
      "remove image Cropped_Images/187330.jpg\n"
     ]
    },
    {
     "output_type": "stream",
     "name": "stderr",
     "text": [
      "84806it [21:29, 70.72it/s]"
     ]
    },
    {
     "output_type": "stream",
     "name": "stdout",
     "text": [
      "remove image Cropped_Images/187466.jpg\n"
     ]
    },
    {
     "output_type": "stream",
     "name": "stderr",
     "text": [
      "85010it [21:32, 68.71it/s]"
     ]
    },
    {
     "output_type": "stream",
     "name": "stdout",
     "text": [
      "remove image Cropped_Images/187677.jpg\n"
     ]
    },
    {
     "output_type": "stream",
     "name": "stderr",
     "text": [
      "85045it [21:33, 66.36it/s]"
     ]
    },
    {
     "output_type": "stream",
     "name": "stdout",
     "text": [
      "remove image Cropped_Images/187715.jpg\n"
     ]
    },
    {
     "output_type": "stream",
     "name": "stderr",
     "text": [
      "85284it [21:36, 70.42it/s]"
     ]
    },
    {
     "output_type": "stream",
     "name": "stdout",
     "text": [
      "remove image Cropped_Images/187958.jpg\n"
     ]
    },
    {
     "output_type": "stream",
     "name": "stderr",
     "text": [
      "85350it [21:37, 63.12it/s]"
     ]
    },
    {
     "output_type": "stream",
     "name": "stdout",
     "text": [
      "remove image Cropped_Images/188032.jpg\n"
     ]
    },
    {
     "output_type": "stream",
     "name": "stderr",
     "text": [
      "85427it [21:39, 62.11it/s]"
     ]
    },
    {
     "output_type": "stream",
     "name": "stdout",
     "text": [
      "remove image Cropped_Images/188107.jpg\n"
     ]
    },
    {
     "output_type": "stream",
     "name": "stderr",
     "text": [
      "85462it [21:39, 60.83it/s]"
     ]
    },
    {
     "output_type": "stream",
     "name": "stdout",
     "text": [
      "remove image Cropped_Images/188144.jpg\n"
     ]
    },
    {
     "output_type": "stream",
     "name": "stderr",
     "text": [
      "85483it [21:39, 61.80it/s]"
     ]
    },
    {
     "output_type": "stream",
     "name": "stdout",
     "text": [
      "remove image Cropped_Images/188168.jpg\n"
     ]
    },
    {
     "output_type": "stream",
     "name": "stderr",
     "text": [
      "85545it [21:40, 63.50it/s]"
     ]
    },
    {
     "output_type": "stream",
     "name": "stdout",
     "text": [
      "remove image Cropped_Images/188224.jpg\n"
     ]
    },
    {
     "output_type": "stream",
     "name": "stderr",
     "text": [
      "85559it [21:41, 62.87it/s]"
     ]
    },
    {
     "output_type": "stream",
     "name": "stdout",
     "text": [
      "remove image Cropped_Images/188242.jpg\n"
     ]
    },
    {
     "output_type": "stream",
     "name": "stderr",
     "text": [
      "85680it [21:42, 68.72it/s]"
     ]
    },
    {
     "output_type": "stream",
     "name": "stdout",
     "text": [
      "remove image Cropped_Images/188370.jpg\n",
      "remove image Cropped_Images/188376.jpg\n"
     ]
    },
    {
     "output_type": "stream",
     "name": "stderr",
     "text": [
      "85751it [21:44, 62.17it/s]"
     ]
    },
    {
     "output_type": "stream",
     "name": "stdout",
     "text": [
      "remove image Cropped_Images/188446.jpg\n"
     ]
    },
    {
     "output_type": "stream",
     "name": "stderr",
     "text": [
      "85857it [21:45, 67.65it/s]"
     ]
    },
    {
     "output_type": "stream",
     "name": "stdout",
     "text": [
      "remove image Cropped_Images/188545.jpg\n",
      "remove image Cropped_Images/188549.jpg\n"
     ]
    },
    {
     "output_type": "stream",
     "name": "stderr",
     "text": [
      "85910it [21:46, 68.02it/s]"
     ]
    },
    {
     "output_type": "stream",
     "name": "stdout",
     "text": [
      "remove image Cropped_Images/188608.jpg\n"
     ]
    },
    {
     "output_type": "stream",
     "name": "stderr",
     "text": [
      "85952it [21:47, 65.27it/s]"
     ]
    },
    {
     "output_type": "stream",
     "name": "stdout",
     "text": [
      "remove image Cropped_Images/188651.jpg\n",
      "remove image Cropped_Images/188657.jpg\n",
      "remove image Cropped_Images/188663.jpg\n"
     ]
    },
    {
     "output_type": "stream",
     "name": "stderr",
     "text": [
      "86050it [21:48, 63.88it/s]"
     ]
    },
    {
     "output_type": "stream",
     "name": "stdout",
     "text": [
      "remove image Cropped_Images/188749.jpg\n",
      "remove image Cropped_Images/188759.jpg\n"
     ]
    },
    {
     "output_type": "stream",
     "name": "stderr",
     "text": [
      "86094it [21:49, 66.34it/s]"
     ]
    },
    {
     "output_type": "stream",
     "name": "stdout",
     "text": [
      "remove image Cropped_Images/188800.jpg\n"
     ]
    },
    {
     "output_type": "stream",
     "name": "stderr",
     "text": [
      "86115it [21:49, 66.00it/s]"
     ]
    },
    {
     "output_type": "stream",
     "name": "stdout",
     "text": [
      "remove image Cropped_Images/188818.jpg\n"
     ]
    },
    {
     "output_type": "stream",
     "name": "stderr",
     "text": [
      "86220it [21:51, 67.40it/s]"
     ]
    },
    {
     "output_type": "stream",
     "name": "stdout",
     "text": [
      "remove image Cropped_Images/188921.jpg\n"
     ]
    },
    {
     "output_type": "stream",
     "name": "stderr",
     "text": [
      "86276it [21:52, 64.07it/s]"
     ]
    },
    {
     "output_type": "stream",
     "name": "stdout",
     "text": [
      "remove image Cropped_Images/188982.jpg\n",
      "remove image Cropped_Images/188984.jpg\n"
     ]
    },
    {
     "output_type": "stream",
     "name": "stderr",
     "text": [
      "86353it [21:53, 63.95it/s]"
     ]
    },
    {
     "output_type": "stream",
     "name": "stdout",
     "text": [
      "remove image Cropped_Images/189064.jpg\n",
      "remove image Cropped_Images/189077.jpg\n"
     ]
    },
    {
     "output_type": "stream",
     "name": "stderr",
     "text": [
      "86375it [21:53, 68.49it/s]"
     ]
    },
    {
     "output_type": "stream",
     "name": "stdout",
     "text": [
      "remove image Cropped_Images/189089.jpg\n"
     ]
    },
    {
     "output_type": "stream",
     "name": "stderr",
     "text": [
      "86398it [21:54, 70.51it/s]"
     ]
    },
    {
     "output_type": "stream",
     "name": "stdout",
     "text": [
      "remove image Cropped_Images/189109.jpg\n"
     ]
    },
    {
     "output_type": "stream",
     "name": "stderr",
     "text": [
      "86473it [21:55, 66.02it/s]"
     ]
    },
    {
     "output_type": "stream",
     "name": "stdout",
     "text": [
      "remove image Cropped_Images/189190.jpg\n"
     ]
    },
    {
     "output_type": "stream",
     "name": "stderr",
     "text": [
      "86522it [21:55, 64.26it/s]"
     ]
    },
    {
     "output_type": "stream",
     "name": "stdout",
     "text": [
      "remove image Cropped_Images/189238.jpg\n",
      "remove image Cropped_Images/189240.jpg\n"
     ]
    },
    {
     "output_type": "stream",
     "name": "stderr",
     "text": [
      "86623it [21:57, 68.71it/s]"
     ]
    },
    {
     "output_type": "stream",
     "name": "stdout",
     "text": [
      "remove image Cropped_Images/189334.jpg\n"
     ]
    },
    {
     "output_type": "stream",
     "name": "stderr",
     "text": [
      "86693it [21:58, 64.69it/s]"
     ]
    },
    {
     "output_type": "stream",
     "name": "stdout",
     "text": [
      "remove image Cropped_Images/189408.jpg\n"
     ]
    },
    {
     "output_type": "stream",
     "name": "stderr",
     "text": [
      "86721it [21:58, 66.79it/s]"
     ]
    },
    {
     "output_type": "stream",
     "name": "stdout",
     "text": [
      "remove image Cropped_Images/189438.jpg\n"
     ]
    },
    {
     "output_type": "stream",
     "name": "stderr",
     "text": [
      "86770it [21:59, 61.84it/s]"
     ]
    },
    {
     "output_type": "stream",
     "name": "stdout",
     "text": [
      "remove image Cropped_Images/189487.jpg\n"
     ]
    },
    {
     "output_type": "stream",
     "name": "stderr",
     "text": [
      "86812it [22:00, 63.17it/s]"
     ]
    },
    {
     "output_type": "stream",
     "name": "stdout",
     "text": [
      "remove image Cropped_Images/189537.jpg\n"
     ]
    },
    {
     "output_type": "stream",
     "name": "stderr",
     "text": [
      "86833it [22:00, 64.41it/s]"
     ]
    },
    {
     "output_type": "stream",
     "name": "stdout",
     "text": [
      "remove image Cropped_Images/189557.jpg\n"
     ]
    },
    {
     "output_type": "stream",
     "name": "stderr",
     "text": [
      "86882it [22:01, 64.40it/s]"
     ]
    },
    {
     "output_type": "stream",
     "name": "stdout",
     "text": [
      "remove image Cropped_Images/189605.jpg\n"
     ]
    },
    {
     "output_type": "stream",
     "name": "stderr",
     "text": [
      "86917it [22:02, 62.13it/s]"
     ]
    },
    {
     "output_type": "stream",
     "name": "stdout",
     "text": [
      "remove image Cropped_Images/189645.jpg\n"
     ]
    },
    {
     "output_type": "stream",
     "name": "stderr",
     "text": [
      "86973it [22:02, 64.74it/s]"
     ]
    },
    {
     "output_type": "stream",
     "name": "stdout",
     "text": [
      "remove image Cropped_Images/189700.jpg\n"
     ]
    },
    {
     "output_type": "stream",
     "name": "stderr",
     "text": [
      "87191it [22:06, 71.89it/s]"
     ]
    },
    {
     "output_type": "stream",
     "name": "stdout",
     "text": [
      "remove image Cropped_Images/189927.jpg\n",
      "remove image Cropped_Images/189936.jpg\n"
     ]
    },
    {
     "output_type": "stream",
     "name": "stderr",
     "text": [
      "87444it [22:09, 71.46it/s]"
     ]
    },
    {
     "output_type": "stream",
     "name": "stdout",
     "text": [
      "remove image Cropped_Images/190186.jpg\n"
     ]
    },
    {
     "output_type": "stream",
     "name": "stderr",
     "text": [
      "87481it [22:10, 66.07it/s]"
     ]
    },
    {
     "output_type": "stream",
     "name": "stdout",
     "text": [
      "remove image Cropped_Images/190225.jpg\n"
     ]
    },
    {
     "output_type": "stream",
     "name": "stderr",
     "text": [
      "87516it [22:10, 61.49it/s]"
     ]
    },
    {
     "output_type": "stream",
     "name": "stdout",
     "text": [
      "remove image Cropped_Images/190262.jpg\n"
     ]
    },
    {
     "output_type": "stream",
     "name": "stderr",
     "text": [
      "87579it [22:11, 63.26it/s]"
     ]
    },
    {
     "output_type": "stream",
     "name": "stdout",
     "text": [
      "remove image Cropped_Images/190325.jpg\n",
      "remove image Cropped_Images/190327.jpg\n"
     ]
    },
    {
     "output_type": "stream",
     "name": "stderr",
     "text": [
      "87607it [22:12, 64.61it/s]"
     ]
    },
    {
     "output_type": "stream",
     "name": "stdout",
     "text": [
      "remove image Cropped_Images/190355.jpg\n"
     ]
    },
    {
     "output_type": "stream",
     "name": "stderr",
     "text": [
      "87635it [22:12, 64.57it/s]"
     ]
    },
    {
     "output_type": "stream",
     "name": "stdout",
     "text": [
      "remove image Cropped_Images/190387.jpg\n",
      "remove image Cropped_Images/190399.jpg\n"
     ]
    },
    {
     "output_type": "stream",
     "name": "stderr",
     "text": [
      "87670it [22:13, 64.03it/s]"
     ]
    },
    {
     "output_type": "stream",
     "name": "stdout",
     "text": [
      "remove image Cropped_Images/190422.jpg\n",
      "remove image Cropped_Images/190425.jpg\n"
     ]
    },
    {
     "output_type": "stream",
     "name": "stderr",
     "text": [
      "87691it [22:13, 63.40it/s]"
     ]
    },
    {
     "output_type": "stream",
     "name": "stdout",
     "text": [
      "remove image Cropped_Images/190444.jpg\n",
      "remove image Cropped_Images/190456.jpg\n"
     ]
    },
    {
     "output_type": "stream",
     "name": "stderr",
     "text": [
      "87733it [22:14, 64.80it/s]"
     ]
    },
    {
     "output_type": "stream",
     "name": "stdout",
     "text": [
      "remove image Cropped_Images/190489.jpg\n"
     ]
    },
    {
     "output_type": "stream",
     "name": "stderr",
     "text": [
      "87761it [22:14, 63.51it/s]"
     ]
    },
    {
     "output_type": "stream",
     "name": "stdout",
     "text": [
      "remove image Cropped_Images/190521.jpg\n"
     ]
    },
    {
     "output_type": "stream",
     "name": "stderr",
     "text": [
      "87817it [22:15, 60.24it/s]"
     ]
    },
    {
     "output_type": "stream",
     "name": "stdout",
     "text": [
      "remove image Cropped_Images/190576.jpg\n"
     ]
    },
    {
     "output_type": "stream",
     "name": "stderr",
     "text": [
      "87887it [22:16, 59.97it/s]"
     ]
    },
    {
     "output_type": "stream",
     "name": "stdout",
     "text": [
      "remove image Cropped_Images/190647.jpg\n"
     ]
    },
    {
     "output_type": "stream",
     "name": "stderr",
     "text": [
      "87922it [22:17, 60.36it/s]"
     ]
    },
    {
     "output_type": "stream",
     "name": "stdout",
     "text": [
      "remove image Cropped_Images/190687.jpg\n",
      "remove image Cropped_Images/190698.jpg"
     ]
    },
    {
     "output_type": "stream",
     "name": "stderr",
     "text": [
      "87936it [22:17, 60.65it/s]"
     ]
    },
    {
     "output_type": "stream",
     "name": "stdout",
     "text": [
      "\n"
     ]
    },
    {
     "output_type": "stream",
     "name": "stderr",
     "text": [
      "88004it [22:18, 65.31it/s]"
     ]
    },
    {
     "output_type": "stream",
     "name": "stdout",
     "text": [
      "remove image Cropped_Images/190764.jpg\n",
      "remove image Cropped_Images/190774.jpg\n"
     ]
    },
    {
     "output_type": "stream",
     "name": "stderr",
     "text": [
      "88219it [22:21, 73.88it/s]"
     ]
    },
    {
     "output_type": "stream",
     "name": "stdout",
     "text": [
      "remove image Cropped_Images/190990.jpg\n",
      "remove image Cropped_Images/191000.jpg\n"
     ]
    },
    {
     "output_type": "stream",
     "name": "stderr",
     "text": [
      "88259it [22:22, 69.30it/s]"
     ]
    },
    {
     "output_type": "stream",
     "name": "stdout",
     "text": [
      "remove image Cropped_Images/191032.jpg\n"
     ]
    },
    {
     "output_type": "stream",
     "name": "stderr",
     "text": [
      "88329it [22:23, 63.25it/s]"
     ]
    },
    {
     "output_type": "stream",
     "name": "stdout",
     "text": [
      "remove image Cropped_Images/191100.jpg\n"
     ]
    },
    {
     "output_type": "stream",
     "name": "stderr",
     "text": [
      "88371it [22:24, 63.49it/s]"
     ]
    },
    {
     "output_type": "stream",
     "name": "stdout",
     "text": [
      "remove image Cropped_Images/191145.jpg\n"
     ]
    },
    {
     "output_type": "stream",
     "name": "stderr",
     "text": [
      "88521it [22:26, 67.95it/s]"
     ]
    },
    {
     "output_type": "stream",
     "name": "stdout",
     "text": [
      "remove image Cropped_Images/191293.jpg\n"
     ]
    },
    {
     "output_type": "stream",
     "name": "stderr",
     "text": [
      "88535it [22:26, 68.36it/s]"
     ]
    },
    {
     "output_type": "stream",
     "name": "stdout",
     "text": [
      "remove image Cropped_Images/191311.jpg\n",
      "remove image Cropped_Images/191324.jpg\n"
     ]
    },
    {
     "output_type": "stream",
     "name": "stderr",
     "text": [
      "88563it [22:27, 65.83it/s]"
     ]
    },
    {
     "output_type": "stream",
     "name": "stdout",
     "text": [
      "remove image Cropped_Images/191345.jpg\n",
      "remove image Cropped_Images/191349.jpg\n",
      "remove image Cropped_Images/191351.jpg\n"
     ]
    },
    {
     "output_type": "stream",
     "name": "stderr",
     "text": [
      "88619it [22:28, 60.39it/s]"
     ]
    },
    {
     "output_type": "stream",
     "name": "stdout",
     "text": [
      "remove image Cropped_Images/191403.jpg\n"
     ]
    },
    {
     "output_type": "stream",
     "name": "stderr",
     "text": [
      "88647it [22:28, 60.14it/s]"
     ]
    },
    {
     "output_type": "stream",
     "name": "stdout",
     "text": [
      "remove image Cropped_Images/191434.jpg\n"
     ]
    },
    {
     "output_type": "stream",
     "name": "stderr",
     "text": [
      "88695it [22:29, 62.04it/s]"
     ]
    },
    {
     "output_type": "stream",
     "name": "stdout",
     "text": [
      "remove image Cropped_Images/191479.jpg\n"
     ]
    },
    {
     "output_type": "stream",
     "name": "stderr",
     "text": [
      "88872it [22:32, 64.08it/s]"
     ]
    },
    {
     "output_type": "stream",
     "name": "stdout",
     "text": [
      "remove image Cropped_Images/191670.jpg\n"
     ]
    },
    {
     "output_type": "stream",
     "name": "stderr",
     "text": [
      "88887it [22:32, 66.80it/s]"
     ]
    },
    {
     "output_type": "stream",
     "name": "stdout",
     "text": [
      "remove image Cropped_Images/191687.jpg\n",
      "remove image Cropped_Images/191688.jpg\n"
     ]
    },
    {
     "output_type": "stream",
     "name": "stderr",
     "text": [
      "88993it [22:33, 69.09it/s]"
     ]
    },
    {
     "output_type": "stream",
     "name": "stdout",
     "text": [
      "remove image Cropped_Images/191787.jpg\n"
     ]
    },
    {
     "output_type": "stream",
     "name": "stderr",
     "text": [
      "89044it [22:34, 66.99it/s]"
     ]
    },
    {
     "output_type": "stream",
     "name": "stdout",
     "text": [
      "remove image Cropped_Images/191840.jpg\n"
     ]
    },
    {
     "output_type": "stream",
     "name": "stderr",
     "text": [
      "89079it [22:35, 63.20it/s]"
     ]
    },
    {
     "output_type": "stream",
     "name": "stdout",
     "text": [
      "remove image Cropped_Images/191885.jpg\n",
      "remove image Cropped_Images/191897.jpg\n"
     ]
    },
    {
     "output_type": "stream",
     "name": "stderr",
     "text": [
      "89100it [22:35, 63.81it/s]"
     ]
    },
    {
     "output_type": "stream",
     "name": "stdout",
     "text": [
      "remove image Cropped_Images/191912.jpg\n"
     ]
    },
    {
     "output_type": "stream",
     "name": "stderr",
     "text": [
      "89128it [22:35, 63.09it/s]"
     ]
    },
    {
     "output_type": "stream",
     "name": "stdout",
     "text": [
      "remove image Cropped_Images/191940.jpg\n"
     ]
    },
    {
     "output_type": "stream",
     "name": "stderr",
     "text": [
      "89170it [22:36, 61.42it/s]"
     ]
    },
    {
     "output_type": "stream",
     "name": "stdout",
     "text": [
      "remove image Cropped_Images/191979.jpg\n",
      "remove image Cropped_Images/191988.jpg\n"
     ]
    },
    {
     "output_type": "stream",
     "name": "stderr",
     "text": [
      "89184it [22:36, 62.30it/s]"
     ]
    },
    {
     "output_type": "stream",
     "name": "stdout",
     "text": [
      "remove image Cropped_Images/191999.jpg\n"
     ]
    },
    {
     "output_type": "stream",
     "name": "stderr",
     "text": [
      "89379it [22:39, 70.70it/s]"
     ]
    },
    {
     "output_type": "stream",
     "name": "stdout",
     "text": [
      "remove image Cropped_Images/192193.jpg\n"
     ]
    },
    {
     "output_type": "stream",
     "name": "stderr",
     "text": [
      "89437it [22:40, 65.33it/s]"
     ]
    },
    {
     "output_type": "stream",
     "name": "stdout",
     "text": [
      "remove image Cropped_Images/192261.jpg\n"
     ]
    },
    {
     "output_type": "stream",
     "name": "stderr",
     "text": [
      "89458it [22:40, 66.26it/s]"
     ]
    },
    {
     "output_type": "stream",
     "name": "stdout",
     "text": [
      "remove image Cropped_Images/192284.jpg\n"
     ]
    },
    {
     "output_type": "stream",
     "name": "stderr",
     "text": [
      "89557it [22:42, 66.66it/s]"
     ]
    },
    {
     "output_type": "stream",
     "name": "stdout",
     "text": [
      "remove image Cropped_Images/192387.jpg\n"
     ]
    },
    {
     "output_type": "stream",
     "name": "stderr",
     "text": [
      "89579it [22:42, 67.54it/s]"
     ]
    },
    {
     "output_type": "stream",
     "name": "stdout",
     "text": [
      "remove image Cropped_Images/192407.jpg\n"
     ]
    },
    {
     "output_type": "stream",
     "name": "stderr",
     "text": [
      "89670it [22:44, 64.66it/s]"
     ]
    },
    {
     "output_type": "stream",
     "name": "stdout",
     "text": [
      "remove image Cropped_Images/192505.jpg\n"
     ]
    },
    {
     "output_type": "stream",
     "name": "stderr",
     "text": [
      "89763it [22:45, 68.80it/s]"
     ]
    },
    {
     "output_type": "stream",
     "name": "stdout",
     "text": [
      "remove image Cropped_Images/192597.jpg\n"
     ]
    },
    {
     "output_type": "stream",
     "name": "stderr",
     "text": [
      "89831it [22:46, 66.88it/s]"
     ]
    },
    {
     "output_type": "stream",
     "name": "stdout",
     "text": [
      "remove image Cropped_Images/192667.jpg\n"
     ]
    },
    {
     "output_type": "stream",
     "name": "stderr",
     "text": [
      "89852it [22:46, 64.69it/s]"
     ]
    },
    {
     "output_type": "stream",
     "name": "stdout",
     "text": [
      "remove image Cropped_Images/192687.jpg\n"
     ]
    },
    {
     "output_type": "stream",
     "name": "stderr",
     "text": [
      "89859it [22:46, 65.12it/s]"
     ]
    },
    {
     "output_type": "stream",
     "name": "stdout",
     "text": [
      "remove image Cropped_Images/192702.jpg\n",
      "remove image Cropped_Images/192711.jpg\n"
     ]
    },
    {
     "output_type": "stream",
     "name": "stderr",
     "text": [
      "89880it [22:47, 67.53it/s]"
     ]
    },
    {
     "output_type": "stream",
     "name": "stdout",
     "text": [
      "remove image Cropped_Images/192717.jpg\n",
      "remove image Cropped_Images/192721.jpg\n"
     ]
    },
    {
     "output_type": "stream",
     "name": "stderr",
     "text": [
      "89936it [22:48, 63.28it/s]"
     ]
    },
    {
     "output_type": "stream",
     "name": "stdout",
     "text": [
      "remove image Cropped_Images/192780.jpg\n"
     ]
    },
    {
     "output_type": "stream",
     "name": "stderr",
     "text": [
      "90037it [22:49, 71.13it/s]"
     ]
    },
    {
     "output_type": "stream",
     "name": "stdout",
     "text": [
      "remove image Cropped_Images/192882.jpg\n"
     ]
    },
    {
     "output_type": "stream",
     "name": "stderr",
     "text": [
      "90140it [22:51, 67.05it/s]"
     ]
    },
    {
     "output_type": "stream",
     "name": "stdout",
     "text": [
      "remove image Cropped_Images/192983.jpg\n"
     ]
    },
    {
     "output_type": "stream",
     "name": "stderr",
     "text": [
      "90297it [22:53, 73.37it/s]"
     ]
    },
    {
     "output_type": "stream",
     "name": "stdout",
     "text": [
      "remove image Cropped_Images/193147.jpg\n",
      "remove image Cropped_Images/193159.jpg\n"
     ]
    },
    {
     "output_type": "stream",
     "name": "stderr",
     "text": [
      "90351it [22:54, 68.46it/s]"
     ]
    },
    {
     "output_type": "stream",
     "name": "stdout",
     "text": [
      "remove image Cropped_Images/193201.jpg\n"
     ]
    },
    {
     "output_type": "stream",
     "name": "stderr",
     "text": [
      "90372it [22:54, 64.54it/s]"
     ]
    },
    {
     "output_type": "stream",
     "name": "stdout",
     "text": [
      "remove image Cropped_Images/193228.jpg\n"
     ]
    },
    {
     "output_type": "stream",
     "name": "stderr",
     "text": [
      "90400it [22:55, 63.64it/s]"
     ]
    },
    {
     "output_type": "stream",
     "name": "stdout",
     "text": [
      "remove image Cropped_Images/193256.jpg\n"
     ]
    },
    {
     "output_type": "stream",
     "name": "stderr",
     "text": [
      "90421it [22:55, 63.20it/s]"
     ]
    },
    {
     "output_type": "stream",
     "name": "stdout",
     "text": [
      "remove image Cropped_Images/193272.jpg\n"
     ]
    },
    {
     "output_type": "stream",
     "name": "stderr",
     "text": [
      "90435it [22:55, 64.60it/s]"
     ]
    },
    {
     "output_type": "stream",
     "name": "stdout",
     "text": [
      "remove image Cropped_Images/193290.jpg\n"
     ]
    },
    {
     "output_type": "stream",
     "name": "stderr",
     "text": [
      "90449it [22:55, 63.93it/s]"
     ]
    },
    {
     "output_type": "stream",
     "name": "stdout",
     "text": [
      "remove image Cropped_Images/193305.jpg\n"
     ]
    },
    {
     "output_type": "stream",
     "name": "stderr",
     "text": [
      "90527it [22:56, 68.17it/s]"
     ]
    },
    {
     "output_type": "stream",
     "name": "stdout",
     "text": [
      "remove image Cropped_Images/193381.jpg\n"
     ]
    },
    {
     "output_type": "stream",
     "name": "stderr",
     "text": [
      "90577it [22:57, 67.40it/s]"
     ]
    },
    {
     "output_type": "stream",
     "name": "stdout",
     "text": [
      "remove image Cropped_Images/193435.jpg\n"
     ]
    },
    {
     "output_type": "stream",
     "name": "stderr",
     "text": [
      "90647it [22:58, 63.73it/s]"
     ]
    },
    {
     "output_type": "stream",
     "name": "stdout",
     "text": [
      "remove image Cropped_Images/193506.jpg\n"
     ]
    },
    {
     "output_type": "stream",
     "name": "stderr",
     "text": [
      "90731it [23:00, 67.08it/s]"
     ]
    },
    {
     "output_type": "stream",
     "name": "stdout",
     "text": [
      "remove image Cropped_Images/193590.jpg\n"
     ]
    },
    {
     "output_type": "stream",
     "name": "stderr",
     "text": [
      "90816it [23:01, 67.24it/s]"
     ]
    },
    {
     "output_type": "stream",
     "name": "stdout",
     "text": [
      "remove image Cropped_Images/193688.jpg\n"
     ]
    },
    {
     "output_type": "stream",
     "name": "stderr",
     "text": [
      "90866it [23:02, 65.58it/s]"
     ]
    },
    {
     "output_type": "stream",
     "name": "stdout",
     "text": [
      "remove image Cropped_Images/193734.jpg\n",
      "remove image Cropped_Images/193745.jpg\n"
     ]
    },
    {
     "output_type": "stream",
     "name": "stderr",
     "text": [
      "90971it [23:03, 65.41it/s]"
     ]
    },
    {
     "output_type": "stream",
     "name": "stdout",
     "text": [
      "remove image Cropped_Images/193836.jpg\n"
     ]
    },
    {
     "output_type": "stream",
     "name": "stderr",
     "text": [
      "91058it [23:04, 68.73it/s]"
     ]
    },
    {
     "output_type": "stream",
     "name": "stdout",
     "text": [
      "remove image Cropped_Images/193925.jpg\n"
     ]
    },
    {
     "output_type": "stream",
     "name": "stderr",
     "text": [
      "91074it [23:05, 70.16it/s]"
     ]
    },
    {
     "output_type": "stream",
     "name": "stdout",
     "text": [
      "remove image Cropped_Images/193942.jpg\n"
     ]
    },
    {
     "output_type": "stream",
     "name": "stderr",
     "text": [
      "91089it [23:05, 67.04it/s]"
     ]
    },
    {
     "output_type": "stream",
     "name": "stdout",
     "text": [
      "remove image Cropped_Images/193963.jpg\n"
     ]
    },
    {
     "output_type": "stream",
     "name": "stderr",
     "text": [
      "91124it [23:05, 64.85it/s]"
     ]
    },
    {
     "output_type": "stream",
     "name": "stdout",
     "text": [
      "remove image Cropped_Images/193993.jpg\n"
     ]
    },
    {
     "output_type": "stream",
     "name": "stderr",
     "text": [
      "91287it [23:08, 72.66it/s]"
     ]
    },
    {
     "output_type": "stream",
     "name": "stdout",
     "text": [
      "remove image Cropped_Images/194163.jpg\n",
      "remove image Cropped_Images/194168.jpg\n"
     ]
    },
    {
     "output_type": "stream",
     "name": "stderr",
     "text": [
      "91319it [23:08, 71.38it/s]"
     ]
    },
    {
     "output_type": "stream",
     "name": "stdout",
     "text": [
      "remove image Cropped_Images/194200.jpg\n"
     ]
    },
    {
     "output_type": "stream",
     "name": "stderr",
     "text": [
      "91363it [23:09, 63.57it/s]"
     ]
    },
    {
     "output_type": "stream",
     "name": "stdout",
     "text": [
      "remove image Cropped_Images/194249.jpg\n",
      "remove image Cropped_Images/194256.jpg\n"
     ]
    },
    {
     "output_type": "stream",
     "name": "stderr",
     "text": [
      "91384it [23:09, 63.14it/s]"
     ]
    },
    {
     "output_type": "stream",
     "name": "stdout",
     "text": [
      "remove image Cropped_Images/194267.jpg\n"
     ]
    },
    {
     "output_type": "stream",
     "name": "stderr",
     "text": [
      "91468it [23:11, 64.93it/s]"
     ]
    },
    {
     "output_type": "stream",
     "name": "stdout",
     "text": [
      "remove image Cropped_Images/194350.jpg\n",
      "remove image Cropped_Images/194353.jpg\n"
     ]
    },
    {
     "output_type": "stream",
     "name": "stderr",
     "text": [
      "91532it [23:12, 66.62it/s]"
     ]
    },
    {
     "output_type": "stream",
     "name": "stdout",
     "text": [
      "remove image Cropped_Images/194416.jpg\n"
     ]
    },
    {
     "output_type": "stream",
     "name": "stderr",
     "text": [
      "91669it [23:14, 70.98it/s]"
     ]
    },
    {
     "output_type": "stream",
     "name": "stdout",
     "text": [
      "remove image Cropped_Images/194560.jpg\n"
     ]
    },
    {
     "output_type": "stream",
     "name": "stderr",
     "text": [
      "91685it [23:14, 69.36it/s]"
     ]
    },
    {
     "output_type": "stream",
     "name": "stdout",
     "text": [
      "remove image Cropped_Images/194576.jpg\n",
      "remove image Cropped_Images/194583.jpg\n"
     ]
    },
    {
     "output_type": "stream",
     "name": "stderr",
     "text": [
      "91725it [23:14, 69.27it/s]"
     ]
    },
    {
     "output_type": "stream",
     "name": "stdout",
     "text": [
      "remove image Cropped_Images/194615.jpg\n",
      "remove image Cropped_Images/194628.jpg\n"
     ]
    },
    {
     "output_type": "stream",
     "name": "stderr",
     "text": [
      "91760it [23:15, 66.23it/s]"
     ]
    },
    {
     "output_type": "stream",
     "name": "stdout",
     "text": [
      "remove image Cropped_Images/194650.jpg\n",
      "remove image Cropped_Images/194656.jpg\n",
      "remove image Cropped_Images/194661.jpg\n",
      "remove image Cropped_Images/194662.jpg\n"
     ]
    },
    {
     "output_type": "stream",
     "name": "stderr",
     "text": [
      "91774it [23:15, 66.02it/s]"
     ]
    },
    {
     "output_type": "stream",
     "name": "stdout",
     "text": [
      "remove image Cropped_Images/194667.jpg\n"
     ]
    },
    {
     "output_type": "stream",
     "name": "stderr",
     "text": [
      "91872it [23:17, 65.12it/s]"
     ]
    },
    {
     "output_type": "stream",
     "name": "stdout",
     "text": [
      "remove image Cropped_Images/194767.jpg\n"
     ]
    },
    {
     "output_type": "stream",
     "name": "stderr",
     "text": [
      "91886it [23:17, 64.10it/s]"
     ]
    },
    {
     "output_type": "stream",
     "name": "stdout",
     "text": [
      "remove image Cropped_Images/194785.jpg\n"
     ]
    },
    {
     "output_type": "stream",
     "name": "stderr",
     "text": [
      "91907it [23:17, 64.13it/s]"
     ]
    },
    {
     "output_type": "stream",
     "name": "stdout",
     "text": [
      "remove image Cropped_Images/194802.jpg\n"
     ]
    },
    {
     "output_type": "stream",
     "name": "stderr",
     "text": [
      "92223it [23:22, 70.20it/s]"
     ]
    },
    {
     "output_type": "stream",
     "name": "stdout",
     "text": [
      "remove image Cropped_Images/195125.jpg\n"
     ]
    },
    {
     "output_type": "stream",
     "name": "stderr",
     "text": [
      "92332it [23:23, 72.09it/s]"
     ]
    },
    {
     "output_type": "stream",
     "name": "stdout",
     "text": [
      "remove image Cropped_Images/195233.jpg\n",
      "remove image Cropped_Images/195247.jpg\n"
     ]
    },
    {
     "output_type": "stream",
     "name": "stderr",
     "text": [
      "92422it [23:25, 64.31it/s]"
     ]
    },
    {
     "output_type": "stream",
     "name": "stdout",
     "text": [
      "remove image Cropped_Images/195326.jpg\n"
     ]
    },
    {
     "output_type": "stream",
     "name": "stderr",
     "text": [
      "92444it [23:25, 67.45it/s]"
     ]
    },
    {
     "output_type": "stream",
     "name": "stdout",
     "text": [
      "remove image Cropped_Images/195350.jpg\n"
     ]
    },
    {
     "output_type": "stream",
     "name": "stderr",
     "text": [
      "92516it [23:26, 68.40it/s]"
     ]
    },
    {
     "output_type": "stream",
     "name": "stdout",
     "text": [
      "remove image Cropped_Images/195426.jpg\n",
      "remove image Cropped_Images/195430.jpg\n",
      "remove image Cropped_Images/195431.jpg\n"
     ]
    },
    {
     "output_type": "stream",
     "name": "stderr",
     "text": [
      "92537it [23:26, 68.51it/s]"
     ]
    },
    {
     "output_type": "stream",
     "name": "stdout",
     "text": [
      "remove image Cropped_Images/195448.jpg\n"
     ]
    },
    {
     "output_type": "stream",
     "name": "stderr",
     "text": [
      "92568it [23:27, 70.21it/s]"
     ]
    },
    {
     "output_type": "stream",
     "name": "stdout",
     "text": [
      "remove image Cropped_Images/195477.jpg\n"
     ]
    },
    {
     "output_type": "stream",
     "name": "stderr",
     "text": [
      "92892it [23:31, 71.37it/s]"
     ]
    },
    {
     "output_type": "stream",
     "name": "stdout",
     "text": [
      "remove image Cropped_Images/195809.jpg\n"
     ]
    },
    {
     "output_type": "stream",
     "name": "stderr",
     "text": [
      "92944it [23:32, 66.83it/s]"
     ]
    },
    {
     "output_type": "stream",
     "name": "stdout",
     "text": [
      "remove image Cropped_Images/195866.jpg\n",
      "remove image Cropped_Images/195878.jpg\n"
     ]
    },
    {
     "output_type": "stream",
     "name": "stderr",
     "text": [
      "93021it [23:33, 64.97it/s]"
     ]
    },
    {
     "output_type": "stream",
     "name": "stdout",
     "text": [
      "remove image Cropped_Images/195945.jpg\n"
     ]
    },
    {
     "output_type": "stream",
     "name": "stderr",
     "text": [
      "93035it [23:34, 64.23it/s]"
     ]
    },
    {
     "output_type": "stream",
     "name": "stdout",
     "text": [
      "remove image Cropped_Images/195960.jpg\n"
     ]
    },
    {
     "output_type": "stream",
     "name": "stderr",
     "text": [
      "93150it [23:35, 69.80it/s]"
     ]
    },
    {
     "output_type": "stream",
     "name": "stdout",
     "text": [
      "remove image Cropped_Images/196078.jpg\n"
     ]
    },
    {
     "output_type": "stream",
     "name": "stderr",
     "text": [
      "93200it [23:36, 65.80it/s]"
     ]
    },
    {
     "output_type": "stream",
     "name": "stdout",
     "text": [
      "remove image Cropped_Images/196130.jpg\n"
     ]
    },
    {
     "output_type": "stream",
     "name": "stderr",
     "text": [
      "93221it [23:36, 64.74it/s]"
     ]
    },
    {
     "output_type": "stream",
     "name": "stdout",
     "text": [
      "remove image Cropped_Images/196153.jpg\n"
     ]
    },
    {
     "output_type": "stream",
     "name": "stderr",
     "text": [
      "93242it [23:37, 63.87it/s]"
     ]
    },
    {
     "output_type": "stream",
     "name": "stdout",
     "text": [
      "remove image Cropped_Images/196172.jpg\n"
     ]
    },
    {
     "output_type": "stream",
     "name": "stderr",
     "text": [
      "93284it [23:37, 64.61it/s]"
     ]
    },
    {
     "output_type": "stream",
     "name": "stdout",
     "text": [
      "remove image Cropped_Images/196215.jpg\n"
     ]
    },
    {
     "output_type": "stream",
     "name": "stderr",
     "text": [
      "93298it [23:38, 63.79it/s]"
     ]
    },
    {
     "output_type": "stream",
     "name": "stdout",
     "text": [
      "remove image Cropped_Images/196233.jpg\n",
      "remove image Cropped_Images/196239.jpg\n"
     ]
    },
    {
     "output_type": "stream",
     "name": "stderr",
     "text": [
      "93319it [23:38, 63.89it/s]"
     ]
    },
    {
     "output_type": "stream",
     "name": "stdout",
     "text": [
      "remove image Cropped_Images/196253.jpg\n"
     ]
    },
    {
     "output_type": "stream",
     "name": "stderr",
     "text": [
      "93448it [23:40, 68.38it/s]"
     ]
    },
    {
     "output_type": "stream",
     "name": "stdout",
     "text": [
      "remove image Cropped_Images/196382.jpg\n"
     ]
    },
    {
     "output_type": "stream",
     "name": "stderr",
     "text": [
      "93470it [23:40, 67.89it/s]"
     ]
    },
    {
     "output_type": "stream",
     "name": "stdout",
     "text": [
      "remove image Cropped_Images/196409.jpg\n"
     ]
    },
    {
     "output_type": "stream",
     "name": "stderr",
     "text": [
      "93547it [23:41, 64.43it/s]"
     ]
    },
    {
     "output_type": "stream",
     "name": "stdout",
     "text": [
      "remove image Cropped_Images/196490.jpg\n"
     ]
    },
    {
     "output_type": "stream",
     "name": "stderr",
     "text": [
      "93683it [23:43, 67.72it/s]"
     ]
    },
    {
     "output_type": "stream",
     "name": "stdout",
     "text": [
      "remove image Cropped_Images/196633.jpg\n"
     ]
    },
    {
     "output_type": "stream",
     "name": "stderr",
     "text": [
      "93740it [23:44, 66.13it/s]"
     ]
    },
    {
     "output_type": "stream",
     "name": "stdout",
     "text": [
      "remove image Cropped_Images/196694.jpg\n",
      "remove image Cropped_Images/196695.jpg\n",
      "remove image Cropped_Images/196705.jpg\n",
      "remove image Cropped_Images/196707.jpg\n"
     ]
    },
    {
     "output_type": "stream",
     "name": "stderr",
     "text": [
      "93761it [23:45, 64.77it/s]"
     ]
    },
    {
     "output_type": "stream",
     "name": "stdout",
     "text": [
      "remove image Cropped_Images/196713.jpg\n",
      "remove image Cropped_Images/196720.jpg\n"
     ]
    },
    {
     "output_type": "stream",
     "name": "stderr",
     "text": [
      "93826it [23:46, 65.83it/s]"
     ]
    },
    {
     "output_type": "stream",
     "name": "stdout",
     "text": [
      "remove image Cropped_Images/196783.jpg\n"
     ]
    },
    {
     "output_type": "stream",
     "name": "stderr",
     "text": [
      "93932it [23:47, 67.55it/s]"
     ]
    },
    {
     "output_type": "stream",
     "name": "stdout",
     "text": [
      "remove image Cropped_Images/196886.jpg\n"
     ]
    },
    {
     "output_type": "stream",
     "name": "stderr",
     "text": [
      "93981it [23:48, 65.68it/s]"
     ]
    },
    {
     "output_type": "stream",
     "name": "stdout",
     "text": [
      "remove image Cropped_Images/196938.jpg\n"
     ]
    },
    {
     "output_type": "stream",
     "name": "stderr",
     "text": [
      "94030it [23:49, 65.08it/s]"
     ]
    },
    {
     "output_type": "stream",
     "name": "stdout",
     "text": [
      "remove image Cropped_Images/196988.jpg\n",
      "remove image Cropped_Images/196998.jpg\n"
     ]
    },
    {
     "output_type": "stream",
     "name": "stderr",
     "text": [
      "94058it [23:49, 65.92it/s]"
     ]
    },
    {
     "output_type": "stream",
     "name": "stdout",
     "text": [
      "remove image Cropped_Images/197022.jpg\n",
      "remove image Cropped_Images/197034.jpg\n"
     ]
    },
    {
     "output_type": "stream",
     "name": "stderr",
     "text": [
      "94072it [23:49, 65.63it/s]"
     ]
    },
    {
     "output_type": "stream",
     "name": "stdout",
     "text": [
      "remove image Cropped_Images/197037.jpg\n"
     ]
    },
    {
     "output_type": "stream",
     "name": "stderr",
     "text": [
      "94100it [23:50, 64.82it/s]"
     ]
    },
    {
     "output_type": "stream",
     "name": "stdout",
     "text": [
      "remove image Cropped_Images/197062.jpg\n"
     ]
    },
    {
     "output_type": "stream",
     "name": "stderr",
     "text": [
      "94121it [23:50, 65.84it/s]"
     ]
    },
    {
     "output_type": "stream",
     "name": "stdout",
     "text": [
      "remove image Cropped_Images/197085.jpg\n"
     ]
    },
    {
     "output_type": "stream",
     "name": "stderr",
     "text": [
      "94264it [23:52, 69.63it/s]"
     ]
    },
    {
     "output_type": "stream",
     "name": "stdout",
     "text": [
      "remove image Cropped_Images/197233.jpg\n"
     ]
    },
    {
     "output_type": "stream",
     "name": "stderr",
     "text": [
      "94315it [23:53, 68.24it/s]"
     ]
    },
    {
     "output_type": "stream",
     "name": "stdout",
     "text": [
      "remove image Cropped_Images/197288.jpg\n"
     ]
    },
    {
     "output_type": "stream",
     "name": "stderr",
     "text": [
      "94387it [23:54, 67.00it/s]"
     ]
    },
    {
     "output_type": "stream",
     "name": "stdout",
     "text": [
      "remove image Cropped_Images/197359.jpg\n"
     ]
    },
    {
     "output_type": "stream",
     "name": "stderr",
     "text": [
      "94429it [23:55, 65.35it/s]"
     ]
    },
    {
     "output_type": "stream",
     "name": "stdout",
     "text": [
      "remove image Cropped_Images/197406.jpg\n"
     ]
    },
    {
     "output_type": "stream",
     "name": "stderr",
     "text": [
      "94499it [23:56, 63.79it/s]"
     ]
    },
    {
     "output_type": "stream",
     "name": "stdout",
     "text": [
      "remove image Cropped_Images/197476.jpg\n",
      "remove image Cropped_Images/197482.jpg\n",
      "remove image Cropped_Images/197486.jpg\n"
     ]
    },
    {
     "output_type": "stream",
     "name": "stderr",
     "text": [
      "94577it [23:57, 66.14it/s]"
     ]
    },
    {
     "output_type": "stream",
     "name": "stdout",
     "text": [
      "remove image Cropped_Images/197554.jpg\n"
     ]
    },
    {
     "output_type": "stream",
     "name": "stderr",
     "text": [
      "94710it [23:59, 70.18it/s]"
     ]
    },
    {
     "output_type": "stream",
     "name": "stdout",
     "text": [
      "remove image Cropped_Images/197694.jpg\n"
     ]
    },
    {
     "output_type": "stream",
     "name": "stderr",
     "text": [
      "94796it [24:00, 66.97it/s]"
     ]
    },
    {
     "output_type": "stream",
     "name": "stdout",
     "text": [
      "remove image Cropped_Images/197786.jpg\n"
     ]
    },
    {
     "output_type": "stream",
     "name": "stderr",
     "text": [
      "94844it [24:01, 69.79it/s]"
     ]
    },
    {
     "output_type": "stream",
     "name": "stdout",
     "text": [
      "remove image Cropped_Images/197835.jpg\n",
      "remove image Cropped_Images/197840.jpg\n"
     ]
    },
    {
     "output_type": "stream",
     "name": "stderr",
     "text": [
      "94915it [24:02, 65.48it/s]"
     ]
    },
    {
     "output_type": "stream",
     "name": "stdout",
     "text": [
      "remove image Cropped_Images/197909.jpg\n"
     ]
    },
    {
     "output_type": "stream",
     "name": "stderr",
     "text": [
      "94985it [24:03, 64.07it/s]"
     ]
    },
    {
     "output_type": "stream",
     "name": "stdout",
     "text": [
      "remove image Cropped_Images/197983.jpg\n",
      "remove image Cropped_Images/197987.jpg\n"
     ]
    },
    {
     "output_type": "stream",
     "name": "stderr",
     "text": [
      "95042it [24:04, 66.04it/s]"
     ]
    },
    {
     "output_type": "stream",
     "name": "stdout",
     "text": [
      "remove image Cropped_Images/198044.jpg\n"
     ]
    },
    {
     "output_type": "stream",
     "name": "stderr",
     "text": [
      "95144it [24:05, 70.18it/s]"
     ]
    },
    {
     "output_type": "stream",
     "name": "stdout",
     "text": [
      "remove image Cropped_Images/198143.jpg\n"
     ]
    },
    {
     "output_type": "stream",
     "name": "stderr",
     "text": [
      "95182it [24:06, 67.45it/s]"
     ]
    },
    {
     "output_type": "stream",
     "name": "stdout",
     "text": [
      "remove image Cropped_Images/198181.jpg\n"
     ]
    },
    {
     "output_type": "stream",
     "name": "stderr",
     "text": [
      "95238it [24:07, 64.36it/s]"
     ]
    },
    {
     "output_type": "stream",
     "name": "stdout",
     "text": [
      "remove image Cropped_Images/198245.jpg\n"
     ]
    },
    {
     "output_type": "stream",
     "name": "stderr",
     "text": [
      "95308it [24:08, 65.84it/s]"
     ]
    },
    {
     "output_type": "stream",
     "name": "stdout",
     "text": [
      "remove image Cropped_Images/198315.jpg\n",
      "remove image Cropped_Images/198316.jpg\n"
     ]
    },
    {
     "output_type": "stream",
     "name": "stderr",
     "text": [
      "95322it [24:08, 66.01it/s]"
     ]
    },
    {
     "output_type": "stream",
     "name": "stdout",
     "text": [
      "remove image Cropped_Images/198331.jpg\n"
     ]
    },
    {
     "output_type": "stream",
     "name": "stderr",
     "text": [
      "95371it [24:09, 65.31it/s]"
     ]
    },
    {
     "output_type": "stream",
     "name": "stdout",
     "text": [
      "remove image Cropped_Images/198377.jpg\n"
     ]
    },
    {
     "output_type": "stream",
     "name": "stderr",
     "text": [
      "95558it [24:12, 71.43it/s]"
     ]
    },
    {
     "output_type": "stream",
     "name": "stdout",
     "text": [
      "remove image Cropped_Images/198574.jpg\n",
      "remove image Cropped_Images/198586.jpg\n"
     ]
    },
    {
     "output_type": "stream",
     "name": "stderr",
     "text": [
      "95582it [24:12, 70.59it/s]"
     ]
    },
    {
     "output_type": "stream",
     "name": "stdout",
     "text": [
      "remove image Cropped_Images/198599.jpg\n"
     ]
    },
    {
     "output_type": "stream",
     "name": "stderr",
     "text": [
      "95598it [24:12, 71.51it/s]"
     ]
    },
    {
     "output_type": "stream",
     "name": "stdout",
     "text": [
      "remove image Cropped_Images/198619.jpg\n"
     ]
    },
    {
     "output_type": "stream",
     "name": "stderr",
     "text": [
      "95622it [24:13, 70.58it/s]"
     ]
    },
    {
     "output_type": "stream",
     "name": "stdout",
     "text": [
      "remove image Cropped_Images/198639.jpg\n"
     ]
    },
    {
     "output_type": "stream",
     "name": "stderr",
     "text": [
      "95672it [24:13, 64.29it/s]"
     ]
    },
    {
     "output_type": "stream",
     "name": "stdout",
     "text": [
      "remove image Cropped_Images/198691.jpg\n"
     ]
    },
    {
     "output_type": "stream",
     "name": "stderr",
     "text": [
      "95749it [24:15, 65.11it/s]"
     ]
    },
    {
     "output_type": "stream",
     "name": "stdout",
     "text": [
      "remove image Cropped_Images/198764.jpg\n"
     ]
    },
    {
     "output_type": "stream",
     "name": "stderr",
     "text": [
      "95891it [24:17, 72.54it/s]"
     ]
    },
    {
     "output_type": "stream",
     "name": "stdout",
     "text": [
      "remove image Cropped_Images/198915.jpg\n"
     ]
    },
    {
     "output_type": "stream",
     "name": "stderr",
     "text": [
      "95907it [24:17, 71.71it/s]"
     ]
    },
    {
     "output_type": "stream",
     "name": "stdout",
     "text": [
      "remove image Cropped_Images/198933.jpg\n"
     ]
    },
    {
     "output_type": "stream",
     "name": "stderr",
     "text": [
      "95993it [24:18, 63.30it/s]"
     ]
    },
    {
     "output_type": "stream",
     "name": "stdout",
     "text": [
      "remove image Cropped_Images/199024.jpg\n",
      "remove image Cropped_Images/199025.jpg\n"
     ]
    },
    {
     "output_type": "stream",
     "name": "stderr",
     "text": [
      "96007it [24:18, 65.25it/s]"
     ]
    },
    {
     "output_type": "stream",
     "name": "stdout",
     "text": [
      "remove image Cropped_Images/199040.jpg\n"
     ]
    },
    {
     "output_type": "stream",
     "name": "stderr",
     "text": [
      "96036it [24:19, 66.87it/s]"
     ]
    },
    {
     "output_type": "stream",
     "name": "stdout",
     "text": [
      "remove image Cropped_Images/199070.jpg\n"
     ]
    },
    {
     "output_type": "stream",
     "name": "stderr",
     "text": [
      "96176it [24:21, 72.74it/s]"
     ]
    },
    {
     "output_type": "stream",
     "name": "stdout",
     "text": [
      "remove image Cropped_Images/199213.jpg\n"
     ]
    },
    {
     "output_type": "stream",
     "name": "stderr",
     "text": [
      "96200it [24:21, 70.40it/s]"
     ]
    },
    {
     "output_type": "stream",
     "name": "stdout",
     "text": [
      "remove image Cropped_Images/199237.jpg\n"
     ]
    },
    {
     "output_type": "stream",
     "name": "stderr",
     "text": [
      "96222it [24:22, 65.64it/s]"
     ]
    },
    {
     "output_type": "stream",
     "name": "stdout",
     "text": [
      "remove image Cropped_Images/199259.jpg\n",
      "remove image Cropped_Images/199271.jpg\n"
     ]
    },
    {
     "output_type": "stream",
     "name": "stderr",
     "text": [
      "96257it [24:22, 62.78it/s]"
     ]
    },
    {
     "output_type": "stream",
     "name": "stdout",
     "text": [
      "remove image Cropped_Images/199297.jpg\n",
      "remove image Cropped_Images/199304.jpg\n"
     ]
    },
    {
     "output_type": "stream",
     "name": "stderr",
     "text": [
      "96313it [24:23, 63.37it/s]"
     ]
    },
    {
     "output_type": "stream",
     "name": "stdout",
     "text": [
      "remove image Cropped_Images/199357.jpg\n",
      "remove image Cropped_Images/199362.jpg\n"
     ]
    },
    {
     "output_type": "stream",
     "name": "stderr",
     "text": [
      "96383it [24:24, 65.56it/s]"
     ]
    },
    {
     "output_type": "stream",
     "name": "stdout",
     "text": [
      "remove image Cropped_Images/199421.jpg\n"
     ]
    },
    {
     "output_type": "stream",
     "name": "stderr",
     "text": [
      "96425it [24:25, 65.80it/s]"
     ]
    },
    {
     "output_type": "stream",
     "name": "stdout",
     "text": [
      "remove image Cropped_Images/199469.jpg\n"
     ]
    },
    {
     "output_type": "stream",
     "name": "stderr",
     "text": [
      "96524it [24:26, 66.74it/s]"
     ]
    },
    {
     "output_type": "stream",
     "name": "stdout",
     "text": [
      "remove image Cropped_Images/199575.jpg\n"
     ]
    },
    {
     "output_type": "stream",
     "name": "stderr",
     "text": [
      "96554it [24:27, 66.93it/s]"
     ]
    },
    {
     "output_type": "stream",
     "name": "stdout",
     "text": [
      "remove image Cropped_Images/199602.jpg\n",
      "remove image Cropped_Images/199612.jpg\n"
     ]
    },
    {
     "output_type": "stream",
     "name": "stderr",
     "text": [
      "96631it [24:28, 66.47it/s]"
     ]
    },
    {
     "output_type": "stream",
     "name": "stdout",
     "text": [
      "remove image Cropped_Images/199684.jpg\n"
     ]
    },
    {
     "output_type": "stream",
     "name": "stderr",
     "text": [
      "96689it [24:29, 68.32it/s]"
     ]
    },
    {
     "output_type": "stream",
     "name": "stdout",
     "text": [
      "remove image Cropped_Images/199738.jpg\n"
     ]
    },
    {
     "output_type": "stream",
     "name": "stderr",
     "text": [
      "96717it [24:29, 64.72it/s]"
     ]
    },
    {
     "output_type": "stream",
     "name": "stdout",
     "text": [
      "remove image Cropped_Images/199767.jpg\n"
     ]
    },
    {
     "output_type": "stream",
     "name": "stderr",
     "text": [
      "96841it [24:31, 72.09it/s]"
     ]
    },
    {
     "output_type": "stream",
     "name": "stdout",
     "text": [
      "remove image Cropped_Images/199898.jpg\n"
     ]
    },
    {
     "output_type": "stream",
     "name": "stderr",
     "text": [
      "96931it [24:32, 69.71it/s]"
     ]
    },
    {
     "output_type": "stream",
     "name": "stdout",
     "text": [
      "remove image Cropped_Images/199988.jpg\n"
     ]
    },
    {
     "output_type": "stream",
     "name": "stderr",
     "text": [
      "96971it [24:33, 68.63it/s]"
     ]
    },
    {
     "output_type": "stream",
     "name": "stdout",
     "text": [
      "remove image Cropped_Images/200030.jpg\n"
     ]
    },
    {
     "output_type": "stream",
     "name": "stderr",
     "text": [
      "97101it [24:35, 70.79it/s]"
     ]
    },
    {
     "output_type": "stream",
     "name": "stdout",
     "text": [
      "remove image Cropped_Images/200162.jpg\n"
     ]
    },
    {
     "output_type": "stream",
     "name": "stderr",
     "text": [
      "97124it [24:35, 69.61it/s]"
     ]
    },
    {
     "output_type": "stream",
     "name": "stdout",
     "text": [
      "remove image Cropped_Images/200182.jpg\n"
     ]
    },
    {
     "output_type": "stream",
     "name": "stderr",
     "text": [
      "97138it [24:35, 67.38it/s]"
     ]
    },
    {
     "output_type": "stream",
     "name": "stdout",
     "text": [
      "remove image Cropped_Images/200200.jpg\n",
      "remove image Cropped_Images/200201.jpg\n"
     ]
    },
    {
     "output_type": "stream",
     "name": "stderr",
     "text": [
      "97166it [24:36, 64.94it/s]"
     ]
    },
    {
     "output_type": "stream",
     "name": "stdout",
     "text": [
      "remove image Cropped_Images/200227.jpg\n"
     ]
    },
    {
     "output_type": "stream",
     "name": "stderr",
     "text": [
      "97215it [24:37, 63.89it/s]"
     ]
    },
    {
     "output_type": "stream",
     "name": "stdout",
     "text": [
      "remove image Cropped_Images/200281.jpg\n"
     ]
    },
    {
     "output_type": "stream",
     "name": "stderr",
     "text": [
      "97299it [24:38, 65.26it/s]"
     ]
    },
    {
     "output_type": "stream",
     "name": "stdout",
     "text": [
      "remove image Cropped_Images/200365.jpg\n"
     ]
    },
    {
     "output_type": "stream",
     "name": "stderr",
     "text": [
      "97362it [24:39, 65.80it/s]"
     ]
    },
    {
     "output_type": "stream",
     "name": "stdout",
     "text": [
      "remove image Cropped_Images/200428.jpg\n"
     ]
    },
    {
     "output_type": "stream",
     "name": "stderr",
     "text": [
      "97391it [24:39, 67.85it/s]"
     ]
    },
    {
     "output_type": "stream",
     "name": "stdout",
     "text": [
      "remove image Cropped_Images/200459.jpg\n",
      "remove image Cropped_Images/200469.jpg\n"
     ]
    },
    {
     "output_type": "stream",
     "name": "stderr",
     "text": [
      "97422it [24:40, 69.67it/s]"
     ]
    },
    {
     "output_type": "stream",
     "name": "stdout",
     "text": [
      "remove image Cropped_Images/200494.jpg\n",
      "remove image Cropped_Images/200504.jpg\n"
     ]
    },
    {
     "output_type": "stream",
     "name": "stderr",
     "text": [
      "97521it [24:41, 67.29it/s]"
     ]
    },
    {
     "output_type": "stream",
     "name": "stdout",
     "text": [
      "remove image Cropped_Images/200600.jpg\n"
     ]
    },
    {
     "output_type": "stream",
     "name": "stderr",
     "text": [
      "97557it [24:42, 67.51it/s]"
     ]
    },
    {
     "output_type": "stream",
     "name": "stdout",
     "text": [
      "remove image Cropped_Images/200638.jpg\n"
     ]
    },
    {
     "output_type": "stream",
     "name": "stderr",
     "text": [
      "97650it [24:43, 68.98it/s]"
     ]
    },
    {
     "output_type": "stream",
     "name": "stdout",
     "text": [
      "remove image Cropped_Images/200730.jpg\n"
     ]
    },
    {
     "output_type": "stream",
     "name": "stderr",
     "text": [
      "97738it [24:44, 66.41it/s]"
     ]
    },
    {
     "output_type": "stream",
     "name": "stdout",
     "text": [
      "remove image Cropped_Images/200825.jpg\n",
      "remove image Cropped_Images/200833.jpg\n"
     ]
    },
    {
     "output_type": "stream",
     "name": "stderr",
     "text": [
      "97924it [24:47, 73.29it/s]"
     ]
    },
    {
     "output_type": "stream",
     "name": "stdout",
     "text": [
      "remove image Cropped_Images/201019.jpg\n"
     ]
    },
    {
     "output_type": "stream",
     "name": "stderr",
     "text": [
      "98035it [24:49, 70.92it/s]"
     ]
    },
    {
     "output_type": "stream",
     "name": "stdout",
     "text": [
      "remove image Cropped_Images/201133.jpg\n",
      "remove image Cropped_Images/201140.jpg\n"
     ]
    },
    {
     "output_type": "stream",
     "name": "stderr",
     "text": [
      "98219it [24:51, 71.87it/s]"
     ]
    },
    {
     "output_type": "stream",
     "name": "stdout",
     "text": [
      "remove image Cropped_Images/201323.jpg\n"
     ]
    },
    {
     "output_type": "stream",
     "name": "stderr",
     "text": [
      "98249it [24:52, 67.16it/s]"
     ]
    },
    {
     "output_type": "stream",
     "name": "stdout",
     "text": [
      "remove image Cropped_Images/201357.jpg\n"
     ]
    },
    {
     "output_type": "stream",
     "name": "stderr",
     "text": [
      "98277it [24:52, 63.99it/s]"
     ]
    },
    {
     "output_type": "stream",
     "name": "stdout",
     "text": [
      "remove image Cropped_Images/201386.jpg\n"
     ]
    },
    {
     "output_type": "stream",
     "name": "stderr",
     "text": [
      "99344it [25:07, 74.52it/s]"
     ]
    },
    {
     "output_type": "stream",
     "name": "stdout",
     "text": [
      "remove image Cropped_Images/202515.jpg\n"
     ]
    },
    {
     "output_type": "stream",
     "name": "stderr",
     "text": [
      "99413it [25:08, 65.91it/s]\n"
     ]
    }
   ],
   "metadata": {}
  }
 ],
 "metadata": {
  "orig_nbformat": 4,
  "language_info": {
   "name": "python",
   "version": "3.9.6",
   "mimetype": "text/x-python",
   "codemirror_mode": {
    "name": "ipython",
    "version": 3
   },
   "pygments_lexer": "ipython3",
   "nbconvert_exporter": "python",
   "file_extension": ".py"
  },
  "kernelspec": {
   "name": "python3",
   "display_name": "Python 3.9.6 64-bit ('mediapipe': conda)"
  },
  "interpreter": {
   "hash": "e926dedd3893cf74b3e103acfdc8d694f57c26b076179fc8471283cc8ee904b5"
  }
 },
 "nbformat": 4,
 "nbformat_minor": 2
}