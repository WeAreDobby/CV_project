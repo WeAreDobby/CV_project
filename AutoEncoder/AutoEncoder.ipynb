{
  "nbformat": 4,
  "nbformat_minor": 0,
  "metadata": {
    "colab": {
      "name": "AutoEncoder.ipynb",
      "provenance": [],
      "collapsed_sections": [],
      "authorship_tag": "ABX9TyMJ8ex2+BgLmXEzo5VwLNJN",
      "include_colab_link": true
    },
    "kernelspec": {
      "name": "python3",
      "display_name": "Python 3"
    },
    "language_info": {
      "name": "python"
    },
    "accelerator": "GPU"
  },
  "cells": [
    {
      "cell_type": "markdown",
      "metadata": {
        "id": "view-in-github",
        "colab_type": "text"
      },
      "source": [
        "<a href=\"https://colab.research.google.com/github/WeAreDobby/CV_project/blob/main/AutoEncoder/AutoEncoder.ipynb\" target=\"_parent\"><img src=\"https://colab.research.google.com/assets/colab-badge.svg\" alt=\"Open In Colab\"/></a>"
      ]
    },
    {
      "cell_type": "code",
      "metadata": {
        "colab": {
          "base_uri": "https://localhost:8080/"
        },
        "id": "6xxauFZD1Jz4",
        "outputId": "c3c32f6f-f3c9-4b0b-f4b6-44deff83b17d"
      },
      "source": [
        "# Google Drive 연동\n",
        "from google.colab import drive\n",
        "\n",
        "drive.mount('/content/drive')"
      ],
      "execution_count": null,
      "outputs": [
        {
          "output_type": "stream",
          "text": [
            "Mounted at /content/drive\n"
          ],
          "name": "stdout"
        }
      ]
    },
    {
      "cell_type": "code",
      "metadata": {
        "id": "Oz3ixM5Y1fXR"
      },
      "source": [
        "from IPython import display\n",
        "\n",
        "import os\n",
        "from tqdm import tqdm\n",
        "import glob\n",
        "import imageio\n",
        "import matplotlib.pyplot as plt\n",
        "import numpy as np\n",
        "import PIL\n",
        "import tensorflow as tf\n",
        "import tensorflow_probability as tfp\n",
        "import time"
      ],
      "execution_count": 1,
      "outputs": []
    },
    {
      "cell_type": "code",
      "metadata": {
        "id": "w2gJpDWD1hwt"
      },
      "source": [
        "# Load Pocketmon Dataset\n",
        "def find_path(path):\n",
        "    file_list = os.listdir(path)\n",
        "    return file_list\n",
        "\n",
        "def png_to_np(path, file_list, read_type='rgb'):\n",
        "    pix = []\n",
        "    for idx in tqdm(range(len(file_list))):\n",
        "      file_name = file_list[idx]\n",
        "      if read_type == \"rgb\":\n",
        "        image = PIL.Image.open(path + '/' + file_name) # (256, 256, 3)\n",
        "      elif read_type == \"gray\":\n",
        "        image = PIL.Image.open(path + '/' + file_name).convert(\"L\") # (256, 256, 1)\n",
        "      np_image = np.array(image).astype(np.float32) / 255.0\n",
        "      pix.append(np_image)\n",
        "    return pix"
      ],
      "execution_count": 2,
      "outputs": []
    },
    {
      "cell_type": "code",
      "metadata": {
        "id": "nrsKlqjN1jFy",
        "colab": {
          "base_uri": "https://localhost:8080/"
        },
        "outputId": "ee1425c5-d5ae-47f5-e91f-af1e4852f742"
      },
      "source": [
        "# 포켓몬 데이터셋 받는부분\n",
        "path = 'drive/MyDrive/dataset/jpg/jpg_dataset_32'\n",
        "\n",
        "file_list = find_path(path)\n",
        "\n",
        "images = png_to_np(path, file_list, 'gray')\n",
        "\n",
        "train_dataset = np.array(images[:768])\n",
        "test_dataset = np.array(images[768:])\n",
        "\n",
        "train_dataset = train_dataset.reshape(768, 1024)\n",
        "test_dataset = test_dataset.reshape(130, 1024)\n",
        "\n",
        "# GrayScale일때 1channel을 만들어주기위해 활용\n",
        "#train_dataset = train_dataset[..., tf.newaxis]\n",
        "#test_dataset = test_dataset[..., tf.newaxis]\n",
        "\n",
        "len(train_dataset), len(test_dataset)\n",
        "\n",
        "train_size = 768\n",
        "batch_size = 32\n",
        "test_size = 130\n",
        "\n",
        "#train_dataset = (tf.data.Dataset.from_tensor_slices(train_dataset)\n",
        "#                 .shuffle(train_size).batch(batch_size))\n",
        "#test_dataset = (tf.data.Dataset.from_tensor_slices(test_dataset)\n",
        "#                .shuffle(test_size).batch(batch_size))"
      ],
      "execution_count": null,
      "outputs": [
        {
          "output_type": "stream",
          "text": [
            "\n",
            "  0%|          | 0/898 [00:00<?, ?it/s]\u001b[A\n",
            " 11%|█▏        | 103/898 [00:00<00:00, 1029.36it/s]\u001b[A\n",
            " 23%|██▎       | 205/898 [00:00<00:00, 1024.97it/s]\u001b[A\n",
            " 34%|███▍      | 306/898 [00:00<00:00, 1018.79it/s]\u001b[A\n",
            " 45%|████▍     | 401/898 [00:00<00:00, 996.68it/s] \u001b[A\n",
            " 56%|█████▌    | 503/898 [00:00<00:00, 1001.02it/s]\u001b[A\n",
            " 65%|██████▌   | 586/898 [00:00<00:00, 927.05it/s] \u001b[A\n",
            " 75%|███████▍  | 671/898 [00:00<00:00, 901.82it/s]\u001b[A\n",
            " 86%|████████▌ | 771/898 [00:00<00:00, 928.62it/s]\u001b[A\n",
            "100%|██████████| 898/898 [00:00<00:00, 949.00it/s]\n"
          ],
          "name": "stderr"
        }
      ]
    },
    {
      "cell_type": "code",
      "metadata": {
        "id": "K7_icFSz1kNB",
        "colab": {
          "base_uri": "https://localhost:8080/"
        },
        "outputId": "270256df-9752-48dc-d326-3e2488329883"
      },
      "source": [
        "# MNIST 데이터셋 받는부분\n",
        "mnist = tf.keras.datasets.mnist\n",
        "\n",
        "# (훈련 이미지, 훈련 레이블), (시험 이미지, 시험 레이블)\n",
        "(x_train, y_train), (x_test, y_test) = mnist.load_data()\n",
        "\n",
        "train_dataset = x_train[..., tf.newaxis]\n",
        "test_dataset = x_test[..., tf.newaxis]\n",
        "\n",
        "train_dataset = train_dataset.reshape(60000, 784)\n",
        "test_dataset = test_dataset.reshape(10000, 784)"
      ],
      "execution_count": 3,
      "outputs": [
        {
          "output_type": "stream",
          "text": [
            "Downloading data from https://storage.googleapis.com/tensorflow/tf-keras-datasets/mnist.npz\n",
            "11493376/11490434 [==============================] - 0s 0us/step\n"
          ],
          "name": "stdout"
        }
      ]
    },
    {
      "cell_type": "code",
      "metadata": {
        "id": "upJPKxW81zf4"
      },
      "source": [
        "'''\n",
        "input_img = tf.keras.Input(shape=(1024,))\n",
        "\n",
        "# 포켓몬encoder\n",
        "encoder1 = tf.keras.layers.Dense(1280, activation='sigmoid')(input_img)\n",
        "encoder2 = tf.keras.layers.Dense(512, activation='sigmoid')(encoder1)\n",
        "encoder3 = tf.keras.layers.Dense(256, activation='sigmoid')(encoder2)\n",
        "encoder4 = tf.keras.layers.Dense(128, activation='sigmoid')(encoder3)\n",
        "# 포켓몬decoder\n",
        "decoder1 = tf.keras.layers.Dense(128, activation='sigmoid')(encoder4)\n",
        "decoder2 = tf.keras.layers.Dense(256, activation='sigmoid')(decoder1)\n",
        "decoder3 = tf.keras.layers.Dense(512, activation='sigmoid')(decoder2)\n",
        "decoder4 = tf.keras.layers.Dense(1024)(decoder3)\n",
        "\n",
        "# this model maps an input to its reconstruction\n",
        "autoencoder = tf.keras.Model(inputs=input_img, outputs=decoder4)\n",
        "'''\n",
        "\n",
        "input_img = tf.keras.Input(shape=(784,))\n",
        "# MNIST encoder\n",
        "encoder1 = tf.keras.layers.Dense(1024, activation='sigmoid')(input_img)\n",
        "encoder2 = tf.keras.layers.Dense(3, activation='sigmoid')(encoder1)\n",
        "# MNIST decoder\n",
        "decoder1 = tf.keras.layers.Dense(1024, activation='sigmoid')(encoder2)\n",
        "decoder2 = tf.keras.layers.Dense(784)(decoder1)\n",
        "\n",
        "# this model maps an input to its reconstruction\n",
        "autoencoder = tf.keras.Model(inputs=input_img, outputs=decoder2)\n"
      ],
      "execution_count": 4,
      "outputs": []
    },
    {
      "cell_type": "code",
      "metadata": {
        "colab": {
          "base_uri": "https://localhost:8080/"
        },
        "id": "RuIioG4D3gkP",
        "outputId": "6bcf3d53-60a8-4fe0-ca81-d045f50e6003"
      },
      "source": [
        "autoencoder.compile(optimizer='adam', loss='MSE')\n",
        "autoencoder.fit(train_dataset, train_dataset,\n",
        "                epochs=100,\n",
        "                batch_size=64,\n",
        "                shuffle=True,\n",
        "                validation_data=(test_dataset, test_dataset))"
      ],
      "execution_count": 9,
      "outputs": [
        {
          "output_type": "stream",
          "text": [
            "Epoch 1/100\n",
            "938/938 [==============================] - 4s 2ms/step - loss: 4496.5034 - val_loss: 4238.5317\n",
            "Epoch 2/100\n",
            "938/938 [==============================] - 2s 2ms/step - loss: 4216.4663 - val_loss: 4199.4229\n",
            "Epoch 3/100\n",
            "938/938 [==============================] - 2s 2ms/step - loss: 4127.8096 - val_loss: 4010.8840\n",
            "Epoch 4/100\n",
            "938/938 [==============================] - 2s 2ms/step - loss: 3922.3250 - val_loss: 3866.7195\n",
            "Epoch 5/100\n",
            "938/938 [==============================] - 2s 2ms/step - loss: 3849.5613 - val_loss: 3824.5144\n",
            "Epoch 6/100\n",
            "938/938 [==============================] - 2s 2ms/step - loss: 3805.4138 - val_loss: 3765.9851\n",
            "Epoch 7/100\n",
            "938/938 [==============================] - 2s 2ms/step - loss: 3683.8630 - val_loss: 3595.8201\n",
            "Epoch 8/100\n",
            "938/938 [==============================] - 2s 2ms/step - loss: 3556.1873 - val_loss: 3512.5972\n",
            "Epoch 9/100\n",
            "938/938 [==============================] - 2s 2ms/step - loss: 3485.5098 - val_loss: 3456.7380\n",
            "Epoch 10/100\n",
            "938/938 [==============================] - 2s 2ms/step - loss: 3435.8982 - val_loss: 3407.5312\n",
            "Epoch 11/100\n",
            "938/938 [==============================] - 2s 2ms/step - loss: 3388.4399 - val_loss: 3370.3872\n",
            "Epoch 12/100\n",
            "938/938 [==============================] - 2s 2ms/step - loss: 3347.2627 - val_loss: 3324.0242\n",
            "Epoch 13/100\n",
            "938/938 [==============================] - 2s 2ms/step - loss: 3313.3752 - val_loss: 3293.3489\n",
            "Epoch 14/100\n",
            "938/938 [==============================] - 2s 2ms/step - loss: 3281.6030 - val_loss: 3263.6003\n",
            "Epoch 15/100\n",
            "938/938 [==============================] - 2s 2ms/step - loss: 3251.9731 - val_loss: 3231.2644\n",
            "Epoch 16/100\n",
            "938/938 [==============================] - 2s 2ms/step - loss: 3222.5986 - val_loss: 3196.6187\n",
            "Epoch 17/100\n",
            "938/938 [==============================] - 2s 2ms/step - loss: 3190.7131 - val_loss: 3166.9189\n",
            "Epoch 18/100\n",
            "938/938 [==============================] - 2s 2ms/step - loss: 3159.0164 - val_loss: 3138.2280\n",
            "Epoch 19/100\n",
            "938/938 [==============================] - 2s 2ms/step - loss: 3125.5237 - val_loss: 3099.1777\n",
            "Epoch 20/100\n",
            "938/938 [==============================] - 2s 2ms/step - loss: 3094.6494 - val_loss: 3063.4785\n",
            "Epoch 21/100\n",
            "938/938 [==============================] - 2s 2ms/step - loss: 3064.0791 - val_loss: 3032.1387\n",
            "Epoch 22/100\n",
            "938/938 [==============================] - 2s 2ms/step - loss: 3035.0596 - val_loss: 3009.2996\n",
            "Epoch 23/100\n",
            "938/938 [==============================] - 2s 2ms/step - loss: 3009.2800 - val_loss: 2982.1487\n",
            "Epoch 24/100\n",
            "938/938 [==============================] - 2s 2ms/step - loss: 2985.4414 - val_loss: 2961.9619\n",
            "Epoch 25/100\n",
            "938/938 [==============================] - 2s 2ms/step - loss: 2964.6140 - val_loss: 2935.6194\n",
            "Epoch 26/100\n",
            "938/938 [==============================] - 2s 2ms/step - loss: 2944.0068 - val_loss: 2914.7827\n",
            "Epoch 27/100\n",
            "938/938 [==============================] - 2s 2ms/step - loss: 2926.5266 - val_loss: 2897.4941\n",
            "Epoch 28/100\n",
            "938/938 [==============================] - 2s 2ms/step - loss: 2912.0176 - val_loss: 2882.0139\n",
            "Epoch 29/100\n",
            "938/938 [==============================] - 2s 2ms/step - loss: 2894.9255 - val_loss: 2872.6853\n",
            "Epoch 30/100\n",
            "938/938 [==============================] - 2s 2ms/step - loss: 2880.7476 - val_loss: 2855.9561\n",
            "Epoch 31/100\n",
            "938/938 [==============================] - 2s 2ms/step - loss: 2867.5156 - val_loss: 2841.9575\n",
            "Epoch 32/100\n",
            "938/938 [==============================] - 2s 2ms/step - loss: 2852.1804 - val_loss: 2820.5627\n",
            "Epoch 33/100\n",
            "938/938 [==============================] - 2s 2ms/step - loss: 2839.5315 - val_loss: 2816.3931\n",
            "Epoch 34/100\n",
            "938/938 [==============================] - 2s 2ms/step - loss: 2826.1775 - val_loss: 2801.6511\n",
            "Epoch 35/100\n",
            "938/938 [==============================] - 2s 2ms/step - loss: 2815.8557 - val_loss: 2788.5396\n",
            "Epoch 36/100\n",
            "938/938 [==============================] - 2s 2ms/step - loss: 2802.1919 - val_loss: 2771.5574\n",
            "Epoch 37/100\n",
            "938/938 [==============================] - 2s 2ms/step - loss: 2788.7112 - val_loss: 2761.2622\n",
            "Epoch 38/100\n",
            "938/938 [==============================] - 2s 2ms/step - loss: 2778.6501 - val_loss: 2750.2615\n",
            "Epoch 39/100\n",
            "938/938 [==============================] - 2s 2ms/step - loss: 2767.6064 - val_loss: 2736.8269\n",
            "Epoch 40/100\n",
            "938/938 [==============================] - 2s 2ms/step - loss: 2755.7073 - val_loss: 2725.7605\n",
            "Epoch 41/100\n",
            "938/938 [==============================] - 2s 2ms/step - loss: 2745.4146 - val_loss: 2720.6423\n",
            "Epoch 42/100\n",
            "938/938 [==============================] - 2s 2ms/step - loss: 2731.8350 - val_loss: 2701.8945\n",
            "Epoch 43/100\n",
            "938/938 [==============================] - 2s 2ms/step - loss: 2721.9734 - val_loss: 2696.3901\n",
            "Epoch 44/100\n",
            "938/938 [==============================] - 2s 2ms/step - loss: 2711.9229 - val_loss: 2692.1311\n",
            "Epoch 45/100\n",
            "938/938 [==============================] - 2s 2ms/step - loss: 2703.4792 - val_loss: 2681.9275\n",
            "Epoch 46/100\n",
            "938/938 [==============================] - 2s 2ms/step - loss: 2695.0725 - val_loss: 2670.0105\n",
            "Epoch 47/100\n",
            "938/938 [==============================] - 2s 2ms/step - loss: 2684.6672 - val_loss: 2656.8989\n",
            "Epoch 48/100\n",
            "938/938 [==============================] - 2s 2ms/step - loss: 2677.2168 - val_loss: 2656.9377\n",
            "Epoch 49/100\n",
            "938/938 [==============================] - 2s 2ms/step - loss: 2669.9917 - val_loss: 2639.0527\n",
            "Epoch 50/100\n",
            "938/938 [==============================] - 2s 2ms/step - loss: 2658.6328 - val_loss: 2655.9309\n",
            "Epoch 51/100\n",
            "938/938 [==============================] - 2s 2ms/step - loss: 2653.6660 - val_loss: 2627.8291\n",
            "Epoch 52/100\n",
            "938/938 [==============================] - 2s 2ms/step - loss: 2645.1724 - val_loss: 2631.8582\n",
            "Epoch 53/100\n",
            "938/938 [==============================] - 2s 2ms/step - loss: 2640.8096 - val_loss: 2613.4490\n",
            "Epoch 54/100\n",
            "938/938 [==============================] - 2s 2ms/step - loss: 2631.7061 - val_loss: 2613.9470\n",
            "Epoch 55/100\n",
            "938/938 [==============================] - 2s 2ms/step - loss: 2626.0493 - val_loss: 2602.7249\n",
            "Epoch 56/100\n",
            "938/938 [==============================] - 2s 2ms/step - loss: 2622.1592 - val_loss: 2600.5598\n",
            "Epoch 57/100\n",
            "938/938 [==============================] - 2s 2ms/step - loss: 2613.3323 - val_loss: 2589.0493\n",
            "Epoch 58/100\n",
            "938/938 [==============================] - 2s 2ms/step - loss: 2608.3040 - val_loss: 2579.8127\n",
            "Epoch 59/100\n",
            "938/938 [==============================] - 2s 2ms/step - loss: 2600.1938 - val_loss: 2575.3357\n",
            "Epoch 60/100\n",
            "938/938 [==============================] - 2s 2ms/step - loss: 2600.3240 - val_loss: 2594.9504\n",
            "Epoch 61/100\n",
            "938/938 [==============================] - 2s 2ms/step - loss: 2604.2959 - val_loss: 2615.9458\n",
            "Epoch 62/100\n",
            "938/938 [==============================] - 2s 2ms/step - loss: 2605.3958 - val_loss: 2561.9546\n",
            "Epoch 63/100\n",
            "938/938 [==============================] - 2s 2ms/step - loss: 2581.5762 - val_loss: 2559.7334\n",
            "Epoch 64/100\n",
            "938/938 [==============================] - 2s 2ms/step - loss: 2573.7781 - val_loss: 2551.3589\n",
            "Epoch 65/100\n",
            "938/938 [==============================] - 2s 2ms/step - loss: 2571.0466 - val_loss: 2552.4275\n",
            "Epoch 66/100\n",
            "938/938 [==============================] - 2s 3ms/step - loss: 2564.2222 - val_loss: 2552.6741\n",
            "Epoch 67/100\n",
            "938/938 [==============================] - 2s 2ms/step - loss: 2561.4175 - val_loss: 2540.0127\n",
            "Epoch 68/100\n",
            "938/938 [==============================] - 2s 3ms/step - loss: 2553.9546 - val_loss: 2538.8203\n",
            "Epoch 69/100\n",
            "938/938 [==============================] - 2s 2ms/step - loss: 2552.3003 - val_loss: 2535.5046\n",
            "Epoch 70/100\n",
            "938/938 [==============================] - 2s 2ms/step - loss: 2549.0020 - val_loss: 2527.4048\n",
            "Epoch 71/100\n",
            "938/938 [==============================] - 2s 3ms/step - loss: 2542.9448 - val_loss: 2529.0996\n",
            "Epoch 72/100\n",
            "938/938 [==============================] - 2s 2ms/step - loss: 2538.9602 - val_loss: 2524.3044\n",
            "Epoch 73/100\n",
            "938/938 [==============================] - 2s 2ms/step - loss: 2537.9749 - val_loss: 2531.4851\n",
            "Epoch 74/100\n",
            "938/938 [==============================] - 2s 2ms/step - loss: 2534.1157 - val_loss: 2537.2898\n",
            "Epoch 75/100\n",
            "938/938 [==============================] - 2s 2ms/step - loss: 2528.6167 - val_loss: 2507.7341\n",
            "Epoch 76/100\n",
            "938/938 [==============================] - 2s 2ms/step - loss: 2525.9387 - val_loss: 2511.7195\n",
            "Epoch 77/100\n",
            "938/938 [==============================] - 2s 2ms/step - loss: 2520.5691 - val_loss: 2514.5801\n",
            "Epoch 78/100\n",
            "938/938 [==============================] - 2s 2ms/step - loss: 2515.7090 - val_loss: 2501.6484\n",
            "Epoch 79/100\n",
            "938/938 [==============================] - 2s 2ms/step - loss: 2512.2139 - val_loss: 2499.4507\n",
            "Epoch 80/100\n",
            "938/938 [==============================] - 2s 2ms/step - loss: 2506.9907 - val_loss: 2502.7056\n",
            "Epoch 81/100\n",
            "938/938 [==============================] - 2s 2ms/step - loss: 2503.8181 - val_loss: 2494.4927\n",
            "Epoch 82/100\n",
            "938/938 [==============================] - 2s 2ms/step - loss: 2503.1606 - val_loss: 2489.2605\n",
            "Epoch 83/100\n",
            "938/938 [==============================] - 2s 2ms/step - loss: 2501.1389 - val_loss: 2480.5703\n",
            "Epoch 84/100\n",
            "938/938 [==============================] - 2s 2ms/step - loss: 2495.9104 - val_loss: 2479.1841\n",
            "Epoch 85/100\n",
            "938/938 [==============================] - 2s 2ms/step - loss: 2494.0105 - val_loss: 2485.1252\n",
            "Epoch 86/100\n",
            "938/938 [==============================] - 2s 2ms/step - loss: 2489.8970 - val_loss: 2477.4041\n",
            "Epoch 87/100\n",
            "938/938 [==============================] - 2s 2ms/step - loss: 2487.7043 - val_loss: 2473.6340\n",
            "Epoch 88/100\n",
            "938/938 [==============================] - 2s 2ms/step - loss: 2487.0310 - val_loss: 2481.2993\n",
            "Epoch 89/100\n",
            "938/938 [==============================] - 2s 2ms/step - loss: 2484.1709 - val_loss: 2469.2151\n",
            "Epoch 90/100\n",
            "938/938 [==============================] - 2s 2ms/step - loss: 2480.1301 - val_loss: 2467.9155\n",
            "Epoch 91/100\n",
            "938/938 [==============================] - 2s 2ms/step - loss: 2474.2812 - val_loss: 2469.1951\n",
            "Epoch 92/100\n",
            "938/938 [==============================] - 2s 2ms/step - loss: 2469.6658 - val_loss: 2452.0571\n",
            "Epoch 93/100\n",
            "938/938 [==============================] - 2s 2ms/step - loss: 2465.4480 - val_loss: 2448.8582\n",
            "Epoch 94/100\n",
            "938/938 [==============================] - 2s 2ms/step - loss: 2463.7241 - val_loss: 2451.3567\n",
            "Epoch 95/100\n",
            "938/938 [==============================] - 2s 3ms/step - loss: 2460.4758 - val_loss: 2461.9668\n",
            "Epoch 96/100\n",
            "938/938 [==============================] - 2s 2ms/step - loss: 2458.1677 - val_loss: 2452.3125\n",
            "Epoch 97/100\n",
            "938/938 [==============================] - 2s 2ms/step - loss: 2455.4050 - val_loss: 2442.3955\n",
            "Epoch 98/100\n",
            "938/938 [==============================] - 2s 2ms/step - loss: 2455.0798 - val_loss: 2447.6650\n",
            "Epoch 99/100\n",
            "938/938 [==============================] - 2s 2ms/step - loss: 2461.9509 - val_loss: 2439.9128\n",
            "Epoch 100/100\n",
            "938/938 [==============================] - 2s 3ms/step - loss: 2451.6804 - val_loss: 2438.7539\n"
          ],
          "name": "stdout"
        },
        {
          "output_type": "execute_result",
          "data": {
            "text/plain": [
              "<tensorflow.python.keras.callbacks.History at 0x7ff2c3079c50>"
            ]
          },
          "metadata": {
            "tags": []
          },
          "execution_count": 9
        }
      ]
    },
    {
      "cell_type": "code",
      "metadata": {
        "id": "mVvEhNd05gD7"
      },
      "source": [
        "# 포켓몬\n",
        "# create encoder model\n",
        "encoder = tf.keras.Model(inputs=input_img, outputs=encoder4)\n",
        "# create decoder model\n",
        "encoded_input = tf.keras.Input(shape=(128,))\n",
        "decoder_layer1 = autoencoder.layers[-4]\n",
        "decoder_layer2 = autoencoder.layers[-3]\n",
        "decoder_layer3 = autoencoder.layers[-2]\n",
        "decoder_layer4 = autoencoder.layers[-1]\n",
        "decoder = tf.keras.Model(inputs=encoded_input, outputs=decoder_layer4(decoder_layer3(decoder_layer2(decoder_layer1(encoded_input)))))"
      ],
      "execution_count": null,
      "outputs": []
    },
    {
      "cell_type": "code",
      "metadata": {
        "id": "osA2wX06Ceqw"
      },
      "source": [
        "#MNIST\n",
        "# create encoder model\n",
        "encoder = tf.keras.Model(inputs=input_img, outputs=encoder2)\n",
        "# create decoder model\n",
        "encoded_input = tf.keras.Input(shape=(3,))\n",
        "decoder_layer1 = autoencoder.layers[-2]\n",
        "decoder_layer2 = autoencoder.layers[-1]\n",
        "decoder = tf.keras.Model(inputs=encoded_input, outputs=decoder_layer2(decoder_layer1(encoded_input)))"
      ],
      "execution_count": null,
      "outputs": []
    },
    {
      "cell_type": "code",
      "metadata": {
        "id": "cNjj2Vwo5o6D"
      },
      "source": [
        "# get latent vector for visualization\n",
        "latent_vector = encoder.predict(test_dataset)\n",
        "# get decoder output to visualize reconstructed image\n",
        "reconstructed_imgs = decoder.predict(latent_vector)"
      ],
      "execution_count": null,
      "outputs": []
    },
    {
      "cell_type": "code",
      "metadata": {
        "colab": {
          "base_uri": "https://localhost:8080/",
          "height": 1000
        },
        "id": "SBc5xmM95uoS",
        "outputId": "5dc96b6d-c27f-4d50-bb0b-b8f80e37e981"
      },
      "source": [
        "epochs = 10  # how many digits we will display\n",
        "for i in range(epochs):\n",
        "    # display original\n",
        "    plt.imshow(test_dataset[i].reshape(32, 32), cmap='gray')\n",
        "    # display reconstructed image\n",
        "    plt.imshow(reconstructed_imgs[i].reshape(32, 32), cmap='gray')\n",
        "    plt.show()\n",
        "'''\n",
        "epochs = 10  # how many digits we will display\n",
        "for i in range(epochs):\n",
        "    # display original\n",
        "    plt.imshow(test_dataset[i].reshape(28, 28), cmap='gray')\n",
        "    # display reconstructed image\n",
        "    plt.imshow(reconstructed_imgs[i].reshape(28, 28), cmap='gray')\n",
        "    plt.show()\n",
        "'''"
      ],
      "execution_count": null,
      "outputs": [
        {
          "output_type": "display_data",
          "data": {
            "image/png": "[encoded data removed]",
            "text/plain": [
              "<Figure size 432x288 with 1 Axes>"
            ]
          },
          "metadata": {
            "tags": [],
            "needs_background": "light"
          }
        },
        {
          "output_type": "display_data",
          "data": {
            "image/png": "[encoded data removed]",
            "text/plain": [
              "<Figure size 432x288 with 1 Axes>"
            ]
          },
          "metadata": {
            "tags": [],
            "needs_background": "light"
          }
        },
        {
          "output_type": "display_data",
          "data": {
            "image/png": "[encoded data removed]",
            "text/plain": [
              "<Figure size 432x288 with 1 Axes>"
            ]
          },
          "metadata": {
            "tags": [],
            "needs_background": "light"
          }
        },
        {
          "output_type": "display_data",
          "data": {
            "image/png": "[encoded data removed]",
            "text/plain": [
              "<Figure size 432x288 with 1 Axes>"
            ]
          },
          "metadata": {
            "tags": [],
            "needs_background": "light"
          }
        },
        {
          "output_type": "display_data",
          "data": {
            "image/png": "[encoded data removed]",
            "text/plain": [
              "<Figure size 432x288 with 1 Axes>"
            ]
          },
          "metadata": {
            "tags": [],
            "needs_background": "light"
          }
        },
        {
          "output_type": "display_data",
          "data": {
            "image/png": "[encoded data removed]",
            "text/plain": [
              "<Figure size 432x288 with 1 Axes>"
            ]
          },
          "metadata": {
            "tags": [],
            "needs_background": "light"
          }
        },
        {
          "output_type": "display_data",
          "data": {
            "image/png": "[encoded data removed]",
            "text/plain": [
              "<Figure size 432x288 with 1 Axes>"
            ]
          },
          "metadata": {
            "tags": [],
            "needs_background": "light"
          }
        },
        {
          "output_type": "display_data",
          "data": {
            "image/png": "[encoded data removed]",
            "text/plain": [
              "<Figure size 432x288 with 1 Axes>"
            ]
          },
          "metadata": {
            "tags": [],
            "needs_background": "light"
          }
        },
        {
          "output_type": "display_data",
          "data": {
            "image/png": "[encoded data removed]",
            "text/plain": [
              "<Figure size 432x288 with 1 Axes>"
            ]
          },
          "metadata": {
            "tags": [],
            "needs_background": "light"
          }
        },
        {
          "output_type": "display_data",
          "data": {
            "image/png": "[encoded data removed]",
            "text/plain": [
              "<Figure size 432x288 with 1 Axes>"
            ]
          },
          "metadata": {
            "tags": [],
            "needs_background": "light"
          }
        },
        {
          "output_type": "execute_result",
          "data": {
            "application/vnd.google.colaboratory.intrinsic+json": {
              "type": "string"
            },
            "text/plain": [
              "\"\\nepochs = 10  # how many digits we will display\\nfor i in range(epochs):\\n    # display original\\n    plt.imshow(test_dataset[i].reshape(28, 28), cmap='gray')\\n    # display reconstructed image\\n    plt.imshow(reconstructed_imgs[i].reshape(28, 28), cmap='gray')\\n    plt.show()\\n\""
            ]
          },
          "metadata": {
            "tags": []
          },
          "execution_count": 37
        }
      ]
    }
  ]
}