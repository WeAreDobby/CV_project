{
  "nbformat": 4,
  "nbformat_minor": 0,
  "metadata": {
    "colab": {
      "name": "ConvolutionalAutoEncoder.ipynb",
      "provenance": [],
      "collapsed_sections": [],
      "authorship_tag": "ABX9TyNpdqlPqPThJTShe3grXajc",
      "include_colab_link": true
    },
    "kernelspec": {
      "name": "python3",
      "display_name": "Python 3"
    },
    "language_info": {
      "name": "python"
    },
    "accelerator": "GPU"
  },
  "cells": [
    {
      "cell_type": "markdown",
      "metadata": {
        "id": "view-in-github",
        "colab_type": "text"
      },
      "source": [
        "<a href=\"https://colab.research.google.com/github/WeAreDobby/CV_project/blob/main/ConvolutionalAutoEncoder.ipynb\" target=\"_parent\"><img src=\"https://colab.research.google.com/assets/colab-badge.svg\" alt=\"Open In Colab\"/></a>"
      ]
    },
    {
      "cell_type": "code",
      "metadata": {
        "colab": {
          "base_uri": "https://localhost:8080/"
        },
        "id": "RUW5uvbLQeUM",
        "outputId": "a92f4af2-5e63-4ce5-efcf-3ede65d63533"
      },
      "source": [
        "# Google Drive 연동\n",
        "from google.colab import drive\n",
        "\n",
        "drive.mount('/content/drive')"
      ],
      "execution_count": null,
      "outputs": [
        {
          "output_type": "stream",
          "text": [
            "Drive already mounted at /content/drive; to attempt to forcibly remount, call drive.mount(\"/content/drive\", force_remount=True).\n"
          ],
          "name": "stdout"
        }
      ]
    },
    {
      "cell_type": "code",
      "metadata": {
        "id": "6q2iRE_XPgsG"
      },
      "source": [
        "from IPython import display\n",
        "\n",
        "import os\n",
        "from tqdm import tqdm\n",
        "import glob\n",
        "import imageio\n",
        "import matplotlib.pyplot as plt\n",
        "import numpy as np\n",
        "import PIL\n",
        "import tensorflow as tf\n",
        "import tensorflow_probability as tfp\n",
        "import time"
      ],
      "execution_count": null,
      "outputs": []
    },
    {
      "cell_type": "code",
      "metadata": {
        "id": "mWBpxxgYPx-g"
      },
      "source": [
        "# Load Pocketmon Dataset\n",
        "def find_path(path):\n",
        "    file_list = os.listdir(path)\n",
        "    return file_list\n",
        "\n",
        "def png_to_np(path, file_list):\n",
        "    pix = []\n",
        "    for idx in tqdm(range(len(file_list))):\n",
        "      file_name = file_list[idx]\n",
        "      image = PIL.Image.open(path + '/' + file_name)\n",
        "      np_image = np.array(image).astype(np.float32) / 255.0\n",
        "      pix.append(np_image)\n",
        "    return pix"
      ],
      "execution_count": null,
      "outputs": []
    },
    {
      "cell_type": "code",
      "metadata": {
        "id": "3ruqsW07Qq5t"
      },
      "source": [
        "path = 'drive/MyDrive/dataset/p_dataset'\n",
        "\n",
        "file_list = find_path(path)"
      ],
      "execution_count": null,
      "outputs": []
    },
    {
      "cell_type": "code",
      "metadata": {
        "colab": {
          "base_uri": "https://localhost:8080/"
        },
        "id": "Q2FkESIcSdxK",
        "outputId": "dd122910-f013-4c60-c911-8549304462c9"
      },
      "source": [
        "images = png_to_np(path, file_list)"
      ],
      "execution_count": null,
      "outputs": [
        {
          "output_type": "stream",
          "text": [
            "100%|██████████| 898/898 [00:02<00:00, 379.22it/s]\n"
          ],
          "name": "stderr"
        }
      ]
    },
    {
      "cell_type": "code",
      "metadata": {
        "colab": {
          "base_uri": "https://localhost:8080/"
        },
        "id": "ootQmAOUUEYo",
        "outputId": "4de30de5-a664-46f0-cd4d-9bb90cb3ddbc"
      },
      "source": [
        "train_dataset = np.array(images[:768])\n",
        "test_dataset = np.array(images[768:])\n",
        "\n",
        "len(train_dataset), len(test_dataset)"
      ],
      "execution_count": null,
      "outputs": [
        {
          "output_type": "execute_result",
          "data": {
            "text/plain": [
              "(768, 130)"
            ]
          },
          "metadata": {
            "tags": []
          },
          "execution_count": 56
        }
      ]
    },
    {
      "cell_type": "code",
      "metadata": {
        "id": "Yb-Cg9OwRpsh"
      },
      "source": [
        "train_size = 768\n",
        "batch_size = 16\n",
        "test_size = 130"
      ],
      "execution_count": null,
      "outputs": []
    },
    {
      "cell_type": "code",
      "metadata": {
        "id": "KAX2W4YjVlm4"
      },
      "source": [
        "train_dataset = (tf.data.Dataset.from_tensor_slices(train_dataset)\n",
        "                 .shuffle(train_size).batch(batch_size))\n",
        "test_dataset = (tf.data.Dataset.from_tensor_slices(test_dataset)\n",
        "                .shuffle(test_size).batch(batch_size))"
      ],
      "execution_count": null,
      "outputs": []
    },
    {
      "cell_type": "code",
      "metadata": {
        "colab": {
          "base_uri": "https://localhost:8080/"
        },
        "id": "raJ7bACHVxF2",
        "outputId": "9df2ea99-84a1-4e20-f37d-afe5ca398c4e"
      },
      "source": [
        "train_dataset, test_dataset"
      ],
      "execution_count": null,
      "outputs": [
        {
          "output_type": "execute_result",
          "data": {
            "text/plain": [
              "(<BatchDataset shapes: (None, 256, 256, 3), types: tf.float32>,\n",
              " <BatchDataset shapes: (None, 256, 256, 3), types: tf.float32>)"
            ]
          },
          "metadata": {
            "tags": []
          },
          "execution_count": 59
        }
      ]
    },
    {
      "cell_type": "code",
      "metadata": {
        "id": "SiKTPX47ZAPK",
        "colab": {
          "base_uri": "https://localhost:8080/",
          "height": 244
        },
        "outputId": "24fee78b-25af-4251-ab72-d9717181115e"
      },
      "source": [
        "class CVAE(tf.keras.Model):\n",
        "  \"\"\"Convolutional variational autoencoder.\"\"\"\n",
        "\n",
        "  def __init__(self, latent_dim):\n",
        "    super(CVAE, self).__init__()\n",
        "    self.latent_dim = latent_dim\n",
        "    self.encoder = tf.keras.Sequential(\n",
        "        [\n",
        "            tf.keras.layers.InputLayer(input_shape=(256, 256, 3)),\n",
        "            \n",
        "            tf.keras.layers.Conv2D(filters=32, kernel_size=2, strides=(2, 2)),    # 256, 256, 3 -> 128, 128, 32\n",
        "            tf.keras.layers.LeakyReLU(),\n",
        "            \n",
        "            tf.keras.layers.Conv2D(filters=64, kernel_size=2, strides=(2, 2)),    # 128, 128, 32 -> 64, 64, 64\n",
        "            tf.keras.layers.LeakyReLU(),\n",
        "         \n",
        "            tf.keras.layers.Conv2D(filters=128, kernel_size=2, strides=(2, 2)),   # 64, 64, 64 -> 32, 32, 128\n",
        "            tf.keras.layers.LeakyReLU(),\n",
        "         \n",
        "            tf.keras.layers.Conv2D(filters=256, kernel_size=2, strides=(2, 2)),   # 32, 32, 128 -> 16, 16, 256\n",
        "            tf.keras.layers.LeakyReLU(),\n",
        "         \n",
        "            tf.keras.layers.Conv2D(filters=512, kernel_size=2, strides=(2, 2)),   # 16, 16, 256 -> 8, 8, 512\n",
        "            tf.keras.layers.LeakyReLU(),\n",
        "            \n",
        "            tf.keras.layers.Flatten(),                                            # 8, 8, 512 -> 8 * 8 * 512 = 32768\n",
        "            \n",
        "            # No activation\n",
        "            tf.keras.layers.Dense(latent_dim + latent_dim),                       # 32768 -> 4\n",
        "        ]\n",
        "    )\n",
        "\n",
        "    self.decoder = tf.keras.Sequential(\n",
        "        [\n",
        "            tf.keras.layers.InputLayer(input_shape=(latent_dim,)),\n",
        "            \n",
        "            tf.keras.layers.Dense(units=8 * 8 * 512),\n",
        "            tf.keras.layers.LeakyReLU(),\n",
        "            tf.keras.layers.Reshape(target_shape=(8, 8, 512)),\n",
        "            \n",
        "            tf.keras.layers.Conv2DTranspose(filters=256, kernel_size=2, strides=2, padding='same'),\n",
        "            tf.keras.layers.LeakyReLU(),\n",
        "\n",
        "            tf.keras.layers.Conv2DTranspose(filters=128, kernel_size=2, strides=2, padding='same'),\n",
        "            tf.keras.layers.LeakyReLU(),\n",
        "            \n",
        "            tf.keras.layers.Conv2DTranspose(filters=64, kernel_size=2, strides=2, padding='same'),\n",
        "            tf.keras.layers.LeakyReLU(),\n",
        "         \n",
        "            tf.keras.layers.Conv2DTranspose(filters=32, kernel_size=2, strides=2, padding='same'),\n",
        "            tf.keras.layers.LeakyReLU(),\n",
        "         \n",
        "            tf.keras.layers.Conv2DTranspose(filters=16, kernel_size=2, strides=2, padding='same'),\n",
        "            tf.keras.layers.LeakyReLU(),\n",
        "            \n",
        "            tf.keras.layers.Conv2DTranspose(filters=3, kernel_size=2, strides=1, padding='same')\n",
        "\n",
        "        ]\n",
        "    )\n",
        "\n",
        "  @tf.function\n",
        "  def sample(self, eps=None):\n",
        "    if eps is None:\n",
        "      eps = tf.random.normal(shape=(100, self.latent_dim))\n",
        "    return self.decode(eps, apply_sigmoid=True)\n",
        "\n",
        "  def encode(self, x):\n",
        "    mean, logvar = tf.split(self.encoder(x), num_or_size_splits=2, axis=1)\n",
        "    return mean, logvar\n",
        "\n",
        "  def reparameterize(self, mean, logvar):\n",
        "    eps = tf.random.normal(shape=mean.shape)\n",
        "    return eps * tf.exp(logvar * .5) + mean\n",
        "\n",
        "  def decode(self, z, apply_sigmoid=False):\n",
        "    logits = self.decoder(z)\n",
        "    if apply_sigmoid:\n",
        "      probs = tf.sigmoid(logits)\n",
        "      return probs\n",
        "    return logits"
      ],
      "execution_count": null,
      "outputs": [
        {
          "output_type": "error",
          "ename": "NameError",
          "evalue": "ignored",
          "traceback": [
            "\u001b[0;31m---------------------------------------------------------------------------\u001b[0m",
            "\u001b[0;31mNameError\u001b[0m                                 Traceback (most recent call last)",
            "\u001b[0;32m<ipython-input-1-6dc315c34ff7>\u001b[0m in \u001b[0;36m<module>\u001b[0;34m()\u001b[0m\n\u001b[0;32m----> 1\u001b[0;31m \u001b[0;32mclass\u001b[0m \u001b[0mCVAE\u001b[0m\u001b[0;34m(\u001b[0m\u001b[0mtf\u001b[0m\u001b[0;34m.\u001b[0m\u001b[0mkeras\u001b[0m\u001b[0;34m.\u001b[0m\u001b[0mModel\u001b[0m\u001b[0;34m)\u001b[0m\u001b[0;34m:\u001b[0m\u001b[0;34m\u001b[0m\u001b[0;34m\u001b[0m\u001b[0m\n\u001b[0m\u001b[1;32m      2\u001b[0m   \u001b[0;34m\"\"\"Convolutional variational autoencoder.\"\"\"\u001b[0m\u001b[0;34m\u001b[0m\u001b[0;34m\u001b[0m\u001b[0m\n\u001b[1;32m      3\u001b[0m \u001b[0;34m\u001b[0m\u001b[0m\n\u001b[1;32m      4\u001b[0m   \u001b[0;32mdef\u001b[0m \u001b[0m__init__\u001b[0m\u001b[0;34m(\u001b[0m\u001b[0mself\u001b[0m\u001b[0;34m,\u001b[0m \u001b[0mlatent_dim\u001b[0m\u001b[0;34m)\u001b[0m\u001b[0;34m:\u001b[0m\u001b[0;34m\u001b[0m\u001b[0;34m\u001b[0m\u001b[0m\n\u001b[1;32m      5\u001b[0m     \u001b[0msuper\u001b[0m\u001b[0;34m(\u001b[0m\u001b[0mCVAE\u001b[0m\u001b[0;34m,\u001b[0m \u001b[0mself\u001b[0m\u001b[0;34m)\u001b[0m\u001b[0;34m.\u001b[0m\u001b[0m__init__\u001b[0m\u001b[0;34m(\u001b[0m\u001b[0;34m)\u001b[0m\u001b[0;34m\u001b[0m\u001b[0;34m\u001b[0m\u001b[0m\n",
            "\u001b[0;31mNameError\u001b[0m: name 'tf' is not defined"
          ]
        }
      ]
    },
    {
      "cell_type": "code",
      "metadata": {
        "id": "UMvk9zg4aEY5"
      },
      "source": [
        "optimizer = tf.keras.optimizers.Adam(1e-4)\n",
        "\n",
        "def log_normal_pdf(sample, mean, logvar, raxis=1):\n",
        "  log2pi = tf.math.log(2. * np.pi)\n",
        "  return tf.reduce_sum(\n",
        "      -.5 * ((sample - mean) ** 2. * tf.exp(-logvar) + logvar + log2pi),\n",
        "      axis=raxis)\n",
        "\n",
        "\n",
        "def compute_loss(model, x):\n",
        "  mean, logvar = model.encode(x)\n",
        "  z = model.reparameterize(mean, logvar)\n",
        "  x_logit = model.decode(z)\n",
        "  cross_ent = tf.nn.sigmoid_cross_entropy_with_logits(logits=x_logit, labels=x)\n",
        "  logpx_z = -tf.reduce_sum(cross_ent, axis=[1, 2, 3])\n",
        "  logpz = log_normal_pdf(z, 0., 0.)\n",
        "  logqz_x = log_normal_pdf(z, mean, logvar)\n",
        "  return -tf.reduce_mean(logpx_z + logpz - logqz_x)\n",
        "\n",
        "\n",
        "@tf.function\n",
        "def train_step(model, x, optimizer):\n",
        "  \"\"\"Executes one training step and returns the loss.\n",
        "\n",
        "  This function computes the loss and gradients, and uses the latter to\n",
        "  update the model's parameters.\n",
        "  \"\"\"\n",
        "  with tf.GradientTape() as tape:\n",
        "    loss = compute_loss(model, x)\n",
        "  gradients = tape.gradient(loss, model.trainable_variables)\n",
        "  optimizer.apply_gradients(zip(gradients, model.trainable_variables))"
      ],
      "execution_count": null,
      "outputs": []
    },
    {
      "cell_type": "code",
      "metadata": {
        "id": "EG3KPzFXaKSI"
      },
      "source": [
        "epochs = 500\n",
        "# set the dimensionality of the latent space to a plane for visualization later\n",
        "latent_dim = 2\n",
        "num_examples_to_generate = 16\n",
        "\n",
        "# keeping the random vector constant for generation (prediction) so\n",
        "# it will be easier to see the improvement.\n",
        "random_vector_for_generation = tf.random.normal(\n",
        "    shape=[num_examples_to_generate, latent_dim])\n",
        "model = CVAE(latent_dim)"
      ],
      "execution_count": null,
      "outputs": []
    },
    {
      "cell_type": "code",
      "metadata": {
        "id": "fKpC_gXaaMZ4"
      },
      "source": [
        "def generate_and_save_images(model, epoch, test_sample):\n",
        "  mean, logvar = model.encode(test_sample)\n",
        "  z = model.reparameterize(mean, logvar)\n",
        "  predictions = model.sample(z)\n",
        "  fig = plt.figure(figsize=(4, 4))\n",
        "\n",
        "  for i in range(predictions.shape[0]):\n",
        "    plt.subplot(4, 4, i + 1)\n",
        "    plt.imshow(predictions[i, :, :, 0], cmap='gray')\n",
        "    plt.axis('off')\n",
        "\n",
        "  # tight_layout minimizes the overlap between 2 sub-plots\n",
        "  plt.savefig('image_at_epoch_{:04d}.png'.format(epoch))\n",
        "  plt.show()"
      ],
      "execution_count": null,
      "outputs": []
    },
    {
      "cell_type": "code",
      "metadata": {
        "id": "FKw6H21OaOZB"
      },
      "source": [
        "# Pick a sample of the test set for generating output images\n",
        "assert batch_size >= num_examples_to_generate\n",
        "for test_batch in test_dataset.take(1):\n",
        "  test_sample = test_batch[0:num_examples_to_generate, :, :, :]"
      ],
      "execution_count": null,
      "outputs": []
    },
    {
      "cell_type": "code",
      "metadata": {
        "id": "NvJrQxj-GK2f",
        "colab": {
          "base_uri": "https://localhost:8080/",
          "height": 283
        },
        "outputId": "19acf693-da77-47f5-bcf0-d8967b151595"
      },
      "source": [
        "generate_and_save_images(model, 0, test_sample)\n",
        "\n",
        "for epoch in tqdm(range(1, epochs + 1)):\n",
        "  start_time = time.time()\n",
        "  for train_x in train_dataset:\n",
        "    train_step(model, train_x, optimizer)\n",
        "  end_time = time.time()\n",
        "\n",
        "  loss = tf.keras.metrics.Mean()\n",
        "  for test_x in test_dataset:\n",
        "    loss(compute_loss(model, test_x))\n",
        "  elbo = -loss.result()\n",
        "  display.clear_output(wait=False)\n",
        "  print('Epoch: {}, Test set ELBO: {}, time elapse for current epoch: {}'\n",
        "        .format(epoch, elbo, end_time - start_time))\n",
        "  generate_and_save_images(model, epoch, test_sample)"
      ],
      "execution_count": null,
      "outputs": [
        {
          "output_type": "stream",
          "text": [
            "Epoch: 500, Test set ELBO: -92158.84375, time elapse for current epoch: 1.2456307411193848\n"
          ],
          "name": "stdout"
        },
        {
          "output_type": "display_data",
          "data": {
            "image/png": "[encoded data removed]",
            "text/plain": [
              "<Figure size 288x288 with 16 Axes>"
            ]
          },
          "metadata": {
            "tags": [],
            "needs_background": "light"
          }
        },
        {
          "output_type": "stream",
          "text": [
            "100%|██████████| 500/500 [18:29<00:00,  2.22s/it]\n"
          ],
          "name": "stderr"
        }
      ]
    },
    {
      "cell_type": "code",
      "metadata": {
        "colab": {
          "base_uri": "https://localhost:8080/"
        },
        "id": "bRqbBze8LqUs",
        "outputId": "ef104321-cddf-4a2e-9e6f-205109717228"
      },
      "source": [
        "'''\n",
        "encoder = tf.keras.Sequential(\n",
        "        [\n",
        "            tf.keras.layers.InputLayer(input_shape=(256, 256, 3)),\n",
        "            \n",
        "            tf.keras.layers.Conv2D(filters=32, kernel_size=2, strides=(2, 2)),    # 256, 256, 3 -> 128, 128, 32\n",
        "            tf.keras.layers.LeakyReLU(),\n",
        "            \n",
        "            tf.keras.layers.Conv2D(filters=64, kernel_size=2, strides=(2, 2)),    # 128, 128, 32 -> 64, 64, 64\n",
        "            tf.keras.layers.LeakyReLU(),\n",
        "         \n",
        "            tf.keras.layers.Conv2D(filters=128, kernel_size=2, strides=(2, 2)),   # 64, 64, 64 -> 32, 32, 128\n",
        "            tf.keras.layers.LeakyReLU(),\n",
        "         \n",
        "            tf.keras.layers.Conv2D(filters=256, kernel_size=2, strides=(2, 2)),   # 32, 32, 128 -> 16, 16, 256\n",
        "            tf.keras.layers.LeakyReLU(),\n",
        "         \n",
        "            tf.keras.layers.Conv2D(filters=512, kernel_size=2, strides=(2, 2)),   # 16, 16, 256 -> 8, 8, 512\n",
        "            tf.keras.layers.LeakyReLU(),\n",
        "            \n",
        "            tf.keras.layers.Flatten(),                                            # 8, 8, 512 -> 8 * 8 * 512 = 32768\n",
        "            \n",
        "            # No activation\n",
        "            tf.keras.layers.Dense(latent_dim + latent_dim),                       # 32768 -> 4\n",
        "        ]\n",
        "    )\n",
        "decoder = tf.keras.Sequential(\n",
        "        [\n",
        "            tf.keras.layers.InputLayer(input_shape=(latent_dim,)),\n",
        "            \n",
        "            tf.keras.layers.Dense(units=8 * 8 * 512),\n",
        "            tf.keras.layers.LeakyReLU(),\n",
        "            tf.keras.layers.Reshape(target_shape=(8, 8, 512)),\n",
        "            \n",
        "            tf.keras.layers.Conv2DTranspose(filters=256, kernel_size=2, strides=2, padding='same'),\n",
        "            tf.keras.layers.LeakyReLU(),\n",
        "\n",
        "            tf.keras.layers.Conv2DTranspose(filters=128, kernel_size=2, strides=2, padding='same'),\n",
        "            tf.keras.layers.LeakyReLU(),\n",
        "            \n",
        "            tf.keras.layers.Conv2DTranspose(filters=64, kernel_size=2, strides=2, padding='same'),\n",
        "            tf.keras.layers.LeakyReLU(),\n",
        "         \n",
        "            tf.keras.layers.Conv2DTranspose(filters=32, kernel_size=2, strides=2, padding='same'),\n",
        "            tf.keras.layers.LeakyReLU(),\n",
        "         \n",
        "            tf.keras.layers.Conv2DTranspose(filters=16, kernel_size=2, strides=2, padding='same'),\n",
        "            tf.keras.layers.LeakyReLU(),\n",
        "            \n",
        "            tf.keras.layers.Conv2DTranspose(filters=3, kernel_size=2, strides=1, padding='same')\n",
        "        ]\n",
        "    )\n",
        "\n",
        "encoder.summary()\n",
        "decoder.summary()\n",
        "'''"
      ],
      "execution_count": null,
      "outputs": [
        {
          "output_type": "stream",
          "text": [
            "Model: \"sequential_21\"\n",
            "_________________________________________________________________\n",
            "Layer (type)                 Output Shape              Param #   \n",
            "=================================================================\n",
            "conv2d_55 (Conv2D)           (None, 128, 128, 32)      416       \n",
            "_________________________________________________________________\n",
            "leaky_re_lu_115 (LeakyReLU)  (None, 128, 128, 32)      0         \n",
            "_________________________________________________________________\n",
            "conv2d_56 (Conv2D)           (None, 64, 64, 64)        8256      \n",
            "_________________________________________________________________\n",
            "leaky_re_lu_116 (LeakyReLU)  (None, 64, 64, 64)        0         \n",
            "_________________________________________________________________\n",
            "conv2d_57 (Conv2D)           (None, 32, 32, 128)       32896     \n",
            "_________________________________________________________________\n",
            "leaky_re_lu_117 (LeakyReLU)  (None, 32, 32, 128)       0         \n",
            "_________________________________________________________________\n",
            "conv2d_58 (Conv2D)           (None, 16, 16, 256)       131328    \n",
            "_________________________________________________________________\n",
            "leaky_re_lu_118 (LeakyReLU)  (None, 16, 16, 256)       0         \n",
            "_________________________________________________________________\n",
            "conv2d_59 (Conv2D)           (None, 8, 8, 512)         524800    \n",
            "_________________________________________________________________\n",
            "leaky_re_lu_119 (LeakyReLU)  (None, 8, 8, 512)         0         \n",
            "_________________________________________________________________\n",
            "flatten_11 (Flatten)         (None, 32768)             0         \n",
            "_________________________________________________________________\n",
            "dense_22 (Dense)             (None, 4)                 131076    \n",
            "=================================================================\n",
            "Total params: 828,772\n",
            "Trainable params: 828,772\n",
            "Non-trainable params: 0\n",
            "_________________________________________________________________\n",
            "Model: \"sequential_22\"\n",
            "_________________________________________________________________\n",
            "Layer (type)                 Output Shape              Param #   \n",
            "=================================================================\n",
            "dense_23 (Dense)             (None, 32768)             98304     \n",
            "_________________________________________________________________\n",
            "leaky_re_lu_120 (LeakyReLU)  (None, 32768)             0         \n",
            "_________________________________________________________________\n",
            "reshape_11 (Reshape)         (None, 8, 8, 512)         0         \n",
            "_________________________________________________________________\n",
            "conv2d_transpose_60 (Conv2DT (None, 16, 16, 256)       524544    \n",
            "_________________________________________________________________\n",
            "leaky_re_lu_121 (LeakyReLU)  (None, 16, 16, 256)       0         \n",
            "_________________________________________________________________\n",
            "conv2d_transpose_61 (Conv2DT (None, 32, 32, 128)       131200    \n",
            "_________________________________________________________________\n",
            "leaky_re_lu_122 (LeakyReLU)  (None, 32, 32, 128)       0         \n",
            "_________________________________________________________________\n",
            "conv2d_transpose_62 (Conv2DT (None, 64, 64, 64)        32832     \n",
            "_________________________________________________________________\n",
            "leaky_re_lu_123 (LeakyReLU)  (None, 64, 64, 64)        0         \n",
            "_________________________________________________________________\n",
            "conv2d_transpose_63 (Conv2DT (None, 128, 128, 32)      8224      \n",
            "_________________________________________________________________\n",
            "leaky_re_lu_124 (LeakyReLU)  (None, 128, 128, 32)      0         \n",
            "_________________________________________________________________\n",
            "conv2d_transpose_64 (Conv2DT (None, 256, 256, 16)      2064      \n",
            "_________________________________________________________________\n",
            "leaky_re_lu_125 (LeakyReLU)  (None, 256, 256, 16)      0         \n",
            "_________________________________________________________________\n",
            "conv2d_transpose_65 (Conv2DT (None, 256, 256, 3)       195       \n",
            "=================================================================\n",
            "Total params: 797,363\n",
            "Trainable params: 797,363\n",
            "Non-trainable params: 0\n",
            "_________________________________________________________________\n"
          ],
          "name": "stdout"
        }
      ]
    }
  ]
}